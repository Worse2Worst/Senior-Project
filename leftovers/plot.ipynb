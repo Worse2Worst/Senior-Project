{
 "cells": [
  {
   "cell_type": "code",
   "execution_count": null,
   "metadata": {
    "collapsed": true
   },
   "outputs": [],
   "source": [
    "lines = []\n",
    "for i in range(len(route)-1):\n",
    "    from_index,to_index= int(route[i]),int(route[i+1])\n",
    "    x_from,y_from=locations[from_index][0],locations[from_index][1]\n",
    "    a=[x_from,y_from]\n",
    "    x_to, y_to = locations[to_index][0],locations[to_index][1]\n",
    "    b=[x_to,y_to]\n",
    "    point=(a,b)\n",
    "    lines.append(point)\n",
    "        \n",
    "    lc = mc.LineCollection(lines, linewidths=2)\n",
    "    fig, ax = pl.subplots()\n",
    "    ax.add_collection(lc)\n",
    "    ax.autoscale()\n",
    "    ax.margins(0.1)\n",
    "    plt.scatter(locations[0][0],locations[0][1],s=30)\n",
    "    plt.show()"
   ]
  }
 ],
 "metadata": {
  "kernelspec": {
   "display_name": "Python 2",
   "language": "python",
   "name": "python2"
  },
  "language_info": {
   "codemirror_mode": {
    "name": "ipython",
    "version": 2
   },
   "file_extension": ".py",
   "mimetype": "text/x-python",
   "name": "python",
   "nbconvert_exporter": "python",
   "pygments_lexer": "ipython2",
   "version": "2.7.6"
  }
 },
 "nbformat": 4,
 "nbformat_minor": 0
}
