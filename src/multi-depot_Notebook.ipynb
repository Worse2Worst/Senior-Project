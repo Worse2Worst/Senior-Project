{
 "cells": [
  {
   "cell_type": "code",
   "execution_count": 43,
   "metadata": {
    "collapsed": true
   },
   "outputs": [],
   "source": [
    "import time\n",
    "import random\n",
    "import csv\n",
    "import numpy as np\n",
    "import pandas as pd\n",
    "from itertools import chain\n",
    "from pdp_lib import processing as proc\n",
    "from pdp_lib import util\n",
    "from GA_lib import GA_multi_depot as GA\n",
    "from GA_lib import operation_multi_depot as operation\n",
    "from GA_lib import evaluate_multi_depot as evaluate\n"
   ]
  },
  {
   "cell_type": "code",
   "execution_count": 32,
   "metadata": {},
   "outputs": [],
   "source": [
    "def solve_and_print(filename,rounds = 2,population_size = 100,generations=2000,crossoverRate=1.0,mutationRate=0.5):\n",
    "    process_time = time.time()\n",
    "    numVehicles, LoadCapacities, speed, data = proc.load_file(filename)\n",
    "    LOCATIONS = data[0]\n",
    "    DEMANDS = data[1]\n",
    "    timeWindows = data[2]\n",
    "    serviceTimes = data[3]\n",
    "    pickupSiblings = data[4]\n",
    "    deliverySiblings = data[5]\n",
    "    requestType = data[6]\n",
    "    REQS_TO_SOLVE = proc.generate_request(pickupSiblings, deliverySiblings, requestType)\n",
    "    DISTANCES = proc.createDistanceTable(LOCATIONS)\n",
    "    DURATIONS = proc.createDurationTable(LOCATIONS, DISTANCES, serviceTimes, speed)\n",
    "    DEPOTS = proc.create_depots(LOCATIONS)\n",
    "    DISTANCES_FROM_DEPOTS = proc.distances_from_depots(DEPOTS, LOCATIONS)\n",
    "    DISTANCES_TO_DEPOTS = proc.distances_to_depots(DEPOTS, LOCATIONS)\n",
    "    DEPOT_NUMBERS = proc.simple_assign_depots(REQUESTS, LOCATIONS, DEPOTS, DISTANCES_FROM_DEPOTS, DISTANCES_TO_DEPOTS)\n",
    "    REQ_BY_DEPOTS = proc.requests_by_depots(DEPOTS, REQUESTS, DEPOT_NUMBERS)\n",
    "\n",
    "    print('----------------Instance name: '+str(filename)+'-----------------------------------')\n",
    "    print(\" processing time --- %s seconds ---\" % (time.time() - process_time))\n",
    "\n",
    "    total_results = []\n",
    "    for round in range(rounds):\n",
    "        results_all_depots = []\n",
    "        distance_all_depots = []\n",
    "        time_all_depots = []\n",
    "        print('#################### Round :' +str(round+1)+' ############################')\n",
    "        for id_depot in range(len(DEPOTS)):\n",
    "            THIS_DEP_REQS = REQ_BY_DEPOTS[id_depot]\n",
    "            NODES_OF_THIS_DEPOT = proc.locations_of_this_depot(id_depot, REQ_BY_DEPOTS, LOCATIONS)\n",
    "            # ############### SOLVING THE PROBLEMS !!!!!!!! ######################################\n",
    "            pops_create_time = time.time()\n",
    "            calculation_time = time.time()\n",
    "            # print('#################### DEPOT :' +str(id_depot)+' ############################')\n",
    "            ## Initialize the populations\n",
    "            populations = []\n",
    "            for _ in range(population_size):\n",
    "                chromosome = GA.initialize_Feasible_chromosome(DISTANCES, DISTANCES_FROM_DEPOTS, DISTANCES_TO_DEPOTS, id_depot, DURATIONS, timeWindows, THIS_DEP_REQS, DEMANDS, LoadCapacities)\n",
    "                populations.append(chromosome)\n",
    "            # print(\"Populations creation time --- %s seconds ---\" % (time.time() - pops_create_time))\n",
    "            ## Crossovers and mutate ##\n",
    "            GA_time = time.time()\n",
    "\n",
    "            ## Evaluate fitnesses of all populations ##\n",
    "            best_fitness_so_far = -99999999\n",
    "            for gen in range(generations):\n",
    "                fitness_table = []\n",
    "                for chromosome in populations:\n",
    "                    fitness_table.append(\n",
    "                        evaluate.chromosomeFitness(chromosome, DISTANCES, DISTANCES_FROM_DEPOTS, DISTANCES_TO_DEPOTS,\n",
    "                                                   id_depot))\n",
    "                populations = [x for _, x in sorted(zip(fitness_table, populations), reverse=True)]\n",
    "                populations.pop()\n",
    "                populations.pop()\n",
    "                elite1 = populations.pop(0)\n",
    "                elite2 = populations.pop(0)\n",
    "\n",
    "\n",
    "                ## Tournament Selection ##\n",
    "                # id1, id2 = random.randrange(0, len(populations)), random.randrange(0, len(populations))\n",
    "                id1,id2,id3,id4 = random.sample(range(0, len(populations)), 4)\n",
    "                fitness1,fitness2,fitness3,fitness4 = fitness_table[id1],fitness_table[id2],fitness_table[id3],fitness_table[id4]\n",
    "                candidate1,candidate2,candidate3,candidate4 = populations[id1], populations[id2],populations[id3],populations[id4]\n",
    "                parent1 = operation.tournament_selection(candidate1,candidate2,fitness1,fitness2)\n",
    "                parent2 = operation.tournament_selection(candidate3,candidate4,fitness3,fitness4)\n",
    "\n",
    "                ## Crossing over !! ####\n",
    "                child1, child2 = operation.crossover(DISTANCES, DURATIONS, timeWindows, THIS_DEP_REQS, parent1, parent2,\n",
    "                                                     DEMANDS, LoadCapacities, DISTANCES_FROM_DEPOTS,\n",
    "                                                     DISTANCES_TO_DEPOTS, id_depot, crossoverRate)\n",
    "                # if(not evaluate.haveEqualNodes(child1,child2,LOCATIONS)):\n",
    "                #         print('note have Equal nodes, Crossover Bug!!!!!'+ str(gen))\n",
    "                #         break\n",
    "                #\n",
    "                ## Mutation ##\n",
    "                child1 = operation.mutate(child1, DISTANCES, DURATIONS, timeWindows, THIS_DEP_REQS, DEMANDS,\n",
    "                                          LoadCapacities, DISTANCES_FROM_DEPOTS, DISTANCES_TO_DEPOTS, id_depot, mutationRate)\n",
    "                child2 = operation.mutate(child2, DISTANCES, DURATIONS, timeWindows, THIS_DEP_REQS, DEMANDS,\n",
    "                                          LoadCapacities, DISTANCES_FROM_DEPOTS, DISTANCES_TO_DEPOTS, id_depot, mutationRate)\n",
    "                if (not evaluate.haveEqualNodes(child1, child2, NODES_OF_THIS_DEPOT)):\n",
    "                    print('note have Equal nodes, Mutation Bug!!!!!' + str(gen))\n",
    "                    break\n",
    "\n",
    "\n",
    "                ## Evaluate Fitness of the best ones ###\n",
    "                current_fitness = evaluate.chromosomeFitness(child1, DISTANCES, DISTANCES_FROM_DEPOTS,\n",
    "                                                             DISTANCES_TO_DEPOTS, id_depot)\n",
    "                current_fitness = max(current_fitness,\n",
    "                                      evaluate.chromosomeFitness(child2, DISTANCES, DISTANCES_FROM_DEPOTS,\n",
    "                                                                 DISTANCES_TO_DEPOTS, id_depot))\n",
    "                current_fitness = max(current_fitness,\n",
    "                                      evaluate.chromosomeFitness(elite1, DISTANCES, DISTANCES_FROM_DEPOTS,\n",
    "                                                                 DISTANCES_TO_DEPOTS, id_depot))\n",
    "                current_fitness = max(current_fitness,\n",
    "                                      evaluate.chromosomeFitness(elite2, DISTANCES, DISTANCES_FROM_DEPOTS,\n",
    "                                                                 DISTANCES_TO_DEPOTS, id_depot))\n",
    "\n",
    "                ## Add them back into populations ###\n",
    "                populations.append(child1)\n",
    "                populations.append(child2)\n",
    "                populations.append(elite1)\n",
    "                populations.append(elite2)\n",
    "\n",
    "                ### Check break conditions ####\n",
    "                if (current_fitness > best_fitness_so_far):\n",
    "                    best_fitness_so_far = current_fitness\n",
    "                    bestFitGen = gen\n",
    "                    # print('#### New Best Fitness !! , Best so far is :' + str(10000.0 / best_fitness_so_far) + '#####')\n",
    "                    # print('#### This Generation: ' + str(gen) + '#######')\n",
    "                if (gen - bestFitGen >= 500):\n",
    "                    # print('#### Break Generation: ' + str(gen) + '#######')\n",
    "                    break\n",
    "                # print('############# Round-'+str(round+1) +',DEPOT-'+str(id_depot)+','+ 'Generation:' + str(gen + 1) + ' #########################')\n",
    "                # print('This Gen Distance :' + str(10000.0 / current_fitness))\n",
    "\n",
    "            ### Evaluate results of current DEPOT ####\n",
    "            fitness_table = []\n",
    "            for chromosome in populations:\n",
    "                fitness_table.append(\n",
    "                    evaluate.chromosomeFitness(chromosome, DISTANCES, DISTANCES_FROM_DEPOTS, DISTANCES_TO_DEPOTS, id_depot))\n",
    "            populations = [x for _, x in sorted(zip(fitness_table, populations), reverse=True)]\n",
    "            # print(\"GA time --- %s seconds ---\" % (time.time() - GA_time))\n",
    "            best_chromosome = populations[0]\n",
    "            computational_time = time.time() - calculation_time\n",
    "            # print(\"Total Calculation time --- %s seconds ---\" % (computational_time))\n",
    "            distance = evaluate.chromosomeRoutesDistance(best_chromosome,DISTANCES,DISTANCES_FROM_DEPOTS,DISTANCES_TO_DEPOTS,id_depot)\n",
    "            # print('Distances of the best chromosome: ' + str(distance))\n",
    "\n",
    "            ## Memo the results ##\n",
    "            results_all_depots.append(best_chromosome)\n",
    "            distance_all_depots.append(distance)\n",
    "            time_all_depots.append(computational_time)\n",
    "        total_results.append((results_all_depots,distance_all_depots,time_all_depots))\n",
    "    return total_results"
   ]
  },
  {
   "cell_type": "markdown",
   "metadata": {},
   "source": [
    "# The Instances"
   ]
  },
  {
   "cell_type": "code",
   "execution_count": 48,
   "metadata": {},
   "outputs": [],
   "source": [
    "filename = 'pdp_instances/LiLim/pdp_200/LRC2_2_3.txt'"
   ]
  },
  {
   "cell_type": "markdown",
   "metadata": {},
   "source": [
    "# Processing the file"
   ]
  },
  {
   "cell_type": "code",
   "execution_count": 49,
   "metadata": {},
   "outputs": [
    {
     "name": "stdout",
     "output_type": "stream",
     "text": [
      "Instance name : LRC2_2_3\n processing time --- 0.22701287269592285 seconds ---\n"
     ]
    }
   ],
   "source": [
    "\n",
    "start_time = time.time()\n",
    "numVehicles, LoadCapacities, speed, data = proc.load_file(filename)\n",
    "LOCATIONS = data[0]\n",
    "DEMANDS = data[1]\n",
    "timeWindows = data[2]\n",
    "serviceTimes = data[3]\n",
    "pickupSiblings = data[4]\n",
    "deliverySiblings = data[5]\n",
    "requestType = data[6]\n",
    "REQUESTS = proc.generate_request(pickupSiblings,deliverySiblings,requestType)\n",
    "DISTANCES = proc.createDistanceTable(LOCATIONS)\n",
    "DURATIONS = proc.createDurationTable(LOCATIONS, DISTANCES, serviceTimes, speed)\n",
    "DEPOTS = proc.create_depots(LOCATIONS)\n",
    "DISTANCES_FROM_DEPOTS = proc.distances_from_depots(DEPOTS,LOCATIONS)\n",
    "DISTANCES_TO_DEPOTS = proc.distances_to_depots(DEPOTS, LOCATIONS)\n",
    "DEPOT_NUMBERS = proc.simple_assign_depots(REQUESTS, LOCATIONS, DEPOTS,DISTANCES_FROM_DEPOTS ,DISTANCES_TO_DEPOTS)\n",
    "REQ_BY_DEPOTS = proc.requests_by_depots(DEPOTS,REQUESTS,DEPOT_NUMBERS)\n",
    "\n",
    "filepath = filename \n",
    "filename = filename.rsplit('/', 1)[1]\n",
    "filename = filename.split('.')[0]\n",
    "print( 'Instance name : '+str(filename))\n",
    "print(\" processing time --- %s seconds ---\" % (time.time() - start_time))"
   ]
  },
  {
   "cell_type": "markdown",
   "metadata": {},
   "source": [
    "# Visualizing the instances"
   ]
  },
  {
   "cell_type": "code",
   "execution_count": 55,
   "metadata": {},
   "outputs": [
    {
     "name": "stdout",
     "output_type": "stream",
     "text": [
      "Instance name : LRC2_2_3\n processing time --- 858.6418707370758 seconds ---\n"
     ]
    },
    {
     "data": {
      "image/png": "[encoded data removed]",
      "text/plain": [
       "<matplotlib.figure.Figure at 0x1a50d2ea3c8>"
      ]
     },
     "metadata": {},
     "output_type": "display_data"
    }
   ],
   "source": [
    "print( 'Instance name : '+str(filename))\n",
    "print(\" processing time --- %s seconds ---\" % (time.time() - start_time))\n",
    "util.draw_simple_assigned_depots(REQUESTS,LOCATIONS,DEPOTS,DEPOT_NUMBERS)"
   ]
  },
  {
   "cell_type": "markdown",
   "metadata": {},
   "source": [
    "# Solve and print"
   ]
  },
  {
   "cell_type": "code",
   "execution_count": 50,
   "metadata": {},
   "outputs": [
    {
     "name": "stdout",
     "output_type": "stream",
     "text": [
      "----------------Instance name: pdp_instances/LiLim/pdp_200/LRC2_2_3.txt-----------------------------------\n processing time --- 0.16800928115844727 seconds ---\n"
     ]
    }
   ],
   "source": [
    "results = solve_and_print(filepath)"
   ]
  },
  {
   "cell_type": "code",
   "execution_count": 53,
   "metadata": {},
   "outputs": [
    {
     "data": {
      "image/png": "[encoded data removed]",
      "text/plain": [
       "<matplotlib.figure.Figure at 0x1a50a22aa90>"
      ]
     },
     "metadata": {},
     "output_type": "display_data"
    }
   ],
   "source": [
    ""
   ]
  },
  {
   "cell_type": "markdown",
   "metadata": {},
   "source": [
    "# Wrtie down the results into CSV file"
   ]
  },
  {
   "cell_type": "code",
   "execution_count": 52,
   "metadata": {},
   "outputs": [
    {
     "name": "stdout",
     "output_type": "stream",
     "text": [
      "[[11.158648490905762, 32.59378361701965, 98.10069227218628, 58.06359553337097, 51.18379759788513], [11.557669639587402, 51.73485970497131, 88.89465737342834, 85.30271553993225, 49.77076840400696]]\n"
     ]
    }
   ],
   "source": [
    "solutions = []\n",
    "cal_times = []\n",
    "distances = []\n",
    "for round,round_result in enumerate(results):\n",
    "    sol = results[round][0]\n",
    "    dist = results[round][1]   \n",
    "    ct = results[round][2]\n",
    "    \n",
    "    \n",
    "    solutions.append(sol)\n",
    "    distances.append(dist)\n",
    "    cal_times.append(ct)\n",
    "    # for dep in range(len(sol)):\n",
    "    #     sol.append(results[round][dep])\n",
    "# print(sol)\n",
    "\n",
    "print(cal_times)\n",
    "        "
   ]
  },
  {
   "cell_type": "code",
   "execution_count": null,
   "metadata": {},
   "outputs": [],
   "source": []
  }
 ],
 "metadata": {
  "kernelspec": {
   "display_name": "Python 2",
   "language": "python",
   "name": "python2"
  },
  "language_info": {
   "codemirror_mode": {
    "name": "ipython",
    "version": 2
   },
   "file_extension": ".py",
   "mimetype": "text/x-python",
   "name": "python",
   "nbconvert_exporter": "python",
   "pygments_lexer": "ipython2",
   "version": "2.7.6"
  }
 },
 "nbformat": 4,
 "nbformat_minor": 0
}
