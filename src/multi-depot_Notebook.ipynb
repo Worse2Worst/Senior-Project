{
 "cells": [
  {
   "cell_type": "code",
   "execution_count": 2,
   "metadata": {
    "collapsed": true
   },
   "outputs": [],
   "source": [
    "import time\n",
    "import os\n",
    "import random\n",
    "import csv\n",
    "import numpy as np\n",
    "import pandas as pd\n",
    "from itertools import chain\n",
    "from pdp_lib import processing as proc\n",
    "from pdp_lib import util\n",
    "from GA_lib import GA_multi_depot as GA\n",
    "from GA_lib import operation_multi_depot as operation\n",
    "from GA_lib import evaluate_multi_depot as evaluate\n"
   ]
  },
  {
   "cell_type": "code",
   "execution_count": 3,
   "metadata": {},
   "outputs": [],
   "source": [
    "def solve_and_print(filename,rounds = 10,population_size = 100,generations=2000,crossoverRate=1.0,mutationRate=0.5):\n",
    "    process_time = time.time()\n",
    "    numVehicles, LoadCapacities, speed, data = proc.load_file(filename)\n",
    "    LOCATIONS = data[0]\n",
    "    DEMANDS = data[1]\n",
    "    timeWindows = data[2]\n",
    "    serviceTimes = data[3]\n",
    "    pickupSiblings = data[4]\n",
    "    deliverySiblings = data[5]\n",
    "    requestType = data[6]\n",
    "    REQUESTS  = proc.generate_request(pickupSiblings, deliverySiblings, requestType)\n",
    "    DISTANCES = proc.createDistanceTable(LOCATIONS)\n",
    "    DURATIONS = proc.createDurationTable(LOCATIONS, DISTANCES, serviceTimes, speed)\n",
    "    DEPOTS = proc.create_depots(LOCATIONS)\n",
    "    DISTANCES_FROM_DEPOTS = proc.distances_from_depots(DEPOTS, LOCATIONS)\n",
    "    DISTANCES_TO_DEPOTS = proc.distances_to_depots(DEPOTS, LOCATIONS)\n",
    "    DEPOT_NUMBERS = proc.simple_assign_depots(REQUESTS, LOCATIONS, DEPOTS, DISTANCES_FROM_DEPOTS, DISTANCES_TO_DEPOTS)\n",
    "    REQ_BY_DEPOTS = proc.requests_by_depots(DEPOTS, REQUESTS, DEPOT_NUMBERS)\n",
    "\n",
    "    print('----------------Instance name: '+str(filename)+'-----------------------------------')\n",
    "    print(\" processing time --- %s seconds ---\" % (time.time() - process_time))\n",
    "\n",
    "    total_results = []\n",
    "    for round in range(rounds):\n",
    "        results_all_depots = []\n",
    "        distance_all_depots = []\n",
    "        time_all_depots = []\n",
    "        # print('#################### Round :' +str(round+1)+' ############################')\n",
    "        for id_depot in range(len(DEPOTS)):\n",
    "            THIS_DEP_REQS = REQ_BY_DEPOTS[id_depot]\n",
    "            NODES_OF_THIS_DEPOT = proc.locations_of_this_depot(id_depot, REQ_BY_DEPOTS, LOCATIONS)\n",
    "            # ############### SOLVING THE PROBLEMS !!!!!!!! ######################################\n",
    "            pops_create_time = time.time()\n",
    "            calculation_time = time.time()\n",
    "            # print('#################### DEPOT :' +str(id_depot)+' ############################')\n",
    "            ## Initialize the populations\n",
    "            populations = []\n",
    "            for _ in range(population_size):\n",
    "                chromosome = GA.initialize_Feasible_chromosome(DISTANCES, DISTANCES_FROM_DEPOTS, DISTANCES_TO_DEPOTS, id_depot, DURATIONS, timeWindows, THIS_DEP_REQS, DEMANDS, LoadCapacities)\n",
    "                populations.append(chromosome)\n",
    "            # print(\"Populations creation time --- %s seconds ---\" % (time.time() - pops_create_time))\n",
    "            ## Crossovers and mutate ##\n",
    "            GA_time = time.time()\n",
    "\n",
    "            ## Evaluate fitnesses of all populations ##\n",
    "            best_fitness_so_far = -99999999\n",
    "            for gen in range(generations):\n",
    "                fitness_table = []\n",
    "                for chromosome in populations:\n",
    "                    fitness_table.append(\n",
    "                        evaluate.chromosomeFitness(chromosome, DISTANCES, DISTANCES_FROM_DEPOTS, DISTANCES_TO_DEPOTS,\n",
    "                                                   id_depot))\n",
    "                populations = [x for _, x in sorted(zip(fitness_table, populations), reverse=True)]\n",
    "                populations.pop()\n",
    "                populations.pop()\n",
    "                elite1 = populations.pop(0)\n",
    "                elite2 = populations.pop(0)\n",
    "\n",
    "\n",
    "                ## Tournament Selection ##\n",
    "                # id1, id2 = random.randrange(0, len(populations)), random.randrange(0, len(populations))\n",
    "                id1,id2,id3,id4 = random.sample(range(0, len(populations)), 4)\n",
    "                fitness1,fitness2,fitness3,fitness4 = fitness_table[id1],fitness_table[id2],fitness_table[id3],fitness_table[id4]\n",
    "                candidate1,candidate2,candidate3,candidate4 = populations[id1], populations[id2],populations[id3],populations[id4]\n",
    "                parent1 = operation.tournament_selection(candidate1,candidate2,fitness1,fitness2)\n",
    "                parent2 = operation.tournament_selection(candidate3,candidate4,fitness3,fitness4)\n",
    "\n",
    "                ## Crossing over !! ####\n",
    "                child1, child2 = operation.crossover(DISTANCES, DURATIONS, timeWindows, THIS_DEP_REQS, parent1, parent2,\n",
    "                                                     DEMANDS, LoadCapacities, DISTANCES_FROM_DEPOTS,\n",
    "                                                     DISTANCES_TO_DEPOTS, id_depot, crossoverRate)\n",
    "                # if(not evaluate.haveEqualNodes(child1,child2,LOCATIONS)):\n",
    "                #         print('note have Equal nodes, Crossover Bug!!!!!'+ str(gen))\n",
    "                #         break\n",
    "                #\n",
    "                ## Mutation ##\n",
    "                child1 = operation.mutate(child1, DISTANCES, DURATIONS, timeWindows, THIS_DEP_REQS, DEMANDS,\n",
    "                                          LoadCapacities, DISTANCES_FROM_DEPOTS, DISTANCES_TO_DEPOTS, id_depot, mutationRate)\n",
    "                child2 = operation.mutate(child2, DISTANCES, DURATIONS, timeWindows, THIS_DEP_REQS, DEMANDS,\n",
    "                                          LoadCapacities, DISTANCES_FROM_DEPOTS, DISTANCES_TO_DEPOTS, id_depot, mutationRate)\n",
    "                if (not evaluate.haveEqualNodes(child1, child2, NODES_OF_THIS_DEPOT)):\n",
    "                    print('note have Equal nodes, Mutation Bug!!!!!' + str(gen))\n",
    "                    break\n",
    "\n",
    "\n",
    "                ## Evaluate Fitness of the best ones ###\n",
    "                current_fitness = evaluate.chromosomeFitness(child1, DISTANCES, DISTANCES_FROM_DEPOTS,\n",
    "                                                             DISTANCES_TO_DEPOTS, id_depot)\n",
    "                current_fitness = max(current_fitness,\n",
    "                                      evaluate.chromosomeFitness(child2, DISTANCES, DISTANCES_FROM_DEPOTS,\n",
    "                                                                 DISTANCES_TO_DEPOTS, id_depot))\n",
    "                current_fitness = max(current_fitness,\n",
    "                                      evaluate.chromosomeFitness(elite1, DISTANCES, DISTANCES_FROM_DEPOTS,\n",
    "                                                                 DISTANCES_TO_DEPOTS, id_depot))\n",
    "                current_fitness = max(current_fitness,\n",
    "                                      evaluate.chromosomeFitness(elite2, DISTANCES, DISTANCES_FROM_DEPOTS,\n",
    "                                                                 DISTANCES_TO_DEPOTS, id_depot))\n",
    "\n",
    "                ## Add them back into populations ###\n",
    "                populations.append(child1)\n",
    "                populations.append(child2)\n",
    "                populations.append(elite1)\n",
    "                populations.append(elite2)\n",
    "\n",
    "                ### Check break conditions ####\n",
    "                if (current_fitness > best_fitness_so_far):\n",
    "                    best_fitness_so_far = current_fitness\n",
    "                    bestFitGen = gen\n",
    "                    # print('#### New Best Fitness !! , Best so far is :' + str(10000.0 / best_fitness_so_far) + '#####')\n",
    "                    # print('#### This Generation: ' + str(gen) + '#######')\n",
    "                if (gen - bestFitGen >= 500):\n",
    "                    # print('#### Break Generation: ' + str(gen) + '#######')\n",
    "                    break\n",
    "                # print('############# Round-'+str(round+1) +',DEPOT-'+str(id_depot)+','+ 'Generation:' + str(gen + 1) + ' #########################')\n",
    "                # print('This Gen Distance :' + str(10000.0 / current_fitness))\n",
    "\n",
    "            ### Evaluate results of current DEPOT ####\n",
    "            fitness_table = []\n",
    "            for chromosome in populations:\n",
    "                fitness_table.append(\n",
    "                    evaluate.chromosomeFitness(chromosome, DISTANCES, DISTANCES_FROM_DEPOTS, DISTANCES_TO_DEPOTS, id_depot))\n",
    "            populations = [x for _, x in sorted(zip(fitness_table, populations), reverse=True)]\n",
    "            # print(\"GA time --- %s seconds ---\" % (time.time() - GA_time))\n",
    "            best_chromosome = populations[0]\n",
    "            computational_time = time.time() - calculation_time\n",
    "            # print(\"Total Calculation time --- %s seconds ---\" % (computational_time))\n",
    "            distance = evaluate.chromosomeRoutesDistance(best_chromosome,DISTANCES,DISTANCES_FROM_DEPOTS,DISTANCES_TO_DEPOTS,id_depot)\n",
    "            # print('Distances of the best chromosome: ' + str(distance))\n",
    "\n",
    "            ## Memo the results ##\n",
    "            results_all_depots.append(best_chromosome)\n",
    "            distance_all_depots.append(distance)\n",
    "            time_all_depots.append(computational_time)\n",
    "        total_results.append((results_all_depots,distance_all_depots,time_all_depots))\n",
    "    return total_results"
   ]
  },
  {
   "cell_type": "markdown",
   "metadata": {},
   "source": [
    "# The Instances"
   ]
  },
  {
   "cell_type": "code",
   "execution_count": 4,
   "metadata": {},
   "outputs": [],
   "source": [
    "filename = 'pdp_instances/LiLim/pdp_100/lc105.txt'"
   ]
  },
  {
   "cell_type": "markdown",
   "metadata": {},
   "source": [
    "# Processing the file"
   ]
  },
  {
   "cell_type": "code",
   "execution_count": 125,
   "metadata": {},
   "outputs": [
    {
     "name": "stdout",
     "output_type": "stream",
     "text": [
      "Instance name : lc105\n processing time --- 0.053002357482910156 seconds ---\n"
     ]
    }
   ],
   "source": [
    "\n",
    "start_time = time.time()\n",
    "numVehicles, LoadCapacities, speed, data = proc.load_file(filename)\n",
    "LOCATIONS = data[0]\n",
    "DEMANDS = data[1]\n",
    "timeWindows = data[2]\n",
    "serviceTimes = data[3]\n",
    "pickupSiblings = data[4]\n",
    "deliverySiblings = data[5]\n",
    "requestType = data[6]\n",
    "REQUESTS = proc.generate_request(pickupSiblings,deliverySiblings,requestType)\n",
    "DISTANCES = proc.createDistanceTable(LOCATIONS)\n",
    "DURATIONS = proc.createDurationTable(LOCATIONS, DISTANCES, serviceTimes, speed)\n",
    "DEPOTS = proc.create_depots(LOCATIONS)\n",
    "DISTANCES_FROM_DEPOTS = proc.distances_from_depots(DEPOTS,LOCATIONS)\n",
    "DISTANCES_TO_DEPOTS = proc.distances_to_depots(DEPOTS, LOCATIONS)\n",
    "DEPOT_NUMBERS = proc.simple_assign_depots(REQUESTS, LOCATIONS, DEPOTS,DISTANCES_FROM_DEPOTS ,DISTANCES_TO_DEPOTS)\n",
    "REQ_BY_DEPOTS = proc.requests_by_depots(DEPOTS,REQUESTS,DEPOT_NUMBERS)\n",
    "\n",
    "filepath = filename \n",
    "filename = filename.rsplit('/', 1)[1]\n",
    "filename = filename.split('.')[0]\n",
    "print( 'Instance name : '+str(filename))\n",
    "print(\" processing time --- %s seconds ---\" % (time.time() - start_time))"
   ]
  },
  {
   "cell_type": "markdown",
   "metadata": {},
   "source": [
    "# Visualizing the instances"
   ]
  },
  {
   "cell_type": "code",
   "execution_count": 129,
   "metadata": {},
   "outputs": [
    {
     "name": "stdout",
     "output_type": "stream",
     "text": [
      "Instance name : lc105\n processing time --- 2.211122989654541 seconds ---\n"
     ]
    },
    {
     "data": {
      "image/png": "[encoded data removed]",
      "text/plain": [
       "<matplotlib.figure.Figure at 0x12aff9eb160>"
      ]
     },
     "metadata": {},
     "output_type": "display_data"
    }
   ],
   "source": [
    "print( 'Instance name : '+str(filename))\n",
    "print(\" processing time --- %s seconds ---\" % (time.time() - start_time))\n",
    "util.draw_simple_assigned_depots(REQUESTS,LOCATIONS,DEPOTS,DEPOT_NUMBERS)"
   ]
  },
  {
   "cell_type": "markdown",
   "metadata": {},
   "source": [
    "# Solve and print"
   ]
  },
  {
   "cell_type": "code",
   "execution_count": 130,
   "metadata": {},
   "outputs": [
    {
     "name": "stdout",
     "output_type": "stream",
     "text": [
      "----------------Instance name: pdp_instances/LiLim/pdp_100/lc105.txt-----------------------------------\n processing time --- 0.04800248146057129 seconds ---\n#################### Round :1 ############################\n"
     ]
    },
    {
     "name": "stdout",
     "output_type": "stream",
     "text": [
      "#################### Round :2 ############################\n"
     ]
    },
    {
     "name": "stdout",
     "output_type": "stream",
     "text": [
      "#################### Round :3 ############################\n"
     ]
    },
    {
     "name": "stdout",
     "output_type": "stream",
     "text": [
      "#################### Round :4 ############################\n"
     ]
    },
    {
     "name": "stdout",
     "output_type": "stream",
     "text": [
      "#################### Round :5 ############################\n"
     ]
    },
    {
     "name": "stdout",
     "output_type": "stream",
     "text": [
      "#################### Round :6 ############################\n"
     ]
    },
    {
     "name": "stdout",
     "output_type": "stream",
     "text": [
      "#################### Round :7 ############################\n"
     ]
    },
    {
     "name": "stdout",
     "output_type": "stream",
     "text": [
      "#################### Round :8 ############################\n"
     ]
    },
    {
     "name": "stdout",
     "output_type": "stream",
     "text": [
      "#################### Round :9 ############################\n"
     ]
    },
    {
     "name": "stdout",
     "output_type": "stream",
     "text": [
      "#################### Round :10 ############################\n"
     ]
    }
   ],
   "source": [
    "results = solve_and_print(filepath)"
   ]
  },
  {
   "cell_type": "markdown",
   "metadata": {},
   "source": [
    "# Average Computational times"
   ]
  },
  {
   "cell_type": "code",
   "execution_count": null,
   "metadata": {},
   "outputs": [],
   "source": []
  },
  {
   "cell_type": "code",
   "execution_count": null,
   "metadata": {},
   "outputs": [],
   "source": []
  },
  {
   "cell_type": "code",
   "execution_count": null,
   "metadata": {},
   "outputs": [],
   "source": []
  },
  {
   "cell_type": "code",
   "execution_count": null,
   "metadata": {},
   "outputs": [],
   "source": []
  },
  {
   "cell_type": "markdown",
   "metadata": {},
   "source": [
    "# Make Average Results"
   ]
  },
  {
   "cell_type": "code",
   "execution_count": 140,
   "metadata": {},
   "outputs": [],
   "source": [
    "solutions = []\n",
    "cal_times = []\n",
    "distances = []\n",
    "for round,round_result in enumerate(results):\n",
    "    sol = results[round][0]\n",
    "    dist = results[round][1]   \n",
    "    ct = results[round][2]\n",
    "    \n",
    "    \n",
    "    solutions.append(sol)\n",
    "    distances.append(dist)\n",
    "    cal_times.append(ct)\n"
   ]
  },
  {
   "cell_type": "code",
   "execution_count": 141,
   "metadata": {
    "collapsed": false
   },
   "outputs": [
    {
     "data": {
      "text/plain": [
       "[[148.75638455308712,\n  98.782327103466329,\n  148.51835634154887,\n  197.95845011092302,\n  52.527300430865452],\n [148.75638455308712,\n  98.782327103466329,\n  148.51835634154887,\n  197.95845011092302,\n  52.527300430865452],\n [148.75638455308712,\n  98.782327103466329,\n  148.51835634154887,\n  197.95845011092302,\n  52.527300430865452],\n [148.75638455308712,\n  98.782327103466329,\n  148.51835634154887,\n  197.95845011092302,\n  52.527300430865452],\n [148.75638455308712,\n  98.782327103466329,\n  148.51835634154887,\n  197.95845011092302,\n  52.527300430865452],\n [148.75638455308712,\n  98.782327103466329,\n  148.51835634154887,\n  197.95845011092302,\n  52.527300430865452],\n [148.75638455308712,\n  98.782327103466329,\n  148.51835634154887,\n  197.95845011092302,\n  52.527300430865452],\n [148.75638455308712,\n  98.782327103466329,\n  148.51835634154887,\n  197.95845011092302,\n  52.527300430865452],\n [148.75638455308712,\n  98.782327103466329,\n  148.51835634154887,\n  197.95845011092302,\n  52.527300430865452],\n [148.75638455308712,\n  98.782327103466329,\n  148.51835634154887,\n  197.95845011092302,\n  52.527300430865452]]"
      ]
     },
     "execution_count": 141,
     "metadata": {},
     "output_type": "execute_result"
    }
   ],
   "source": [
    "\n",
    "distances"
   ]
  },
  {
   "cell_type": "code",
   "execution_count": 137,
   "metadata": {},
   "outputs": [
    {
     "data": {
      "text/plain": [
       "0    148.756385\n1     98.782327\n2    148.518356\n3    197.958450\n4     52.527300\ndtype: float64"
      ]
     },
     "execution_count": 137,
     "metadata": {},
     "output_type": "execute_result"
    }
   ],
   "source": [
    "distances = np.array(distances)\n",
    "distances = pd.DataFrame(distances)\n",
    "distances = np.mean(distances,axis=0)\n",
    "distances"
   ]
  },
  {
   "cell_type": "markdown",
   "metadata": {},
   "source": [
    "# Average Computational times"
   ]
  },
  {
   "cell_type": "code",
   "execution_count": 133,
   "metadata": {},
   "outputs": [
    {
     "data": {
      "text/plain": [
       "0    3.375252\n1    1.570503\n2    1.960836\n3    4.052600\n4    0.922445\ndtype: float64"
      ]
     },
     "execution_count": 133,
     "metadata": {},
     "output_type": "execute_result"
    }
   ],
   "source": [
    "cal_times = np.array(cal_times) \n",
    "cal_times =pd.DataFrame(cal_times)\n",
    "cal_times = np.mean(cal_times,axis=0)\n",
    "cal_times"
   ]
  },
  {
   "cell_type": "markdown",
   "metadata": {},
   "source": [
    "# Mean Results"
   ]
  },
  {
   "cell_type": "code",
   "execution_count": 6,
   "metadata": {},
   "outputs": [],
   "source": [
    "def mean_results(results):\n",
    "    solutions = []\n",
    "    cal_times = []\n",
    "    distances = []\n",
    "    for round,round_result in enumerate(results):\n",
    "        sol = results[round][0]\n",
    "        dist = results[round][1]   \n",
    "        ct = results[round][2]\n",
    "        \n",
    "        solutions.append(sol)\n",
    "        distances.append(dist)\n",
    "        cal_times.append(ct)\n",
    "    distances = np.array(distances)\n",
    "    distances = pd.DataFrame(distances)\n",
    "    distances = np.mean(distances,axis=0)\n",
    "    cal_times = np.array(cal_times) \n",
    "    cal_times =pd.DataFrame(cal_times)\n",
    "    cal_times = np.mean(cal_times,axis=0)\n",
    "    \n",
    "    return distances,cal_times"
   ]
  },
  {
   "cell_type": "markdown",
   "metadata": {},
   "source": [
    "# Automated Run Instances"
   ]
  },
  {
   "cell_type": "code",
   "execution_count": 8,
   "metadata": {
    "collapsed": false
   },
   "outputs": [
    {
     "name": "stdout",
     "output_type": "stream",
     "text": [
      "----------------Instance name: pdp_instances/LiLim/doing/lc201.txt-----------------------------------\n processing time --- 0.11900615692138672 seconds ---\n"
     ]
    },
    {
     "name": "stdout",
     "output_type": "stream",
     "text": [
      "----------------Instance name: pdp_instances/LiLim/doing/lc202.txt-----------------------------------\n processing time --- 0.10297346115112305 seconds ---\n"
     ]
    },
    {
     "name": "stdout",
     "output_type": "stream",
     "text": [
      "----------------Instance name: pdp_instances/LiLim/doing/lc203.txt-----------------------------------\n processing time --- 0.06900453567504883 seconds ---\n"
     ]
    },
    {
     "name": "stdout",
     "output_type": "stream",
     "text": [
      "----------------Instance name: pdp_instances/LiLim/doing/lc204.txt-----------------------------------\n processing time --- 0.0739736557006836 seconds ---\n"
     ]
    },
    {
     "name": "stdout",
     "output_type": "stream",
     "text": [
      "----------------Instance name: pdp_instances/LiLim/doing/lc205.txt-----------------------------------\n processing time --- 0.06097078323364258 seconds ---\n"
     ]
    },
    {
     "name": "stdout",
     "output_type": "stream",
     "text": [
      "----------------Instance name: pdp_instances/LiLim/doing/lc206.txt-----------------------------------\n processing time --- 0.06300806999206543 seconds ---\n"
     ]
    },
    {
     "name": "stdout",
     "output_type": "stream",
     "text": [
      "----------------Instance name: pdp_instances/LiLim/doing/lc207.txt-----------------------------------\n processing time --- 0.056006431579589844 seconds ---\n"
     ]
    },
    {
     "name": "stdout",
     "output_type": "stream",
     "text": [
      "----------------Instance name: pdp_instances/LiLim/doing/lc208.txt-----------------------------------\n processing time --- 0.09552741050720215 seconds ---\n"
     ]
    },
    {
     "name": "stdout",
     "output_type": "stream",
     "text": [
      "----------------Instance name: pdp_instances/LiLim/doing/lr101.txt-----------------------------------\n processing time --- 0.0610048770904541 seconds ---\n"
     ]
    },
    {
     "name": "stdout",
     "output_type": "stream",
     "text": [
      "----------------Instance name: pdp_instances/LiLim/doing/lr102.txt-----------------------------------\n processing time --- 0.06001901626586914 seconds ---\n"
     ]
    },
    {
     "name": "stdout",
     "output_type": "stream",
     "text": [
      "----------------Instance name: pdp_instances/LiLim/doing/lr103.txt-----------------------------------\n processing time --- 0.06749367713928223 seconds ---\n"
     ]
    },
    {
     "name": "stdout",
     "output_type": "stream",
     "text": [
      "----------------Instance name: pdp_instances/LiLim/doing/lr104.txt-----------------------------------\n processing time --- 0.05201864242553711 seconds ---\n"
     ]
    },
    {
     "name": "stdout",
     "output_type": "stream",
     "text": [
      "----------------Instance name: pdp_instances/LiLim/doing/lr105.txt-----------------------------------\n processing time --- 0.07350492477416992 seconds ---\n"
     ]
    },
    {
     "name": "stdout",
     "output_type": "stream",
     "text": [
      "----------------Instance name: pdp_instances/LiLim/doing/lr106.txt-----------------------------------\n processing time --- 0.0920403003692627 seconds ---\n"
     ]
    },
    {
     "name": "stdout",
     "output_type": "stream",
     "text": [
      "----------------Instance name: pdp_instances/LiLim/doing/lr107.txt-----------------------------------\n processing time --- 0.1275479793548584 seconds ---\n"
     ]
    },
    {
     "name": "stdout",
     "output_type": "stream",
     "text": [
      "----------------Instance name: pdp_instances/LiLim/doing/lr108.txt-----------------------------------\n processing time --- 0.06600832939147949 seconds ---\n"
     ]
    },
    {
     "name": "stdout",
     "output_type": "stream",
     "text": [
      "----------------Instance name: pdp_instances/LiLim/doing/lr109.txt-----------------------------------\n processing time --- 0.10751986503601074 seconds ---\n"
     ]
    },
    {
     "name": "stdout",
     "output_type": "stream",
     "text": [
      "----------------Instance name: pdp_instances/LiLim/doing/lr110.txt-----------------------------------\n processing time --- 0.12751531600952148 seconds ---\n"
     ]
    },
    {
     "name": "stdout",
     "output_type": "stream",
     "text": [
      "----------------Instance name: pdp_instances/LiLim/doing/lr111.txt-----------------------------------\n processing time --- 0.07700967788696289 seconds ---\n"
     ]
    },
    {
     "name": "stdout",
     "output_type": "stream",
     "text": [
      "----------------Instance name: pdp_instances/LiLim/doing/lr112.txt-----------------------------------\n processing time --- 0.12703466415405273 seconds ---\n"
     ]
    },
    {
     "name": "stdout",
     "output_type": "stream",
     "text": [
      "----------------Instance name: pdp_instances/LiLim/doing/lr201.txt-----------------------------------\n processing time --- 0.05347776412963867 seconds ---\n"
     ]
    },
    {
     "ename": "KeyboardInterrupt",
     "evalue": "",
     "traceback": [
      "\u001b[0;31m---------------------------------------------------------------------------\u001b[0m",
      "\u001b[0;31mKeyboardInterrupt\u001b[0m                         Traceback (most recent call last)",
      "\u001b[0;32m<ipython-input-8-a6d1ca51bef4>\u001b[0m in \u001b[0;36m<module>\u001b[0;34m()\u001b[0m\n\u001b[1;32m      6\u001b[0m \u001b[0;32mfor\u001b[0m \u001b[0mname\u001b[0m \u001b[0;32min\u001b[0m \u001b[0mFILENAMES\u001b[0m\u001b[0;34m:\u001b[0m\u001b[0;34m\u001b[0m\u001b[0m\n\u001b[1;32m      7\u001b[0m     \u001b[0mfilepath\u001b[0m \u001b[0;34m=\u001b[0m \u001b[0mpath\u001b[0m \u001b[0;34m+\u001b[0m \u001b[0mname\u001b[0m\u001b[0;34m\u001b[0m\u001b[0m\n\u001b[0;32m----> 8\u001b[0;31m     \u001b[0mresults\u001b[0m \u001b[0;34m=\u001b[0m \u001b[0msolve_and_print\u001b[0m\u001b[0;34m(\u001b[0m\u001b[0mfilepath\u001b[0m\u001b[0;34m)\u001b[0m\u001b[0;34m\u001b[0m\u001b[0m\n\u001b[0m\u001b[1;32m      9\u001b[0m     \u001b[0mdistances\u001b[0m\u001b[0;34m,\u001b[0m\u001b[0mcal_times\u001b[0m \u001b[0;34m=\u001b[0m \u001b[0mmean_results\u001b[0m\u001b[0;34m(\u001b[0m\u001b[0mresults\u001b[0m\u001b[0;34m)\u001b[0m\u001b[0;34m\u001b[0m\u001b[0m\n\u001b[1;32m     10\u001b[0m     \u001b[0mall_results\u001b[0m\u001b[0;34m.\u001b[0m\u001b[0mappend\u001b[0m\u001b[0;34m(\u001b[0m\u001b[0;34m(\u001b[0m\u001b[0mname\u001b[0m\u001b[0;34m,\u001b[0m\u001b[0mdistances\u001b[0m\u001b[0;34m,\u001b[0m\u001b[0mcal_times\u001b[0m\u001b[0;34m)\u001b[0m\u001b[0;34m)\u001b[0m\u001b[0;34m\u001b[0m\u001b[0m\n",
      "\u001b[0;32m<ipython-input-3-f16e0f19f98f>\u001b[0m in \u001b[0;36msolve_and_print\u001b[0;34m(filename, rounds, population_size, generations, crossoverRate, mutationRate)\u001b[0m\n\u001b[1;32m     76\u001b[0m                 \u001b[0;31m## Mutation ##\u001b[0m\u001b[0;34m\u001b[0m\u001b[0;34m\u001b[0m\u001b[0m\n\u001b[1;32m     77\u001b[0m                 child1 = operation.mutate(child1, DISTANCES, DURATIONS, timeWindows, THIS_DEP_REQS, DEMANDS,\n\u001b[0;32m---> 78\u001b[0;31m                                           LoadCapacities, DISTANCES_FROM_DEPOTS, DISTANCES_TO_DEPOTS, id_depot, mutationRate)\n\u001b[0m\u001b[1;32m     79\u001b[0m                 child2 = operation.mutate(child2, DISTANCES, DURATIONS, timeWindows, THIS_DEP_REQS, DEMANDS,\n\u001b[1;32m     80\u001b[0m                                           LoadCapacities, DISTANCES_FROM_DEPOTS, DISTANCES_TO_DEPOTS, id_depot, mutationRate)\n",
      "\u001b[0;32mC:\\Users\\Worse2Worst\\Desktop\\Senior-Project\\GA_lib\\operation_multi_depot.py\u001b[0m in \u001b[0;36mmutate\u001b[0;34m(chromosome, DISTANCES, DURATIONS, timeWindows, REQUESTS, DEMANDS, LoadCapacities, DISTANCES_FROM_DEPOTS, DISTANCES_TO_DEPOTS, DEPOT, prob)\u001b[0m\n\u001b[1;32m    112\u001b[0m     \u001b[0;31m# GA_lib.GA.remove_requests(res, [], reqs, REQUESTS)\u001b[0m\u001b[0;34m\u001b[0m\u001b[0;34m\u001b[0m\u001b[0m\n\u001b[1;32m    113\u001b[0m     \u001b[0;31m# print(res)\u001b[0m\u001b[0;34m\u001b[0m\u001b[0;34m\u001b[0m\u001b[0m\n\u001b[0;32m--> 114\u001b[0;31m     \u001b[0mGA\u001b[0m\u001b[0;34m.\u001b[0m\u001b[0minsert_requests_into_chromosome\u001b[0m\u001b[0;34m(\u001b[0m\u001b[0mres\u001b[0m\u001b[0;34m,\u001b[0m\u001b[0mreqs\u001b[0m\u001b[0;34m,\u001b[0m \u001b[0mDISTANCES\u001b[0m\u001b[0;34m,\u001b[0m\u001b[0mDISTANCES_FROM_DEPOTS\u001b[0m\u001b[0;34m,\u001b[0m\u001b[0mDISTANCES_TO_DEPOTS\u001b[0m\u001b[0;34m,\u001b[0m \u001b[0mDEPOT\u001b[0m\u001b[0;34m,\u001b[0m \u001b[0mDURATIONS\u001b[0m\u001b[0;34m,\u001b[0m \u001b[0mtimeWindows\u001b[0m\u001b[0;34m,\u001b[0m \u001b[0mREQUESTS\u001b[0m\u001b[0;34m,\u001b[0m \u001b[0mDEMANDS\u001b[0m\u001b[0;34m,\u001b[0m \u001b[0mLoadCapacities\u001b[0m\u001b[0;34m)\u001b[0m\u001b[0;34m\u001b[0m\u001b[0m\n\u001b[0m\u001b[1;32m    115\u001b[0m     \u001b[0;32mreturn\u001b[0m \u001b[0mres\u001b[0m\u001b[0;34m\u001b[0m\u001b[0m\n\u001b[1;32m    116\u001b[0m \u001b[0;34m\u001b[0m\u001b[0m\n",
      "\u001b[0;32mC:\\Users\\Worse2Worst\\Desktop\\Senior-Project\\GA_lib\\GA_multi_depot.py\u001b[0m in \u001b[0;36minsert_requests_into_chromosome\u001b[0;34m(chromosome, reqsIndexToInsert, DISTANCES, DISTANCES_FROM_DEPOTS, DISTANCES_TO_DEPOTS, DEPOT, DURATIONS, timeWindows, REQUESTS, DEMANDS, LoadCapacities)\u001b[0m\n\u001b[1;32m     56\u001b[0m             \u001b[0mroute\u001b[0m \u001b[0;34m=\u001b[0m \u001b[0mgene\u001b[0m\u001b[0;34m[\u001b[0m\u001b[0;36m2\u001b[0m\u001b[0;34m]\u001b[0m\u001b[0;34m\u001b[0m\u001b[0m\n\u001b[1;32m     57\u001b[0m             \u001b[0mcarNumsSet\u001b[0m\u001b[0;34m.\u001b[0m\u001b[0madd\u001b[0m\u001b[0;34m(\u001b[0m\u001b[0mgene\u001b[0m\u001b[0;34m[\u001b[0m\u001b[0;36m0\u001b[0m\u001b[0;34m]\u001b[0m\u001b[0;34m)\u001b[0m\u001b[0;34m\u001b[0m\u001b[0m\n\u001b[0;32m---> 58\u001b[0;31m             \u001b[0mnewRoute\u001b[0m\u001b[0;34m,\u001b[0m\u001b[0mnewCost\u001b[0m \u001b[0;34m=\u001b[0m \u001b[0mevaluate\u001b[0m\u001b[0;34m.\u001b[0m\u001b[0mnew_tour_after_insert_requests\u001b[0m\u001b[0;34m(\u001b[0m\u001b[0minsertingReq\u001b[0m\u001b[0;34m,\u001b[0m \u001b[0mroute\u001b[0m\u001b[0;34m,\u001b[0m\u001b[0mDISTANCES\u001b[0m\u001b[0;34m,\u001b[0m\u001b[0mDISTANCES_FROM_DEPOTS\u001b[0m\u001b[0;34m,\u001b[0m\u001b[0mDISTANCES_TO_DEPOTS\u001b[0m\u001b[0;34m,\u001b[0m \u001b[0mDEPOT\u001b[0m\u001b[0;34m,\u001b[0m \u001b[0mDURATIONS\u001b[0m\u001b[0;34m,\u001b[0m \u001b[0mtimeWindows\u001b[0m\u001b[0;34m,\u001b[0m \u001b[0mDEMANDS\u001b[0m\u001b[0;34m,\u001b[0m \u001b[0mLoadCapacities\u001b[0m\u001b[0;34m)\u001b[0m\u001b[0;34m\u001b[0m\u001b[0m\n\u001b[0m\u001b[1;32m     59\u001b[0m             \u001b[0;32mif\u001b[0m\u001b[0;34m(\u001b[0m\u001b[0mnewRoute\u001b[0m \u001b[0;32mand\u001b[0m \u001b[0;34m(\u001b[0m\u001b[0mnewCost\u001b[0m \u001b[0;34m<\u001b[0m\u001b[0mminCost\u001b[0m\u001b[0;34m)\u001b[0m\u001b[0;34m)\u001b[0m\u001b[0;34m:\u001b[0m \u001b[0;31m# Should insert\u001b[0m\u001b[0;34m\u001b[0m\u001b[0m\n\u001b[1;32m     60\u001b[0m                 \u001b[0mminCost\u001b[0m \u001b[0;34m=\u001b[0m \u001b[0mnewCost\u001b[0m\u001b[0;34m\u001b[0m\u001b[0m\n",
      "\u001b[0;32mC:\\Users\\Worse2Worst\\Desktop\\Senior-Project\\GA_lib\\evaluate_multi_depot.py\u001b[0m in \u001b[0;36mnew_tour_after_insert_requests\u001b[0;34m(req, tour, DISTANCES, DISTANCES_FROM_DEPOTS, DISTANCES_TO_DEPOTS, DEPOT, DURATIONS, timeWindows, DEMANDS, LoadCapacities)\u001b[0m\n\u001b[1;32m    107\u001b[0m                 \u001b[0;31m# Assume that precedence not violated\u001b[0m\u001b[0;34m\u001b[0m\u001b[0;34m\u001b[0m\u001b[0m\n\u001b[1;32m    108\u001b[0m                 \u001b[0;31m# Check if temp2 violate the constraints\u001b[0m\u001b[0;34m\u001b[0m\u001b[0;34m\u001b[0m\u001b[0m\n\u001b[0;32m--> 109\u001b[0;31m                 \u001b[0;32mif\u001b[0m \u001b[0;34m(\u001b[0m\u001b[0;32mnot\u001b[0m \u001b[0mload_capacities_violated\u001b[0m\u001b[0;34m(\u001b[0m\u001b[0mtemp2\u001b[0m\u001b[0;34m,\u001b[0m \u001b[0mDEMANDS\u001b[0m\u001b[0;34m,\u001b[0m \u001b[0mLoadCapacities\u001b[0m\u001b[0;34m)\u001b[0m \u001b[0;32mand\u001b[0m \u001b[0;32mnot\u001b[0m \u001b[0mtime_violated\u001b[0m\u001b[0;34m(\u001b[0m\u001b[0mtemp2\u001b[0m\u001b[0;34m,\u001b[0m \u001b[0mDURATIONS\u001b[0m\u001b[0;34m,\u001b[0m \u001b[0mtimeWindows\u001b[0m\u001b[0;34m)\u001b[0m\u001b[0;34m)\u001b[0m\u001b[0;34m:\u001b[0m\u001b[0;34m\u001b[0m\u001b[0m\n\u001b[0m\u001b[1;32m    110\u001b[0m                 \u001b[0;31m# if (load_capacities_violated(temp2NP, DEMANDS, LoadCapacities) or time_violated(temp2NP, DURATIONS, timeWindows)):\u001b[0m\u001b[0;34m\u001b[0m\u001b[0;34m\u001b[0m\u001b[0m\n\u001b[1;32m    111\u001b[0m                     \u001b[0mdist\u001b[0m \u001b[0;34m=\u001b[0m \u001b[0mtour_distance\u001b[0m\u001b[0;34m(\u001b[0m\u001b[0mtemp2\u001b[0m\u001b[0;34m,\u001b[0m \u001b[0mDISTANCES\u001b[0m\u001b[0;34m,\u001b[0m\u001b[0mDISTANCES_FROM_DEPOTS\u001b[0m\u001b[0;34m,\u001b[0m\u001b[0mDISTANCES_TO_DEPOTS\u001b[0m\u001b[0;34m,\u001b[0m \u001b[0mDEPOT\u001b[0m\u001b[0;34m)\u001b[0m\u001b[0;34m\u001b[0m\u001b[0m\n",
      "\u001b[0;32mC:\\Users\\Worse2Worst\\Desktop\\Senior-Project\\GA_lib\\evaluate_multi_depot.py\u001b[0m in \u001b[0;36mtime_violated\u001b[0;34m(tour, durations, timeWindows)\u001b[0m\n\u001b[1;32m     42\u001b[0m         \u001b[0mcur_time\u001b[0m \u001b[0;34m=\u001b[0m \u001b[0mmax\u001b[0m\u001b[0;34m(\u001b[0m\u001b[0mcur_time\u001b[0m\u001b[0;34m,\u001b[0m\u001b[0mcur_ET\u001b[0m\u001b[0;34m)\u001b[0m\u001b[0;34m\u001b[0m\u001b[0m\n\u001b[1;32m     43\u001b[0m         \u001b[0;31m# Arraival time at nextNode\u001b[0m\u001b[0;34m\u001b[0m\u001b[0;34m\u001b[0m\u001b[0m\n\u001b[0;32m---> 44\u001b[0;31m         \u001b[0marrival_time\u001b[0m \u001b[0;34m=\u001b[0m \u001b[0mcur_time\u001b[0m\u001b[0;34m+\u001b[0m\u001b[0mdurations\u001b[0m\u001b[0;34m[\u001b[0m\u001b[0mcur_node\u001b[0m\u001b[0;34m]\u001b[0m\u001b[0;34m[\u001b[0m\u001b[0mnext_node\u001b[0m\u001b[0;34m]\u001b[0m\u001b[0;34m\u001b[0m\u001b[0m\n\u001b[0m\u001b[1;32m     45\u001b[0m         \u001b[0;31m# If Violated, return\u001b[0m\u001b[0;34m\u001b[0m\u001b[0;34m\u001b[0m\u001b[0m\n\u001b[1;32m     46\u001b[0m         \u001b[0;32mif\u001b[0m\u001b[0;34m(\u001b[0m\u001b[0marrival_time\u001b[0m \u001b[0;34m>\u001b[0m \u001b[0mnext_LT\u001b[0m\u001b[0;34m)\u001b[0m\u001b[0;34m:\u001b[0m\u001b[0;34m\u001b[0m\u001b[0m\n",
      "\u001b[0;31mKeyboardInterrupt\u001b[0m: "
     ],
     "output_type": "error"
    }
   ],
   "source": [
    "path = 'pdp_instances/LiLim/doing/'\n",
    "FILENAMES = next(os.walk(path))[2]\n",
    "\n",
    "all_results = []\n",
    "\n",
    "for name in FILENAMES:\n",
    "    filepath = path + name\n",
    "    results = solve_and_print(filepath)\n",
    "    distances,cal_times = mean_results(results)\n",
    "    all_results.append((name,distances,cal_times))\n",
    "all_results"
   ]
  },
  {
   "cell_type": "code",
   "execution_count": 9,
   "metadata": {},
   "outputs": [
    {
     "data": {
      "text/plain": [
       "[('lc201.txt', 0    247.216798\n  1    152.765610\n  2    203.816777\n  3    259.487907\n  4    191.407094\n  dtype: float64, 0    2.225919\n  1    1.771600\n  2    1.825994\n  3    5.322303\n  4    0.820149\n  dtype: float64), ('lc202.txt', 0    249.329910\n  1    174.694776\n  2    206.866078\n  3    267.063232\n  4    165.443333\n  dtype: float64, 0    2.771356\n  1    3.831809\n  2    5.306495\n  3    9.641229\n  4    1.503688\n  dtype: float64), ('lc203.txt', 0    232.820554\n  1    186.340951\n  2    200.691366\n  3    253.990259\n  4    165.443333\n  dtype: float64, 0     2.901572\n  1    10.930810\n  2     8.768873\n  3    10.491483\n  4     1.931917\n  dtype: float64), ('lc204.txt', 0    236.205555\n  1    151.758552\n  2    186.030519\n  3    252.159030\n  4    186.951269\n  dtype: float64, 0     6.843116\n  1     5.374275\n  2     8.584877\n  3    57.709153\n  4     1.790600\n  dtype: float64), ('lc205.txt', 0    289.627202\n  1    151.665462\n  2    188.763257\n  3    245.760773\n  4    152.961126\n  dtype: float64, 0    5.243277\n  1    3.092671\n  2    2.895837\n  3    5.284201\n  4    1.459877\n  dtype: float64), ('lc206.txt', 0    274.068881\n  1    161.742303\n  2    219.308464\n  3    290.712108\n  4    129.975279\n  dtype: float64, 0     3.005666\n  1     2.431872\n  2     8.661901\n  3    13.330512\n  4     0.615378\n  dtype: float64), ('lc207.txt', 0    289.627202\n  1    151.458935\n  2    188.763257\n  3    245.612906\n  4    152.961126\n  dtype: float64, 0     5.945264\n  1     7.046713\n  2     2.309088\n  3    10.151227\n  4     1.678587\n  dtype: float64), ('lc208.txt', 0    289.389614\n  1    151.496414\n  2    188.763257\n  3    243.100490\n  4    152.961126\n  dtype: float64, 0    6.427073\n  1    3.902212\n  2    4.473763\n  3    8.425896\n  4    1.990656\n  dtype: float64), ('lr101.txt', 0    396.427210\n  1    423.584594\n  2    180.352773\n  3    508.848740\n  4    191.762152\n  dtype: float64, 0    2.934901\n  1    2.135503\n  2    0.651512\n  3    6.560120\n  4    1.213508\n  dtype: float64), ('lr102.txt', 0    486.061593\n  1    346.697403\n  2    189.202488\n  3    418.051465\n  4    200.260347\n  dtype: float64, 0    4.131872\n  1    2.832618\n  2    0.828100\n  3    9.880133\n  4    1.372011\n  dtype: float64), ('lr103.txt', 0    498.364627\n  1    214.058452\n  2    132.018799\n  3    452.656607\n  4    159.881780\n  dtype: float64, 0    5.740974\n  1    1.563878\n  2    0.678710\n  3    9.250209\n  4    1.030221\n  dtype: float64), ('lr104.txt', 0    230.806224\n  1    207.717242\n  2    135.173524\n  3    384.595489\n  4    141.082913\n  dtype: float64, 0     3.056935\n  1     2.954084\n  2     1.175336\n  3    19.019240\n  4     0.936942\n  dtype: float64), ('lr105.txt', 0    430.850930\n  1    234.451787\n  2    153.874369\n  3    400.097545\n  4    120.938933\n  dtype: float64, 0    4.501774\n  1    1.599209\n  2    0.798960\n  3    7.136119\n  4    0.691604\n  dtype: float64), ('lr106.txt', 0    305.939529\n  1    300.442901\n  2     79.578259\n  3    411.504931\n  4    199.040364\n  dtype: float64, 0     2.997592\n  1     1.913807\n  2     0.557217\n  3    10.961437\n  4     1.389310\n  dtype: float64), ('lr107.txt', 0    282.079445\n  1    276.899466\n  2    125.678898\n  3    374.382821\n  4    292.506534\n  dtype: float64, 0     2.568200\n  1     2.182822\n  2     0.550938\n  3    10.619668\n  4     1.723384\n  dtype: float64), ('lr108.txt', 0    307.917790\n  1    194.842734\n  2     92.160641\n  3    375.487549\n  4    194.373233\n  dtype: float64, 0     4.905165\n  1     2.133555\n  2     0.696771\n  3    15.348350\n  4     0.984467\n  dtype: float64), ('lr109.txt', 0    425.261885\n  1    269.765205\n  2    132.295773\n  3    378.704990\n  4    220.135675\n  dtype: float64, 0    5.367989\n  1    1.970131\n  2    0.587228\n  3    7.450019\n  4    1.383228\n  dtype: float64), ('lr110.txt', 0    333.935345\n  1    240.940251\n  2     76.963491\n  3    358.209958\n  4    126.808197\n  dtype: float64, 0    5.438410\n  1    2.211910\n  2    0.594719\n  3    9.329938\n  4    1.157606\n  dtype: float64), ('lr111.txt', 0    343.193889\n  1    253.778657\n  2    109.802069\n  3    321.782546\n  4    178.136026\n  dtype: float64, 0    8.088763\n  1    2.246566\n  2    0.633916\n  3    9.816859\n  4    0.977601\n  dtype: float64), ('lr112.txt', 0    323.577161\n  1    240.173247\n  2    140.756369\n  3    357.587357\n  4    177.558213\n  dtype: float64, 0     4.968013\n  1     2.719320\n  2     0.584586\n  3    16.220225\n  4     1.052786\n  dtype: float64)]"
      ]
     },
     "execution_count": 9,
     "metadata": {},
     "output_type": "execute_result"
    }
   ],
   "source": [
    "all_results"
   ]
  },
  {
   "cell_type": "code",
   "execution_count": 41,
   "metadata": {},
   "outputs": [
    {
     "data": {
      "text/plain": [
       "[[3, [31, 30, 28, 29], [57, 55, 54, 53, 56, 58, 60, 59]],\n [2,\n  [22, 24, 23, 26, 25, 27, 21],\n  [43, 42, 41, 40, 44, 46, 45, 48, 51, 101, 50, 52, 49, 47]],\n [1, [19, 16, 20, 17, 18], [32, 33, 31, 35, 37, 38, 39, 36, 105, 34]]]"
      ]
     },
     "execution_count": 41,
     "metadata": {},
     "output_type": "execute_result"
    }
   ],
   "source": [
    "all_results"
   ]
  },
  {
   "cell_type": "markdown",
   "metadata": {},
   "source": [
    "# Writing to csv"
   ]
  },
  {
   "cell_type": "code",
   "execution_count": 10,
   "metadata": {},
   "outputs": [],
   "source": [
    "distances,cal_times = mean_results(results)"
   ]
  },
  {
   "cell_type": "code",
   "execution_count": 11,
   "metadata": {},
   "outputs": [
    {
     "data": {
      "text/plain": [
       "0    323.577161\n1    240.173247\n2    140.756369\n3    357.587357\n4    177.558213\ndtype: float64"
      ]
     },
     "execution_count": 11,
     "metadata": {},
     "output_type": "execute_result"
    }
   ],
   "source": [
    "distances"
   ]
  },
  {
   "cell_type": "code",
   "execution_count": 12,
   "metadata": {},
   "outputs": [
    {
     "data": {
      "text/plain": [
       "0     4.968013\n1     2.719320\n2     0.584586\n3    16.220225\n4     1.052786\ndtype: float64"
      ]
     },
     "execution_count": 12,
     "metadata": {},
     "output_type": "execute_result"
    }
   ],
   "source": [
    "cal_times"
   ]
  },
  {
   "cell_type": "code",
   "execution_count": 13,
   "metadata": {},
   "outputs": [
    {
     "data": {
      "text/plain": [
       "('lc206.txt', 0    274.068881\n 1    161.742303\n 2    219.308464\n 3    290.712108\n 4    129.975279\n dtype: float64, 0     3.005666\n 1     2.431872\n 2     8.661901\n 3    13.330512\n 4     0.615378\n dtype: float64)"
      ]
     },
     "execution_count": 13,
     "metadata": {},
     "output_type": "execute_result"
    }
   ],
   "source": [
    "all_results\n",
    "# res = np.array(all_results[1])\n",
    "all_results[5]"
   ]
  },
  {
   "cell_type": "code",
   "execution_count": 14,
   "metadata": {},
   "outputs": [],
   "source": [
    ""
   ]
  },
  {
   "cell_type": "markdown",
   "metadata": {},
   "source": [
    "# Writing to csv"
   ]
  },
  {
   "cell_type": "code",
   "execution_count": 14,
   "metadata": {},
   "outputs": [],
   "source": [
    "dist = [dist for _,dist,_ in all_results]\n",
    "dist = np.array(dist)\n",
    "df = pd.DataFrame(dist)\n",
    "df.to_csv('distances_df.csv')"
   ]
  },
  {
   "cell_type": "code",
   "execution_count": 33,
   "metadata": {},
   "outputs": [],
   "source": [
    "CT = [ct for _,_,ct in all_results]\n",
    "CT = np.array(CT)\n",
    "df_CT = pd.DataFrame(CT)\n",
    "df_CT.to_csv('CT_df.csv')"
   ]
  },
  {
   "cell_type": "code",
   "execution_count": null,
   "metadata": {},
   "outputs": [],
   "source": []
  }
 ],
 "metadata": {
  "kernelspec": {
   "display_name": "Python 2",
   "language": "python",
   "name": "python2"
  },
  "language_info": {
   "codemirror_mode": {
    "name": "ipython",
    "version": 2
   },
   "file_extension": ".py",
   "mimetype": "text/x-python",
   "name": "python",
   "nbconvert_exporter": "python",
   "pygments_lexer": "ipython2",
   "version": "2.7.6"
  }
 },
 "nbformat": 4,
 "nbformat_minor": 0
}
