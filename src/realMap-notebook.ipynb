{
 "cells": [
  {
   "cell_type": "code",
   "execution_count": 1,
   "metadata": {
    "collapsed": true
   },
   "outputs": [],
   "source": [
    "import time\n",
    "import random\n",
    "import os\n",
    "import pandas as pd\n",
    "import csv\n",
    "import numpy as np\n",
    "from itertools import chain\n",
    "from pdp_lib import processing_google_map as proc\n",
    "from pdp_lib import util\n",
    "from GA_lib import GA_multi_depot as GA\n",
    "from GA_lib import operation_multi_depot as operation\n",
    "from GA_lib import evaluate_multi_depot as evaluate\n",
    "from statistics import mode"
   ]
  },
  {
   "cell_type": "code",
   "execution_count": 2,
   "metadata": {},
   "outputs": [],
   "source": [
    "def solve_and_print(filepath, rounds = 10, population_size = 100, generations=2000, crossoverRate=1.0, mutationRate=0.5):\n",
    "    process_time = time.time()\n",
    "    numVehicles, LoadCapacities, speed, data = proc.load_file(filepath)\n",
    "    LOCATIONS = data[0]\n",
    "    DEMANDS = data[1]\n",
    "    timeWindows = data[2]\n",
    "    serviceTimes = data[3]\n",
    "    pickupSiblings = data[4]\n",
    "    deliverySiblings = data[5]\n",
    "    requestType = data[6]\n",
    "    REQUESTS = proc.generate_request(pickupSiblings, deliverySiblings, requestType)\n",
    "    DISTANCES = proc.createDistanceTable('real_map/DISTANCES.csv')\n",
    "    DURATIONS = proc.createDurationTable('real_map/DURATIONS.csv')\n",
    "    DEPOTS = proc.create_depots('real_map/depots.csv')\n",
    "    DISTANCES_FROM_DEPOTS = proc.distances_from_depots('real_map/DISTANCES_FROM_DEPOTS.csv')\n",
    "    DISTANCES_TO_DEPOTS = proc.distances_to_depots('real_map/DISTANCES_TO_DEPOTS.csv')\n",
    "    # DEPOT_NUMBERS = proc.simple_assign_depots(REQUESTS, LOCATIONS, DEPOTS, DISTANCES_FROM_DEPOTS, DISTANCES_TO_DEPOTS)\n",
    "    # DEPOT_NUMBERS = proc.worse2worst_assign_depots(REQUESTS, timeWindows,DISTANCES,DURATIONS,DEPOTS,DISTANCES_FROM_DEPOTS, DISTANCES_TO_DEPOTS)\n",
    "    DEPOT_NUMBERS = proc.vote_assign_depots(REQUESTS, timeWindows, DISTANCES, DURATIONS, DEPOTS, DISTANCES_FROM_DEPOTS, DISTANCES_TO_DEPOTS,k=3)\n",
    "    # DEPOT_NUMBERS = proc.final_assign_depots(REQUESTS, timeWindows, DISTANCES, DURATIONS, DEPOTS, DISTANCES_FROM_DEPOTS,DISTANCES_TO_DEPOTS,k=3)\n",
    "    REQ_BY_DEPOTS = proc.requests_by_depots(DEPOTS, REQUESTS, DEPOT_NUMBERS)\n",
    "    print(REQ_BY_DEPOTS)\n",
    "    print('----------------Instance name: ' + str(filepath) + '-----------------------------------')\n",
    "    print(\" processing time --- %s seconds ---\" % (time.time() - process_time))\n",
    "\n",
    "    total_results = []\n",
    "    for round in range(rounds):\n",
    "        results_all_depots = []\n",
    "        distance_all_depots = []\n",
    "        time_all_depots = []\n",
    "        for id_depot in range(len(DEPOTS)):\n",
    "            THIS_DEP_REQS = REQ_BY_DEPOTS[id_depot]\n",
    "            NODES_OF_THIS_DEPOT = proc.locations_of_this_depot(id_depot, REQ_BY_DEPOTS, LOCATIONS)\n",
    "            if(len(NODES_OF_THIS_DEPOT)==0):\n",
    "                results_all_depots.append([])\n",
    "                distance_all_depots.append(0)\n",
    "                time_all_depots.append(0)\n",
    "                continue\n",
    "            # ############### SOLVING THE PROBLEMS !!!!!!!! ######################################\n",
    "            pops_create_time = time.time()\n",
    "            calculation_time = time.time()\n",
    "            print('#################### Round :' +str(round+1)+' ############################')\n",
    "            ## Initialize the populations\n",
    "            populations = []\n",
    "            for _ in range(population_size):\n",
    "                chromosome = GA.initialize_Feasible_chromosome(DISTANCES, DISTANCES_FROM_DEPOTS, DISTANCES_TO_DEPOTS, id_depot, DURATIONS, timeWindows, THIS_DEP_REQS, DEMANDS, LoadCapacities)\n",
    "                populations.append(chromosome)\n",
    "            # print(\"Populations creation time --- %s seconds ---\" % (time.time() - pops_create_time))\n",
    "            ## Crossovers and mutate ##\n",
    "            GA_time = time.time()\n",
    "\n",
    "            ## Evaluate fitnesses of all populations ##\n",
    "            best_fitness_so_far = -99999999\n",
    "            for gen in range(generations):\n",
    "                fitness_table = []\n",
    "                for chromosome in populations:\n",
    "                    fitness_table.append(\n",
    "                        evaluate.chromosomeFitness(chromosome, DISTANCES, DISTANCES_FROM_DEPOTS, DISTANCES_TO_DEPOTS,\n",
    "                                                   id_depot))\n",
    "                populations = [x for _, x in sorted(zip(fitness_table, populations), reverse=True)]\n",
    "                populations.pop()\n",
    "                populations.pop()\n",
    "                elite1 = populations.pop(0)\n",
    "                elite2 = populations.pop(0)\n",
    "\n",
    "\n",
    "                ## Tournament Selection ##\n",
    "                # id1, id2 = random.randrange(0, len(populations)), random.randrange(0, len(populations))\n",
    "                id1,id2,id3,id4 = random.sample(range(0, len(populations)), 4)\n",
    "                fitness1,fitness2,fitness3,fitness4 = fitness_table[id1],fitness_table[id2],fitness_table[id3],fitness_table[id4]\n",
    "                candidate1,candidate2,candidate3,candidate4 = populations[id1], populations[id2],populations[id3],populations[id4]\n",
    "                parent1 = operation.tournament_selection(candidate1,candidate2,fitness1,fitness2)\n",
    "                parent2 = operation.tournament_selection(candidate3,candidate4,fitness3,fitness4)\n",
    "\n",
    "                ## Crossing over !! ####\n",
    "                child1, child2 = operation.crossover(DISTANCES, DURATIONS, timeWindows, THIS_DEP_REQS, parent1, parent2,\n",
    "                                                     DEMANDS, LoadCapacities, DISTANCES_FROM_DEPOTS,\n",
    "                                                     DISTANCES_TO_DEPOTS, id_depot, crossoverRate)\n",
    "                # if(not evaluate.haveEqualNodes(child1,child2,LOCATIONS)):\n",
    "                #         print('note have Equal nodes, Crossover Bug!!!!!'+ str(gen))\n",
    "                #         break\n",
    "                #\n",
    "                ## Mutation ##\n",
    "                child1 = operation.mutate(child1, DISTANCES, DURATIONS, timeWindows, THIS_DEP_REQS, DEMANDS,\n",
    "                                          LoadCapacities, DISTANCES_FROM_DEPOTS, DISTANCES_TO_DEPOTS, id_depot, mutationRate)\n",
    "                child2 = operation.mutate(child2, DISTANCES, DURATIONS, timeWindows, THIS_DEP_REQS, DEMANDS,\n",
    "                                          LoadCapacities, DISTANCES_FROM_DEPOTS, DISTANCES_TO_DEPOTS, id_depot, mutationRate)\n",
    "                if (not evaluate.haveEqualNodes(child1, child2, NODES_OF_THIS_DEPOT)):\n",
    "                    print('note have Equal nodes, Mutation Bug!!!!!' + str(gen))\n",
    "                    break\n",
    "\n",
    "\n",
    "                ## Evaluate Fitness of the best ones ###\n",
    "                current_fitness = evaluate.chromosomeFitness(child1, DISTANCES, DISTANCES_FROM_DEPOTS,\n",
    "                                                             DISTANCES_TO_DEPOTS, id_depot)\n",
    "                current_fitness = max(current_fitness,\n",
    "                                      evaluate.chromosomeFitness(child2, DISTANCES, DISTANCES_FROM_DEPOTS,\n",
    "                                                                 DISTANCES_TO_DEPOTS, id_depot))\n",
    "                current_fitness = max(current_fitness,\n",
    "                                      evaluate.chromosomeFitness(elite1, DISTANCES, DISTANCES_FROM_DEPOTS,\n",
    "                                                                 DISTANCES_TO_DEPOTS, id_depot))\n",
    "                current_fitness = max(current_fitness,\n",
    "                                      evaluate.chromosomeFitness(elite2, DISTANCES, DISTANCES_FROM_DEPOTS,\n",
    "                                                                 DISTANCES_TO_DEPOTS, id_depot))\n",
    "\n",
    "                ## Add them back into populations ###\n",
    "                populations.append(child1)\n",
    "                populations.append(child2)\n",
    "                populations.append(elite1)\n",
    "                populations.append(elite2)\n",
    "\n",
    "                ### Check break conditions ####\n",
    "                if (current_fitness > best_fitness_so_far):\n",
    "                    best_fitness_so_far = current_fitness\n",
    "                    bestFitGen = gen\n",
    "                    # print('#### New Best Fitness !! , Best so far is :' + str(10000.0 / best_fitness_so_far) + '#####')\n",
    "                    # print('#### This Generation: ' + str(gen) + '#######')\n",
    "                if (gen - bestFitGen >= 1000):\n",
    "                    # print('#### Break Generation: ' + str(gen) + '#######')\n",
    "                    break\n",
    "                # print('############# Round-'+str(round+1) +',DEPOT-'+str(id_depot)+','+ 'Generation:' + str(gen + 1) + ' #########################')\n",
    "                # print('This Gen Distance :' + str(10000.0 / current_fitness))\n",
    "\n",
    "            ### Evaluate results of current DEPOT ####\n",
    "            fitness_table = []\n",
    "            for chromosome in populations:\n",
    "                fitness_table.append(\n",
    "                    evaluate.chromosomeFitness(chromosome, DISTANCES, DISTANCES_FROM_DEPOTS, DISTANCES_TO_DEPOTS, id_depot))\n",
    "            populations = [x for _, x in sorted(zip(fitness_table, populations), reverse=True)]\n",
    "            # print(\"GA time --- %s seconds ---\" % (time.time() - GA_time))\n",
    "            best_chromosome = populations[0]\n",
    "            computational_time = time.time() - calculation_time\n",
    "            # print(\"Total Calculation time --- %s seconds ---\" % (computational_time))\n",
    "            distance = evaluate.chromosomeRoutesDistance(best_chromosome,DISTANCES,DISTANCES_FROM_DEPOTS,DISTANCES_TO_DEPOTS,id_depot)\n",
    "            # print('Distances of the best chromosome: ' + str(distance))\n",
    "            # print(best_chromosome)\n",
    "\n",
    "            ## Memo the results ##\n",
    "            results_all_depots.append(best_chromosome)\n",
    "            distance_all_depots.append(distance)\n",
    "            time_all_depots.append(computational_time)\n",
    "        total_results.append((results_all_depots,distance_all_depots,time_all_depots))\n",
    "        print(results_all_depots)\n",
    "    return total_results"
   ]
  },
  {
   "cell_type": "code",
   "execution_count": 3,
   "metadata": {},
   "outputs": [],
   "source": [
    "def mean_results(results):\n",
    "    solutions = []\n",
    "    cal_times = []\n",
    "    distances = []\n",
    "    for round, round_result in enumerate(results):\n",
    "        sol = results[round][0]\n",
    "        dist = results[round][1]\n",
    "        ct = results[round][2]\n",
    "\n",
    "        solutions.append(sol)\n",
    "        distances.append(dist)\n",
    "        cal_times.append(ct)\n",
    "    distances = np.array(distances)\n",
    "    distances = pd.DataFrame(distances)\n",
    "    distances = np.mean(distances, axis=0)\n",
    "    cal_times = np.array(cal_times)\n",
    "    cal_times = pd.DataFrame(cal_times)\n",
    "    cal_times = np.mean(cal_times, axis=0)\n",
    "    return solutions,distances, cal_times\n"
   ]
  },
  {
   "cell_type": "code",
   "execution_count": 4,
   "metadata": {},
   "outputs": [],
   "source": [
    "def create_worst_case(filepath, rounds = 1, population_size = 100, generations=3000, crossoverRate=1.0, mutationRate=0.5):\n",
    "    process_time = time.time()\n",
    "    numVehicles, LoadCapacities, speed, data = proc.load_file(filepath)\n",
    "    LOCATIONS = data[0]\n",
    "    DEMANDS = data[1]\n",
    "    timeWindows = data[2]\n",
    "    serviceTimes = data[3]\n",
    "    pickupSiblings = data[4]\n",
    "    deliverySiblings = data[5]\n",
    "    requestType = data[6]\n",
    "    REQUESTS = proc.generate_request(pickupSiblings, deliverySiblings, requestType)\n",
    "    DISTANCES = proc.createDistanceTable('real_map/DISTANCES.csv')\n",
    "    DURATIONS = proc.createDurationTable('real_map/DURATIONS.csv')\n",
    "    DEPOTS = proc.create_depots('real_map/depots.csv')\n",
    "    DISTANCES_FROM_DEPOTS = proc.distances_from_depots('real_map/DISTANCES_FROM_DEPOTS.csv')\n",
    "    DISTANCES_TO_DEPOTS = proc.distances_to_depots('real_map/DISTANCES_TO_DEPOTS.csv')\n",
    "    DEPOT_NUMBERS = proc.simple_assign_depots(REQUESTS, LOCATIONS, DEPOTS, DISTANCES_FROM_DEPOTS, DISTANCES_TO_DEPOTS)\n",
    "    REQ_BY_DEPOTS = proc.requests_by_depots(DEPOTS, REQUESTS, DEPOT_NUMBERS)\n",
    "    \n",
    "    res = GA.initialize_WorstCase_Chromosome(REQUESTS)\n",
    "    \n",
    "    \n",
    "    dist_worst = 0\n",
    "    for [idx,_,[p,d]] in res:\n",
    "        depot = int(DEPOT_NUMBERS[idx]) \n",
    "        dist_worst += (DISTANCES_FROM_DEPOTS[depot][p]+DISTANCES[p][d]+DISTANCES_TO_DEPOTS[d][depot])\n",
    "\n",
    "    return res,dist_worst"
   ]
  },
  {
   "cell_type": "markdown",
   "metadata": {},
   "source": [
    "# Automated run"
   ]
  },
  {
   "cell_type": "code",
   "execution_count": 25,
   "metadata": {},
   "outputs": [
    {
     "name": "stdout",
     "output_type": "stream",
     "text": [
      "[{10: (28, 5), 12: (33, 15), 15: (39, 11), 17: (47, 19), 18: (48, 6), 22: (53, 45), 28: (61, 44), 29: (62, 38), 32: (65, 46), 33: (66, 79), 35: (73, 42), 36: (74, 43), 37: (75, 34), 38: (76, 30), 39: (80, 26)}, {21: (52, 27)}, {0: (3, 13), 1: (4, 7), 2: (8, 32), 3: (9, 16), 4: (17, 50), 6: (20, 1), 8: (24, 22), 9: (25, 23), 11: (29, 35), 16: (40, 31), 31: (64, 12)}, {}, {5: (18, 78), 7: (21, 57), 13: (36, 69), 14: (37, 77), 19: (49, 72), 20: (51, 68), 23: (54, 60), 24: (55, 67), 25: (56, 2), 26: (58, 10), 27: (59, 14), 30: (63, 70), 34: (71, 41)}]\n----------------Instance name: pdp_instances/GOO/doing/goo10.csv-----------------------------------\n processing time --- 0.37502121925354004 seconds ---\n#################### Round :1 ############################\n"
     ]
    },
    {
     "name": "stdout",
     "output_type": "stream",
     "text": [
      "#################### Round :1 ############################\n"
     ]
    },
    {
     "name": "stdout",
     "output_type": "stream",
     "text": [
      "#################### Round :1 ############################\n"
     ]
    },
    {
     "name": "stdout",
     "output_type": "stream",
     "text": [
      "#################### Round :1 ############################\n"
     ]
    },
    {
     "name": "stdout",
     "output_type": "stream",
     "text": [
      "[[[3, [39, 32, 17, 15, 38, 10], [80, 47, 39, 28, 26, 19, 11, 5, 65, 76, 46, 30]], [2, [37, 29, 12, 36], [62, 75, 74, 38, 34, 33, 15, 43]], [0, [18, 33, 35, 22, 28], [48, 66, 6, 79, 53, 73, 61, 45, 44, 42]]], [[0, [21], [52, 27]]], [[2, [9, 6, 4, 3], [20, 25, 23, 17, 1, 50, 9, 16]], [1, [8, 11, 16, 2], [8, 29, 35, 40, 32, 31, 24, 22]], [0, [31, 1, 0], [4, 3, 7, 64, 13, 12]]], [], [[2, [34, 20, 13, 24, 23], [71, 41, 36, 51, 54, 55, 60, 69, 67, 68]], [0, [30, 19, 25, 26, 27, 5, 7, 14], [58, 59, 37, 10, 14, 63, 77, 56, 70, 2, 18, 21, 49, 78, 57, 72]], [1, [], []]]]\n#################### Round :2 ############################\n"
     ]
    },
    {
     "name": "stdout",
     "output_type": "stream",
     "text": [
      "#################### Round :2 ############################\n"
     ]
    },
    {
     "name": "stdout",
     "output_type": "stream",
     "text": [
      "#################### Round :2 ############################\n"
     ]
    },
    {
     "name": "stdout",
     "output_type": "stream",
     "text": [
      "#################### Round :2 ############################\n"
     ]
    },
    {
     "name": "stdout",
     "output_type": "stream",
     "text": [
      "[[[4, [29, 36, 12, 37], [62, 75, 74, 38, 34, 33, 15, 43]], [0, [], []], [3, [32, 17, 38, 10, 39, 15], [80, 47, 39, 28, 26, 19, 11, 5, 65, 76, 46, 30]], [1, [], []], [2, [28, 35, 33, 22, 18], [48, 66, 6, 79, 53, 73, 61, 45, 44, 42]]], [[0, [21], [52, 27]]], [[1, [2, 8, 11, 16], [8, 29, 35, 40, 31, 32, 24, 22]], [2, [9, 6, 4, 3], [20, 25, 23, 17, 1, 50, 9, 16]], [0, [31, 1, 0], [4, 3, 7, 64, 13, 12]]], [], [[2, [34, 20, 24, 23, 13], [71, 41, 36, 51, 54, 55, 60, 69, 67, 68]], [0, [30, 25, 5, 7, 27, 26, 14, 19], [58, 59, 37, 10, 14, 63, 77, 56, 70, 2, 18, 21, 49, 78, 57, 72]]]]\n#################### Round :3 ############################\n"
     ]
    },
    {
     "name": "stdout",
     "output_type": "stream",
     "text": [
      "#################### Round :3 ############################\n"
     ]
    },
    {
     "name": "stdout",
     "output_type": "stream",
     "text": [
      "#################### Round :3 ############################\n"
     ]
    },
    {
     "name": "stdout",
     "output_type": "stream",
     "text": [
      "#################### Round :3 ############################\n"
     ]
    },
    {
     "name": "stdout",
     "output_type": "stream",
     "text": [
      "[[[3, [37, 36, 29, 12], [62, 75, 74, 38, 34, 33, 15, 43]], [2, [18, 28, 35, 33, 22], [48, 66, 6, 79, 53, 73, 61, 45, 44, 42]], [1, [39, 38, 32, 10, 17, 15], [80, 47, 39, 28, 26, 19, 11, 5, 65, 76, 46, 30]], [0, [], []]], [[0, [21], [52, 27]]], [[2, [1, 0, 3, 31], [4, 7, 3, 13, 9, 64, 16, 12]], [1, [11, 16, 8, 2], [8, 29, 35, 40, 32, 31, 24, 22]], [0, [9, 6, 4], [20, 25, 23, 17, 1, 50]]], [], [[2, [34, 20, 24, 23, 13], [71, 41, 36, 51, 54, 55, 60, 69, 67, 68]], [1, [30, 27, 14, 26, 7, 19, 5, 25], [58, 59, 37, 10, 14, 63, 77, 56, 70, 2, 18, 21, 49, 78, 57, 72]]]]\n#################### Round :4 ############################\n"
     ]
    },
    {
     "name": "stdout",
     "output_type": "stream",
     "text": [
      "#################### Round :4 ############################\n"
     ]
    },
    {
     "name": "stdout",
     "output_type": "stream",
     "text": [
      "#################### Round :4 ############################\n"
     ]
    },
    {
     "name": "stdout",
     "output_type": "stream",
     "text": [
      "#################### Round :4 ############################\n"
     ]
    },
    {
     "name": "stdout",
     "output_type": "stream",
     "text": [
      "[[[3, [37, 36, 29, 12], [62, 75, 74, 38, 34, 33, 15, 43]], [1, [39, 17, 38, 15, 32, 10], [80, 47, 39, 28, 26, 19, 11, 5, 65, 76, 46, 30]], [0, [35, 28, 33, 22, 18], [48, 66, 6, 79, 53, 73, 61, 45, 44, 42]]], [[0, [21], [52, 27]]], [[0, [11, 8, 2, 16], [8, 29, 35, 40, 31, 32, 24, 22]], [1, [31, 1, 0], [4, 3, 7, 64, 13, 12]], [2, [9, 6, 4, 3], [20, 25, 23, 17, 1, 50, 9, 16]]], [], [[3, [27, 26, 30, 25, 5, 19, 7, 14], [58, 59, 37, 10, 14, 63, 77, 56, 70, 2, 18, 21, 49, 78, 57, 72]], [0, [], []], [2, [], []], [1, [13, 34, 24, 20, 23], [71, 41, 36, 51, 54, 55, 60, 69, 68, 67]]]]\n#################### Round :5 ############################\n"
     ]
    },
    {
     "name": "stdout",
     "output_type": "stream",
     "text": [
      "#################### Round :5 ############################\n"
     ]
    },
    {
     "name": "stdout",
     "output_type": "stream",
     "text": [
      "#################### Round :5 ############################\n"
     ]
    },
    {
     "name": "stdout",
     "output_type": "stream",
     "text": [
      "#################### Round :5 ############################\n"
     ]
    },
    {
     "name": "stdout",
     "output_type": "stream",
     "text": [
      "[[[3, [10, 15, 17, 38, 32, 39], [80, 47, 39, 28, 26, 19, 11, 5, 65, 76, 46, 30]], [2, [33, 22, 18, 36], [48, 66, 6, 79, 53, 74, 45, 43]], [1, [29, 37, 28, 35, 12], [62, 75, 73, 61, 38, 34, 33, 15, 44, 42]]], [[0, [21], [52, 27]]], [[2, [0, 3], [3, 13, 9, 16]], [1, [31, 6, 4, 9], [20, 25, 23, 17, 1, 50, 64, 12]], [0, [1, 8, 11, 2, 16], [4, 8, 7, 29, 35, 40, 31, 32, 24, 22]]], [], [[2, [34, 20, 24, 23, 13], [71, 41, 36, 51, 54, 55, 60, 69, 67, 68]], [0, [27, 30, 25, 5, 26, 14, 7, 19], [58, 59, 37, 10, 14, 63, 77, 56, 70, 2, 18, 21, 49, 78, 57, 72]]]]\n#################### Round :6 ############################\n"
     ]
    },
    {
     "name": "stdout",
     "output_type": "stream",
     "text": [
      "#################### Round :6 ############################\n"
     ]
    },
    {
     "name": "stdout",
     "output_type": "stream",
     "text": [
      "#################### Round :6 ############################\n"
     ]
    },
    {
     "name": "stdout",
     "output_type": "stream",
     "text": [
      "#################### Round :6 ############################\n"
     ]
    },
    {
     "name": "stdout",
     "output_type": "stream",
     "text": [
      "[[[3, [39, 38, 32, 10, 17, 15], [80, 47, 39, 28, 26, 19, 11, 5, 65, 76, 46, 30]], [1, [33, 35, 22, 18, 28], [48, 66, 6, 79, 53, 73, 61, 45, 44, 42]], [2, [36, 37, 29, 12], [62, 75, 74, 38, 34, 33, 15, 43]], [0, [], []]], [[0, [21], [52, 27]]], [[2, [9, 6, 4], [20, 25, 23, 17, 1, 50]], [1, [3, 31, 0, 1], [4, 7, 3, 13, 9, 64, 16, 12]], [0, [11, 2, 16, 8], [8, 29, 35, 40, 31, 32, 24, 22]]], [], [[2, [30, 27, 26, 14, 19, 25, 5, 7], [58, 59, 37, 10, 14, 63, 77, 56, 70, 2, 18, 21, 49, 78, 57, 72]], [0, [], []], [1, [13, 20, 34, 24, 23], [71, 41, 36, 51, 54, 55, 60, 69, 67, 68]]]]\n#################### Round :7 ############################\n"
     ]
    },
    {
     "name": "stdout",
     "output_type": "stream",
     "text": [
      "#################### Round :7 ############################\n"
     ]
    },
    {
     "name": "stdout",
     "output_type": "stream",
     "text": [
      "#################### Round :7 ############################\n"
     ]
    },
    {
     "name": "stdout",
     "output_type": "stream",
     "text": [
      "#################### Round :7 ############################\n"
     ]
    },
    {
     "name": "stdout",
     "output_type": "stream",
     "text": [
      "[[[4, [37, 36, 12, 29], [62, 75, 74, 38, 34, 33, 15, 43]], [2, [], []], [0, [33, 28, 18, 22, 35], [48, 66, 6, 79, 53, 73, 61, 45, 44, 42]], [1, [10, 15, 17, 38, 32, 39], [80, 47, 39, 28, 26, 19, 11, 5, 65, 76, 46, 30]]], [[0, [21], [52, 27]]], [[1, [0, 6, 4, 3, 31, 9], [20, 25, 17, 1, 3, 23, 13, 64, 50, 9, 16, 12]], [2, [2, 1, 8, 11, 16], [4, 8, 7, 29, 35, 40, 31, 32, 24, 22]], [0, [], []]], [], [[2, [34, 20, 24, 13, 23], [71, 41, 36, 51, 54, 55, 60, 69, 67, 68]], [0, [30, 19, 27, 5, 7, 14, 25, 26], [58, 59, 37, 10, 14, 63, 77, 56, 70, 2, 18, 21, 49, 78, 57, 72]]]]\n#################### Round :8 ############################\n"
     ]
    },
    {
     "name": "stdout",
     "output_type": "stream",
     "text": [
      "#################### Round :8 ############################\n"
     ]
    },
    {
     "name": "stdout",
     "output_type": "stream",
     "text": [
      "#################### Round :8 ############################\n"
     ]
    },
    {
     "name": "stdout",
     "output_type": "stream",
     "text": [
      "#################### Round :8 ############################\n"
     ]
    },
    {
     "name": "stdout",
     "output_type": "stream",
     "text": [
      "[[[3, [37, 35, 29, 12, 28], [62, 75, 73, 61, 38, 34, 33, 15, 44, 42]], [2, [39, 32, 10, 38, 17, 15], [80, 47, 39, 28, 26, 19, 11, 5, 65, 76, 46, 30]], [0, [18, 33, 36, 22], [48, 66, 6, 79, 53, 74, 45, 43]], [1, [], []]], [[0, [21], [52, 27]]], [[2, [1, 31, 0], [4, 3, 7, 64, 13, 12]], [1, [11, 8, 16, 2], [8, 29, 35, 40, 32, 31, 24, 22]], [0, [6, 4, 9, 3], [20, 25, 23, 17, 1, 50, 9, 16]]], [], [[2, [34, 20, 24, 23, 13], [71, 41, 36, 51, 54, 55, 60, 69, 67, 68]], [0, [30, 26, 27, 14, 5, 25, 7, 19], [58, 59, 37, 10, 14, 63, 77, 56, 70, 2, 18, 21, 49, 78, 57, 72]]]]\n#################### Round :9 ############################\n"
     ]
    },
    {
     "name": "stdout",
     "output_type": "stream",
     "text": [
      "#################### Round :9 ############################\n"
     ]
    },
    {
     "name": "stdout",
     "output_type": "stream",
     "text": [
      "#################### Round :9 ############################\n"
     ]
    },
    {
     "name": "stdout",
     "output_type": "stream",
     "text": [
      "#################### Round :9 ############################\n"
     ]
    },
    {
     "name": "stdout",
     "output_type": "stream",
     "text": [
      "[[[3, [29, 36, 37], [62, 75, 74, 38, 34, 43]], [0, [10, 17, 15, 12], [47, 39, 28, 33, 19, 15, 11, 5]], [2, [35, 32, 38, 39, 28], [80, 61, 26, 73, 76, 65, 44, 42, 46, 30]], [1, [33, 22, 18], [48, 66, 6, 53, 79, 45]]], [[0, [21], [52, 27]]], [[1, [6, 4, 0, 3, 31], [20, 17, 1, 3, 13, 64, 50, 9, 16, 12]], [2, [1, 2, 9, 8], [4, 8, 7, 25, 32, 24, 23, 22]], [0, [16, 11], [29, 40, 35, 31]]], [], [[2, [34, 20, 24, 23, 13], [71, 41, 36, 51, 54, 55, 60, 69, 67, 68]], [1, [30, 27, 14, 26, 25, 19, 5, 7], [58, 59, 37, 10, 14, 63, 77, 56, 70, 2, 18, 21, 49, 78, 57, 72]]]]\n#################### Round :10 ############################\n"
     ]
    },
    {
     "name": "stdout",
     "output_type": "stream",
     "text": [
      "#################### Round :10 ############################\n"
     ]
    },
    {
     "name": "stdout",
     "output_type": "stream",
     "text": [
      "#################### Round :10 ############################\n"
     ]
    },
    {
     "name": "stdout",
     "output_type": "stream",
     "text": [
      "#################### Round :10 ############################\n"
     ]
    },
    {
     "name": "stdout",
     "output_type": "stream",
     "text": [
      "[[[3, [39, 38, 17, 15, 32, 10], [80, 47, 39, 28, 26, 19, 11, 5, 65, 76, 46, 30]], [2, [33, 28, 18, 35, 22], [48, 66, 6, 79, 53, 73, 61, 45, 44, 42]], [1, [12, 37, 36, 29], [62, 75, 74, 38, 34, 33, 15, 43]]], [[0, [21], [52, 27]]], [[1, [8, 2, 11, 16], [8, 29, 35, 40, 31, 32, 24, 22]], [2, [1, 0], [4, 7, 3, 13]], [0, [6, 31, 4, 3, 9], [20, 25, 23, 17, 1, 9, 50, 64, 16, 12]]], [], [[2, [34, 13, 24, 23, 20], [71, 41, 36, 51, 54, 55, 60, 69, 68, 67]], [1, [30, 19, 27, 5, 7, 26, 25, 14], [58, 59, 37, 10, 14, 63, 77, 56, 70, 2, 18, 21, 49, 78, 57, 72]], [0, [], []]]]\n"
     ]
    },
    {
     "name": "stdout",
     "output_type": "stream",
     "text": [
      "[{21: (52, 27), 22: (53, 45), 28: (61, 44), 29: (62, 38), 32: (65, 46), 33: (66, 79), 34: (71, 41), 35: (73, 42), 36: (74, 43), 37: (75, 34), 38: (76, 30), 39: (80, 26)}, {}, {0: (3, 13), 1: (4, 7), 2: (8, 32), 3: (9, 16), 4: (17, 50), 6: (20, 1), 8: (24, 22), 9: (25, 23), 10: (28, 5), 11: (29, 35), 12: (33, 15), 13: (36, 69), 15: (39, 11), 16: (40, 31), 17: (47, 19), 18: (48, 6), 31: (64, 12)}, {}, {5: (18, 78), 7: (21, 57), 14: (37, 77), 19: (49, 72), 20: (51, 68), 23: (54, 60), 24: (55, 67), 25: (56, 2), 26: (58, 10), 27: (59, 14), 30: (63, 70)}]\n----------------Instance name: pdp_instances/GOO/doing/goo11.csv-----------------------------------\n processing time --- 0.49699902534484863 seconds ---\n#################### Round :1 ############################\n"
     ]
    },
    {
     "name": "stdout",
     "output_type": "stream",
     "text": [
      "#################### Round :1 ############################\n"
     ]
    },
    {
     "name": "stdout",
     "output_type": "stream",
     "text": [
      "#################### Round :1 ############################\n"
     ]
    },
    {
     "name": "stdout",
     "output_type": "stream",
     "text": [
      "[[[3, [39, 34, 28, 35], [80, 61, 26, 73, 71, 44, 42, 41]], [2, [37, 29, 21, 38], [62, 75, 76, 52, 38, 34, 30, 27]], [1, [], []], [0, [32, 36, 33, 22], [74, 66, 65, 53, 79, 43, 46, 45]]], [], [[3, [17, 13, 11, 2, 8, 12, 6, 16], [20, 47, 40, 29, 36, 35, 19, 8, 69, 1, 24, 31, 33, 32, 22, 15]], [2, [9, 4], [25, 23, 17, 50]], [1, [18, 15, 1, 10, 3, 31, 0], [3, 28, 39, 48, 13, 11, 64, 5, 6, 9, 4, 16, 12, 7]]], [], [[2, [30, 26, 25, 24], [58, 63, 10, 70, 56, 55, 67, 2]], [1, [20, 14, 27, 23, 7, 19, 5], [54, 37, 51, 77, 59, 60, 68, 18, 49, 21, 14, 72, 78, 57]]]]\n#################### Round :2 ############################\n"
     ]
    },
    {
     "name": "stdout",
     "output_type": "stream",
     "text": [
      "#################### Round :2 ############################\n"
     ]
    },
    {
     "name": "stdout",
     "output_type": "stream",
     "text": [
      "#################### Round :2 ############################\n"
     ]
    },
    {
     "name": "stdout",
     "output_type": "stream",
     "text": [
      "[[[3, [39, 34, 28, 35], [80, 61, 26, 73, 71, 44, 42, 41]], [2, [29, 21, 37, 38], [62, 75, 76, 52, 38, 34, 30, 27]], [0, [33, 32, 36, 22], [65, 66, 74, 53, 79, 46, 43, 45]]], [], [[3, [17, 13, 2, 11, 12, 8, 16, 6], [20, 29, 47, 40, 36, 35, 19, 8, 69, 1, 24, 31, 33, 32, 22, 15]], [0, [9, 4], [25, 23, 17, 50]], [1, [15, 0, 18, 10, 3, 1, 31], [3, 28, 39, 48, 13, 11, 64, 5, 6, 9, 4, 16, 12, 7]]], [], [[3, [30, 26, 25, 24], [58, 63, 10, 70, 56, 55, 67, 2]], [1, [20, 27, 14, 19, 23, 5, 7], [54, 37, 51, 77, 59, 60, 68, 18, 49, 21, 14, 72, 78, 57]], [2, [], []]]]\n#################### Round :3 ############################\n"
     ]
    },
    {
     "name": "stdout",
     "output_type": "stream",
     "text": [
      "#################### Round :3 ############################\n"
     ]
    },
    {
     "name": "stdout",
     "output_type": "stream",
     "text": [
      "#################### Round :3 ############################\n"
     ]
    },
    {
     "name": "stdout",
     "output_type": "stream",
     "text": [
      "[[[3, [39, 34, 35, 28], [80, 61, 26, 73, 71, 44, 42, 41]], [2, [33, 22, 32, 36], [65, 66, 74, 53, 79, 46, 43, 45]], [0, [37, 38, 29, 21], [62, 75, 76, 52, 38, 34, 30, 27]]], [], [[0, [9, 0, 2, 12, 17, 16, 8, 13, 11], [3, 13, 25, 47, 29, 23, 40, 36, 35, 19, 8, 69, 24, 31, 33, 32, 22, 15]], [1, [10, 1, 15, 6, 4, 18, 31, 3], [28, 39, 48, 20, 11, 64, 5, 6, 9, 4, 1, 17, 16, 12, 7, 50]], [2, [], []]], [], [[3, [], []], [1, [26, 30, 25, 24], [58, 63, 10, 70, 56, 55, 67, 2]], [2, [20, 14, 7, 27, 23, 19, 5], [54, 37, 51, 77, 59, 60, 68, 18, 49, 21, 14, 72, 78, 57]]]]\n#################### Round :4 ############################\n"
     ]
    },
    {
     "name": "stdout",
     "output_type": "stream",
     "text": [
      "#################### Round :4 ############################\n"
     ]
    },
    {
     "name": "stdout",
     "output_type": "stream",
     "text": [
      "#################### Round :4 ############################\n"
     ]
    },
    {
     "name": "stdout",
     "output_type": "stream",
     "text": [
      "[[[3, [32, 22, 33, 36], [65, 66, 74, 53, 79, 46, 43, 45]], [2, [39, 34, 35, 28], [80, 61, 26, 73, 71, 44, 42, 41]], [0, [29, 37, 38, 21], [62, 75, 76, 52, 38, 34, 30, 27]]], [], [[1, [18, 15, 10, 3, 0, 31, 1], [3, 28, 39, 48, 13, 11, 64, 5, 6, 9, 4, 16, 12, 7]], [2, [9, 8], [25, 23, 24, 22]], [0, [11, 4, 17, 16, 2, 13, 12, 6], [20, 29, 47, 40, 36, 35, 19, 8, 69, 1, 31, 33, 32, 17, 15, 50]]], [], [[2, [14, 20, 5, 27, 23, 19, 7], [54, 37, 51, 77, 59, 60, 68, 18, 49, 21, 14, 72, 78, 57]], [1, [26, 30, 25, 24], [58, 63, 10, 70, 56, 55, 67, 2]], [0, [], []]]]\n#################### Round :5 ############################\n"
     ]
    },
    {
     "name": "stdout",
     "output_type": "stream",
     "text": [
      "#################### Round :5 ############################\n"
     ]
    },
    {
     "name": "stdout",
     "output_type": "stream",
     "text": [
      "#################### Round :5 ############################\n"
     ]
    },
    {
     "name": "stdout",
     "output_type": "stream",
     "text": [
      "[[[3, [39, 34, 35, 28], [80, 61, 26, 73, 71, 44, 42, 41]], [2, [33, 22, 32, 36], [65, 66, 74, 53, 79, 46, 43, 45]], [1, [37, 38, 29, 21], [62, 75, 76, 52, 38, 34, 30, 27]]], [], [[3, [18, 10, 15, 0, 1, 3, 31], [3, 28, 39, 48, 13, 11, 64, 5, 6, 9, 4, 16, 12, 7]], [2, [9], [25, 23]], [0, [], []], [1, [2, 13, 16, 11, 12, 6, 17, 4, 8], [20, 29, 47, 40, 36, 35, 19, 8, 69, 1, 17, 24, 31, 33, 32, 22, 15, 50]], [4, [], []]], [], [[3, [], []], [1, [14, 27, 7, 20, 23, 19, 5], [54, 37, 51, 77, 59, 60, 68, 18, 49, 21, 14, 72, 78, 57]], [2, [24, 25, 30, 26], [58, 63, 10, 70, 56, 55, 67, 2]]]]\n#################### Round :6 ############################\n"
     ]
    },
    {
     "name": "stdout",
     "output_type": "stream",
     "text": [
      "#################### Round :6 ############################\n"
     ]
    },
    {
     "name": "stdout",
     "output_type": "stream",
     "text": [
      "#################### Round :6 ############################\n"
     ]
    },
    {
     "name": "stdout",
     "output_type": "stream",
     "text": [
      "[[[3, [39, 34, 35, 28], [80, 61, 26, 73, 71, 44, 42, 41]], [2, [29, 37, 38, 21], [62, 75, 76, 52, 38, 34, 30, 27]], [0, [33, 22, 32, 36], [65, 66, 74, 53, 79, 46, 43, 45]]], [], [[3, [9, 4], [25, 23, 17, 50]], [2, [15, 0, 10, 18, 3, 31, 1], [3, 28, 39, 48, 13, 11, 64, 5, 6, 9, 4, 16, 12, 7]], [0, [], []], [1, [16, 2, 13, 11, 6, 12, 17, 8], [20, 29, 47, 40, 36, 35, 19, 8, 69, 1, 24, 31, 33, 32, 22, 15]]], [], [[3, [30, 26, 25, 24], [58, 63, 10, 70, 56, 55, 67, 2]], [2, [], []], [0, [14, 20, 27, 23, 7, 5, 19], [54, 37, 51, 77, 59, 60, 68, 18, 49, 21, 14, 72, 78, 57]]]]\n#################### Round :7 ############################\n"
     ]
    },
    {
     "name": "stdout",
     "output_type": "stream",
     "text": [
      "#################### Round :7 ############################\n"
     ]
    },
    {
     "name": "stdout",
     "output_type": "stream",
     "text": [
      "#################### Round :7 ############################\n"
     ]
    },
    {
     "name": "stdout",
     "output_type": "stream",
     "text": [
      "[[[1, [34, 35, 22, 33, 32, 36], [65, 66, 74, 53, 79, 46, 43, 73, 71, 45, 42, 41]], [2, [], []], [0, [21, 29, 38, 37], [62, 75, 76, 52, 38, 34, 30, 27]], [3, [39, 28], [80, 61, 26, 44]]], [], [[3, [9, 4], [25, 23, 17, 50]], [2, [15, 18, 10, 0, 3, 1, 31], [3, 28, 39, 48, 13, 11, 64, 5, 6, 9, 4, 16, 12, 7]], [1, [], []], [0, [13, 17, 6, 8, 2, 12, 16, 11], [20, 29, 47, 40, 36, 35, 19, 8, 69, 1, 24, 31, 33, 32, 22, 15]]], [], [[3, [], []], [2, [20, 14, 27, 23, 19, 7, 5], [54, 37, 51, 77, 59, 60, 68, 18, 49, 21, 14, 72, 78, 57]], [0, [25, 30, 24, 26], [58, 63, 10, 70, 56, 55, 67, 2]], [1, [], []]]]\n#################### Round :8 ############################\n"
     ]
    },
    {
     "name": "stdout",
     "output_type": "stream",
     "text": [
      "#################### Round :8 ############################\n"
     ]
    },
    {
     "name": "stdout",
     "output_type": "stream",
     "text": [
      "#################### Round :8 ############################\n"
     ]
    },
    {
     "name": "stdout",
     "output_type": "stream",
     "text": [
      "[[[2, [39, 34, 35, 28], [80, 61, 26, 73, 71, 44, 42, 41]], [1, [], []], [3, [33, 22, 32, 36], [65, 66, 74, 53, 79, 46, 43, 45]], [0, [37, 38, 29, 21], [62, 76, 75, 52, 38, 34, 30, 27]]], [], [[3, [15, 18, 0, 10, 3, 1, 31], [3, 28, 39, 48, 13, 11, 64, 5, 6, 9, 4, 16, 12, 7]], [2, [17, 8, 11, 2, 12, 16, 13, 6], [20, 29, 47, 40, 36, 35, 19, 8, 69, 1, 24, 31, 33, 32, 22, 15]], [0, [], []], [1, [9, 4], [25, 23, 17, 50]]], [], [[2, [], []], [0, [20, 14, 5, 27, 23, 7, 19], [54, 37, 51, 77, 59, 60, 68, 18, 49, 21, 14, 72, 78, 57]], [1, [24, 26, 30, 25], [58, 63, 10, 70, 56, 55, 67, 2]]]]\n#################### Round :9 ############################\n"
     ]
    },
    {
     "name": "stdout",
     "output_type": "stream",
     "text": [
      "#################### Round :9 ############################\n"
     ]
    },
    {
     "name": "stdout",
     "output_type": "stream",
     "text": [
      "#################### Round :9 ############################\n"
     ]
    },
    {
     "name": "stdout",
     "output_type": "stream",
     "text": [
      "[[[3, [39, 34, 35, 28], [80, 61, 26, 73, 71, 44, 42, 41]], [2, [37, 29, 38, 21], [62, 75, 76, 52, 38, 34, 30, 27]], [1, [22, 32, 33, 36], [65, 66, 74, 53, 79, 46, 43, 45]]], [], [[4, [9, 4], [25, 23, 17, 50]], [0, [16, 13, 11, 12, 2, 17, 8, 6], [20, 29, 47, 40, 36, 35, 19, 8, 69, 1, 24, 31, 33, 32, 22, 15]], [3, [15, 18, 3, 10, 1, 31, 0], [3, 28, 39, 48, 13, 11, 64, 5, 6, 9, 4, 16, 12, 7]]], [], [[2, [20, 14, 27, 7, 23, 19, 5], [54, 37, 51, 77, 59, 60, 68, 18, 49, 21, 14, 72, 78, 57]], [0, [26, 24, 30, 25], [58, 63, 10, 70, 56, 55, 67, 2]]]]\n#################### Round :10 ############################\n"
     ]
    },
    {
     "name": "stdout",
     "output_type": "stream",
     "text": [
      "#################### Round :10 ############################\n"
     ]
    },
    {
     "name": "stdout",
     "output_type": "stream",
     "text": [
      "#################### Round :10 ############################\n"
     ]
    },
    {
     "name": "stdout",
     "output_type": "stream",
     "text": [
      "[[[2, [39, 28, 34, 35], [80, 61, 26, 73, 71, 44, 42, 41]], [3, [], []], [1, [37, 29, 38, 21], [62, 75, 76, 52, 38, 34, 30, 27]], [0, [32, 22, 36, 33], [65, 66, 74, 53, 79, 43, 46, 45]]], [], [[3, [9, 4], [25, 23, 17, 50]], [2, [], []], [1, [18, 0, 1, 10, 3, 15, 31], [3, 28, 39, 48, 13, 11, 64, 5, 6, 9, 4, 16, 12, 7]], [0, [17, 11, 2, 13, 16, 12, 8, 6], [20, 29, 47, 40, 36, 35, 19, 8, 69, 1, 24, 31, 33, 32, 22, 15]]], [], [[3, [30, 26, 25, 24], [58, 63, 10, 70, 56, 55, 67, 2]], [0, [20, 27, 14, 5, 23, 7, 19], [54, 37, 51, 77, 59, 60, 68, 18, 49, 21, 14, 72, 78, 57]], [2, [], []]]]\n"
     ]
    },
    {
     "name": "stdout",
     "output_type": "stream",
     "text": [
      "[{16: (27, 42), 19: (32, 46), 20: (33, 45), 23: (38, 40), 27: (49, 28), 32: (61, 31), 33: (62, 39), 39: (80, 20)}, {}, {0: (1, 59), 1: (2, 5), 2: (3, 63), 3: (4, 79), 4: (6, 41), 5: (7, 9), 6: (10, 69), 7: (11, 25), 8: (12, 74), 9: (14, 50), 10: (17, 60), 11: (18, 34), 12: (22, 21), 13: (23, 13), 15: (26, 36), 17: (29, 19), 18: (30, 64), 28: (53, 65), 31: (57, 8), 34: (66, 16), 35: (68, 44), 36: (70, 15)}, {}, {14: (24, 77), 21: (35, 72), 22: (37, 55), 24: (43, 75), 25: (47, 58), 26: (48, 73), 29: (54, 78), 30: (56, 67), 37: (71, 51), 38: (76, 52)}]\n----------------Instance name: pdp_instances/GOO/doing/goo12.csv-----------------------------------\n processing time --- 0.3519892692565918 seconds ---\n#################### Round :1 ############################\n"
     ]
    },
    {
     "name": "stdout",
     "output_type": "stream",
     "text": [
      "#################### Round :1 ############################\n"
     ]
    },
    {
     "name": "stdout",
     "output_type": "stream",
     "text": [
      "#################### Round :1 ############################\n"
     ]
    },
    {
     "name": "stdout",
     "output_type": "stream",
     "text": [
      "[[[3, [39, 32], [61, 80, 20, 31]], [2, [23, 20], [38, 33, 45, 40]], [1, [16], [27, 42]], [0, [33, 27, 19], [62, 49, 39, 32, 28, 46]]], [], [[5, [17, 11, 15, 18], [18, 26, 34, 29, 36, 30, 19, 64]], [0, [], []], [3, [], []], [4, [5, 7, 13, 1, 12], [23, 22, 13, 7, 2, 11, 9, 5, 21, 25]], [2, [9, 10, 8, 0, 36], [14, 17, 12, 1, 50, 70, 74, 60, 59, 15]], [1, [4, 6, 35, 2, 31, 3, 28, 34], [10, 3, 4, 69, 57, 68, 63, 6, 8, 44, 41, 79, 53, 66, 65, 16]]], [], [[3, [38, 14, 26], [24, 48, 77, 76, 73, 52]], [1, [30, 29, 21, 22], [54, 56, 78, 67, 37, 35, 72, 55]], [0, [25, 37, 24], [71, 47, 43, 51, 58, 75]]]]\n#################### Round :2 ############################\n"
     ]
    },
    {
     "name": "stdout",
     "output_type": "stream",
     "text": [
      "#################### Round :2 ############################\n"
     ]
    },
    {
     "name": "stdout",
     "output_type": "stream",
     "text": [
      "#################### Round :2 ############################\n"
     ]
    },
    {
     "name": "stdout",
     "output_type": "stream",
     "text": [
      "[[[3, [39, 32], [61, 80, 20, 31]], [2, [23, 20], [38, 33, 45, 40]], [0, [33, 27, 19], [62, 49, 39, 32, 28, 46]], [1, [16], [27, 42]]], [], [[5, [17, 11, 15, 18], [18, 26, 34, 29, 36, 30, 19, 64]], [4, [5, 7, 12, 13, 1], [23, 22, 13, 7, 2, 11, 9, 5, 21, 25]], [3, [35, 6, 2, 4, 31, 3, 28, 34], [10, 3, 4, 69, 57, 68, 63, 6, 8, 44, 41, 79, 53, 66, 65, 16]], [2, [9, 8, 36, 0, 10], [14, 17, 12, 1, 50, 70, 74, 60, 59, 15]]], [], [[3, [30, 29, 22, 21], [54, 56, 78, 67, 37, 35, 72, 55]], [2, [24, 37, 25], [71, 47, 43, 51, 58, 75]], [1, [38, 14, 26], [24, 48, 77, 76, 73, 52]]]]\n#################### Round :3 ############################\n"
     ]
    },
    {
     "name": "stdout",
     "output_type": "stream",
     "text": [
      "#################### Round :3 ############################\n"
     ]
    },
    {
     "name": "stdout",
     "output_type": "stream",
     "text": [
      "Evaluate-Waaiting time - ERRORR - Time Violated!!\nEvaluate-Waaiting time - ERRORR - Time Violated!!\nEvaluate-Waaiting time - ERRORR - Time Violated!!\nEvaluate-Waaiting time - ERRORR - Time Violated!!\nEvaluate-Waaiting time - ERRORR - Time Violated!!\nEvaluate-Waaiting time - ERRORR - Time Violated!!\nEvaluate-Waaiting time - ERRORR - Time Violated!!\nEvaluate-Waaiting time - ERRORR - Time Violated!!\nEvaluate-Waaiting time - ERRORR - Time Violated!!\nEvaluate-Waaiting time - ERRORR - Time Violated!!\nEvaluate-Waaiting time - ERRORR - Time Violated!!\nEvaluate-Waaiting time - ERRORR - Time Violated!!\nEvaluate-Waaiting time - ERRORR - Time Violated!!\nEvaluate-Waaiting time - ERRORR - Time Violated!!\nEvaluate-Waaiting time - ERRORR - Time Violated!!\nEvaluate-Waaiting time - ERRORR - Time Violated!!\n"
     ]
    },
    {
     "name": "stdout",
     "output_type": "stream",
     "text": [
      "#################### Round :3 ############################\n"
     ]
    },
    {
     "name": "stdout",
     "output_type": "stream",
     "text": [
      "[[[3, [23, 20], [38, 33, 45, 40]], [2, [39, 32], [61, 80, 20, 31]], [1, [33, 27, 19], [62, 49, 39, 32, 28, 46]], [0, [16], [27, 42]]], [], [[1, [9, 0, 10, 8, 36], [14, 17, 12, 1, 50, 70, 74, 60, 59, 15]], [2, [15, 11, 18, 17], [18, 26, 34, 29, 36, 30, 19, 64]], [3, [3, 35, 4, 6, 31, 28, 34], [10, 4, 69, 57, 68, 6, 8, 44, 41, 79, 53, 66, 65, 16]], [0, [], []], [5, [2, 1, 5, 7, 13, 12], [3, 23, 22, 13, 7, 63, 2, 11, 9, 5, 21, 25]]], [], [[3, [29, 30, 22, 21], [54, 56, 78, 67, 37, 35, 72, 55]], [1, [25, 37, 24], [71, 47, 43, 51, 58, 75]], [2, [], []], [0, [14, 26, 38], [24, 48, 77, 76, 73, 52]]]]\n#################### Round :4 ############################\n"
     ]
    },
    {
     "name": "stdout",
     "output_type": "stream",
     "text": [
      "#################### Round :4 ############################\n"
     ]
    },
    {
     "name": "stdout",
     "output_type": "stream",
     "text": [
      "#################### Round :4 ############################\n"
     ]
    },
    {
     "name": "stdout",
     "output_type": "stream",
     "text": [
      "[[[3, [39, 32], [61, 80, 20, 31]], [2, [33, 27, 19], [62, 49, 39, 32, 28, 46]], [0, [20, 23], [38, 33, 45, 40]], [1, [16], [27, 42]]], [], [[5, [3, 2, 4, 9, 5], [3, 14, 7, 4, 63, 6, 9, 50, 79, 41]], [4, [31, 6, 8, 10, 35, 36, 0], [10, 69, 68, 57, 44, 17, 12, 8, 1, 70, 74, 60, 59, 15]], [1, [11, 17, 15, 18], [18, 26, 34, 29, 36, 30, 19, 64]], [2, [13, 1, 7, 12], [23, 22, 13, 2, 11, 5, 21, 25]], [3, [28, 34], [53, 66, 65, 16]], [0, [], []]], [], [[0, [], []], [2, [38, 14, 24], [24, 43, 75, 77, 76, 52]], [1, [37, 30, 29, 21, 26], [54, 71, 56, 78, 67, 51, 48, 35, 73, 72]], [3, [25, 22], [47, 37, 58, 55]]]]\n#################### Round :5 ############################\n"
     ]
    },
    {
     "name": "stdout",
     "output_type": "stream",
     "text": [
      "#################### Round :5 ############################\n"
     ]
    },
    {
     "name": "stdout",
     "output_type": "stream",
     "text": [
      "#################### Round :5 ############################\n"
     ]
    },
    {
     "name": "stdout",
     "output_type": "stream",
     "text": [
      "[[[3, [33, 27, 19], [62, 49, 39, 32, 28, 46]], [0, [20, 23], [38, 33, 45, 40]], [2, [39, 32], [61, 80, 20, 31]], [1, [16], [27, 42]]], [], [[1, [8, 0, 9, 10, 36], [14, 17, 12, 1, 50, 70, 74, 60, 59, 15]], [4, [], []], [5, [], []], [6, [11, 18, 15, 17], [18, 26, 34, 29, 36, 30, 19, 64]], [2, [], []], [3, [5, 1, 7, 13, 12], [23, 22, 13, 7, 2, 11, 9, 5, 21, 25]], [0, [35, 4, 6, 3, 2, 31, 34, 28], [10, 3, 4, 69, 57, 68, 63, 6, 8, 44, 41, 79, 53, 66, 65, 16]]], [], [[3, [38, 26, 14], [24, 48, 77, 76, 73, 52]], [1, [25, 37, 24], [71, 47, 43, 51, 58, 75]], [2, [29, 30, 22, 21], [54, 56, 78, 67, 37, 35, 72, 55]]]]\n#################### Round :6 ############################\n"
     ]
    },
    {
     "name": "stdout",
     "output_type": "stream",
     "text": [
      "#################### Round :6 ############################\n"
     ]
    },
    {
     "name": "stdout",
     "output_type": "stream",
     "text": [
      "#################### Round :6 ############################\n"
     ]
    },
    {
     "name": "stdout",
     "output_type": "stream",
     "text": [
      "[[[3, [39, 32], [61, 80, 20, 31]], [2, [23, 20], [38, 33, 45, 40]], [1, [16], [27, 42]], [0, [27, 33, 19], [62, 49, 39, 32, 28, 46]]], [], [[5, [9, 10, 0, 8, 36], [14, 17, 12, 1, 50, 70, 74, 60, 59, 15]], [0, [11, 15, 18, 17], [18, 26, 34, 29, 36, 30, 19, 64]], [1, [12, 13, 7, 1, 5], [23, 22, 13, 7, 2, 11, 9, 5, 21, 25]], [4, [6, 4, 2, 35, 31, 3, 28, 34], [10, 3, 4, 69, 57, 68, 63, 6, 8, 44, 41, 79, 53, 66, 65, 16]], [3, [], []]], [], [[3, [25, 37, 24], [71, 47, 43, 51, 58, 75]], [0, [21, 29, 30, 22], [54, 56, 78, 67, 37, 35, 72, 55]], [2, [14, 26, 38], [24, 48, 77, 76, 73, 52]]]]\n#################### Round :7 ############################\n"
     ]
    },
    {
     "name": "stdout",
     "output_type": "stream",
     "text": [
      "#################### Round :7 ############################\n"
     ]
    },
    {
     "name": "stdout",
     "output_type": "stream",
     "text": [
      "#################### Round :7 ############################\n"
     ]
    },
    {
     "name": "stdout",
     "output_type": "stream",
     "text": [
      "[[[3, [39, 32], [61, 80, 20, 31]], [2, [20, 23], [38, 33, 45, 40]], [0, [19, 33, 27], [62, 49, 39, 32, 28, 46]], [1, [16], [27, 42]]], [], [[5, [], []], [3, [11, 18, 15, 17], [18, 26, 34, 29, 36, 30, 19, 64]], [2, [2, 6, 4, 31, 35], [10, 3, 69, 57, 68, 63, 6, 8, 44, 41]], [4, [5, 7, 13, 12, 1], [23, 22, 13, 7, 2, 11, 9, 5, 21, 25]], [1, [8, 10, 0, 36], [1, 17, 12, 70, 74, 60, 59, 15]], [0, [28, 9, 3, 34], [14, 4, 50, 79, 53, 66, 65, 16]]], [], [[3, [37, 25, 24], [71, 47, 43, 51, 58, 75]], [2, [26, 38, 14], [24, 48, 77, 76, 73, 52]], [1, [30, 22, 29, 21], [54, 56, 78, 67, 37, 35, 72, 55]]]]\n#################### Round :8 ############################\n"
     ]
    },
    {
     "name": "stdout",
     "output_type": "stream",
     "text": [
      "#################### Round :8 ############################\n"
     ]
    },
    {
     "name": "stdout",
     "output_type": "stream",
     "text": [
      "#################### Round :8 ############################\n"
     ]
    },
    {
     "name": "stdout",
     "output_type": "stream",
     "text": [
      "[[[3, [39, 32], [61, 80, 20, 31]], [2, [16], [27, 42]], [1, [23, 20], [38, 33, 45, 40]], [0, [33, 27, 19], [62, 49, 39, 32, 28, 46]]], [], [[5, [13, 9, 12, 1, 7, 5], [23, 22, 14, 13, 7, 2, 9, 50, 5, 11, 21, 25]], [2, [11, 15, 17, 18], [18, 26, 34, 29, 36, 30, 19, 64]], [0, [35, 6, 3, 4, 2, 31, 28, 34], [10, 3, 4, 69, 57, 68, 63, 6, 8, 44, 41, 79, 53, 66, 65, 16]], [1, [8, 10, 0, 36], [1, 17, 12, 70, 74, 60, 59, 15]]], [], [[3, [26, 38, 14], [24, 48, 77, 76, 73, 52]], [2, [37, 24, 25], [71, 47, 43, 51, 58, 75]], [0, [30, 29, 22, 21], [54, 56, 78, 67, 37, 35, 72, 55]]]]\n#################### Round :9 ############################\n"
     ]
    },
    {
     "name": "stdout",
     "output_type": "stream",
     "text": [
      "#################### Round :9 ############################\n"
     ]
    },
    {
     "name": "stdout",
     "output_type": "stream",
     "text": [
      "#################### Round :9 ############################\n"
     ]
    },
    {
     "name": "stdout",
     "output_type": "stream",
     "text": [
      "[[[3, [39, 32], [61, 80, 20, 31]], [2, [33, 27, 19], [62, 49, 39, 32, 28, 46]], [1, [20, 23], [38, 33, 45, 40]], [0, [16], [27, 42]]], [], [[5, [13, 7, 12, 1, 5], [23, 22, 13, 7, 2, 11, 9, 5, 21, 25]], [4, [], []], [3, [], []], [2, [6, 35, 4, 2, 31, 3, 34, 28], [10, 3, 4, 69, 57, 68, 63, 6, 8, 44, 41, 79, 53, 66, 65, 16]], [0, [17, 11, 15, 18], [18, 26, 34, 29, 36, 30, 19, 64]], [1, [9, 10, 8, 36, 0], [14, 17, 12, 1, 50, 70, 74, 60, 59, 15]]], [], [[3, [37, 24, 25], [71, 47, 43, 51, 58, 75]], [0, [26, 38, 14], [24, 48, 77, 76, 73, 52]], [2, [30, 29, 22, 21], [54, 56, 78, 67, 37, 35, 72, 55]], [1, [], []]]]\n#################### Round :10 ############################\n"
     ]
    },
    {
     "name": "stdout",
     "output_type": "stream",
     "text": [
      "#################### Round :10 ############################\n"
     ]
    },
    {
     "name": "stdout",
     "output_type": "stream",
     "text": [
      "#################### Round :10 ############################\n"
     ]
    },
    {
     "name": "stdout",
     "output_type": "stream",
     "text": [
      "[[[3, [33, 27, 19], [62, 49, 39, 32, 28, 46]], [2, [39, 32], [61, 80, 20, 31]], [1, [16], [27, 42]], [0, [23, 20], [38, 33, 45, 40]]], [], [[1, [31, 6, 35, 8, 0, 10, 36], [10, 69, 68, 57, 44, 17, 12, 8, 1, 70, 74, 60, 59, 15]], [5, [12, 13, 7, 1, 2], [3, 23, 22, 13, 63, 2, 11, 5, 21, 25]], [2, [11, 18, 15, 17], [18, 26, 34, 29, 36, 30, 19, 64]], [4, [34, 28], [53, 66, 65, 16]], [0, [3, 9, 4, 5], [14, 7, 4, 6, 9, 50, 79, 41]], [3, [], []]], [], [[3, [37, 25, 24], [71, 47, 43, 51, 58, 75]], [1, [30, 29, 22, 21], [54, 56, 78, 67, 37, 35, 72, 55]], [0, [14, 38, 26], [24, 48, 77, 76, 73, 52]]]]\n"
     ]
    },
    {
     "name": "stdout",
     "output_type": "stream",
     "text": [
      "[{9: (19, 50), 18: (35, 13), 21: (39, 33), 22: (42, 66), 23: (43, 16), 24: (44, 15), 25: (49, 21), 39: (79, 64)}, {}, {0: (2, 40), 3: (6, 32), 4: (7, 25), 5: (8, 41), 6: (9, 3), 7: (11, 38), 8: (17, 62), 10: (20, 48), 14: (27, 10), 20: (37, 61), 26: (51, 14), 27: (52, 18), 28: (53, 22), 29: (54, 1), 34: (63, 31), 35: (67, 12), 36: (68, 80)}, {}, {1: (4, 69), 2: (5, 76), 11: (23, 74), 12: (24, 73), 13: (26, 65), 15: (28, 58), 16: (29, 71), 17: (30, 72), 19: (36, 59), 30: (55, 77), 31: (56, 34), 32: (57, 47), 33: (60, 46), 37: (75, 45), 38: (78, 70)}]\n----------------Instance name: pdp_instances/GOO/doing/goo6.csv-----------------------------------\n processing time --- 0.33702588081359863 seconds ---\n#################### Round :1 ############################\n"
     ]
    },
    {
     "name": "stdout",
     "output_type": "stream",
     "text": [
      "#################### Round :1 ############################\n"
     ]
    },
    {
     "name": "stdout",
     "output_type": "stream",
     "text": [
      "#################### Round :1 ############################\n"
     ]
    },
    {
     "name": "stdout",
     "output_type": "stream",
     "text": [
      "[[[2, [39, 22, 21, 9, 25], [42, 49, 79, 66, 19, 21, 64, 50, 39, 33]], [1, [23, 24, 18], [44, 35, 43, 15, 13, 16]], [0, [], []]], [], [[4, [34, 4], [7, 63, 25, 31]], [3, [35, 27, 29], [52, 54, 67, 18, 12, 1]], [2, [6], [9, 3]], [1, [36, 28, 26], [68, 51, 53, 80, 22, 14]], [0, [5, 20, 7, 3, 0, 14, 8, 10], [11, 8, 6, 17, 27, 41, 38, 32, 20, 10, 2, 62, 48, 37, 40, 61]]], [], [[2, [16, 15, 30, 31, 17, 33], [56, 60, 29, 28, 34, 30, 46, 71, 58, 55, 77, 72]], [1, [38, 37, 32], [78, 57, 70, 75, 47, 45]], [0, [13, 12, 19], [26, 24, 36, 65, 73, 59]], [3, [], []], [4, [11, 1, 2], [5, 4, 23, 76, 74, 69]]]]\n#################### Round :2 ############################\n"
     ]
    },
    {
     "name": "stdout",
     "output_type": "stream",
     "text": [
      "#################### Round :2 ############################\n"
     ]
    },
    {
     "name": "stdout",
     "output_type": "stream",
     "text": [
      "#################### Round :2 ############################\n"
     ]
    },
    {
     "name": "stdout",
     "output_type": "stream",
     "text": [
      "[[[2, [39, 22, 21, 9, 25], [42, 49, 79, 66, 19, 21, 64, 50, 39, 33]], [0, [18, 23, 24], [44, 35, 43, 15, 13, 16]], [1, [], []]], [], [[5, [], []], [1, [], []], [3, [28, 27, 26], [53, 51, 52, 22, 18, 14]], [4, [36, 7, 5, 4, 29, 35], [11, 8, 7, 68, 25, 41, 38, 80, 54, 67, 1, 12]], [2, [6], [9, 3]], [0, [14, 34, 0, 8, 3, 20, 10], [63, 6, 17, 27, 31, 32, 20, 10, 2, 62, 48, 37, 40, 61]]], [], [[2, [11, 1, 2], [5, 23, 4, 76, 74, 69]], [3, [30], [55, 77]], [0, [17, 31, 37, 16, 15, 32, 33], [56, 60, 29, 28, 34, 30, 46, 71, 58, 57, 72, 75, 47, 45]], [4, [38, 19, 12, 13], [78, 70, 26, 24, 36, 65, 73, 59]]]]\n#################### Round :3 ############################\n"
     ]
    },
    {
     "name": "stdout",
     "output_type": "stream",
     "text": [
      "#################### Round :3 ############################\n"
     ]
    },
    {
     "name": "stdout",
     "output_type": "stream",
     "text": [
      "#################### Round :3 ############################\n"
     ]
    },
    {
     "name": "stdout",
     "output_type": "stream",
     "text": [
      "[[[2, [25, 9, 22, 39, 21], [42, 49, 79, 66, 19, 21, 64, 50, 39, 33]], [0, [18, 24, 23], [44, 35, 43, 15, 13, 16]]], [], [[5, [34, 4], [7, 63, 25, 31]], [4, [6], [9, 3]], [3, [27, 35, 29], [52, 54, 67, 18, 12, 1]], [2, [36, 28, 26], [68, 51, 53, 80, 22, 14]], [1, [5, 3, 7, 10, 14, 8, 20, 0], [8, 11, 6, 17, 27, 41, 38, 32, 20, 10, 2, 62, 48, 37, 40, 61]]], [], [[4, [31, 17, 16, 33, 15, 30], [56, 60, 29, 28, 34, 30, 46, 71, 58, 55, 77, 72]], [3, [19, 12, 13], [26, 24, 36, 65, 73, 59]], [2, [38, 37, 32], [78, 57, 70, 75, 47, 45]], [1, [11, 1, 2], [5, 23, 4, 76, 74, 69]]]]\n#################### Round :4 ############################\n"
     ]
    },
    {
     "name": "stdout",
     "output_type": "stream",
     "text": [
      "#################### Round :4 ############################\n"
     ]
    },
    {
     "name": "stdout",
     "output_type": "stream",
     "text": [
      "#################### Round :4 ############################\n"
     ]
    },
    {
     "name": "stdout",
     "output_type": "stream",
     "text": [
      "[[[2, [39, 22, 21, 9, 25], [42, 49, 79, 66, 19, 21, 64, 50, 39, 33]], [1, [24, 23, 18], [44, 35, 43, 15, 13, 16]]], [], [[4, [35, 27, 29], [52, 54, 67, 18, 12, 1]], [5, [36, 26, 28], [68, 51, 53, 80, 22, 14]], [3, [6], [9, 3]], [1, [10, 3, 14, 8, 34, 0], [63, 6, 17, 27, 31, 32, 20, 10, 2, 62, 48, 40]], [0, [20, 5, 7, 4], [11, 8, 7, 25, 41, 38, 37, 61]], [2, [], []]], [], [[4, [2, 1, 11], [5, 23, 4, 76, 74, 69]], [1, [38, 37, 32], [78, 57, 70, 75, 47, 45]], [0, [31, 12, 33, 19], [56, 60, 46, 34, 24, 36, 73, 59]], [3, [15, 17, 13, 30, 16], [28, 29, 30, 26, 71, 58, 55, 65, 72, 77]]]]\n#################### Round :5 ############################\n"
     ]
    },
    {
     "name": "stdout",
     "output_type": "stream",
     "text": [
      "#################### Round :5 ############################\n"
     ]
    },
    {
     "name": "stdout",
     "output_type": "stream",
     "text": [
      "#################### Round :5 ############################\n"
     ]
    },
    {
     "name": "stdout",
     "output_type": "stream",
     "text": [
      "[[[2, [39, 22, 9, 25, 21], [42, 49, 79, 66, 19, 21, 64, 50, 39, 33]], [1, [24, 18, 23], [44, 35, 43, 15, 13, 16]], [0, [], []]], [], [[5, [36, 29, 35], [68, 80, 54, 67, 1, 12]], [2, [], []], [0, [14, 5, 8, 20, 0, 3, 7, 10], [8, 11, 6, 17, 27, 41, 38, 32, 20, 10, 2, 62, 48, 37, 40, 61]], [3, [6], [9, 3]], [1, [28, 26, 27], [53, 51, 52, 22, 18, 14]], [4, [4, 34], [7, 63, 25, 31]]], [], [[3, [30, 16, 17, 13, 15], [28, 29, 30, 26, 71, 58, 55, 65, 72, 77]], [2, [33, 19, 31, 12], [56, 60, 46, 34, 24, 36, 73, 59]], [0, [37, 38, 32], [78, 57, 70, 75, 47, 45]], [1, [2, 1, 11], [5, 23, 4, 76, 74, 69]]]]\n#################### Round :6 ############################\n"
     ]
    },
    {
     "name": "stdout",
     "output_type": "stream",
     "text": [
      "#################### Round :6 ############################\n"
     ]
    },
    {
     "name": "stdout",
     "output_type": "stream",
     "text": [
      "#################### Round :6 ############################\n"
     ]
    },
    {
     "name": "stdout",
     "output_type": "stream",
     "text": [
      "[[[2, [39, 22, 9, 25, 21], [42, 49, 79, 66, 19, 21, 64, 50, 39, 33]], [0, [18, 24, 23], [44, 35, 43, 15, 13, 16]]], [], [[1, [35, 36, 29], [68, 80, 54, 67, 1, 12]], [3, [28, 26, 27], [53, 51, 52, 22, 18, 14]], [4, [34, 4], [7, 63, 25, 31]], [2, [5, 3, 8, 7, 0, 14, 20, 10], [8, 11, 6, 17, 27, 41, 38, 32, 20, 10, 2, 62, 48, 37, 40, 61]], [0, [6], [9, 3]]], [], [[4, [38, 37, 32], [78, 57, 70, 75, 47, 45]], [3, [11, 2, 1], [5, 4, 23, 76, 74, 69]], [2, [31, 12, 33, 19], [56, 60, 46, 34, 24, 36, 73, 59]], [0, [15, 13, 30, 17, 16], [28, 29, 30, 26, 71, 58, 55, 65, 72, 77]]]]\n#################### Round :7 ############################\n"
     ]
    },
    {
     "name": "stdout",
     "output_type": "stream",
     "text": [
      "#################### Round :7 ############################\n"
     ]
    },
    {
     "name": "stdout",
     "output_type": "stream",
     "text": [
      "#################### Round :7 ############################\n"
     ]
    },
    {
     "name": "stdout",
     "output_type": "stream",
     "text": [
      "[[[2, [18, 24, 23], [44, 35, 43, 15, 13, 16]], [0, [], []], [1, [22, 9, 21, 39, 25], [42, 49, 79, 66, 19, 21, 64, 50, 39, 33]]], [], [[5, [35, 27, 29], [52, 54, 67, 18, 12, 1]], [4, [4, 34], [7, 63, 25, 31]], [0, [6], [9, 3]], [1, [7, 5, 20, 3, 8, 10, 0, 14], [11, 8, 6, 17, 27, 41, 38, 32, 20, 10, 2, 62, 48, 37, 40, 61]], [3, [], []], [2, [36, 26, 28], [68, 51, 53, 80, 22, 14]]], [], [[2, [], []], [3, [38, 37, 32], [78, 57, 70, 75, 47, 45]], [1, [1, 2, 11], [5, 23, 4, 76, 74, 69]], [0, [33, 31, 17, 12, 30], [56, 60, 46, 34, 30, 24, 55, 77, 72, 73]], [4, [15, 19, 16, 13], [29, 28, 26, 71, 58, 65, 36, 59]]]]\n#################### Round :8 ############################\n"
     ]
    },
    {
     "name": "stdout",
     "output_type": "stream",
     "text": [
      "#################### Round :8 ############################\n"
     ]
    },
    {
     "name": "stdout",
     "output_type": "stream",
     "text": [
      "#################### Round :8 ############################\n"
     ]
    },
    {
     "name": "stdout",
     "output_type": "stream",
     "text": [
      "[[[2, [39, 22, 21, 9, 25], [42, 49, 79, 66, 19, 21, 64, 50, 39, 33]], [0, [24, 23, 18], [44, 35, 43, 15, 13, 16]], [1, [], []]], [], [[2, [27, 29, 35], [52, 54, 67, 18, 12, 1]], [0, [26, 28, 36], [68, 51, 53, 80, 22, 14]], [4, [6], [9, 3]], [3, [3, 7, 5, 14, 0, 8, 10, 20], [8, 11, 6, 17, 27, 41, 38, 32, 20, 10, 2, 62, 48, 37, 40, 61]], [1, [4, 34], [7, 63, 25, 31]]], [], [[3, [11, 1, 2], [5, 23, 4, 76, 74, 69]], [4, [37, 32], [57, 75, 47, 45]], [1, [15, 16, 19, 33], [60, 29, 28, 71, 58, 46, 36, 59]], [0, [13, 38, 17, 31, 12], [56, 78, 70, 34, 30, 26, 24, 65, 72, 73]], [2, [30], [55, 77]]]]\n#################### Round :9 ############################\n"
     ]
    },
    {
     "name": "stdout",
     "output_type": "stream",
     "text": [
      "#################### Round :9 ############################\n"
     ]
    },
    {
     "name": "stdout",
     "output_type": "stream",
     "text": [
      "#################### Round :9 ############################\n"
     ]
    },
    {
     "name": "stdout",
     "output_type": "stream",
     "text": [
      "[[[2, [39, 22, 9, 21, 25], [42, 49, 79, 66, 19, 21, 64, 50, 39, 33]], [1, [24, 23, 18], [44, 35, 43, 15, 13, 16]]], [], [[5, [35, 27, 29], [52, 54, 67, 18, 12, 1]], [4, [], []], [1, [4, 34], [7, 63, 25, 31]], [2, [7, 3, 20, 5, 8, 0, 10, 14], [8, 11, 6, 17, 27, 41, 38, 32, 20, 10, 2, 62, 48, 37, 40, 61]], [3, [36, 28, 26], [68, 51, 53, 80, 22, 14]], [0, [6], [9, 3]]], [], [[3, [30], [55, 77]], [1, [33, 19], [60, 46, 36, 59]], [4, [38, 31, 17, 12, 13], [56, 78, 70, 34, 30, 26, 24, 65, 72, 73]], [0, [2, 1, 16], [29, 5, 4, 76, 71, 69]], [2, [11, 15, 37, 32], [28, 23, 58, 57, 74, 75, 47, 45]]]]\n#################### Round :10 ############################\n"
     ]
    },
    {
     "name": "stdout",
     "output_type": "stream",
     "text": [
      "#################### Round :10 ############################\n"
     ]
    },
    {
     "name": "stdout",
     "output_type": "stream",
     "text": [
      "#################### Round :10 ############################\n"
     ]
    },
    {
     "name": "stdout",
     "output_type": "stream",
     "text": [
      "[[[2, [39, 22, 9, 25, 21], [42, 49, 79, 66, 19, 21, 64, 50, 39, 33]], [1, [24, 23, 18], [44, 35, 43, 15, 13, 16]]], [], [[5, [36, 28, 26], [68, 51, 53, 80, 22, 14]], [2, [6], [9, 3]], [3, [27, 29, 35], [52, 54, 67, 18, 12, 1]], [0, [34, 7, 3], [63, 11, 6, 38, 32, 31]], [1, [10, 14, 4, 8, 20, 5, 0], [8, 7, 17, 25, 41, 27, 20, 10, 2, 62, 48, 37, 40, 61]], [4, [], []]], [], [[4, [], []], [1, [2, 1, 11], [5, 23, 4, 76, 74, 69]], [2, [33, 31, 19, 12], [56, 60, 46, 34, 24, 36, 73, 59]], [3, [38, 32, 37], [78, 57, 70, 75, 47, 45]], [0, [17, 16, 15, 13, 30], [28, 29, 30, 26, 71, 58, 55, 65, 72, 77]]]]\n"
     ]
    },
    {
     "name": "stdout",
     "output_type": "stream",
     "text": [
      "[{0: (2, 41), 11: (23, 39), 12: (25, 35), 15: (29, 45), 16: (30, 46), 18: (38, 36), 19: (40, 32), 21: (43, 49), 24: (48, 61), 27: (56, 31)}, {8: (18, 80), 22: (44, 20)}, {1: (5, 15), 2: (6, 70), 3: (7, 16), 4: (8, 3), 5: (12, 74), 6: (13, 50), 7: (17, 51), 9: (19, 68), 10: (22, 14), 13: (26, 9), 14: (28, 52), 17: (37, 10), 20: (42, 4), 23: (47, 78), 30: (59, 33), 32: (64, 24), 33: (66, 1), 34: (67, 21), 35: (71, 34), 36: (75, 27), 38: (77, 11), 39: (79, 63)}, {}, {25: (53, 73), 26: (54, 62), 28: (57, 69), 29: (58, 72), 31: (60, 65), 37: (76, 55)}]\n----------------Instance name: pdp_instances/GOO/doing/goo7.csv-----------------------------------\n processing time --- 0.37702226638793945 seconds ---\n#################### Round :1 ############################\n"
     ]
    },
    {
     "name": "stdout",
     "output_type": "stream",
     "text": [
      "#################### Round :1 ############################\n"
     ]
    },
    {
     "name": "stdout",
     "output_type": "stream",
     "text": [
      "#################### Round :1 ############################\n"
     ]
    },
    {
     "name": "stdout",
     "output_type": "stream",
     "text": [
      "#################### Round :1 ############################\n"
     ]
    },
    {
     "name": "stdout",
     "output_type": "stream",
     "text": [
      "[[[2, [24, 27, 19, 0, 12, 11], [48, 56, 61, 2, 25, 23, 41, 40, 35, 32, 31, 39]], [0, [18, 15, 21, 16], [38, 29, 30, 45, 46, 36, 43, 49]], [1, [], []]], [[0, [22, 8], [44, 18, 20, 80]]], [[2, [], []], [1, [35, 33, 38, 36, 17, 3, 1, 5, 2], [66, 71, 77, 75, 1, 37, 34, 27, 11, 6, 5, 10, 12, 7, 70, 74, 16, 15]], [3, [6, 4, 10], [22, 13, 8, 3, 14, 50]], [0, [23, 14, 9, 20, 13, 34, 32, 30, 39, 7], [19, 17, 28, 42, 47, 52, 59, 68, 4, 79, 51, 78, 67, 63, 64, 33, 26, 24, 21, 9]]], [], [[2, [37, 28, 25, 26], [53, 57, 76, 69, 73, 54, 62, 55]], [1, [29, 31], [60, 58, 65, 72]], [0, [], []]]]\n#################### Round :2 ############################\n"
     ]
    },
    {
     "name": "stdout",
     "output_type": "stream",
     "text": [
      "#################### Round :2 ############################\n"
     ]
    },
    {
     "name": "stdout",
     "output_type": "stream",
     "text": [
      "#################### Round :2 ############################\n"
     ]
    },
    {
     "name": "stdout",
     "output_type": "stream",
     "text": [
      "#################### Round :2 ############################\n"
     ]
    },
    {
     "name": "stdout",
     "output_type": "stream",
     "text": [
      "[[[2, [24, 27, 0, 19, 12, 11], [48, 56, 61, 2, 25, 23, 41, 40, 35, 32, 31, 39]], [1, [15, 16, 18, 21], [38, 29, 30, 45, 46, 36, 43, 49]], [0, [], []]], [[0, [22, 8], [44, 18, 20, 80]]], [[3, [6, 10], [22, 13, 14, 50]], [0, [4, 33], [66, 1, 8, 3]], [1, [], []], [2, [1, 17, 3, 38, 35, 36, 5, 2], [71, 77, 75, 37, 34, 27, 11, 6, 5, 10, 12, 7, 70, 74, 16, 15]], [4, [23, 34, 30, 39, 20, 9, 14, 7, 32, 13], [19, 17, 28, 42, 47, 52, 68, 4, 79, 51, 59, 78, 67, 63, 64, 33, 26, 24, 21, 9]]], [], [[2, [37, 28, 25, 26], [53, 57, 76, 69, 73, 54, 62, 55]], [1, [31, 29], [60, 58, 65, 72]], [0, [], []]]]\n#################### Round :3 ############################\n"
     ]
    },
    {
     "name": "stdout",
     "output_type": "stream",
     "text": [
      "#################### Round :3 ############################\n"
     ]
    },
    {
     "name": "stdout",
     "output_type": "stream",
     "text": [
      "#################### Round :3 ############################\n"
     ]
    },
    {
     "name": "stdout",
     "output_type": "stream",
     "text": [
      "#################### Round :3 ############################\n"
     ]
    },
    {
     "name": "stdout",
     "output_type": "stream",
     "text": [
      "[[[2, [24, 27, 0, 19, 11, 12], [48, 56, 61, 2, 25, 23, 41, 40, 35, 32, 31, 39]], [1, [21, 18, 15, 16], [38, 29, 30, 45, 46, 36, 43, 49]]], [[0, [22, 8], [44, 18, 20, 80]]], [[4, [35, 36, 30, 17], [71, 75, 59, 37, 34, 33, 27, 10]], [0, [38, 5, 2, 1, 9, 33], [19, 66, 77, 68, 1, 5, 6, 11, 12, 15, 74, 70]], [3, [4, 6], [13, 8, 50, 3]], [2, [20, 39, 14, 7, 32, 10, 23, 13, 34, 3], [17, 28, 42, 47, 51, 52, 79, 22, 4, 78, 67, 63, 64, 14, 7, 26, 24, 21, 16, 9]]], [], [[2, [37, 28, 25, 26], [53, 57, 76, 69, 73, 54, 62, 55]], [0, [], []], [1, [29, 31], [60, 58, 65, 72]]]]\n#################### Round :4 ############################\n"
     ]
    },
    {
     "name": "stdout",
     "output_type": "stream",
     "text": [
      "#################### Round :4 ############################\n"
     ]
    },
    {
     "name": "stdout",
     "output_type": "stream",
     "text": [
      "#################### Round :4 ############################\n"
     ]
    },
    {
     "name": "stdout",
     "output_type": "stream",
     "text": [
      "#################### Round :4 ############################\n"
     ]
    },
    {
     "name": "stdout",
     "output_type": "stream",
     "text": [
      "[[[2, [24, 27, 0, 12, 19, 11], [48, 56, 61, 2, 25, 23, 41, 40, 35, 32, 31, 39]], [0, [15, 18, 21, 16], [38, 29, 30, 45, 46, 36, 43, 49]]], [[0, [22, 8], [44, 18, 20, 80]]], [[4, [34, 23, 10, 20, 7, 39, 6, 32], [17, 42, 47, 22, 13, 4, 79, 51, 78, 67, 50, 63, 64, 14, 21, 24]], [1, [], []], [2, [], []], [3, [38, 9, 33, 4], [19, 66, 77, 68, 1, 8, 3, 11]], [0, [14, 35, 30, 36, 1, 17, 5, 2, 3, 13], [28, 71, 75, 59, 52, 37, 34, 33, 27, 10, 5, 6, 7, 12, 70, 74, 26, 16, 15, 9]]], [], [[2, [37, 28, 25, 26], [53, 57, 76, 69, 73, 54, 62, 55]], [0, [31, 29], [60, 58, 65, 72]], [1, [], []]]]\n#################### Round :5 ############################\n"
     ]
    },
    {
     "name": "stdout",
     "output_type": "stream",
     "text": [
      "#################### Round :5 ############################\n"
     ]
    },
    {
     "name": "stdout",
     "output_type": "stream",
     "text": [
      "#################### Round :5 ############################\n"
     ]
    },
    {
     "name": "stdout",
     "output_type": "stream",
     "text": [
      "#################### Round :5 ############################\n"
     ]
    },
    {
     "name": "stdout",
     "output_type": "stream",
     "text": [
      "[[[2, [21, 18, 15, 16], [38, 29, 30, 45, 46, 36, 43, 49]], [0, [27, 11, 24, 0, 19, 12], [48, 56, 61, 2, 25, 23, 41, 40, 35, 32, 31, 39]], [1, [], []]], [[0, [22, 8], [44, 18, 20, 80]]], [[1, [14, 23, 7, 34, 32, 13, 30, 9, 20], [19, 17, 28, 42, 47, 52, 51, 59, 68, 4, 78, 67, 64, 33, 26, 24, 21, 9]], [3, [39, 5, 6, 2, 10], [22, 13, 79, 50, 6, 14, 12, 63, 74, 70]], [0, [36, 35, 17, 38, 1, 3], [71, 77, 75, 37, 34, 27, 11, 5, 10, 7, 16, 15]], [2, [4, 33], [66, 1, 8, 3]]], [], [[2, [37, 28, 25, 26], [53, 57, 76, 69, 73, 54, 62, 55]], [1, [], []], [0, [29, 31], [60, 58, 65, 72]]]]\n#################### Round :6 ############################\n"
     ]
    },
    {
     "name": "stdout",
     "output_type": "stream",
     "text": [
      "#################### Round :6 ############################\n"
     ]
    },
    {
     "name": "stdout",
     "output_type": "stream",
     "text": [
      "#################### Round :6 ############################\n"
     ]
    },
    {
     "name": "stdout",
     "output_type": "stream",
     "text": [
      "#################### Round :6 ############################\n"
     ]
    },
    {
     "name": "stdout",
     "output_type": "stream",
     "text": [
      "[[[1, [27, 0, 24, 12, 11, 19], [48, 56, 61, 2, 25, 23, 41, 40, 35, 32, 31, 39]], [0, [15, 16, 21, 18], [38, 29, 30, 45, 46, 36, 43, 49]]], [[0, [22, 8], [44, 18, 20, 80]]], [[3, [6], [13, 50]], [0, [4, 33, 38, 9], [19, 66, 77, 68, 1, 8, 3, 11]], [1, [14, 7, 39, 32, 34, 20, 10, 23], [17, 28, 42, 47, 51, 52, 79, 22, 4, 78, 67, 63, 64, 14, 21, 24]], [2, [36, 35, 30, 1, 17, 13, 5, 2, 3], [71, 75, 59, 37, 34, 33, 27, 10, 5, 6, 7, 12, 70, 74, 26, 16, 15, 9]]], [], [[2, [37, 25, 26, 28], [53, 57, 76, 69, 73, 54, 62, 55]], [1, [31, 29], [60, 58, 65, 72]], [0, [], []]]]\n#################### Round :7 ############################\n"
     ]
    },
    {
     "name": "stdout",
     "output_type": "stream",
     "text": [
      "#################### Round :7 ############################\n"
     ]
    },
    {
     "name": "stdout",
     "output_type": "stream",
     "text": [
      "#################### Round :7 ############################\n"
     ]
    },
    {
     "name": "stdout",
     "output_type": "stream",
     "text": [
      "#################### Round :7 ############################\n"
     ]
    },
    {
     "name": "stdout",
     "output_type": "stream",
     "text": [
      "[[[2, [18, 21, 15, 16], [38, 29, 30, 45, 46, 36, 43, 49]], [0, [24, 0, 11, 27, 19, 12], [48, 56, 61, 2, 25, 23, 41, 40, 35, 32, 31, 39]]], [[0, [22, 8], [44, 18, 20, 80]]], [[4, [33, 4], [66, 1, 8, 3]], [0, [23, 7, 34, 17, 20, 39, 10, 5, 13, 32, 2], [17, 42, 47, 37, 22, 4, 79, 51, 78, 67, 63, 6, 10, 14, 12, 64, 70, 74, 26, 24, 21, 9]], [2, [35, 30, 38, 36], [71, 77, 75, 59, 34, 33, 27, 11]], [3, [9, 1, 3, 6, 14], [19, 28, 13, 52, 68, 50, 5, 7, 16, 15]]], [], [[2, [37, 26, 25, 28], [53, 57, 76, 69, 73, 54, 62, 55]], [1, [29, 31], [60, 58, 65, 72]], [0, [], []]]]\n#################### Round :8 ############################\n"
     ]
    },
    {
     "name": "stdout",
     "output_type": "stream",
     "text": [
      "#################### Round :8 ############################\n"
     ]
    },
    {
     "name": "stdout",
     "output_type": "stream",
     "text": [
      "#################### Round :8 ############################\n"
     ]
    },
    {
     "name": "stdout",
     "output_type": "stream",
     "text": [
      "#################### Round :8 ############################\n"
     ]
    },
    {
     "name": "stdout",
     "output_type": "stream",
     "text": [
      "[[[2, [24, 27, 19, 12, 0, 11], [48, 56, 61, 2, 25, 23, 41, 40, 35, 32, 31, 39]], [1, [21, 18, 15, 16], [38, 29, 30, 45, 46, 36, 43, 49]]], [[0, [22, 8], [44, 18, 20, 80]]], [[4, [10, 6, 4], [22, 13, 8, 3, 14, 50]], [3, [35, 1, 38, 36, 3, 33, 17, 5, 2], [66, 71, 77, 75, 1, 37, 34, 27, 11, 10, 5, 6, 7, 12, 70, 74, 16, 15]], [2, [], []], [0, [34, 14, 13, 7, 32, 23, 9, 30, 20, 39], [19, 17, 28, 42, 47, 52, 59, 68, 4, 79, 51, 78, 67, 63, 64, 33, 26, 24, 21, 9]]], [], [[2, [37, 28, 25, 26], [53, 57, 76, 69, 73, 54, 62, 55]], [1, [29, 31], [60, 58, 65, 72]]]]\n#################### Round :9 ############################\n"
     ]
    },
    {
     "name": "stdout",
     "output_type": "stream",
     "text": [
      "#################### Round :9 ############################\n"
     ]
    },
    {
     "name": "stdout",
     "output_type": "stream",
     "text": [
      "#################### Round :9 ############################\n"
     ]
    },
    {
     "name": "stdout",
     "output_type": "stream",
     "text": [
      "#################### Round :9 ############################\n"
     ]
    },
    {
     "name": "stdout",
     "output_type": "stream",
     "text": [
      "[[[2, [21, 18, 15, 16], [38, 29, 30, 45, 46, 36, 43, 49]], [1, [24, 0, 27, 12, 19, 11], [48, 56, 61, 2, 25, 23, 41, 40, 35, 32, 31, 39]]], [[0, [22, 8], [44, 18, 20, 80]]], [[4, [6, 10, 4], [22, 13, 8, 3, 14, 50]], [1, [7, 30, 14, 32, 34, 13, 9, 23, 20, 39], [19, 17, 28, 42, 47, 51, 52, 59, 68, 4, 79, 78, 67, 63, 64, 33, 26, 24, 21, 9]], [3, [], []], [2, [35, 33, 36, 1, 38, 17, 3, 5, 2], [66, 71, 77, 75, 1, 37, 34, 27, 11, 10, 5, 6, 7, 12, 70, 74, 16, 15]]], [], [[2, [37, 28, 25, 26], [53, 57, 76, 69, 73, 54, 62, 55]], [0, [29, 31], [60, 58, 65, 72]], [1, [], []]]]\n#################### Round :10 ############################\n"
     ]
    },
    {
     "name": "stdout",
     "output_type": "stream",
     "text": [
      "#################### Round :10 ############################\n"
     ]
    },
    {
     "name": "stdout",
     "output_type": "stream",
     "text": [
      "#################### Round :10 ############################\n"
     ]
    },
    {
     "name": "stdout",
     "output_type": "stream",
     "text": [
      "#################### Round :10 ############################\n"
     ]
    },
    {
     "name": "stdout",
     "output_type": "stream",
     "text": [
      "[[[2, [27, 24, 0, 19, 12, 11], [48, 56, 61, 2, 25, 23, 41, 40, 35, 32, 31, 39]], [0, [18, 21, 15, 16], [38, 29, 30, 45, 46, 36, 43, 49]], [1, [], []]], [[0, [22, 8], [44, 18, 20, 80]]], [[3, [10, 6, 4], [22, 13, 8, 3, 14, 50]], [2, [33, 1, 35, 38, 17, 5, 36, 2, 3], [66, 71, 77, 75, 1, 37, 34, 27, 11, 10, 5, 6, 7, 12, 70, 74, 16, 15]], [0, [14, 7, 23, 32, 13, 30, 34, 9, 20, 39], [19, 17, 28, 42, 47, 51, 52, 59, 68, 4, 79, 78, 67, 63, 64, 33, 26, 24, 21, 9]]], [], [[2, [37, 28, 25, 26], [53, 57, 76, 69, 73, 54, 62, 55]], [1, [29, 31], [60, 58, 65, 72]], [0, [], []]]]\n"
     ]
    },
    {
     "name": "stdout",
     "output_type": "stream",
     "text": [
      "[{18: (30, 43), 20: (36, 31), 27: (50, 34), 31: (59, 29), 32: (60, 37), 33: (61, 40), 39: (80, 39)}, {}, {1: (4, 35), 2: (5, 11), 4: (7, 19), 5: (9, 3), 6: (10, 67), 7: (12, 1), 8: (13, 28), 9: (14, 62), 10: (16, 33), 11: (18, 23), 12: (20, 17), 13: (21, 44), 14: (22, 27), 15: (24, 8), 16: (25, 47), 17: (26, 79), 19: (32, 63), 23: (42, 45), 35: (66, 68)}, {}, {0: (2, 74), 3: (6, 57), 21: (38, 69), 22: (41, 58), 24: (46, 75), 25: (48, 56), 26: (49, 73), 28: (53, 51), 29: (54, 15), 30: (55, 76), 34: (64, 78), 36: (70, 71), 37: (72, 65), 38: (77, 52)}]\n----------------Instance name: pdp_instances/GOO/doing/goo8.csv-----------------------------------\n processing time --- 0.3590078353881836 seconds ---\n#################### Round :1 ############################\n"
     ]
    },
    {
     "name": "stdout",
     "output_type": "stream",
     "text": [
      "#################### Round :1 ############################\n"
     ]
    },
    {
     "name": "stdout",
     "output_type": "stream",
     "text": [
      "#################### Round :1 ############################\n"
     ]
    },
    {
     "name": "stdout",
     "output_type": "stream",
     "text": [
      "[[[3, [31, 27], [50, 59, 34, 29]], [0, [], []], [1, [18], [30, 43]], [2, [20, 39, 32, 33], [80, 60, 61, 39, 36, 37, 40, 31]]], [], [[4, [19, 7], [32, 12, 63, 1]], [3, [11, 10, 9, 8], [18, 16, 13, 23, 14, 33, 28, 62]], [1, [35, 4, 2, 6], [10, 67, 66, 68, 5, 7, 19, 11]], [0, [23, 14, 17, 15, 13, 16, 12, 1], [21, 20, 25, 26, 47, 44, 42, 22, 17, 4, 79, 45, 35, 27, 24, 8]], [2, [5], [9, 3]]], [], [[3, [30, 3, 29, 0], [54, 6, 2, 15, 55, 74, 76, 57]], [1, [25, 24, 22, 26], [41, 58, 46, 48, 49, 73, 56, 75]], [0, [38, 37, 36, 21, 34, 28], [64, 70, 71, 72, 77, 78, 53, 51, 52, 38, 65, 69]]]]\n#################### Round :2 ############################\n"
     ]
    },
    {
     "name": "stdout",
     "output_type": "stream",
     "text": [
      "#################### Round :2 ############################\n"
     ]
    },
    {
     "name": "stdout",
     "output_type": "stream",
     "text": [
      "#################### Round :2 ############################\n"
     ]
    },
    {
     "name": "stdout",
     "output_type": "stream",
     "text": [
      "[[[3, [39, 33, 32, 20], [80, 60, 61, 39, 36, 37, 40, 31]], [2, [31, 27], [50, 59, 34, 29]], [1, [18], [30, 43]], [0, [], []]], [], [[2, [35, 6, 4, 2], [10, 67, 66, 68, 5, 7, 19, 11]], [4, [19, 7], [32, 12, 63, 1]], [0, [5], [9, 3]], [1, [17, 1, 12, 13, 16, 23, 15, 14], [21, 20, 25, 26, 47, 44, 42, 22, 17, 4, 79, 45, 35, 27, 24, 8]], [3, [11, 8, 10, 9], [18, 16, 13, 23, 14, 33, 28, 62]]], [], [[3, [29, 24, 22, 21, 0], [41, 58, 54, 46, 38, 15, 2, 74, 75, 69]], [2, [34, 30, 3], [64, 6, 55, 78, 76, 57]], [1, [38, 28, 36, 37, 25, 26], [70, 71, 72, 77, 53, 51, 52, 49, 48, 65, 73, 56]]]]\n#################### Round :3 ############################\n"
     ]
    },
    {
     "name": "stdout",
     "output_type": "stream",
     "text": [
      "#################### Round :3 ############################\n"
     ]
    },
    {
     "name": "stdout",
     "output_type": "stream",
     "text": [
      "#################### Round :3 ############################\n"
     ]
    },
    {
     "name": "stdout",
     "output_type": "stream",
     "text": [
      "[[[2, [39, 33, 32, 20], [80, 60, 61, 39, 36, 37, 40, 31]], [1, [31, 27], [50, 59, 34, 29]], [0, [18], [30, 43]]], [], [[5, [19, 7], [32, 12, 63, 1]], [4, [35, 4, 6, 2], [10, 67, 66, 68, 5, 7, 19, 11]], [0, [11, 9, 10, 8], [18, 16, 13, 23, 14, 33, 28, 62]], [2, [5], [9, 3]], [1, [16, 17, 1, 23, 12, 15, 13, 14], [21, 20, 25, 26, 47, 44, 42, 22, 17, 4, 79, 45, 35, 27, 24, 8]]], [], [[0, [0, 24, 29, 37, 30, 21], [54, 72, 55, 46, 38, 15, 2, 65, 74, 76, 75, 69]], [2, [22, 26, 25], [41, 58, 49, 48, 73, 56]], [1, [28, 38, 36, 34, 3], [64, 70, 71, 77, 78, 53, 6, 51, 52, 57]]]]\n#################### Round :4 ############################\n"
     ]
    },
    {
     "name": "stdout",
     "output_type": "stream",
     "text": [
      "#################### Round :4 ############################\n"
     ]
    },
    {
     "name": "stdout",
     "output_type": "stream",
     "text": [
      "#################### Round :4 ############################\n"
     ]
    },
    {
     "name": "stdout",
     "output_type": "stream",
     "text": [
      "[[[2, [39, 20, 32, 33], [80, 60, 61, 39, 36, 37, 40, 31]], [0, [31, 27], [50, 59, 34, 29]], [1, [18], [30, 43]]], [], [[4, [35, 4, 2, 6], [10, 67, 66, 68, 5, 7, 19, 11]], [3, [7, 19], [32, 12, 63, 1]], [0, [17, 23, 13, 16, 1, 12, 14, 15], [21, 20, 25, 26, 47, 44, 42, 22, 17, 4, 79, 45, 35, 27, 24, 8]], [2, [11, 9, 8, 10], [18, 16, 23, 14, 13, 33, 28, 62]], [1, [5], [9, 3]]], [], [[3, [37, 34, 21, 28, 38, 36], [64, 70, 71, 72, 77, 78, 53, 51, 52, 38, 65, 69]], [1, [25, 24, 22, 26], [41, 58, 46, 48, 49, 73, 56, 75]], [0, [3, 29, 0, 30], [54, 6, 2, 15, 55, 74, 76, 57]], [2, [], []]]]\n#################### Round :5 ############################\n"
     ]
    },
    {
     "name": "stdout",
     "output_type": "stream",
     "text": [
      "#################### Round :5 ############################\n"
     ]
    },
    {
     "name": "stdout",
     "output_type": "stream",
     "text": [
      "#################### Round :5 ############################\n"
     ]
    },
    {
     "name": "stdout",
     "output_type": "stream",
     "text": [
      "[[[3, [39, 33, 32, 20], [80, 60, 61, 39, 36, 37, 40, 31]], [2, [31, 27], [50, 59, 34, 29]], [1, [18], [30, 43]]], [], [[4, [35, 2, 4, 6], [10, 67, 66, 68, 5, 7, 19, 11]], [3, [5], [9, 3]], [1, [17, 16, 1, 13, 15, 23, 12, 14], [21, 20, 25, 26, 47, 44, 42, 22, 17, 4, 79, 45, 35, 27, 24, 8]], [0, [11, 10, 9, 8], [18, 16, 13, 23, 14, 33, 28, 62]], [2, [19, 7], [32, 12, 63, 1]]], [], [[3, [29, 24, 22, 21, 0], [41, 58, 54, 46, 38, 15, 2, 74, 75, 69]], [2, [38, 28, 36, 25, 26, 37], [70, 71, 72, 77, 53, 51, 52, 49, 48, 65, 73, 56]], [1, [34, 3, 30], [64, 6, 55, 78, 76, 57]], [0, [], []]]]\n#################### Round :6 ############################\n"
     ]
    },
    {
     "name": "stdout",
     "output_type": "stream",
     "text": [
      "#################### Round :6 ############################\n"
     ]
    },
    {
     "name": "stdout",
     "output_type": "stream",
     "text": [
      "#################### Round :6 ############################\n"
     ]
    },
    {
     "name": "stdout",
     "output_type": "stream",
     "text": [
      "[[[3, [39, 33, 32, 20], [80, 60, 61, 39, 36, 37, 40, 31]], [2, [31, 27], [50, 59, 34, 29]], [1, [], []], [0, [18], [30, 43]]], [], [[5, [5], [9, 3]], [1, [16, 23, 15, 17, 13, 1, 12, 14], [21, 20, 25, 26, 42, 47, 44, 22, 17, 4, 79, 45, 35, 27, 24, 8]], [2, [6, 35, 2, 4], [10, 67, 66, 68, 5, 7, 19, 11]], [4, [19, 7], [32, 12, 63, 1]], [3, [], []], [0, [11, 8, 9, 10], [18, 16, 13, 23, 14, 33, 28, 62]]], [], [[3, [37, 34, 38, 36, 28, 21], [64, 70, 71, 72, 77, 78, 53, 51, 52, 38, 65, 69]], [1, [29, 3, 0, 30], [54, 6, 2, 15, 55, 74, 76, 57]], [0, [26, 24, 22, 25], [41, 58, 46, 48, 49, 73, 56, 75]], [2, [], []]]]\n#################### Round :7 ############################\n"
     ]
    },
    {
     "name": "stdout",
     "output_type": "stream",
     "text": [
      "#################### Round :7 ############################\n"
     ]
    },
    {
     "name": "stdout",
     "output_type": "stream",
     "text": [
      "#################### Round :7 ############################\n"
     ]
    },
    {
     "name": "stdout",
     "output_type": "stream",
     "text": [
      "[[[3, [31, 27], [50, 59, 34, 29]], [2, [39, 20, 32, 33], [80, 60, 61, 39, 36, 37, 40, 31]], [1, [18], [30, 43]], [0, [], []]], [], [[4, [35, 2, 4, 6], [10, 67, 66, 68, 5, 7, 19, 11]], [3, [19, 7], [32, 12, 63, 1]], [1, [11, 10, 8, 9], [18, 16, 13, 23, 14, 33, 28, 62]], [2, [5], [9, 3]], [0, [16, 13, 15, 17, 1, 12, 23, 14], [21, 20, 25, 26, 47, 44, 42, 22, 17, 4, 79, 45, 35, 27, 24, 8]]], [], [[3, [21, 24, 22], [41, 58, 46, 38, 75, 69]], [2, [30, 3, 0, 29], [54, 6, 2, 15, 55, 74, 76, 57]], [0, [36, 28, 38, 26, 34, 25, 37], [64, 70, 71, 72, 77, 78, 53, 51, 52, 49, 48, 65, 73, 56]], [1, [], []]]]\n#################### Round :8 ############################\n"
     ]
    },
    {
     "name": "stdout",
     "output_type": "stream",
     "text": [
      "#################### Round :8 ############################\n"
     ]
    },
    {
     "name": "stdout",
     "output_type": "stream",
     "text": [
      "#################### Round :8 ############################\n"
     ]
    },
    {
     "name": "stdout",
     "output_type": "stream",
     "text": [
      "[[[2, [39, 33, 32, 20], [80, 60, 61, 39, 36, 37, 40, 31]], [1, [31, 27], [50, 59, 34, 29]], [0, [18], [30, 43]]], [], [[5, [35, 2, 6, 4], [10, 67, 66, 68, 5, 7, 19, 11]], [1, [7, 19], [32, 12, 63, 1]], [0, [12, 13, 23, 17, 16, 1, 15, 14], [21, 20, 25, 26, 47, 44, 42, 22, 17, 4, 79, 45, 35, 27, 24, 8]], [2, [10, 11, 8, 9], [18, 16, 13, 23, 14, 33, 28, 62]], [3, [5], [9, 3]]], [], [[3, [38, 37, 21, 36, 34, 28], [64, 70, 71, 72, 77, 78, 53, 51, 52, 38, 65, 69]], [2, [29, 0, 3, 30], [54, 6, 2, 15, 55, 74, 76, 57]], [0, [22, 26, 24, 25], [41, 58, 46, 48, 49, 73, 56, 75]]]]\n#################### Round :9 ############################\n"
     ]
    },
    {
     "name": "stdout",
     "output_type": "stream",
     "text": [
      "#################### Round :9 ############################\n"
     ]
    },
    {
     "name": "stdout",
     "output_type": "stream",
     "text": [
      "#################### Round :9 ############################\n"
     ]
    },
    {
     "name": "stdout",
     "output_type": "stream",
     "text": [
      "[[[2, [39, 33, 32, 20], [80, 60, 61, 39, 36, 37, 40, 31]], [1, [31, 27], [50, 59, 34, 29]], [0, [18], [30, 43]]], [], [[5, [19, 7], [32, 12, 63, 1]], [4, [35, 6, 4, 2], [10, 67, 66, 68, 5, 7, 19, 11]], [3, [11, 10, 9, 8], [18, 16, 13, 23, 14, 33, 28, 62]], [0, [5], [9, 3]], [2, [23, 17, 13, 1, 16, 15, 12, 14], [21, 20, 25, 26, 47, 44, 42, 22, 17, 4, 79, 45, 35, 27, 24, 8]]], [], [[3, [34, 3, 30], [64, 6, 55, 78, 76, 57]], [1, [29, 24, 0, 22, 21], [41, 58, 54, 46, 38, 15, 2, 74, 75, 69]], [0, [28, 38, 36, 26, 37, 25], [70, 71, 72, 77, 53, 51, 52, 49, 48, 65, 73, 56]]]]\n#################### Round :10 ############################\n"
     ]
    },
    {
     "name": "stdout",
     "output_type": "stream",
     "text": [
      "#################### Round :10 ############################\n"
     ]
    },
    {
     "name": "stdout",
     "output_type": "stream",
     "text": [
      "#################### Round :10 ############################\n"
     ]
    },
    {
     "name": "stdout",
     "output_type": "stream",
     "text": [
      "[[[3, [18], [30, 43]], [0, [31, 27], [50, 59, 34, 29]], [1, [39, 33, 32, 20], [80, 60, 61, 39, 36, 37, 40, 31]]], [], [[5, [5], [9, 3]], [1, [6, 35, 4, 2], [10, 67, 66, 68, 5, 7, 19, 11]], [3, [], []], [2, [7, 19], [32, 12, 63, 1]], [4, [11, 8, 10, 9], [18, 16, 13, 23, 14, 33, 28, 62]], [0, [17, 1, 16, 15, 13, 23, 12, 14], [21, 20, 25, 26, 44, 42, 47, 22, 17, 4, 79, 45, 35, 27, 24, 8]]], [], [[1, [3, 0, 37, 29], [54, 72, 2, 6, 15, 65, 74, 57]], [2, [38, 34, 36, 30, 21, 28, 24], [64, 70, 71, 77, 78, 53, 55, 46, 38, 51, 52, 76, 75, 69]], [0, [25, 22, 26], [41, 58, 49, 48, 73, 56]]]]\n"
     ]
    },
    {
     "name": "stdout",
     "output_type": "stream",
     "text": [
      "[{12: (31, 18), 13: (33, 30), 14: (36, 9), 15: (38, 11), 16: (39, 14), 18: (42, 67), 19: (43, 37), 20: (44, 32), 21: (45, 34), 22: (48, 5), 28: (61, 7), 29: (62, 80)}, {25: (56, 27), 26: (57, 47), 36: (72, 28)}, {0: (1, 2), 1: (3, 35), 2: (4, 64), 3: (8, 13), 4: (10, 54), 5: (12, 24), 6: (19, 71), 7: (20, 17), 8: (22, 49), 9: (23, 41), 10: (25, 16), 24: (55, 26), 30: (63, 50), 31: (65, 21), 32: (66, 46), 33: (68, 73), 34: (69, 58), 35: (70, 6), 38: (78, 15)}, {37: (76, 52)}, {11: (29, 59), 17: (40, 74), 23: (51, 75), 27: (60, 77), 39: (79, 53)}]\n----------------Instance name: pdp_instances/GOO/doing/goo9.csv-----------------------------------\n processing time --- 0.3910231590270996 seconds ---\n#################### Round :1 ############################\n"
     ]
    },
    {
     "name": "stdout",
     "output_type": "stream",
     "text": [
      "#################### Round :1 ############################\n"
     ]
    },
    {
     "name": "stdout",
     "output_type": "stream",
     "text": [
      "#################### Round :1 ############################\n"
     ]
    },
    {
     "name": "stdout",
     "output_type": "stream",
     "text": [
      "#################### Round :1 ############################\n"
     ]
    },
    {
     "name": "stdout",
     "output_type": "stream",
     "text": [
      "#################### Round :1 ############################\n"
     ]
    },
    {
     "name": "stdout",
     "output_type": "stream",
     "text": [
      "[[[3, [21, 16, 19, 12, 14], [43, 45, 39, 37, 34, 31, 36, 18, 14, 9]], [0, [], []], [1, [22, 28, 20, 15, 13, 29, 18], [33, 44, 48, 38, 32, 30, 5, 61, 62, 42, 11, 7, 67, 80]]], [[0, [36, 26, 25], [57, 56, 72, 47, 27, 28]]], [[3, [3, 7, 2, 8, 35, 1, 5, 31, 0, 9], [8, 4, 64, 70, 65, 13, 12, 6, 1, 3, 21, 23, 22, 49, 24, 20, 41, 35, 17, 2]], [1, [24, 4, 30, 38, 32, 34, 6, 33, 10], [10, 25, 63, 78, 54, 55, 68, 26, 19, 16, 15, 50, 69, 66, 71, 73, 58, 46]]], [[0, [37], [76, 52]]], [[1, [39, 17], [79, 40, 74, 53]], [0, [27, 11, 23], [29, 51, 59, 60, 75, 77]]]]\n#################### Round :2 ############################\n"
     ]
    },
    {
     "name": "stdout",
     "output_type": "stream",
     "text": [
      "#################### Round :2 ############################\n"
     ]
    },
    {
     "name": "stdout",
     "output_type": "stream",
     "text": [
      "#################### Round :2 ############################\n"
     ]
    },
    {
     "name": "stdout",
     "output_type": "stream",
     "text": [
      "#################### Round :2 ############################\n"
     ]
    },
    {
     "name": "stdout",
     "output_type": "stream",
     "text": [
      "#################### Round :2 ############################\n"
     ]
    },
    {
     "name": "stdout",
     "output_type": "stream",
     "text": [
      "[[[0, [15, 12, 21, 14, 18, 20, 13, 19, 16], [44, 33, 32, 30, 45, 43, 42, 38, 37, 34, 31, 36, 39, 11, 67, 9, 18, 14]], [1, [28, 22], [48, 61, 5, 7]], [2, [29], [62, 80]]], [[0, [36, 26, 25], [57, 56, 72, 47, 27, 28]]], [[2, [31, 2, 35, 8, 9, 1, 5, 7], [4, 70, 65, 64, 12, 6, 3, 21, 23, 22, 24, 20, 49, 41, 35, 17]], [1, [], []], [3, [38, 4, 30, 24, 0, 10], [10, 25, 63, 78, 54, 55, 50, 26, 16, 15, 1, 2]], [0, [3, 6, 34, 32, 33], [8, 19, 13, 68, 69, 66, 71, 73, 58, 46]]], [[0, [37], [76, 52]]], [[1, [39, 17], [79, 40, 74, 53]], [0, [27, 23, 11], [29, 51, 59, 60, 75, 77]]]]\n#################### Round :3 ############################\n"
     ]
    },
    {
     "name": "stdout",
     "output_type": "stream",
     "text": [
      "#################### Round :3 ############################\n"
     ]
    },
    {
     "name": "stdout",
     "output_type": "stream",
     "text": [
      "#################### Round :3 ############################\n"
     ]
    },
    {
     "name": "stdout",
     "output_type": "stream",
     "text": [
      "#################### Round :3 ############################\n"
     ]
    },
    {
     "name": "stdout",
     "output_type": "stream",
     "text": [
      "#################### Round :3 ############################\n"
     ]
    },
    {
     "name": "stdout",
     "output_type": "stream",
     "text": [
      "[[[3, [29], [62, 80]], [2, [20, 21, 19, 13, 14, 16, 12], [33, 44, 43, 45, 32, 30, 36, 37, 34, 39, 31, 18, 14, 9]], [1, [], []], [0, [22, 18, 15, 28], [38, 48, 42, 61, 5, 11, 67, 7]]], [[0, [36, 26, 25], [57, 56, 72, 47, 27, 28]]], [[4, [33, 34, 4, 24, 6, 30, 38, 32], [10, 63, 78, 54, 55, 68, 26, 19, 15, 50, 69, 66, 71, 73, 58, 46]], [3, [3, 7, 10], [8, 25, 13, 16, 20, 17]], [1, [], []], [0, [2, 0, 31, 9, 1, 35, 5, 8], [4, 70, 65, 64, 12, 6, 1, 3, 21, 23, 22, 24, 49, 41, 35, 2]]], [[0, [37], [76, 52]]], [[1, [39, 17], [79, 40, 74, 53]], [0, [27, 23, 11], [29, 51, 59, 60, 75, 77]]]]\n#################### Round :4 ############################\n"
     ]
    },
    {
     "name": "stdout",
     "output_type": "stream",
     "text": [
      "#################### Round :4 ############################\n"
     ]
    },
    {
     "name": "stdout",
     "output_type": "stream",
     "text": [
      "#################### Round :4 ############################\n"
     ]
    },
    {
     "name": "stdout",
     "output_type": "stream",
     "text": [
      "#################### Round :4 ############################\n"
     ]
    },
    {
     "name": "stdout",
     "output_type": "stream",
     "text": [
      "#################### Round :4 ############################\n"
     ]
    },
    {
     "name": "stdout",
     "output_type": "stream",
     "text": [
      "[[[3, [29], [62, 80]], [0, [], []], [1, [22, 18, 28, 15], [38, 48, 42, 61, 5, 11, 67, 7]], [2, [19, 14, 20, 13, 16, 21, 12], [33, 44, 43, 45, 32, 30, 36, 37, 34, 39, 31, 18, 14, 9]]], [[0, [36, 26, 25], [57, 56, 72, 47, 27, 28]]], [[4, [], []], [1, [38, 4, 24, 30, 33, 6, 34, 32], [10, 63, 78, 54, 55, 68, 26, 19, 15, 50, 69, 66, 71, 73, 58, 46]], [3, [3, 10, 7], [8, 25, 13, 16, 20, 17]], [2, [2, 0, 31, 35, 5, 1, 9, 8], [4, 64, 70, 65, 12, 6, 1, 3, 21, 23, 22, 24, 49, 41, 35, 2]]], [[0, [37], [76, 52]]], [[1, [39, 17], [79, 40, 74, 53]], [0, [27, 23, 11], [29, 51, 59, 60, 75, 77]]]]\n#################### Round :5 ############################\n"
     ]
    },
    {
     "name": "stdout",
     "output_type": "stream",
     "text": [
      "#################### Round :5 ############################\n"
     ]
    },
    {
     "name": "stdout",
     "output_type": "stream",
     "text": [
      "#################### Round :5 ############################\n"
     ]
    },
    {
     "name": "stdout",
     "output_type": "stream",
     "text": [
      "#################### Round :5 ############################\n"
     ]
    },
    {
     "name": "stdout",
     "output_type": "stream",
     "text": [
      "#################### Round :5 ############################\n"
     ]
    },
    {
     "name": "stdout",
     "output_type": "stream",
     "text": [
      "[[[3, [29], [62, 80]], [2, [21, 14, 20, 12, 16, 19, 13], [33, 44, 43, 45, 32, 30, 36, 37, 34, 39, 31, 18, 14, 9]], [1, [22, 28, 18, 15], [38, 48, 42, 61, 5, 11, 67, 7]], [0, [], []]], [[0, [36, 26, 25], [57, 56, 72, 47, 27, 28]]], [[2, [24, 4, 38, 30, 32, 6, 34, 33], [10, 63, 78, 54, 55, 68, 26, 19, 15, 50, 69, 66, 71, 73, 58, 46]], [1, [], []], [3, [], []], [0, [10, 3], [8, 25, 13, 16]], [4, [2, 35, 31, 7, 5, 0, 8, 1, 9], [4, 70, 65, 64, 12, 6, 1, 3, 21, 23, 22, 49, 24, 20, 41, 35, 17, 2]]], [[0, [37], [76, 52]]], [[1, [39, 17], [79, 40, 74, 53]], [0, [27, 23, 11], [29, 51, 59, 60, 75, 77]]]]\n#################### Round :6 ############################\n"
     ]
    },
    {
     "name": "stdout",
     "output_type": "stream",
     "text": [
      "#################### Round :6 ############################\n"
     ]
    },
    {
     "name": "stdout",
     "output_type": "stream",
     "text": [
      "#################### Round :6 ############################\n"
     ]
    },
    {
     "name": "stdout",
     "output_type": "stream",
     "text": [
      "#################### Round :6 ############################\n"
     ]
    },
    {
     "name": "stdout",
     "output_type": "stream",
     "text": [
      "#################### Round :6 ############################\n"
     ]
    },
    {
     "name": "stdout",
     "output_type": "stream",
     "text": [
      "[[[3, [29], [62, 80]], [2, [21, 20, 19, 14, 13, 16, 12], [33, 44, 43, 45, 32, 30, 36, 37, 34, 39, 31, 18, 14, 9]], [0, [18, 15, 22, 28], [38, 48, 42, 61, 5, 11, 67, 7]], [1, [], []]], [[0, [36, 26, 25], [57, 56, 72, 47, 27, 28]]], [[1, [3, 6, 32, 33, 34], [8, 19, 13, 68, 69, 66, 71, 73, 58, 46]], [3, [8, 9, 2, 5, 35, 31, 1, 7], [4, 70, 65, 64, 12, 6, 3, 21, 23, 22, 24, 20, 49, 41, 35, 17]], [2, [30, 4, 38, 24, 0, 10], [10, 25, 63, 78, 54, 55, 50, 26, 16, 15, 1, 2]]], [[0, [37], [76, 52]]], [[1, [39, 17], [79, 40, 74, 53]], [0, [27, 23, 11], [29, 51, 59, 60, 75, 77]]]]\n#################### Round :7 ############################\n"
     ]
    },
    {
     "name": "stdout",
     "output_type": "stream",
     "text": [
      "#################### Round :7 ############################\n"
     ]
    },
    {
     "name": "stdout",
     "output_type": "stream",
     "text": [
      "#################### Round :7 ############################\n"
     ]
    },
    {
     "name": "stdout",
     "output_type": "stream",
     "text": [
      "#################### Round :7 ############################\n"
     ]
    },
    {
     "name": "stdout",
     "output_type": "stream",
     "text": [
      "#################### Round :7 ############################\n"
     ]
    },
    {
     "name": "stdout",
     "output_type": "stream",
     "text": [
      "[[[3, [29], [62, 80]], [2, [21, 19, 14, 20, 12, 16, 13], [33, 44, 43, 45, 32, 30, 36, 37, 34, 39, 31, 18, 14, 9]], [1, [22, 15, 28, 18], [38, 48, 42, 61, 5, 11, 67, 7]]], [[0, [36, 26, 25], [57, 56, 72, 47, 27, 28]]], [[3, [10, 3, 0], [8, 25, 13, 16, 1, 2]], [2, [35, 2, 7, 31, 5, 1, 8, 9], [4, 70, 65, 64, 12, 6, 3, 21, 23, 22, 24, 20, 49, 41, 35, 17]], [1, [33, 4, 38, 30, 24, 32, 34, 6], [10, 63, 78, 54, 55, 68, 26, 19, 15, 50, 69, 66, 71, 73, 58, 46]]], [[0, [37], [76, 52]]], [[1, [39, 17], [79, 40, 74, 53]], [0, [27, 23, 11], [29, 51, 59, 60, 75, 77]]]]\n#################### Round :8 ############################\n"
     ]
    },
    {
     "name": "stdout",
     "output_type": "stream",
     "text": [
      "#################### Round :8 ############################\n"
     ]
    },
    {
     "name": "stdout",
     "output_type": "stream",
     "text": [
      "#################### Round :8 ############################\n"
     ]
    },
    {
     "name": "stdout",
     "output_type": "stream",
     "text": [
      "#################### Round :8 ############################\n"
     ]
    },
    {
     "name": "stdout",
     "output_type": "stream",
     "text": [
      "#################### Round :8 ############################\n"
     ]
    },
    {
     "name": "stdout",
     "output_type": "stream",
     "text": [
      "[[[3, [29], [62, 80]], [2, [], []], [0, [21, 14, 20, 13, 19, 12, 16], [33, 44, 43, 45, 32, 30, 36, 37, 34, 39, 31, 18, 14, 9]], [1, [22, 15, 18, 28], [38, 48, 42, 61, 5, 11, 67, 7]]], [[0, [36, 26, 25], [57, 56, 72, 47, 27, 28]]], [[3, [34, 33, 6, 3, 32], [8, 19, 13, 68, 69, 66, 71, 73, 58, 46]], [0, [7, 2, 5, 0, 35, 31], [4, 70, 65, 64, 12, 6, 1, 21, 24, 20, 17, 2]], [2, [30, 9, 1, 10, 4, 38, 24, 8], [10, 25, 63, 78, 54, 55, 50, 3, 16, 15, 26, 23, 22, 49, 41, 35]]], [[0, [37], [76, 52]]], [[1, [39, 17], [79, 40, 74, 53]], [0, [27, 23, 11], [29, 51, 59, 60, 75, 77]]]]\n#################### Round :9 ############################\n"
     ]
    },
    {
     "name": "stdout",
     "output_type": "stream",
     "text": [
      "#################### Round :9 ############################\n"
     ]
    },
    {
     "name": "stdout",
     "output_type": "stream",
     "text": [
      "#################### Round :9 ############################\n"
     ]
    },
    {
     "name": "stdout",
     "output_type": "stream",
     "text": [
      "#################### Round :9 ############################\n"
     ]
    },
    {
     "name": "stdout",
     "output_type": "stream",
     "text": [
      "#################### Round :9 ############################\n"
     ]
    },
    {
     "name": "stdout",
     "output_type": "stream",
     "text": [
      "[[[3, [29], [62, 80]], [2, [], []], [1, [22, 28, 15, 18], [38, 48, 42, 61, 5, 11, 67, 7]], [0, [20, 21, 14, 19, 12, 16, 13], [33, 44, 43, 45, 32, 30, 36, 37, 34, 39, 31, 18, 14, 9]]], [[0, [36, 26, 25], [57, 56, 72, 47, 27, 28]]], [[4, [4, 24, 38, 6, 30, 34, 33, 32, 10], [10, 25, 63, 78, 54, 55, 68, 26, 19, 16, 15, 50, 69, 66, 71, 73, 58, 46]], [0, [0], [1, 2]], [2, [], []], [1, [], []], [3, [2, 35, 31, 3, 5, 7, 1, 8, 9], [8, 4, 64, 70, 65, 13, 12, 6, 3, 21, 23, 22, 24, 20, 49, 41, 35, 17]]], [[0, [37], [76, 52]]], [[1, [39, 17], [79, 40, 74, 53]], [0, [27, 11, 23], [29, 51, 59, 60, 75, 77]]]]\n#################### Round :10 ############################\n"
     ]
    },
    {
     "name": "stdout",
     "output_type": "stream",
     "text": [
      "#################### Round :10 ############################\n"
     ]
    },
    {
     "name": "stdout",
     "output_type": "stream",
     "text": [
      "#################### Round :10 ############################\n"
     ]
    },
    {
     "name": "stdout",
     "output_type": "stream",
     "text": [
      "#################### Round :10 ############################\n"
     ]
    },
    {
     "name": "stdout",
     "output_type": "stream",
     "text": [
      "#################### Round :10 ############################\n"
     ]
    },
    {
     "name": "stdout",
     "output_type": "stream",
     "text": [
      "[[[3, [29], [62, 80]], [2, [19, 20, 21, 14, 16, 13, 12], [33, 44, 43, 45, 32, 30, 36, 37, 34, 39, 31, 18, 14, 9]], [1, [28, 15, 18, 22], [38, 48, 42, 61, 5, 11, 67, 7]]], [[0, [36, 26, 25], [57, 56, 72, 47, 27, 28]]], [[3, [3, 8, 2, 7, 31, 1, 5, 9, 35, 0], [8, 4, 64, 70, 65, 13, 12, 6, 1, 3, 21, 23, 22, 49, 24, 20, 41, 35, 17, 2]], [2, [24, 4, 38, 33, 6, 32, 30, 34, 10], [10, 25, 63, 78, 54, 55, 68, 26, 19, 16, 15, 50, 69, 66, 71, 73, 58, 46]]], [[0, [37], [76, 52]]], [[1, [39, 17], [79, 40, 74, 53]], [0, [27, 23, 11], [29, 51, 59, 60, 75, 77]]]]\n"
     ]
    }
   ],
   "source": [
    "path = 'pdp_instances/GOO/doing/'\n",
    "FILENAMES = next(os.walk(path))[2]\n",
    "\n",
    "all_results = []\n",
    "\n",
    "for name in FILENAMES:\n",
    "    filepath = path + name\n",
    "    results = solve_and_print(filepath)\n",
    "    solutions,distances,cal_times = mean_results(results)\n",
    "    all_results.append((solutions,distances,cal_times))"
   ]
  },
  {
   "cell_type": "markdown",
   "metadata": {},
   "source": [
    "# The GOO Instances"
   ]
  },
  {
   "cell_type": "markdown",
   "metadata": {},
   "source": [
    "# Average list by columns"
   ]
  },
  {
   "cell_type": "code",
   "execution_count": 26,
   "metadata": {},
   "outputs": [],
   "source": [
    "def count_num_vehicle(solutions):\n",
    "    nums = []\n",
    "    for sol in solutions:\n",
    "        sol = [x for x in sol if len(x[1])>0]\n",
    "        nums.append(len(sol))\n",
    "    return nums"
   ]
  },
  {
   "cell_type": "code",
   "execution_count": 27,
   "metadata": {},
   "outputs": [],
   "source": [
    ""
   ]
  },
  {
   "cell_type": "code",
   "execution_count": 27,
   "metadata": {},
   "outputs": [],
   "source": [
    ""
   ]
  },
  {
   "cell_type": "code",
   "execution_count": 27,
   "metadata": {},
   "outputs": [],
   "source": [
    "# res =results[0]\n",
    "# SOL,DIST,CT = res[0],res[1],res[2]\n"
   ]
  },
  {
   "cell_type": "code",
   "execution_count": 28,
   "metadata": {},
   "outputs": [],
   "source": [
    ""
   ]
  },
  {
   "cell_type": "code",
   "execution_count": 28,
   "metadata": {},
   "outputs": [],
   "source": [
    "# worst_sol,distance_worst = create_worst_case('pdp_instances/GOO/goo12.csv')\n",
    "# distance_worst"
   ]
  },
  {
   "cell_type": "code",
   "execution_count": 29,
   "metadata": {},
   "outputs": [],
   "source": [
    "# SOL[2]\n",
    "# count_num_vehicle([worst_sol])"
   ]
  },
  {
   "cell_type": "markdown",
   "metadata": {},
   "source": [
    "# Writing to CSV"
   ]
  },
  {
   "cell_type": "code",
   "execution_count": 30,
   "metadata": {},
   "outputs": [],
   "source": [
    "solutions,distances,cal_times = mean_results(all_results)\n",
    "dist = [dist for _,dist,_ in all_results]\n",
    "dist = np.array(dist)\n",
    "df = pd.DataFrame(dist)\n",
    "df.to_csv('distances_goo2-5.csv')\n",
    "CT = [ct for _,_,ct in all_results]\n",
    "CT = np.array(CT)\n",
    "df_CT = pd.DataFrame(CT)\n",
    "df_CT.to_csv('CT_goo2-5.csv')"
   ]
  },
  {
   "cell_type": "markdown",
   "metadata": {},
   "source": [
    "# Average list by columns"
   ]
  },
  {
   "cell_type": "code",
   "execution_count": 31,
   "metadata": {},
   "outputs": [],
   "source": [
    "def count_num_vehicle(solutions):\n",
    "    nums = []\n",
    "    for sol in solutions:\n",
    "        sol = [x for x in sol if len(x[1])>0]\n",
    "        nums.append(len(sol))\n",
    "    return nums"
   ]
  },
  {
   "cell_type": "code",
   "execution_count": 32,
   "metadata": {},
   "outputs": [],
   "source": [
    "\n",
    "# worst_sol"
   ]
  },
  {
   "cell_type": "code",
   "execution_count": 33,
   "metadata": {},
   "outputs": [],
   "source": [
    "def avg_table(table):\n",
    "    transposed = zip(*table)\n",
    "    avg = lambda items: float(sum(items)) / len(items)\n",
    "    averages = map(avg, transposed)\n",
    "    averages = list(averages)\n",
    "    return  averages"
   ]
  },
  {
   "cell_type": "code",
   "execution_count": 34,
   "metadata": {},
   "outputs": [
    {
     "name": "stdout",
     "output_type": "stream",
     "text": [
      "[3.1, 1.0, 2.9, 0.0, 2.0]\n[3.0, 0.0, 2.9, 0.0, 2.0]\n[4.0, 0.0, 4.3, 0.0, 3.0]\n[2.0, 0.0, 4.9, 0.0, 4.2]\n[2.0, 1.0, 3.5, 0.0, 2.0]\n[3.0, 0.0, 5.0, 0.0, 3.0]\n[2.9, 1.0, 2.8, 1.0, 2.0]\n"
     ]
    }
   ],
   "source": [
    "# for sol in solutions:\n",
    "num_vehicles  = []\n",
    "i = 0\n",
    "for res in all_results:\n",
    "    solutions = res[0]\n",
    "    arr_temp = []\n",
    "    for sol in solutions:\n",
    "        num_temp = count_num_vehicle(sol)\n",
    "        arr_temp.append(num_temp)\n",
    "    avg_temp = avg_table(arr_temp)\n",
    "    print(avg_temp)\n",
    "    num_vehicles.append(avg_temp)\n",
    "\n",
    "num_vehicles = np.array(num_vehicles)\n",
    "df_num_vehicles = pd.DataFrame(num_vehicles)\n",
    "df_num_vehicles.to_csv('num_veh_goo.csv')"
   ]
  },
  {
   "cell_type": "code",
   "execution_count": 35,
   "metadata": {},
   "outputs": [
    {
     "ename": "IndentationError",
     "evalue": "unexpected indent (<ipython-input-35-06f82f746798>, line 2)",
     "traceback": [
      "\u001b[0;36m  File \u001b[0;32m\"<ipython-input-35-06f82f746798>\"\u001b[0;36m, line \u001b[0;32m2\u001b[0m\n\u001b[0;31m    [0,[26,22,20,17],[54,46,44,36,39,70,78,72]]]])]\u001b[0m\n\u001b[0m    ^\u001b[0m\n\u001b[0;31mIndentationError\u001b[0m\u001b[0;31m:\u001b[0m unexpected indent\n"
     ],
     "output_type": "error"
    }
   ],
   "source": [
    "# results = [([[[2,[16,19],[41,37,34,22]],[1,[13,4,6],[15,31,43,18,48,42]],[0,[15],[35,49]]],[[1,[39,25,24],[52,51,80,21,5,10]],[0,[38],[79,61]]],[[2,[23,7,21],[19,47,45,50,53,25]],[5,[12,31,18],[62,40,30,23,20,13]],[3,[2,32,14,11,27,10,33],[32,7,4,29,33,63,55,77,69,28,27,64,71,65]],[1,[],[]],[0,[34,9,8,0],[3,26,24,68,67,66,2,14]],[4,[3,5],[9,16,12,11]]],[[0,[30],[60,58]]],[[3,[37,35,36],[74,75,73,76,17,8]],[2,[],[]],[1,[29,28,1],[56,57,38,1,6,59]],\n",
    "                                                                                                                                                                                                                                                                                                                                                                                       [0,[26,22,20,17],[54,46,44,36,39,70,78,72]]]])]"
   ]
  },
  {
   "cell_type": "code",
   "execution_count": 23,
   "metadata": {},
   "outputs": [],
   "source": [
    "# res = results[0]"
   ]
  },
  {
   "cell_type": "code",
   "execution_count": 24,
   "metadata": {},
   "outputs": [],
   "source": [
    "# all_results"
   ]
  },
  {
   "cell_type": "code",
   "execution_count": 24,
   "metadata": {},
   "outputs": [],
   "source": [
    "# \n",
    "# num_vehicles = np.array(num_vehicles)\n",
    "# df_num_vehicles = pd.DataFrame(num_vehicles)\n",
    "# df_num_vehicles.to_csv('num_veh_goo.csv')"
   ]
  },
  {
   "cell_type": "code",
   "execution_count": 25,
   "metadata": {},
   "outputs": [],
   "source": [
    ""
   ]
  },
  {
   "cell_type": "code",
   "execution_count": 25,
   "metadata": {},
   "outputs": [],
   "source": [
    ""
   ]
  },
  {
   "cell_type": "code",
   "execution_count": 26,
   "metadata": {},
   "outputs": [],
   "source": [
    ""
   ]
  },
  {
   "cell_type": "code",
   "execution_count": 27,
   "metadata": {},
   "outputs": [],
   "source": [
    ""
   ]
  },
  {
   "cell_type": "code",
   "execution_count": 28,
   "metadata": {},
   "outputs": [],
   "source": [
    ""
   ]
  },
  {
   "cell_type": "code",
   "execution_count": 78,
   "metadata": {},
   "outputs": [],
   "source": [
    ""
   ]
  },
  {
   "cell_type": "code",
   "execution_count": null,
   "metadata": {},
   "outputs": [
    {
     "name": "stdout",
     "output_type": "stream",
     "text": [
      "[{4: (15, 43), 6: (18, 42), 12: (30, 23), 13: (31, 48), 14: (32, 4), 15: (35, 49), 16: (37, 22), 18: (40, 13), 19: (41, 34), 21: (45, 25), 23: (47, 50), 31: (62, 20)}, {24: (51, 5), 25: (52, 21), 38: (79, 61), 39: (80, 10)}, {0: (3, 66), 1: (6, 59), 2: (7, 33), 3: (9, 12), 5: (16, 11), 7: (19, 53), 8: (24, 2), 9: (26, 68), 10: (28, 71), 11: (29, 69), 27: (55, 27), 32: (63, 77), 33: (64, 65), 34: (67, 14)}, {}, {17: (39, 72), 20: (44, 78), 22: (46, 70), 26: (54, 36), 28: (56, 38), 29: (57, 1), 30: (60, 58), 35: (74, 73), 36: (75, 17), 37: (76, 8)}]\n----------------Instance name: pdp_instances/GOO/doing/goo1.csv-----------------------------------\n processing time --- 0.3400437831878662 seconds ---\n#################### Round :1 ############################\n"
     ]
    },
    {
     "name": "stdout",
     "output_type": "stream",
     "text": [
      "#################### Round :1 ############################\n"
     ]
    },
    {
     "name": "stdout",
     "output_type": "stream",
     "text": [
      "#################### Round :1 ############################\n"
     ]
    },
    {
     "name": "stdout",
     "output_type": "stream",
     "text": [
      "#################### Round :1 ############################\n"
     ]
    },
    {
     "name": "stdout",
     "output_type": "stream",
     "text": [
      "[[[3, [31, 6, 12, 23, 18], [62, 47, 40, 30, 23, 20, 18, 13, 50, 42]], [1, [15], [35, 49]], [0, [], []], [2, [16, 19, 14, 4, 13, 21], [32, 15, 4, 31, 41, 43, 48, 45, 37, 34, 22, 25]]], [[1, [38], [79, 61]], [0, [39, 25, 24], [52, 51, 80, 21, 5, 10]]], [[4, [34, 9, 8, 0], [3, 26, 24, 68, 67, 66, 2, 14]], [3, [1, 7], [6, 19, 59, 53]], [0, [32, 11, 10, 2, 27, 33], [7, 29, 33, 63, 55, 77, 69, 28, 27, 64, 71, 65]], [1, [5, 3], [9, 16, 12, 11]]], [], [[3, [37, 35, 36], [74, 75, 73, 76, 17, 8]], [2, [29, 28], [56, 57, 38, 1]], [1, [30], [60, 58]], [0, [20, 22, 17, 26], [54, 46, 44, 36, 39, 70, 78, 72]]]]\n#################### Round :2 ############################\n"
     ]
    },
    {
     "name": "stdout",
     "output_type": "stream",
     "text": [
      "#################### Round :2 ############################\n"
     ]
    },
    {
     "name": "stdout",
     "output_type": "stream",
     "text": [
      "#################### Round :2 ############################\n"
     ]
    },
    {
     "name": "stdout",
     "output_type": "stream",
     "text": [
      "#################### Round :2 ############################\n"
     ]
    },
    {
     "name": "stdout",
     "output_type": "stream",
     "text": [
      "[[[2, [31, 23, 18, 12, 6], [62, 47, 40, 30, 23, 20, 18, 13, 50, 42]], [1, [19, 21, 16, 4, 13, 14], [32, 15, 4, 31, 41, 43, 48, 45, 37, 34, 22, 25]], [0, [15], [35, 49]]], [[1, [39, 25, 24], [52, 51, 80, 21, 5, 10]], [0, [38], [79, 61]]], [[4, [32, 27, 10, 2, 11, 33], [7, 29, 33, 63, 55, 77, 69, 28, 27, 64, 71, 65]], [1, [5, 3], [9, 16, 12, 11]], [3, [1, 7], [6, 19, 59, 53]], [0, [8, 9, 0, 34], [3, 26, 24, 68, 67, 66, 2, 14]]], [], [[3, [37, 35, 36], [74, 75, 73, 76, 17, 8]], [2, [30], [60, 58]], [1, [29, 28], [56, 57, 38, 1]], [0, [26, 20, 17, 22], [54, 46, 44, 36, 39, 70, 78, 72]]]]\n#################### Round :3 ############################\n"
     ]
    },
    {
     "name": "stdout",
     "output_type": "stream",
     "text": [
      "#################### Round :3 ############################\n"
     ]
    },
    {
     "name": "stdout",
     "output_type": "stream",
     "text": [
      "#################### Round :3 ############################\n"
     ]
    },
    {
     "name": "stdout",
     "output_type": "stream",
     "text": [
      "#################### Round :3 ############################\n"
     ]
    },
    {
     "name": "stdout",
     "output_type": "stream",
     "text": [
      "[[[2, [31, 12, 23, 6, 18], [62, 47, 40, 30, 23, 20, 18, 13, 50, 42]], [1, [15], [35, 49]], [0, [19, 21, 4, 16, 14, 13], [32, 15, 4, 31, 41, 43, 48, 45, 37, 34, 22, 25]]], [[1, [38], [79, 61]], [0, [39, 25, 24], [52, 51, 80, 21, 5, 10]]], [[5, [9, 34, 0, 8], [3, 26, 24, 68, 67, 66, 2, 14]], [1, [1, 7], [6, 19, 59, 53]], [3, [5, 3], [9, 16, 12, 11]], [2, [32, 2, 27, 11, 10, 33], [7, 29, 33, 63, 55, 77, 69, 28, 27, 64, 71, 65]], [0, [], []]], [], [[0, [22, 28, 17, 20], [56, 38, 44, 46, 39, 70, 78, 72]], [1, [37, 26, 35, 29, 36], [57, 74, 1, 54, 75, 73, 76, 36, 17, 8]], [2, [30], [60, 58]]]]\n#################### Round :4 ############################\n"
     ]
    },
    {
     "name": "stdout",
     "output_type": "stream",
     "text": [
      "#################### Round :4 ############################\n"
     ]
    },
    {
     "name": "stdout",
     "output_type": "stream",
     "text": [
      "#################### Round :4 ############################\n"
     ]
    },
    {
     "name": "stdout",
     "output_type": "stream",
     "text": [
      "#################### Round :4 ############################\n"
     ]
    },
    {
     "name": "stdout",
     "output_type": "stream",
     "text": [
      "[[[2, [31, 23, 18, 12, 6], [62, 47, 40, 30, 23, 20, 18, 13, 50, 42]], [1, [15], [35, 49]], [0, [14, 4, 13, 19, 16, 21], [32, 15, 4, 31, 41, 43, 48, 45, 37, 34, 22, 25]]], [[1, [39, 24, 25], [52, 51, 80, 21, 5, 10]], [0, [38], [79, 61]]], [[2, [5, 3], [9, 16, 12, 11]], [1, [11, 32, 2, 10, 27, 33], [7, 29, 33, 63, 55, 77, 69, 28, 27, 64, 71, 65]], [3, [1, 7], [6, 19, 59, 53]], [0, [34, 9, 8, 0], [3, 26, 24, 68, 67, 66, 2, 14]]], [], [[3, [37, 35, 36], [74, 75, 73, 76, 17, 8]], [2, [30], [60, 58]], [1, [29, 28], [56, 57, 38, 1]], [0, [26, 22, 20, 17], [54, 46, 44, 36, 39, 70, 78, 72]]]]\n#################### Round :5 ############################\n"
     ]
    },
    {
     "name": "stdout",
     "output_type": "stream",
     "text": [
      "#################### Round :5 ############################\n"
     ]
    },
    {
     "name": "stdout",
     "output_type": "stream",
     "text": [
      "#################### Round :5 ############################\n"
     ]
    },
    {
     "name": "stdout",
     "output_type": "stream",
     "text": [
      "#################### Round :5 ############################\n"
     ]
    }
   ],
   "source": [
    "## Run\n",
    "path = 'pdp_instances/GOO/doing/'\n",
    "FILENAMES = next(os.walk(path))[2]\n",
    "\n",
    "all_results = []\n",
    "\n",
    "for name in FILENAMES:\n",
    "    filepath = path + name\n",
    "    results = solve_and_print(filepath)\n",
    "    solutions,distances,cal_times = mean_results(results)\n",
    "    all_results.append((solutions,distances,cal_times))\n",
    "    \n",
    "# count veh\n",
    "def count_num_vehicle(solutions):\n",
    "    nums = []\n",
    "    for sol in solutions:\n",
    "        sol = [x for x in sol if len(x[1])>0]\n",
    "        nums.append(len(sol))\n",
    "    return nums\n",
    "\n",
    "solutions,distances,cal_times = mean_results(all_results)\n",
    "dist = [dist for _,dist,_ in all_results]\n",
    "dist = np.array(dist)\n",
    "df = pd.DataFrame(dist)\n",
    "df.to_csv('distances_goo-3-vote.csv')\n",
    "CT = [ct for _,_,ct in all_results]\n",
    "CT = np.array(CT)\n",
    "df_CT = pd.DataFrame(CT)\n",
    "df_CT.to_csv('CT_goo-2-vote.csv')\n",
    "\n",
    "def avg_table(table):\n",
    "    transposed = zip(*table)\n",
    "    avg = lambda items: float(sum(items)) / len(items)\n",
    "    averages = map(avg, transposed)\n",
    "    averages = list(averages)\n",
    "    return  averages\n",
    "\n",
    "# for sol in solutions:\n",
    "num_vehicles  = []\n",
    "i = 0\n",
    "for res in all_results:\n",
    "    solutions = res[0]\n",
    "    arr_temp = []\n",
    "    for sol in solutions:\n",
    "        num_temp = count_num_vehicle(sol)\n",
    "        arr_temp.append(num_temp)\n",
    "    avg_temp = avg_table(arr_temp)\n",
    "    print(avg_temp)\n",
    "    num_vehicles.append(avg_temp)\n",
    "\n",
    "num_vehicles = np.array(num_vehicles)\n",
    "df_num_vehicles = pd.DataFrame(num_vehicles)\n",
    "df_num_vehicles.to_csv('num_veh_3-vote.csv')"
   ]
  },
  {
   "cell_type": "code",
   "execution_count": 80,
   "metadata": {},
   "outputs": [],
   "source": [
    ""
   ]
  },
  {
   "cell_type": "code",
   "execution_count": 81,
   "metadata": {},
   "outputs": [
    {
     "data": {
      "text/plain": [
       "{(1, 2),\n (3, 35),\n (4, 64),\n (8, 13),\n (12, 24),\n (20, 17),\n (23, 41),\n (25, 16),\n (63, 50),\n (65, 21),\n (66, 46),\n (70, 6),\n (72, 28)}"
      ]
     },
     "execution_count": 81,
     "metadata": {},
     "output_type": "execute_result"
    }
   ],
   "source": [
    ""
   ]
  },
  {
   "cell_type": "code",
   "execution_count": 82,
   "metadata": {},
   "outputs": [],
   "source": [
    "worst_sol2 = [ x for x in worst_sol if tuple(x[2]) in s]"
   ]
  },
  {
   "cell_type": "code",
   "execution_count": 83,
   "metadata": {},
   "outputs": [
    {
     "data": {
      "text/plain": [
       "[]"
      ]
     },
     "execution_count": 83,
     "metadata": {},
     "output_type": "execute_result"
    }
   ],
   "source": [
    "worst_sol2"
   ]
  },
  {
   "cell_type": "code",
   "execution_count": 84,
   "metadata": {},
   "outputs": [],
   "source": []
  },
  {
   "cell_type": "code",
   "execution_count": 84,
   "metadata": {},
   "outputs": [],
   "source": []
  },
  {
   "cell_type": "code",
   "execution_count": 84,
   "metadata": {},
   "outputs": [],
   "source": []
  },
  {
   "cell_type": "code",
   "execution_count": 84,
   "metadata": {},
   "outputs": [],
   "source": []
  },
  {
   "cell_type": "code",
   "execution_count": 84,
   "metadata": {},
   "outputs": [],
   "source": []
  },
  {
   "cell_type": "code",
   "execution_count": 84,
   "metadata": {},
   "outputs": [],
   "source": []
  },
  {
   "cell_type": "code",
   "execution_count": 84,
   "metadata": {},
   "outputs": [],
   "source": []
  },
  {
   "cell_type": "code",
   "execution_count": 84,
   "metadata": {},
   "outputs": [],
   "source": []
  },
  {
   "cell_type": "code",
   "execution_count": 84,
   "metadata": {},
   "outputs": [],
   "source": []
  },
  {
   "cell_type": "code",
   "execution_count": null,
   "metadata": {},
   "outputs": [],
   "source": []
  }
 ],
 "metadata": {
  "kernelspec": {
   "display_name": "Python 2",
   "language": "python",
   "name": "python2"
  },
  "language_info": {
   "codemirror_mode": {
    "name": "ipython",
    "version": 2
   },
   "file_extension": ".py",
   "mimetype": "text/x-python",
   "name": "python",
   "nbconvert_exporter": "python",
   "pygments_lexer": "ipython2",
   "version": "2.7.6"
  }
 },
 "nbformat": 4,
 "nbformat_minor": 0
}
