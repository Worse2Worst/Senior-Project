{
 "cells": [
  {
   "cell_type": "code",
   "execution_count": 2,
   "metadata": {
    "collapsed": true
   },
   "outputs": [],
   "source": [
    "import time\n",
    "import random\n",
    "import os\n",
    "import pandas as pd\n",
    "import csv\n",
    "import numpy as np\n",
    "from itertools import chain\n",
    "from pdp_lib import processing_google_map as proc\n",
    "from pdp_lib import util\n",
    "from GA_lib import GA_multi_depot as GA\n",
    "from GA_lib import operation_multi_depot as operation\n",
    "from GA_lib import evaluate_multi_depot as evaluate\n",
    "from statistics import mode"
   ]
  },
  {
   "cell_type": "code",
   "execution_count": 75,
   "metadata": {},
   "outputs": [],
   "source": [
    "def solve_and_print(filepath, rounds = 10, population_size = 100, generations=2000, crossoverRate=1.0, mutationRate=0.5):\n",
    "    process_time = time.time()\n",
    "    numVehicles, LoadCapacities, speed, data = proc.load_file(filepath)\n",
    "    LOCATIONS = data[0]\n",
    "    DEMANDS = data[1]\n",
    "    timeWindows = data[2]\n",
    "    serviceTimes = data[3]\n",
    "    pickupSiblings = data[4]\n",
    "    deliverySiblings = data[5]\n",
    "    requestType = data[6]\n",
    "    REQUESTS = proc.generate_request(pickupSiblings, deliverySiblings, requestType)\n",
    "    DISTANCES = proc.createDistanceTable('real_map/DISTANCES.csv')\n",
    "    DURATIONS = proc.createDurationTable('real_map/DURATIONS.csv')\n",
    "    DEPOTS = proc.create_depots('real_map/depots.csv')\n",
    "    DISTANCES_FROM_DEPOTS = proc.distances_from_depots('real_map/DISTANCES_FROM_DEPOTS.csv')\n",
    "    DISTANCES_TO_DEPOTS = proc.distances_to_depots('real_map/DISTANCES_TO_DEPOTS.csv')\n",
    "    # DEPOT_NUMBERS = proc.simple_assign_depots(REQUESTS, LOCATIONS, DEPOTS, DISTANCES_FROM_DEPOTS, DISTANCES_TO_DEPOTS)\n",
    "    # DEPOT_NUMBERS = proc.worse2worst_assign_depots(REQUESTS, timeWindows,DISTANCES,DURATIONS,DEPOTS,DISTANCES_FROM_DEPOTS, DISTANCES_TO_DEPOTS)\n",
    "    DEPOT_NUMBERS = proc.KNN_assign_depots(REQUESTS, timeWindows,DISTANCES,DURATIONS,DEPOTS,DISTANCES_FROM_DEPOTS, DISTANCES_TO_DEPOTS)\n",
    "    REQ_BY_DEPOTS = proc.requests_by_depots(DEPOTS, REQUESTS, DEPOT_NUMBERS)\n",
    "    print(REQ_BY_DEPOTS)\n",
    "    print('----------------Instance name: ' + str(filepath) + '-----------------------------------')\n",
    "    print(\" processing time --- %s seconds ---\" % (time.time() - process_time))\n",
    "\n",
    "    total_results = []\n",
    "    for round in range(rounds):\n",
    "        results_all_depots = []\n",
    "        distance_all_depots = []\n",
    "        time_all_depots = []\n",
    "        for id_depot in range(len(DEPOTS)):\n",
    "            THIS_DEP_REQS = REQ_BY_DEPOTS[id_depot]\n",
    "            NODES_OF_THIS_DEPOT = proc.locations_of_this_depot(id_depot, REQ_BY_DEPOTS, LOCATIONS)\n",
    "            if(len(NODES_OF_THIS_DEPOT)==0):\n",
    "                results_all_depots.append([])\n",
    "                distance_all_depots.append(0)\n",
    "                time_all_depots.append(0)\n",
    "                continue\n",
    "            # ############### SOLVING THE PROBLEMS !!!!!!!! ######################################\n",
    "            pops_create_time = time.time()\n",
    "            calculation_time = time.time()\n",
    "            print('#################### Round :' +str(round+1)+' ############################')\n",
    "            ## Initialize the populations\n",
    "            populations = []\n",
    "            for _ in range(population_size):\n",
    "                chromosome = GA.initialize_Feasible_chromosome(DISTANCES, DISTANCES_FROM_DEPOTS, DISTANCES_TO_DEPOTS, id_depot, DURATIONS, timeWindows, THIS_DEP_REQS, DEMANDS, LoadCapacities)\n",
    "                populations.append(chromosome)\n",
    "            # print(\"Populations creation time --- %s seconds ---\" % (time.time() - pops_create_time))\n",
    "            ## Crossovers and mutate ##\n",
    "            GA_time = time.time()\n",
    "\n",
    "            ## Evaluate fitnesses of all populations ##\n",
    "            best_fitness_so_far = -99999999\n",
    "            for gen in range(generations):\n",
    "                fitness_table = []\n",
    "                for chromosome in populations:\n",
    "                    fitness_table.append(\n",
    "                        evaluate.chromosomeFitness(chromosome, DISTANCES, DISTANCES_FROM_DEPOTS, DISTANCES_TO_DEPOTS,\n",
    "                                                   id_depot))\n",
    "                populations = [x for _, x in sorted(zip(fitness_table, populations), reverse=True)]\n",
    "                populations.pop()\n",
    "                populations.pop()\n",
    "                elite1 = populations.pop(0)\n",
    "                elite2 = populations.pop(0)\n",
    "\n",
    "\n",
    "                ## Tournament Selection ##\n",
    "                # id1, id2 = random.randrange(0, len(populations)), random.randrange(0, len(populations))\n",
    "                id1,id2,id3,id4 = random.sample(range(0, len(populations)), 4)\n",
    "                fitness1,fitness2,fitness3,fitness4 = fitness_table[id1],fitness_table[id2],fitness_table[id3],fitness_table[id4]\n",
    "                candidate1,candidate2,candidate3,candidate4 = populations[id1], populations[id2],populations[id3],populations[id4]\n",
    "                parent1 = operation.tournament_selection(candidate1,candidate2,fitness1,fitness2)\n",
    "                parent2 = operation.tournament_selection(candidate3,candidate4,fitness3,fitness4)\n",
    "\n",
    "                ## Crossing over !! ####\n",
    "                child1, child2 = operation.crossover(DISTANCES, DURATIONS, timeWindows, THIS_DEP_REQS, parent1, parent2,\n",
    "                                                     DEMANDS, LoadCapacities, DISTANCES_FROM_DEPOTS,\n",
    "                                                     DISTANCES_TO_DEPOTS, id_depot, crossoverRate)\n",
    "                # if(not evaluate.haveEqualNodes(child1,child2,LOCATIONS)):\n",
    "                #         print('note have Equal nodes, Crossover Bug!!!!!'+ str(gen))\n",
    "                #         break\n",
    "                #\n",
    "                ## Mutation ##\n",
    "                child1 = operation.mutate(child1, DISTANCES, DURATIONS, timeWindows, THIS_DEP_REQS, DEMANDS,\n",
    "                                          LoadCapacities, DISTANCES_FROM_DEPOTS, DISTANCES_TO_DEPOTS, id_depot, mutationRate)\n",
    "                child2 = operation.mutate(child2, DISTANCES, DURATIONS, timeWindows, THIS_DEP_REQS, DEMANDS,\n",
    "                                          LoadCapacities, DISTANCES_FROM_DEPOTS, DISTANCES_TO_DEPOTS, id_depot, mutationRate)\n",
    "                if (not evaluate.haveEqualNodes(child1, child2, NODES_OF_THIS_DEPOT)):\n",
    "                    print('note have Equal nodes, Mutation Bug!!!!!' + str(gen))\n",
    "                    break\n",
    "\n",
    "\n",
    "                ## Evaluate Fitness of the best ones ###\n",
    "                current_fitness = evaluate.chromosomeFitness(child1, DISTANCES, DISTANCES_FROM_DEPOTS,\n",
    "                                                             DISTANCES_TO_DEPOTS, id_depot)\n",
    "                current_fitness = max(current_fitness,\n",
    "                                      evaluate.chromosomeFitness(child2, DISTANCES, DISTANCES_FROM_DEPOTS,\n",
    "                                                                 DISTANCES_TO_DEPOTS, id_depot))\n",
    "                current_fitness = max(current_fitness,\n",
    "                                      evaluate.chromosomeFitness(elite1, DISTANCES, DISTANCES_FROM_DEPOTS,\n",
    "                                                                 DISTANCES_TO_DEPOTS, id_depot))\n",
    "                current_fitness = max(current_fitness,\n",
    "                                      evaluate.chromosomeFitness(elite2, DISTANCES, DISTANCES_FROM_DEPOTS,\n",
    "                                                                 DISTANCES_TO_DEPOTS, id_depot))\n",
    "\n",
    "                ## Add them back into populations ###\n",
    "                populations.append(child1)\n",
    "                populations.append(child2)\n",
    "                populations.append(elite1)\n",
    "                populations.append(elite2)\n",
    "\n",
    "                ### Check break conditions ####\n",
    "                if (current_fitness > best_fitness_so_far):\n",
    "                    best_fitness_so_far = current_fitness\n",
    "                    bestFitGen = gen\n",
    "                    # print('#### New Best Fitness !! , Best so far is :' + str(10000.0 / best_fitness_so_far) + '#####')\n",
    "                    # print('#### This Generation: ' + str(gen) + '#######')\n",
    "                if (gen - bestFitGen >= 1000):\n",
    "                    # print('#### Break Generation: ' + str(gen) + '#######')\n",
    "                    break\n",
    "                # print('############# Round-'+str(round+1) +',DEPOT-'+str(id_depot)+','+ 'Generation:' + str(gen + 1) + ' #########################')\n",
    "                # print('This Gen Distance :' + str(10000.0 / current_fitness))\n",
    "\n",
    "            ### Evaluate results of current DEPOT ####\n",
    "            fitness_table = []\n",
    "            for chromosome in populations:\n",
    "                fitness_table.append(\n",
    "                    evaluate.chromosomeFitness(chromosome, DISTANCES, DISTANCES_FROM_DEPOTS, DISTANCES_TO_DEPOTS, id_depot))\n",
    "            populations = [x for _, x in sorted(zip(fitness_table, populations), reverse=True)]\n",
    "            # print(\"GA time --- %s seconds ---\" % (time.time() - GA_time))\n",
    "            best_chromosome = populations[0]\n",
    "            computational_time = time.time() - calculation_time\n",
    "            # print(\"Total Calculation time --- %s seconds ---\" % (computational_time))\n",
    "            distance = evaluate.chromosomeRoutesDistance(best_chromosome,DISTANCES,DISTANCES_FROM_DEPOTS,DISTANCES_TO_DEPOTS,id_depot)\n",
    "            # print('Distances of the best chromosome: ' + str(distance))\n",
    "            # print(best_chromosome)\n",
    "\n",
    "            ## Memo the results ##\n",
    "            results_all_depots.append(best_chromosome)\n",
    "            distance_all_depots.append(distance)\n",
    "            time_all_depots.append(computational_time)\n",
    "        total_results.append((results_all_depots,distance_all_depots,time_all_depots))\n",
    "        print(results_all_depots)\n",
    "    return total_results"
   ]
  },
  {
   "cell_type": "code",
   "execution_count": 4,
   "metadata": {},
   "outputs": [],
   "source": [
    "def mean_results(results):\n",
    "    solutions = []\n",
    "    cal_times = []\n",
    "    distances = []\n",
    "    for round, round_result in enumerate(results):\n",
    "        sol = results[round][0]\n",
    "        dist = results[round][1]\n",
    "        ct = results[round][2]\n",
    "\n",
    "        solutions.append(sol)\n",
    "        distances.append(dist)\n",
    "        cal_times.append(ct)\n",
    "    distances = np.array(distances)\n",
    "    distances = pd.DataFrame(distances)\n",
    "    distances = np.mean(distances, axis=0)\n",
    "    cal_times = np.array(cal_times)\n",
    "    cal_times = pd.DataFrame(cal_times)\n",
    "    cal_times = np.mean(cal_times, axis=0)\n",
    "    return solutions,distances, cal_times\n"
   ]
  },
  {
   "cell_type": "code",
   "execution_count": 5,
   "metadata": {},
   "outputs": [],
   "source": [
    "def create_worst_case(filepath, rounds = 1, population_size = 100, generations=3000, crossoverRate=1.0, mutationRate=0.5):\n",
    "    process_time = time.time()\n",
    "    numVehicles, LoadCapacities, speed, data = proc.load_file(filepath)\n",
    "    LOCATIONS = data[0]\n",
    "    DEMANDS = data[1]\n",
    "    timeWindows = data[2]\n",
    "    serviceTimes = data[3]\n",
    "    pickupSiblings = data[4]\n",
    "    deliverySiblings = data[5]\n",
    "    requestType = data[6]\n",
    "    REQUESTS = proc.generate_request(pickupSiblings, deliverySiblings, requestType)\n",
    "    DISTANCES = proc.createDistanceTable('real_map/DISTANCES.csv')\n",
    "    DURATIONS = proc.createDurationTable('real_map/DURATIONS.csv')\n",
    "    DEPOTS = proc.create_depots('real_map/depots.csv')\n",
    "    DISTANCES_FROM_DEPOTS = proc.distances_from_depots('real_map/DISTANCES_FROM_DEPOTS.csv')\n",
    "    DISTANCES_TO_DEPOTS = proc.distances_to_depots('real_map/DISTANCES_TO_DEPOTS.csv')\n",
    "    # DEPOT_NUMBERS = proc.simple_assign_depots(REQUESTS, LOCATIONS, DEPOTS, DISTANCES_FROM_DEPOTS, DISTANCES_TO_DEPOTS)\n",
    "    # DEPOT_NUMBERS = proc.worse2worst_assign_depots(REQUESTS, timeWindows,DISTANCES,DURATIONS,DEPOTS,DISTANCES_FROM_DEPOTS, DISTANCES_TO_DEPOTS)\n",
    "    DEPOT_NUMBERS = proc.KNN_assign_depots(REQUESTS, timeWindows,DISTANCES,DURATIONS,DEPOTS,DISTANCES_FROM_DEPOTS, DISTANCES_TO_DEPOTS)\n",
    "    REQ_BY_DEPOTS = proc.requests_by_depots(DEPOTS, REQUESTS, DEPOT_NUMBERS)\n",
    "    \n",
    "    res = GA.initialize_WorstCase_Chromosome(REQUESTS)\n",
    "    \n",
    "    \n",
    "    dist_worst = 0\n",
    "    for [idx,_,[p,d]] in res:\n",
    "        depot = int(DEPOT_NUMBERS[idx]) \n",
    "        dist_worst += (DISTANCES_FROM_DEPOTS[depot][p]+DISTANCES[p][d]+DISTANCES_TO_DEPOTS[d][depot])\n",
    "\n",
    "    return res,dist_worst"
   ]
  },
  {
   "cell_type": "markdown",
   "metadata": {},
   "source": [
    "# Automated run"
   ]
  },
  {
   "cell_type": "code",
   "execution_count": 10,
   "metadata": {},
   "outputs": [
    {
     "name": "stdout",
     "output_type": "stream",
     "text": [
      "----------------Instance name: pdp_instances/GOO/doing/goo9.csv-----------------------------------\n processing time --- 0.3500196933746338 seconds ---\n#################### Round :1 ############################\n"
     ]
    },
    {
     "name": "stdout",
     "output_type": "stream",
     "text": [
      "#################### Round :1 ############################\n"
     ]
    },
    {
     "name": "stdout",
     "output_type": "stream",
     "text": [
      "#################### Round :1 ############################\n"
     ]
    },
    {
     "name": "stdout",
     "output_type": "stream",
     "text": [
      "#################### Round :1 ############################\n"
     ]
    },
    {
     "name": "stdout",
     "output_type": "stream",
     "text": [
      "#################### Round :1 ############################\n"
     ]
    },
    {
     "name": "stdout",
     "output_type": "stream",
     "text": [
      "[[[1, [8, 13, 20], [44, 33, 32, 30, 22, 49]], [2, [26, 11], [29, 57, 59, 47]], [3, [29], [62, 80]], [0, [19, 21, 15, 16, 14, 12], [43, 45, 38, 37, 34, 39, 31, 36, 11, 18, 14, 9]]], [[1, [39, 28, 24], [55, 61, 79, 26, 7, 53]], [0, [22], [48, 5]]], [[2, [2, 10, 0, 30, 3, 32, 9, 1], [8, 4, 64, 63, 13, 25, 23, 16, 3, 1, 50, 66, 2, 41, 35, 46]], [1, [31, 36, 35, 5, 7], [72, 70, 65, 6, 12, 21, 28, 24, 20, 17]]], [[0, [34, 27], [69, 60, 58, 77]]], [[3, [4], [10, 54]], [0, [6, 33, 18, 25, 38], [56, 78, 42, 27, 19, 15, 68, 67, 71, 73]], [2, [37, 17, 23], [76, 51, 40, 52, 74, 75]], [1, [], []]]]\n#################### Round :2 ############################\n"
     ]
    },
    {
     "name": "stdout",
     "output_type": "stream",
     "text": [
      "#################### Round :2 ############################\n"
     ]
    },
    {
     "name": "stdout",
     "output_type": "stream",
     "text": [
      "#################### Round :2 ############################\n"
     ]
    },
    {
     "name": "stdout",
     "output_type": "stream",
     "text": [
      "#################### Round :2 ############################\n"
     ]
    },
    {
     "name": "stdout",
     "output_type": "stream",
     "text": [
      "#################### Round :2 ############################\n"
     ]
    },
    {
     "name": "stdout",
     "output_type": "stream",
     "text": [
      "[[[1, [8, 20, 13], [44, 33, 32, 30, 22, 49]], [3, [29], [62, 80]], [0, [26, 11], [29, 57, 59, 47]], [2, [21, 19, 16, 15, 12, 14], [38, 43, 45, 39, 37, 34, 31, 36, 11, 18, 14, 9]]], [[1, [22], [48, 5]], [0, [39, 28, 24], [55, 61, 79, 26, 7, 53]]], [[0, [2, 3, 31, 5, 7, 35], [8, 4, 64, 70, 65, 13, 12, 6, 21, 24, 20, 17]], [1, [32, 9, 10, 0, 36, 30, 1], [72, 63, 25, 28, 23, 16, 3, 50, 66, 1, 2, 41, 35, 46]]], [[0, [34, 27], [69, 60, 58, 77]]], [[2, [37, 17, 23], [76, 51, 40, 52, 74, 75]], [1, [4], [10, 54]], [0, [38, 6, 25, 18, 33], [56, 78, 42, 27, 19, 15, 68, 67, 71, 73]]]]\n#################### Round :3 ############################\n"
     ]
    },
    {
     "name": "stdout",
     "output_type": "stream",
     "text": [
      "#################### Round :3 ############################\n"
     ]
    },
    {
     "name": "stdout",
     "output_type": "stream",
     "text": [
      "#################### Round :3 ############################\n"
     ]
    },
    {
     "name": "stdout",
     "output_type": "stream",
     "text": [
      "#################### Round :3 ############################\n"
     ]
    },
    {
     "name": "stdout",
     "output_type": "stream",
     "text": [
      "#################### Round :3 ############################\n"
     ]
    },
    {
     "name": "stdout",
     "output_type": "stream",
     "text": [
      "[[[3, [29], [62, 80]], [1, [20, 13, 8], [44, 33, 32, 30, 22, 49]], [2, [26, 11], [29, 57, 59, 47]], [0, [19, 16, 15, 21, 12, 14], [38, 43, 45, 39, 37, 34, 31, 36, 11, 18, 14, 9]]], [[1, [39, 28, 24], [55, 61, 79, 26, 7, 53]], [0, [22], [48, 5]]], [[1, [], []], [0, [35, 36, 31, 5, 7], [72, 70, 65, 6, 12, 21, 28, 24, 20, 17]], [2, [3, 32, 9, 2, 30, 10, 0, 1], [8, 4, 64, 63, 13, 25, 23, 16, 3, 1, 50, 66, 2, 41, 35, 46]]], [[0, [34, 27], [69, 60, 58, 77]]], [[2, [4], [10, 54]], [1, [37, 17, 23], [76, 51, 40, 52, 74, 75]], [0, [25, 18, 33, 6, 38], [56, 78, 42, 27, 19, 15, 68, 67, 71, 73]]]]\n#################### Round :4 ############################\n"
     ]
    },
    {
     "name": "stdout",
     "output_type": "stream",
     "text": [
      "#################### Round :4 ############################\n"
     ]
    },
    {
     "name": "stdout",
     "output_type": "stream",
     "text": [
      "#################### Round :4 ############################\n"
     ]
    },
    {
     "name": "stdout",
     "output_type": "stream",
     "text": [
      "#################### Round :4 ############################\n"
     ]
    },
    {
     "name": "stdout",
     "output_type": "stream",
     "text": [
      "#################### Round :4 ############################\n"
     ]
    },
    {
     "name": "stdout",
     "output_type": "stream",
     "text": [
      "[[[0, [19, 21, 16, 15, 12, 14], [38, 43, 45, 39, 37, 34, 31, 36, 11, 18, 14, 9]], [2, [26, 11], [29, 57, 59, 47]], [1, [29], [62, 80]], [3, [20, 8, 13], [44, 33, 32, 30, 22, 49]]], [[1, [22], [48, 5]], [0, [39, 28, 24], [55, 61, 79, 26, 7, 53]]], [[3, [], []], [1, [7, 31, 35, 5, 36], [72, 70, 65, 6, 12, 21, 28, 24, 20, 17]], [0, [3], [8, 13]], [2, [30, 2, 10, 32, 9, 1, 0], [4, 63, 64, 25, 23, 16, 3, 1, 50, 66, 2, 41, 35, 46]]], [[0, [34, 27], [69, 60, 58, 77]]], [[0, [18, 33, 25, 38, 6], [56, 78, 42, 27, 19, 15, 68, 67, 71, 73]], [1, [17, 37, 23], [76, 51, 40, 52, 74, 75]], [2, [4], [10, 54]]]]\n#################### Round :5 ############################\n"
     ]
    },
    {
     "name": "stdout",
     "output_type": "stream",
     "text": [
      "#################### Round :5 ############################\n"
     ]
    },
    {
     "name": "stdout",
     "output_type": "stream",
     "text": [
      "#################### Round :5 ############################\n"
     ]
    },
    {
     "name": "stdout",
     "output_type": "stream",
     "text": [
      "#################### Round :5 ############################\n"
     ]
    },
    {
     "name": "stdout",
     "output_type": "stream",
     "text": [
      "#################### Round :5 ############################\n"
     ]
    },
    {
     "name": "stdout",
     "output_type": "stream",
     "text": [
      "[[[4, [29], [62, 80]], [3, [26, 11], [29, 57, 59, 47]], [2, [13, 8, 20], [44, 33, 32, 30, 22, 49]], [0, [16, 21, 15, 12, 14, 19], [38, 43, 45, 39, 37, 34, 31, 36, 11, 18, 14, 9]]], [[1, [28, 39, 24], [55, 61, 79, 26, 7, 53]], [0, [22], [48, 5]]], [[0, [3], [8, 13]], [1, [36, 7, 35, 31, 5], [72, 70, 65, 6, 12, 21, 28, 24, 20, 17]], [2, [30, 2, 10, 32, 9, 1, 0], [4, 63, 64, 25, 23, 16, 3, 1, 50, 66, 2, 41, 35, 46]]], [[0, [34, 27], [69, 60, 58, 77]]], [[0, [18, 38, 33, 25, 6], [56, 78, 42, 27, 19, 15, 68, 67, 71, 73]], [1, [17, 37, 23], [76, 51, 40, 52, 74, 75]], [2, [4], [10, 54]]]]\n#################### Round :6 ############################\n"
     ]
    },
    {
     "name": "stdout",
     "output_type": "stream",
     "text": [
      "#################### Round :6 ############################\n"
     ]
    },
    {
     "name": "stdout",
     "output_type": "stream",
     "text": [
      "#################### Round :6 ############################\n"
     ]
    },
    {
     "name": "stdout",
     "output_type": "stream",
     "text": [
      "#################### Round :6 ############################\n"
     ]
    },
    {
     "name": "stdout",
     "output_type": "stream",
     "text": [
      "#################### Round :6 ############################\n"
     ]
    },
    {
     "name": "stdout",
     "output_type": "stream",
     "text": [
      "[[[2, [15, 16, 21, 19, 12, 14], [38, 43, 45, 39, 37, 34, 31, 36, 11, 18, 14, 9]], [0, [26, 11], [29, 57, 59, 47]], [1, [20, 13, 8], [44, 33, 32, 30, 22, 49]], [3, [29], [62, 80]]], [[1, [22], [48, 5]], [0, [39, 28, 24], [55, 61, 79, 26, 7, 53]]], [[0, [36, 35, 7, 31, 5], [72, 70, 65, 6, 12, 21, 28, 24, 20, 17]], [2, [10, 30, 32, 2, 9, 0, 1], [4, 63, 64, 25, 23, 16, 3, 1, 50, 66, 2, 41, 35, 46]], [1, [3], [8, 13]]], [[0, [34, 27], [69, 60, 58, 77]]], [[2, [37, 33], [76, 68, 52, 73]], [1, [4], [10, 54]], [0, [23, 6, 25, 17, 38, 18], [56, 78, 51, 42, 27, 19, 15, 40, 67, 71, 74, 75]]]]\n#################### Round :7 ############################\n"
     ]
    },
    {
     "name": "stdout",
     "output_type": "stream",
     "text": [
      "#################### Round :7 ############################\n"
     ]
    },
    {
     "name": "stdout",
     "output_type": "stream",
     "text": [
      "#################### Round :7 ############################\n"
     ]
    },
    {
     "name": "stdout",
     "output_type": "stream",
     "text": [
      "#################### Round :7 ############################\n"
     ]
    },
    {
     "name": "stdout",
     "output_type": "stream",
     "text": [
      "#################### Round :7 ############################\n"
     ]
    },
    {
     "name": "stdout",
     "output_type": "stream",
     "text": [
      "[[[3, [29], [62, 80]], [2, [26, 11], [29, 57, 59, 47]], [0, [16, 19, 21, 15, 12, 14], [38, 43, 45, 39, 37, 34, 31, 36, 11, 18, 14, 9]], [1, [13, 20, 8], [44, 33, 32, 30, 22, 49]]], [[1, [28, 24, 39], [55, 61, 79, 26, 7, 53]], [0, [22], [48, 5]]], [[2, [32, 30, 3, 9, 10, 1, 0], [8, 63, 13, 25, 23, 16, 3, 1, 50, 66, 2, 41, 35, 46]], [0, [], []], [1, [2, 35, 7, 31, 36, 5], [4, 64, 70, 72, 65, 6, 12, 21, 28, 24, 20, 17]]], [[0, [34, 27], [69, 60, 58, 77]]], [[3, [37, 17, 23], [76, 51, 40, 52, 74, 75]], [2, [4], [10, 54]], [1, [18, 33, 6, 25, 38], [56, 78, 42, 27, 19, 15, 68, 67, 71, 73]]]]\n#################### Round :8 ############################\n"
     ]
    },
    {
     "name": "stdout",
     "output_type": "stream",
     "text": [
      "#################### Round :8 ############################\n"
     ]
    },
    {
     "name": "stdout",
     "output_type": "stream",
     "text": [
      "#################### Round :8 ############################\n"
     ]
    },
    {
     "name": "stdout",
     "output_type": "stream",
     "text": [
      "#################### Round :8 ############################\n"
     ]
    },
    {
     "name": "stdout",
     "output_type": "stream",
     "text": [
      "#################### Round :8 ############################\n"
     ]
    },
    {
     "name": "stdout",
     "output_type": "stream",
     "text": [
      "[[[3, [13, 8, 20], [44, 33, 32, 30, 22, 49]], [2, [26, 11, 29], [29, 57, 59, 62, 47, 80]], [0, [19, 16, 21, 12, 15, 14], [38, 43, 45, 39, 37, 34, 31, 36, 11, 18, 14, 9]], [1, [], []]], [[1, [39, 28, 24], [55, 61, 79, 26, 7, 53]], [0, [22], [48, 5]]], [[2, [10, 30, 32, 0, 36, 9, 1], [72, 63, 25, 28, 23, 16, 3, 1, 50, 66, 2, 41, 35, 46]], [1, [], []], [0, [3, 7, 2, 31, 5, 35], [8, 4, 64, 70, 65, 13, 12, 6, 21, 24, 20, 17]]], [[0, [34, 27], [69, 60, 58, 77]]], [[2, [37, 17, 23], [76, 51, 40, 52, 74, 75]], [1, [4], [10, 54]], [0, [18, 38, 25, 6, 33], [56, 78, 42, 27, 19, 15, 68, 67, 71, 73]]]]\n#################### Round :9 ############################\n"
     ]
    },
    {
     "name": "stdout",
     "output_type": "stream",
     "text": [
      "#################### Round :9 ############################\n"
     ]
    },
    {
     "name": "stdout",
     "output_type": "stream",
     "text": [
      "#################### Round :9 ############################\n"
     ]
    },
    {
     "name": "stdout",
     "output_type": "stream",
     "text": [
      "#################### Round :9 ############################\n"
     ]
    },
    {
     "name": "stdout",
     "output_type": "stream",
     "text": [
      "#################### Round :9 ############################\n"
     ]
    },
    {
     "name": "stdout",
     "output_type": "stream",
     "text": [
      "[[[3, [29], [62, 80]], [1, [21, 16, 12, 14, 15, 19], [38, 43, 45, 39, 37, 34, 31, 36, 11, 18, 14, 9]], [2, [26, 11], [29, 57, 59, 47]], [0, [20, 8, 13], [44, 33, 32, 30, 22, 49]]], [[1, [28, 39, 24], [55, 61, 79, 26, 7, 53]], [0, [22], [48, 5]]], [[1, [0, 31, 7, 35, 36], [72, 70, 65, 6, 1, 21, 28, 20, 17, 2]], [0, [3, 1, 5, 2, 30, 32, 9, 10], [8, 4, 64, 63, 25, 13, 12, 3, 23, 16, 50, 66, 24, 41, 35, 46]]], [[0, [34, 27], [69, 60, 58, 77]]], [[0, [33, 25, 18, 38, 6], [56, 78, 42, 27, 19, 15, 68, 67, 71, 73]], [1, [17, 23, 37], [76, 51, 40, 52, 74, 75]], [2, [4], [10, 54]]]]\n#################### Round :10 ############################\n"
     ]
    },
    {
     "name": "stdout",
     "output_type": "stream",
     "text": [
      "#################### Round :10 ############################\n"
     ]
    },
    {
     "name": "stdout",
     "output_type": "stream",
     "text": [
      "#################### Round :10 ############################\n"
     ]
    },
    {
     "name": "stdout",
     "output_type": "stream",
     "text": [
      "#################### Round :10 ############################\n"
     ]
    },
    {
     "name": "stdout",
     "output_type": "stream",
     "text": [
      "#################### Round :10 ############################\n"
     ]
    },
    {
     "name": "stdout",
     "output_type": "stream",
     "text": [
      "[[[3, [29], [62, 80]], [2, [26, 11], [29, 57, 59, 47]], [1, [20, 13, 8], [44, 33, 32, 30, 22, 49]], [0, [21, 12, 16, 19, 15, 14], [38, 43, 45, 39, 37, 34, 31, 36, 11, 18, 14, 9]]], [[1, [39, 28, 24], [55, 61, 79, 26, 7, 53]], [0, [22], [48, 5]]], [[2, [32, 2, 9, 10, 3, 30, 1, 0], [8, 4, 64, 63, 13, 25, 23, 16, 3, 1, 50, 66, 2, 41, 35, 46]], [1, [36, 35, 31, 7, 5], [72, 70, 65, 6, 12, 21, 28, 24, 20, 17]]], [[0, [34, 27], [69, 60, 58, 77]]], [[3, [37, 17, 23], [76, 51, 40, 52, 74, 75]], [2, [4], [10, 54]], [0, [38, 33, 6, 18, 25], [56, 78, 42, 27, 19, 15, 68, 67, 71, 73]], [1, [], []]]]\n"
     ]
    }
   ],
   "source": [
    "path = 'pdp_instances/GOO/doing/'\n",
    "FILENAMES = next(os.walk(path))[2]\n",
    "\n",
    "all_results = []\n",
    "\n",
    "for name in FILENAMES:\n",
    "    filepath = path + name\n",
    "    results = solve_and_print(filepath)\n",
    "    solutions,distances,cal_times = mean_results(results)\n",
    "    all_results.append((solutions,distances,cal_times))"
   ]
  },
  {
   "cell_type": "markdown",
   "metadata": {},
   "source": [
    "# The GOO Instances"
   ]
  },
  {
   "cell_type": "markdown",
   "metadata": {},
   "source": [
    "# Average list by columns"
   ]
  },
  {
   "cell_type": "code",
   "execution_count": 5,
   "metadata": {},
   "outputs": [],
   "source": [
    "# filename = 'pdp_instances/GOO/goo1.csv'"
   ]
  },
  {
   "cell_type": "code",
   "execution_count": 6,
   "metadata": {},
   "outputs": [
    {
     "name": "stdout",
     "output_type": "stream",
     "text": [
      "Instance name : goo1\n"
     ]
    }
   ],
   "source": [
    "# filepath = filename \n",
    "# filename = filename.rsplit('/', 1)[1]\n",
    "# filename = filename.split('.')[0]\n",
    "# print( 'Instance name : '+str(filename))\n"
   ]
  },
  {
   "cell_type": "code",
   "execution_count": 7,
   "metadata": {},
   "outputs": [
    {
     "name": "stdout",
     "output_type": "stream",
     "text": [
      "----------------Instance name: pdp_instances/GOO/goo1.csv-----------------------------------\n processing time --- 1.0620617866516113 seconds ---\n#################### Round :1 ############################\n"
     ]
    },
    {
     "name": "stdout",
     "output_type": "stream",
     "text": [
      "#################### Round :1 ############################\n"
     ]
    },
    {
     "name": "stdout",
     "output_type": "stream",
     "text": [
      "#################### Round :1 ############################\n"
     ]
    },
    {
     "name": "stdout",
     "output_type": "stream",
     "text": [
      "#################### Round :1 ############################\n"
     ]
    },
    {
     "name": "stdout",
     "output_type": "stream",
     "text": [
      "#################### Round :1 ############################\n"
     ]
    }
   ],
   "source": [
    "# results = solve_and_print(filepath)"
   ]
  },
  {
   "cell_type": "code",
   "execution_count": 8,
   "metadata": {},
   "outputs": [
    {
     "data": {
      "text/plain": [
       "[([[[2, [15], [35, 49]],\n    [1, [19, 16], [41, 37, 34, 22]],\n    [0, [13, 4, 6], [15, 31, 43, 18, 48, 42]]],\n   [[1, [38], [79, 61]], [0, [39, 25, 24], [52, 51, 80, 21, 5, 10]]],\n   [[6, [5, 3, 8], [9, 24, 16, 12, 11, 2]],\n    [1, [21, 2, 12], [7, 45, 33, 30, 23, 25]],\n    [5, [], []],\n    [2, [32, 27, 11, 10, 33], [29, 63, 55, 77, 69, 28, 27, 64, 71, 65]],\n    [4, [], []],\n    [0, [31, 23, 7, 18], [62, 47, 40, 19, 20, 13, 50, 53]],\n    [3, [9, 14, 0, 34], [32, 26, 3, 4, 67, 68, 66, 14]]],\n   [[0, [30], [60, 58]]],\n   [[3, [], []],\n    [0, [17, 26, 22, 20], [54, 46, 44, 36, 39, 70, 78, 72]],\n    [1, [29, 1, 28], [56, 57, 38, 1, 6, 59]],\n    [2, [37, 35, 36], [74, 75, 73, 76, 17, 8]]]],\n  [62342.0, 32954.0, 156140.0, 11241.0, 114938.0],\n  [5.082298040390015,\n   3.2432212829589844,\n   23.598564386367798,\n   1.1332643032073975,\n   6.455474376678467])]"
      ]
     },
     "execution_count": 8,
     "metadata": {},
     "output_type": "execute_result"
    }
   ],
   "source": [
    "# results"
   ]
  },
  {
   "cell_type": "code",
   "execution_count": 9,
   "metadata": {},
   "outputs": [],
   "source": [
    "# res =results[0]\n",
    "# SOL,DIST,CT = res[0],res[1],res[2]\n"
   ]
  },
  {
   "cell_type": "code",
   "execution_count": 11,
   "metadata": {},
   "outputs": [],
   "source": [
    "def count_num_vehicle(solutions):\n",
    "    nums = []\n",
    "    for sol in solutions:\n",
    "        sol = [x for x in sol if len(x[1])>0]\n",
    "        nums.append(len(sol))\n",
    "    return nums"
   ]
  },
  {
   "cell_type": "code",
   "execution_count": 65,
   "metadata": {},
   "outputs": [
    {
     "data": {
      "text/plain": [
       "733752.0"
      ]
     },
     "execution_count": 65,
     "metadata": {},
     "output_type": "execute_result"
    }
   ],
   "source": [
    "worst_sol,distance_worst = create_worst_case('pdp_instances/GOO/goo9.csv')\n",
    "distance_worst"
   ]
  },
  {
   "cell_type": "code",
   "execution_count": 66,
   "metadata": {},
   "outputs": [
    {
     "data": {
      "text/plain": [
       "[40]"
      ]
     },
     "execution_count": 66,
     "metadata": {},
     "output_type": "execute_result"
    }
   ],
   "source": [
    "# SOL[2]\n",
    "count_num_vehicle([worst_sol])"
   ]
  },
  {
   "cell_type": "code",
   "execution_count": 67,
   "metadata": {},
   "outputs": [
    {
     "data": {
      "text/plain": [
       "[[0, [0], [1, 2]],\n [1, [1], [3, 35]],\n [2, [2], [4, 64]],\n [3, [3], [8, 13]],\n [4, [4], [10, 54]],\n [5, [5], [12, 24]],\n [6, [6], [19, 71]],\n [7, [7], [20, 17]],\n [8, [8], [22, 49]],\n [9, [9], [23, 41]],\n [10, [10], [25, 16]],\n [11, [11], [29, 59]],\n [12, [12], [31, 18]],\n [13, [13], [33, 30]],\n [14, [14], [36, 9]],\n [15, [15], [38, 11]],\n [16, [16], [39, 14]],\n [17, [17], [40, 74]],\n [18, [18], [42, 67]],\n [19, [19], [43, 37]],\n [20, [20], [44, 32]],\n [21, [21], [45, 34]],\n [22, [22], [48, 5]],\n [23, [23], [51, 75]],\n [24, [24], [55, 26]],\n [25, [25], [56, 27]],\n [26, [26], [57, 47]],\n [27, [27], [60, 77]],\n [28, [28], [61, 7]],\n [29, [29], [62, 80]],\n [30, [30], [63, 50]],\n [31, [31], [65, 21]],\n [32, [32], [66, 46]],\n [33, [33], [68, 73]],\n [34, [34], [69, 58]],\n [35, [35], [70, 6]],\n [36, [36], [72, 28]],\n [37, [37], [76, 52]],\n [38, [38], [78, 15]],\n [39, [39], [79, 53]]]"
      ]
     },
     "execution_count": 67,
     "metadata": {},
     "output_type": "execute_result"
    }
   ],
   "source": [
    "\n",
    "worst_sol"
   ]
  },
  {
   "cell_type": "code",
   "execution_count": 10,
   "metadata": {},
   "outputs": [],
   "source": [
    "# results = [([[[2,[16,19],[41,37,34,22]],[1,[13,4,6],[15,31,43,18,48,42]],[0,[15],[35,49]]],[[1,[39,25,24],[52,51,80,21,5,10]],[0,[38],[79,61]]],[[2,[23,7,21],[19,47,45,50,53,25]],[5,[12,31,18],[62,40,30,23,20,13]],[3,[2,32,14,11,27,10,33],[32,7,4,29,33,63,55,77,69,28,27,64,71,65]],[1,[],[]],[0,[34,9,8,0],[3,26,24,68,67,66,2,14]],[4,[3,5],[9,16,12,11]]],[[0,[30],[60,58]]],[[3,[37,35,36],[74,75,73,76,17,8]],[2,[],[]],[1,[29,28,1],[56,57,38,1,6,59]],\n",
    "                                                                                                                                                                                                                                                                                                                                                                                       [0,[26,22,20,17],[54,46,44,36,39,70,78,72]]]])]"
   ]
  },
  {
   "cell_type": "code",
   "execution_count": 16,
   "metadata": {},
   "outputs": [],
   "source": [
    "# res = results[0]"
   ]
  },
  {
   "cell_type": "code",
   "execution_count": 18,
   "metadata": {},
   "outputs": [
    {
     "data": {
      "text/plain": [
       "[[2, [16, 19], [41, 37, 34, 22]],\n [1, [13, 4, 6], [15, 31, 43, 18, 48, 42]],\n [0, [15], [35, 49]]]"
      ]
     },
     "execution_count": 18,
     "metadata": {},
     "output_type": "execute_result"
    }
   ],
   "source": [
    "# res[0]"
   ]
  },
  {
   "cell_type": "markdown",
   "metadata": {},
   "source": [
    "# Writing to CSV"
   ]
  },
  {
   "cell_type": "code",
   "execution_count": 23,
   "metadata": {},
   "outputs": [],
   "source": [
    "solutions,distances,cal_times = mean_results(all_results)\n",
    "dist = [dist for _,dist,_ in all_results]\n",
    "dist = np.array(dist)\n",
    "df = pd.DataFrame(dist)\n",
    "df.to_csv('distances_goo11.csv')\n",
    "CT = [ct for _,_,ct in all_results]\n",
    "CT = np.array(CT)\n",
    "df_CT = pd.DataFrame(CT)\n",
    "df_CT.to_csv('CT_goo11.csv')"
   ]
  },
  {
   "cell_type": "markdown",
   "metadata": {},
   "source": [
    "# Average list by columns"
   ]
  },
  {
   "cell_type": "code",
   "execution_count": 8,
   "metadata": {},
   "outputs": [],
   "source": [
    "def avg_table(table):\n",
    "    transposed = zip(*table)\n",
    "    avg = lambda items: float(sum(items)) / len(items)\n",
    "    averages = map(avg, transposed)\n",
    "    averages = list(averages)\n",
    "    return  averages"
   ]
  },
  {
   "cell_type": "code",
   "execution_count": 9,
   "metadata": {},
   "outputs": [
    {
     "name": "stdout",
     "output_type": "stream",
     "text": [
      "[3.7, 1.0, 3.0, 0.0, 2.0]\n"
     ]
    }
   ],
   "source": [
    "# for sol in solutions:\n",
    "num_vehicles  = []\n",
    "i = 0\n",
    "for res in all_results:\n",
    "    solutions = res[0]\n",
    "    arr_temp = []\n",
    "    for sol in solutions:\n",
    "        num_temp = count_num_vehicle(sol)\n",
    "        arr_temp.append(num_temp)\n",
    "    avg_temp = avg_table(arr_temp)\n",
    "    print(avg_temp)\n",
    "    num_vehicles.append(avg_temp)"
   ]
  },
  {
   "cell_type": "code",
   "execution_count": 10,
   "metadata": {},
   "outputs": [],
   "source": [
    "\n",
    "num_vehicles = np.array(num_vehicles)\n",
    "df_num_vehicles = pd.DataFrame(num_vehicles)\n",
    "df_num_vehicles.to_csv('num_veh_goo.csv')"
   ]
  },
  {
   "cell_type": "code",
   "execution_count": 20,
   "metadata": {},
   "outputs": [
    {
     "data": {
      "text/plain": [
       "([[[3, [39, 28], [80, 61, 26, 44]],\n   [2, [29, 11, 16, 21], [62, 52, 40, 29, 38, 35, 27, 31]],\n   [1, [35, 37, 34, 38], [76, 75, 73, 71, 34, 30, 42, 41]],\n   [0, [32, 33, 36, 22], [65, 66, 74, 53, 79, 46, 43, 45]]],\n  [[0, [17, 15], [39, 47, 11, 19]]],\n  [[3, [31, 30, 25], [63, 64, 70, 56, 12, 2]],\n   [2, [9, 3, 1], [25, 23, 9, 4, 16, 7]],\n   [0,\n    [12, 0, 18, 6, 2, 8, 10],\n    [3, 28, 48, 20, 13, 5, 6, 1, 8, 24, 33, 32, 22, 15]]],\n  [],\n  [[2,\n    [27, 20, 14, 7, 23, 4],\n    [54, 37, 51, 77, 59, 60, 68, 21, 17, 14, 50, 57]],\n   [1, [], []],\n   [0, [26, 19, 5, 13, 24], [58, 36, 10, 18, 49, 55, 69, 72, 78, 67]]]],\n [138762.0, 28910.0, 76408.0, 0, 128962.0],\n [16.508774280548096,\n  1.6227107048034668,\n  15.153313875198364,\n  0,\n  10.725628137588501])"
      ]
     },
     "execution_count": 20,
     "metadata": {},
     "output_type": "execute_result"
    }
   ],
   "source": [
    ""
   ]
  },
  {
   "cell_type": "code",
   "execution_count": 30,
   "metadata": {},
   "outputs": [],
   "source": [
    "temp = all_results[0][0][0]"
   ]
  },
  {
   "cell_type": "code",
   "execution_count": 36,
   "metadata": {},
   "outputs": [],
   "source": [
    "temp = temp[2]"
   ]
  },
  {
   "cell_type": "code",
   "execution_count": 44,
   "metadata": {},
   "outputs": [],
   "source": [
    "a = set(temp[0][2])"
   ]
  },
  {
   "cell_type": "code",
   "execution_count": 45,
   "metadata": {},
   "outputs": [],
   "source": [
    "b = set(temp[1][2])"
   ]
  },
  {
   "cell_type": "code",
   "execution_count": 49,
   "metadata": {},
   "outputs": [],
   "source": [
    "c = list(a.union(b))"
   ]
  },
  {
   "cell_type": "code",
   "execution_count": 59,
   "metadata": {},
   "outputs": [],
   "source": [
    "c =set(c)"
   ]
  },
  {
   "cell_type": "code",
   "execution_count": 55,
   "metadata": {},
   "outputs": [],
   "source": [
    "temp = [{8: (22, 49), 11: (29, 59), 12: (31, 18), 13: (33, 30), 14: (36, 9), 15: (38, 11), 16: (39, 14), 19: (43, 37), 20: (44, 32), 21: (45, 34), 26: (57, 47), 29: (62, 80)}, {22: (48, 5), 24: (55, 26), 28: (61, 7), 39: (79, 53)}, {0: (1, 2), 1: (3, 35), 2: (4, 64), 3: (8, 13), 5: (12, 24), 7: (20, 17), 9: (23, 41), 10: (25, 16), 30: (63, 50), 31: (65, 21), 32: (66, 46), 35: (70, 6), 36: (72, 28)}, {27: (60, 77), 34: (69, 58)}, {4: (10, 54), 6: (19, 71), 17: (40, 74), 18: (42, 67), 23: (51, 75), 25: (56, 27), 33: (68, 73), 37: (76, 52), 38: (78, 15)}]"
   ]
  },
  {
   "cell_type": "code",
   "execution_count": 72,
   "metadata": {},
   "outputs": [
    {
     "data": {
      "text/plain": [
       "{(1, 2),\n (3, 35),\n (4, 64),\n (8, 13),\n (12, 24),\n (20, 17),\n (23, 41),\n (25, 16),\n (63, 50),\n (65, 21),\n (66, 46),\n (70, 6),\n (72, 28)}"
      ]
     },
     "execution_count": 72,
     "metadata": {},
     "output_type": "execute_result"
    }
   ],
   "source": [
    "temp[2]\n",
    "s = set([x for x in temp[2].values()])\n",
    "s"
   ]
  },
  {
   "cell_type": "code",
   "execution_count": 73,
   "metadata": {},
   "outputs": [],
   "source": [
    "worst_sol2 = [ x for x in worst_sol if tuple(x[2]) in s]"
   ]
  },
  {
   "cell_type": "code",
   "execution_count": 74,
   "metadata": {},
   "outputs": [
    {
     "data": {
      "text/plain": [
       "[[0, [0], [1, 2]],\n [1, [1], [3, 35]],\n [2, [2], [4, 64]],\n [3, [3], [8, 13]],\n [5, [5], [12, 24]],\n [7, [7], [20, 17]],\n [9, [9], [23, 41]],\n [10, [10], [25, 16]],\n [30, [30], [63, 50]],\n [31, [31], [65, 21]],\n [32, [32], [66, 46]],\n [35, [35], [70, 6]],\n [36, [36], [72, 28]]]"
      ]
     },
     "execution_count": 74,
     "metadata": {},
     "output_type": "execute_result"
    }
   ],
   "source": [
    "worst_sol2"
   ]
  },
  {
   "cell_type": "code",
   "execution_count": null,
   "metadata": {},
   "outputs": [],
   "source": []
  }
 ],
 "metadata": {
  "kernelspec": {
   "display_name": "Python 2",
   "language": "python",
   "name": "python2"
  },
  "language_info": {
   "codemirror_mode": {
    "name": "ipython",
    "version": 2
   },
   "file_extension": ".py",
   "mimetype": "text/x-python",
   "name": "python",
   "nbconvert_exporter": "python",
   "pygments_lexer": "ipython2",
   "version": "2.7.6"
  }
 },
 "nbformat": 4,
 "nbformat_minor": 0
}
