{
 "cells": [
  {
   "cell_type": "code",
   "execution_count": 1,
   "metadata": {
    "collapsed": true
   },
   "outputs": [],
   "source": [
    "import time\n",
    "import random\n",
    "import os\n",
    "import pandas as pd\n",
    "import csv\n",
    "import numpy as np\n",
    "from itertools import chain\n",
    "from pdp_lib import processing_google_map as proc\n",
    "from pdp_lib import util\n",
    "from GA_lib import GA_multi_depot as GA\n",
    "from GA_lib import operation_multi_depot as operation\n",
    "from GA_lib import evaluate_multi_depot as evaluate\n",
    "from statistics import mode"
   ]
  },
  {
   "cell_type": "code",
   "execution_count": 12,
   "metadata": {},
   "outputs": [],
   "source": [
    "def solve_and_print(filepath, rounds = 10, population_size = 100, generations=2000, crossoverRate=1.0, mutationRate=0.5):\n",
    "    process_time = time.time()\n",
    "    numVehicles, LoadCapacities, speed, data = proc.load_file(filepath)\n",
    "    LOCATIONS = data[0]\n",
    "    DEMANDS = data[1]\n",
    "    timeWindows = data[2]\n",
    "    serviceTimes = data[3]\n",
    "    pickupSiblings = data[4]\n",
    "    deliverySiblings = data[5]\n",
    "    requestType = data[6]\n",
    "    REQUESTS = proc.generate_request(pickupSiblings, deliverySiblings, requestType)\n",
    "    DISTANCES = proc.createDistanceTable('real_map/DISTANCES.csv')\n",
    "    DURATIONS = proc.createDurationTable('real_map/DURATIONS.csv')\n",
    "    DEPOTS = proc.create_depots('real_map/depots.csv')\n",
    "    DISTANCES_FROM_DEPOTS = proc.distances_from_depots('real_map/DISTANCES_FROM_DEPOTS.csv')\n",
    "    DISTANCES_TO_DEPOTS = proc.distances_to_depots('real_map/DISTANCES_TO_DEPOTS.csv')\n",
    "    # DEPOT_NUMBERS = proc.simple_assign_depots(REQUESTS, LOCATIONS, DEPOTS, DISTANCES_FROM_DEPOTS, DISTANCES_TO_DEPOTS)\n",
    "    DEPOT_NUMBERS = proc.worse2worst_assign_depots(REQUESTS, timeWindows,DISTANCES,DURATIONS,DEPOTS,DISTANCES_FROM_DEPOTS, DISTANCES_TO_DEPOTS)\n",
    "    # DEPOT_NUMBERS = proc.KNN_assign_depots(REQUESTS, timeWindows,DISTANCES,DURATIONS,DEPOTS,DISTANCES_FROM_DEPOTS, DISTANCES_TO_DEPOTS)\n",
    "    REQ_BY_DEPOTS = proc.requests_by_depots(DEPOTS, REQUESTS, DEPOT_NUMBERS)\n",
    "\n",
    "    print('----------------Instance name: ' + str(filepath) + '-----------------------------------')\n",
    "    print(\" processing time --- %s seconds ---\" % (time.time() - process_time))\n",
    "\n",
    "    total_results = []\n",
    "    for round in range(rounds):\n",
    "        results_all_depots = []\n",
    "        distance_all_depots = []\n",
    "        time_all_depots = []\n",
    "        for id_depot in range(len(DEPOTS)):\n",
    "            THIS_DEP_REQS = REQ_BY_DEPOTS[id_depot]\n",
    "            NODES_OF_THIS_DEPOT = proc.locations_of_this_depot(id_depot, REQ_BY_DEPOTS, LOCATIONS)\n",
    "            if(len(NODES_OF_THIS_DEPOT)==0):\n",
    "                results_all_depots.append([])\n",
    "                distance_all_depots.append(0)\n",
    "                time_all_depots.append(0)\n",
    "                continue\n",
    "            # ############### SOLVING THE PROBLEMS !!!!!!!! ######################################\n",
    "            pops_create_time = time.time()\n",
    "            calculation_time = time.time()\n",
    "            print('#################### Round :' +str(round+1)+' ############################')\n",
    "            ## Initialize the populations\n",
    "            populations = []\n",
    "            for _ in range(population_size):\n",
    "                chromosome = GA.initialize_Feasible_chromosome(DISTANCES, DISTANCES_FROM_DEPOTS, DISTANCES_TO_DEPOTS, id_depot, DURATIONS, timeWindows, THIS_DEP_REQS, DEMANDS, LoadCapacities)\n",
    "                populations.append(chromosome)\n",
    "            # print(\"Populations creation time --- %s seconds ---\" % (time.time() - pops_create_time))\n",
    "            ## Crossovers and mutate ##\n",
    "            GA_time = time.time()\n",
    "\n",
    "            ## Evaluate fitnesses of all populations ##\n",
    "            best_fitness_so_far = -99999999\n",
    "            for gen in range(generations):\n",
    "                fitness_table = []\n",
    "                for chromosome in populations:\n",
    "                    fitness_table.append(\n",
    "                        evaluate.chromosomeFitness(chromosome, DISTANCES, DISTANCES_FROM_DEPOTS, DISTANCES_TO_DEPOTS,\n",
    "                                                   id_depot))\n",
    "                populations = [x for _, x in sorted(zip(fitness_table, populations), reverse=True)]\n",
    "                populations.pop()\n",
    "                populations.pop()\n",
    "                elite1 = populations.pop(0)\n",
    "                elite2 = populations.pop(0)\n",
    "\n",
    "\n",
    "                ## Tournament Selection ##\n",
    "                # id1, id2 = random.randrange(0, len(populations)), random.randrange(0, len(populations))\n",
    "                id1,id2,id3,id4 = random.sample(range(0, len(populations)), 4)\n",
    "                fitness1,fitness2,fitness3,fitness4 = fitness_table[id1],fitness_table[id2],fitness_table[id3],fitness_table[id4]\n",
    "                candidate1,candidate2,candidate3,candidate4 = populations[id1], populations[id2],populations[id3],populations[id4]\n",
    "                parent1 = operation.tournament_selection(candidate1,candidate2,fitness1,fitness2)\n",
    "                parent2 = operation.tournament_selection(candidate3,candidate4,fitness3,fitness4)\n",
    "\n",
    "                ## Crossing over !! ####\n",
    "                child1, child2 = operation.crossover(DISTANCES, DURATIONS, timeWindows, THIS_DEP_REQS, parent1, parent2,\n",
    "                                                     DEMANDS, LoadCapacities, DISTANCES_FROM_DEPOTS,\n",
    "                                                     DISTANCES_TO_DEPOTS, id_depot, crossoverRate)\n",
    "                # if(not evaluate.haveEqualNodes(child1,child2,LOCATIONS)):\n",
    "                #         print('note have Equal nodes, Crossover Bug!!!!!'+ str(gen))\n",
    "                #         break\n",
    "                #\n",
    "                ## Mutation ##\n",
    "                child1 = operation.mutate(child1, DISTANCES, DURATIONS, timeWindows, THIS_DEP_REQS, DEMANDS,\n",
    "                                          LoadCapacities, DISTANCES_FROM_DEPOTS, DISTANCES_TO_DEPOTS, id_depot, mutationRate)\n",
    "                child2 = operation.mutate(child2, DISTANCES, DURATIONS, timeWindows, THIS_DEP_REQS, DEMANDS,\n",
    "                                          LoadCapacities, DISTANCES_FROM_DEPOTS, DISTANCES_TO_DEPOTS, id_depot, mutationRate)\n",
    "                if (not evaluate.haveEqualNodes(child1, child2, NODES_OF_THIS_DEPOT)):\n",
    "                    print('note have Equal nodes, Mutation Bug!!!!!' + str(gen))\n",
    "                    break\n",
    "\n",
    "\n",
    "                ## Evaluate Fitness of the best ones ###\n",
    "                current_fitness = evaluate.chromosomeFitness(child1, DISTANCES, DISTANCES_FROM_DEPOTS,\n",
    "                                                             DISTANCES_TO_DEPOTS, id_depot)\n",
    "                current_fitness = max(current_fitness,\n",
    "                                      evaluate.chromosomeFitness(child2, DISTANCES, DISTANCES_FROM_DEPOTS,\n",
    "                                                                 DISTANCES_TO_DEPOTS, id_depot))\n",
    "                current_fitness = max(current_fitness,\n",
    "                                      evaluate.chromosomeFitness(elite1, DISTANCES, DISTANCES_FROM_DEPOTS,\n",
    "                                                                 DISTANCES_TO_DEPOTS, id_depot))\n",
    "                current_fitness = max(current_fitness,\n",
    "                                      evaluate.chromosomeFitness(elite2, DISTANCES, DISTANCES_FROM_DEPOTS,\n",
    "                                                                 DISTANCES_TO_DEPOTS, id_depot))\n",
    "\n",
    "                ## Add them back into populations ###\n",
    "                populations.append(child1)\n",
    "                populations.append(child2)\n",
    "                populations.append(elite1)\n",
    "                populations.append(elite2)\n",
    "\n",
    "                ### Check break conditions ####\n",
    "                if (current_fitness > best_fitness_so_far):\n",
    "                    best_fitness_so_far = current_fitness\n",
    "                    bestFitGen = gen\n",
    "                    # print('#### New Best Fitness !! , Best so far is :' + str(10000.0 / best_fitness_so_far) + '#####')\n",
    "                    # print('#### This Generation: ' + str(gen) + '#######')\n",
    "                if (gen - bestFitGen >= 1000):\n",
    "                    # print('#### Break Generation: ' + str(gen) + '#######')\n",
    "                    break\n",
    "                # print('############# Round-'+str(round+1) +',DEPOT-'+str(id_depot)+','+ 'Generation:' + str(gen + 1) + ' #########################')\n",
    "                # print('This Gen Distance :' + str(10000.0 / current_fitness))\n",
    "\n",
    "            ### Evaluate results of current DEPOT ####\n",
    "            fitness_table = []\n",
    "            for chromosome in populations:\n",
    "                fitness_table.append(\n",
    "                    evaluate.chromosomeFitness(chromosome, DISTANCES, DISTANCES_FROM_DEPOTS, DISTANCES_TO_DEPOTS, id_depot))\n",
    "            populations = [x for _, x in sorted(zip(fitness_table, populations), reverse=True)]\n",
    "            # print(\"GA time --- %s seconds ---\" % (time.time() - GA_time))\n",
    "            best_chromosome = populations[0]\n",
    "            computational_time = time.time() - calculation_time\n",
    "            # print(\"Total Calculation time --- %s seconds ---\" % (computational_time))\n",
    "            distance = evaluate.chromosomeRoutesDistance(best_chromosome,DISTANCES,DISTANCES_FROM_DEPOTS,DISTANCES_TO_DEPOTS,id_depot)\n",
    "            # print('Distances of the best chromosome: ' + str(distance))\n",
    "            # print(best_chromosome)\n",
    "\n",
    "            ## Memo the results ##\n",
    "            results_all_depots.append(best_chromosome)\n",
    "            distance_all_depots.append(distance)\n",
    "            time_all_depots.append(computational_time)\n",
    "        total_results.append((results_all_depots,distance_all_depots,time_all_depots))\n",
    "        print(results_all_depots)\n",
    "    return total_results"
   ]
  },
  {
   "cell_type": "code",
   "execution_count": 13,
   "metadata": {},
   "outputs": [],
   "source": [
    "def mean_results(results):\n",
    "    solutions = []\n",
    "    cal_times = []\n",
    "    distances = []\n",
    "    for round, round_result in enumerate(results):\n",
    "        sol = results[round][0]\n",
    "        dist = results[round][1]\n",
    "        ct = results[round][2]\n",
    "\n",
    "        solutions.append(sol)\n",
    "        distances.append(dist)\n",
    "        cal_times.append(ct)\n",
    "    distances = np.array(distances)\n",
    "    distances = pd.DataFrame(distances)\n",
    "    distances = np.mean(distances, axis=0)\n",
    "    cal_times = np.array(cal_times)\n",
    "    cal_times = pd.DataFrame(cal_times)\n",
    "    cal_times = np.mean(cal_times, axis=0)\n",
    "    return solutions,distances, cal_times\n"
   ]
  },
  {
   "cell_type": "code",
   "execution_count": 14,
   "metadata": {},
   "outputs": [],
   "source": [
    "def create_worst_case(filepath, rounds = 1, population_size = 100, generations=3000, crossoverRate=1.0, mutationRate=0.5):\n",
    "    process_time = time.time()\n",
    "    numVehicles, LoadCapacities, speed, data = proc.load_file(filepath)\n",
    "    LOCATIONS = data[0]\n",
    "    DEMANDS = data[1]\n",
    "    timeWindows = data[2]\n",
    "    serviceTimes = data[3]\n",
    "    pickupSiblings = data[4]\n",
    "    deliverySiblings = data[5]\n",
    "    requestType = data[6]\n",
    "    REQUESTS = proc.generate_request(pickupSiblings, deliverySiblings, requestType)\n",
    "    DISTANCES = proc.createDistanceTable('real_map/DISTANCES.csv')\n",
    "    DURATIONS = proc.createDurationTable('real_map/DURATIONS.csv')\n",
    "    DEPOTS = proc.create_depots('real_map/depots.csv')\n",
    "    DISTANCES_FROM_DEPOTS = proc.distances_from_depots('real_map/DISTANCES_FROM_DEPOTS.csv')\n",
    "    DISTANCES_TO_DEPOTS = proc.distances_to_depots('real_map/DISTANCES_TO_DEPOTS.csv')\n",
    "    # DEPOT_NUMBERS = proc.simple_assign_depots(REQUESTS, LOCATIONS, DEPOTS, DISTANCES_FROM_DEPOTS, DISTANCES_TO_DEPOTS)\n",
    "    DEPOT_NUMBERS = proc.worse2worst_assign_depots(REQUESTS, timeWindows,DISTANCES,DURATIONS,DEPOTS,DISTANCES_FROM_DEPOTS, DISTANCES_TO_DEPOTS)\n",
    "    REQ_BY_DEPOTS = proc.requests_by_depots(DEPOTS, REQUESTS, DEPOT_NUMBERS)\n",
    "    \n",
    "    res = GA.initialize_WorstCase_Chromosome(REQUESTS)\n",
    "    \n",
    "    \n",
    "    dist_worst = 0\n",
    "    for [idx,_,[p,d]] in res:\n",
    "        depot = int(DEPOT_NUMBERS[idx]) \n",
    "        dist_worst += (DISTANCES_FROM_DEPOTS[depot][p]+DISTANCES[p][d]+DISTANCES_TO_DEPOTS[d][depot])\n",
    "\n",
    "    return res,dist_worst"
   ]
  },
  {
   "cell_type": "markdown",
   "metadata": {},
   "source": [
    "# Automated run"
   ]
  },
  {
   "cell_type": "code",
   "execution_count": 15,
   "metadata": {},
   "outputs": [
    {
     "name": "stdout",
     "output_type": "stream",
     "text": [
      "----------------Instance name: pdp_instances/GOO/goo1.csv-----------------------------------\n processing time --- 0.5500640869140625 seconds ---\n#################### Round :1 ############################\n"
     ]
    },
    {
     "name": "stdout",
     "output_type": "stream",
     "text": [
      "#################### Round :1 ############################\n"
     ]
    },
    {
     "name": "stdout",
     "output_type": "stream",
     "text": [
      "#################### Round :1 ############################\n"
     ]
    },
    {
     "name": "stdout",
     "output_type": "stream",
     "text": [
      "#################### Round :1 ############################\n"
     ]
    },
    {
     "name": "stdout",
     "output_type": "stream",
     "text": [
      "#################### Round :1 ############################\n"
     ]
    },
    {
     "name": "stdout",
     "output_type": "stream",
     "text": [
      "[[[2, [16, 19], [41, 37, 34, 22]], [1, [4, 13, 6], [15, 31, 43, 18, 48, 42]], [0, [15], [35, 49]]], [[1, [39, 24, 25], [52, 51, 80, 21, 5, 10]], [0, [38], [79, 61]]], [[5, [5, 14, 3], [32, 16, 9, 4, 12, 11]], [1, [8, 9, 0, 34], [3, 26, 24, 68, 67, 66, 2, 14]], [4, [7, 23, 21], [19, 47, 45, 50, 53, 25]], [0, [11, 32, 2, 27, 10, 33], [7, 29, 33, 63, 55, 77, 69, 28, 27, 64, 71, 65]], [2, [12, 18, 31], [62, 40, 30, 23, 20, 13]], [3, [], []]], [[0, [30], [60, 58]]], [[3, [37, 35, 36], [74, 75, 73, 76, 17, 8]], [2, [26, 22, 17, 20], [54, 46, 44, 36, 39, 70, 78, 72]], [0, [29, 1, 28], [56, 57, 38, 1, 6, 59]]]]\n#################### Round :2 ############################\n"
     ]
    },
    {
     "name": "stdout",
     "output_type": "stream",
     "text": [
      "#################### Round :2 ############################\n"
     ]
    },
    {
     "name": "stdout",
     "output_type": "stream",
     "text": [
      "#################### Round :2 ############################\n"
     ]
    },
    {
     "name": "stdout",
     "output_type": "stream",
     "text": [
      "#################### Round :2 ############################\n"
     ]
    },
    {
     "name": "stdout",
     "output_type": "stream",
     "text": [
      "#################### Round :2 ############################\n"
     ]
    },
    {
     "name": "stdout",
     "output_type": "stream",
     "text": [
      "[[[2, [15], [35, 49]], [1, [16, 19], [41, 37, 34, 22]], [0, [6, 4, 13], [15, 31, 43, 18, 48, 42]]], [[1, [39, 25, 24], [52, 51, 80, 21, 5, 10]], [0, [38], [79, 61]]], [[5, [32, 7, 0], [3, 66, 63, 19, 77, 53]], [4, [12, 11, 2, 10, 33], [7, 29, 33, 30, 23, 28, 69, 64, 71, 65]], [0, [27, 18, 23, 21, 31], [55, 62, 47, 40, 45, 27, 25, 20, 13, 50]], [1, [9, 34, 14, 8], [32, 26, 24, 4, 68, 67, 2, 14]], [3, [], []], [2, [3, 5], [9, 16, 12, 11]]], [[0, [30], [60, 58]]], [[3, [37, 35, 36], [74, 75, 73, 76, 17, 8]], [2, [29, 28, 1], [56, 57, 38, 1, 6, 59]], [0, [26, 22, 17, 20], [54, 46, 44, 36, 39, 70, 78, 72]]]]\n#################### Round :3 ############################\n"
     ]
    },
    {
     "name": "stdout",
     "output_type": "stream",
     "text": [
      "#################### Round :3 ############################\n"
     ]
    },
    {
     "name": "stdout",
     "output_type": "stream",
     "text": [
      "#################### Round :3 ############################\n"
     ]
    },
    {
     "name": "stdout",
     "output_type": "stream",
     "text": [
      "#################### Round :3 ############################\n"
     ]
    },
    {
     "name": "stdout",
     "output_type": "stream",
     "text": [
      "#################### Round :3 ############################\n"
     ]
    },
    {
     "name": "stdout",
     "output_type": "stream",
     "text": [
      "[[[2, [15], [35, 49]], [1, [19, 16], [41, 37, 34, 22]], [0, [6, 4, 13], [15, 31, 43, 18, 48, 42]]], [[1, [38], [79, 61]], [0, [39, 25, 24], [52, 51, 80, 21, 5, 10]]], [[4, [], []], [2, [5, 3, 7, 0, 32], [9, 3, 16, 66, 63, 12, 11, 19, 77, 53]], [0, [], []], [5, [14, 9, 34, 8], [32, 26, 24, 4, 68, 67, 2, 14]], [1, [12, 18, 23], [30, 40, 47, 23, 13, 50]], [3, [2, 11, 27, 10, 21, 33, 31], [7, 29, 33, 45, 62, 55, 69, 25, 28, 27, 20, 64, 71, 65]]], [[0, [30], [60, 58]]], [[3, [37, 35, 36], [74, 75, 73, 76, 17, 8]], [2, [29, 28, 1], [56, 57, 38, 1, 6, 59]], [1, [], []], [0, [22, 20, 26, 17], [54, 46, 44, 36, 39, 70, 78, 72]]]]\n#################### Round :4 ############################\n"
     ]
    },
    {
     "name": "stdout",
     "output_type": "stream",
     "text": [
      "#################### Round :4 ############################\n"
     ]
    },
    {
     "name": "stdout",
     "output_type": "stream",
     "text": [
      "#################### Round :4 ############################\n"
     ]
    },
    {
     "name": "stdout",
     "output_type": "stream",
     "text": [
      "#################### Round :4 ############################\n"
     ]
    },
    {
     "name": "stdout",
     "output_type": "stream",
     "text": [
      "#################### Round :4 ############################\n"
     ]
    },
    {
     "name": "stdout",
     "output_type": "stream",
     "text": [
      "[[[2, [15], [35, 49]], [1, [6, 4, 13], [15, 31, 43, 18, 48, 42]], [0, [19, 16], [41, 37, 34, 22]]], [[1, [39, 24, 25], [52, 51, 80, 21, 5, 10]], [0, [38], [79, 61]]], [[2, [34, 9, 8, 14], [32, 26, 24, 4, 68, 67, 2, 14]], [5, [3, 5], [9, 16, 12, 11]], [0, [32, 11, 33, 0], [3, 29, 63, 66, 77, 69, 64, 65]], [1, [12, 2, 21, 18], [7, 33, 30, 40, 45, 23, 25, 13]], [4, [31, 23, 7, 27, 10], [55, 62, 47, 19, 20, 27, 28, 50, 53, 71]]], [[0, [30], [60, 58]]], [[3, [35, 36, 37], [74, 75, 73, 76, 17, 8]], [1, [1, 28, 29], [56, 57, 38, 1, 6, 59]], [0, [26, 20, 22, 17], [54, 46, 44, 36, 39, 70, 78, 72]]]]\n#################### Round :5 ############################\n"
     ]
    },
    {
     "name": "stdout",
     "output_type": "stream",
     "text": [
      "#################### Round :5 ############################\n"
     ]
    },
    {
     "name": "stdout",
     "output_type": "stream",
     "text": [
      "#################### Round :5 ############################\n"
     ]
    },
    {
     "name": "stdout",
     "output_type": "stream",
     "text": [
      "#################### Round :5 ############################\n"
     ]
    },
    {
     "name": "stdout",
     "output_type": "stream",
     "text": [
      "#################### Round :5 ############################\n"
     ]
    },
    {
     "name": "stdout",
     "output_type": "stream",
     "text": [
      "[[[2, [16, 19], [41, 37, 34, 22]], [1, [4, 13, 6], [15, 31, 43, 18, 48, 42]], [0, [15], [35, 49]]], [[1, [39, 25, 24], [52, 51, 80, 21, 5, 10]], [0, [38], [79, 61]]], [[0, [11, 27, 10, 33, 31], [29, 62, 55, 69, 28, 27, 20, 64, 71, 65]], [4, [3, 5, 7, 23, 0, 32], [9, 3, 16, 66, 63, 12, 11, 19, 47, 77, 50, 53]], [3, [12, 2, 18, 21], [7, 33, 40, 45, 30, 23, 25, 13]], [1, [8, 14, 9, 34], [32, 26, 24, 4, 68, 67, 2, 14]]], [[0, [30], [60, 58]]], [[3, [29, 28, 1], [56, 57, 38, 1, 6, 59]], [0, [], []], [1, [35, 37, 36], [74, 75, 73, 76, 17, 8]], [2, [26, 22, 17, 20], [54, 46, 44, 36, 39, 70, 78, 72]]]]\n#################### Round :6 ############################\n"
     ]
    },
    {
     "name": "stdout",
     "output_type": "stream",
     "text": [
      "#################### Round :6 ############################\n"
     ]
    },
    {
     "name": "stdout",
     "output_type": "stream",
     "text": [
      "#################### Round :6 ############################\n"
     ]
    },
    {
     "name": "stdout",
     "output_type": "stream",
     "text": [
      "#################### Round :6 ############################\n"
     ]
    },
    {
     "name": "stdout",
     "output_type": "stream",
     "text": [
      "#################### Round :6 ############################\n"
     ]
    },
    {
     "name": "stdout",
     "output_type": "stream",
     "text": [
      "[[[2, [19, 16], [41, 37, 34, 22]], [1, [13, 4, 6], [15, 31, 43, 18, 48, 42]], [0, [15], [35, 49]]], [[1, [39, 24, 25], [52, 51, 80, 21, 5, 10]], [0, [38], [79, 61]]], [[5, [31, 23, 3, 7, 5, 18], [9, 16, 12, 11, 62, 47, 40, 19, 20, 13, 50, 53]], [1, [8, 9, 34, 14], [32, 26, 24, 4, 68, 67, 2, 14]], [3, [2, 21, 12], [7, 45, 33, 30, 23, 25]], [4, [11, 27, 0, 32, 10, 33], [3, 29, 66, 63, 55, 77, 69, 28, 27, 64, 71, 65]]], [[0, [30], [60, 58]]], [[3, [20, 22, 26, 17], [54, 46, 44, 36, 39, 70, 78, 72]], [1, [1, 29, 28], [56, 57, 38, 1, 6, 59]], [2, [37, 35, 36], [74, 75, 73, 76, 17, 8]]]]\n#################### Round :7 ############################\n"
     ]
    },
    {
     "name": "stdout",
     "output_type": "stream",
     "text": [
      "#################### Round :7 ############################\n"
     ]
    },
    {
     "name": "stdout",
     "output_type": "stream",
     "text": [
      "#################### Round :7 ############################\n"
     ]
    },
    {
     "name": "stdout",
     "output_type": "stream",
     "text": [
      "#################### Round :7 ############################\n"
     ]
    },
    {
     "name": "stdout",
     "output_type": "stream",
     "text": [
      "#################### Round :7 ############################\n"
     ]
    },
    {
     "name": "stdout",
     "output_type": "stream",
     "text": [
      "[[[2, [15], [35, 49]], [1, [19, 16], [41, 37, 34, 22]], [0, [13, 4, 6], [15, 31, 43, 18, 48, 42]]], [[1, [38], [79, 61]], [0, [39, 25, 24], [52, 51, 80, 21, 5, 10]]], [[4, [5, 3, 23, 31, 7, 18], [9, 16, 12, 11, 62, 47, 40, 19, 20, 13, 50, 53]], [3, [21, 2, 12], [7, 45, 33, 30, 23, 25]], [2, [34, 9, 14, 8], [32, 26, 24, 4, 68, 67, 2, 14]], [0, [32, 27, 0, 11, 10, 33], [3, 29, 66, 63, 55, 77, 69, 28, 27, 64, 71, 65]]], [[0, [30], [60, 58]]], [[3, [35, 36, 37], [74, 75, 73, 76, 17, 8]], [2, [29, 28, 1], [56, 57, 38, 1, 6, 59]], [0, [26, 20, 22, 17], [54, 46, 44, 36, 39, 70, 78, 72]]]]\n#################### Round :8 ############################\n"
     ]
    },
    {
     "name": "stdout",
     "output_type": "stream",
     "text": [
      "#################### Round :8 ############################\n"
     ]
    },
    {
     "name": "stdout",
     "output_type": "stream",
     "text": [
      "#################### Round :8 ############################\n"
     ]
    },
    {
     "name": "stdout",
     "output_type": "stream",
     "text": [
      "#################### Round :8 ############################\n"
     ]
    },
    {
     "name": "stdout",
     "output_type": "stream",
     "text": [
      "#################### Round :8 ############################\n"
     ]
    },
    {
     "name": "stdout",
     "output_type": "stream",
     "text": [
      "[[[2, [16, 19], [41, 37, 34, 22]], [1, [13, 4, 6], [15, 31, 43, 18, 48, 42]], [0, [15], [35, 49]]], [[1, [39, 25, 24], [52, 51, 80, 21, 5, 10]], [0, [38], [79, 61]]], [[5, [34, 9, 14, 8], [32, 26, 24, 4, 68, 67, 2, 14]], [3, [12, 2, 21], [7, 45, 33, 30, 23, 25]], [1, [27, 33, 32, 11, 10], [29, 63, 55, 77, 69, 28, 27, 64, 71, 65]], [0, [31, 7, 23, 3, 5, 0, 18], [9, 3, 16, 66, 12, 11, 62, 47, 40, 19, 20, 13, 50, 53]], [4, [], []]], [[0, [30], [60, 58]]], [[3, [29, 1, 28], [56, 57, 38, 1, 6, 59]], [1, [35, 37, 36], [74, 75, 73, 76, 17, 8]], [0, [22, 20, 26, 17], [54, 46, 44, 36, 39, 70, 78, 72]]]]\n#################### Round :9 ############################\n"
     ]
    },
    {
     "name": "stdout",
     "output_type": "stream",
     "text": [
      "#################### Round :9 ############################\n"
     ]
    },
    {
     "name": "stdout",
     "output_type": "stream",
     "text": [
      "#################### Round :9 ############################\n"
     ]
    },
    {
     "name": "stdout",
     "output_type": "stream",
     "text": [
      "#################### Round :9 ############################\n"
     ]
    },
    {
     "name": "stdout",
     "output_type": "stream",
     "text": [
      "#################### Round :9 ############################\n"
     ]
    },
    {
     "name": "stdout",
     "output_type": "stream",
     "text": [
      "[[[2, [16, 19], [41, 37, 34, 22]], [1, [15], [35, 49]], [0, [4, 6, 13], [15, 31, 43, 18, 48, 42]]], [[1, [39, 24, 25], [52, 51, 80, 21, 5, 10]], [0, [38], [79, 61]]], [[5, [34, 9, 8, 14], [32, 26, 24, 4, 68, 67, 2, 14]], [1, [5, 3, 23, 31, 18, 0, 7], [9, 3, 16, 66, 12, 11, 62, 47, 40, 19, 20, 13, 50, 53]], [0, [], []], [2, [32, 27, 11, 10, 33], [29, 63, 55, 77, 69, 28, 27, 64, 71, 65]], [4, [2, 12, 21], [7, 45, 33, 30, 23, 25]]], [[0, [30], [60, 58]]], [[2, [37, 35, 36], [74, 75, 73, 76, 17, 8]], [1, [29, 1, 28], [56, 57, 38, 1, 6, 59]], [0, [22, 17, 20, 26], [54, 46, 44, 36, 39, 70, 78, 72]]]]\n#################### Round :10 ############################\n"
     ]
    },
    {
     "name": "stdout",
     "output_type": "stream",
     "text": [
      "#################### Round :10 ############################\n"
     ]
    },
    {
     "name": "stdout",
     "output_type": "stream",
     "text": [
      "#################### Round :10 ############################\n"
     ]
    },
    {
     "name": "stdout",
     "output_type": "stream",
     "text": [
      "#################### Round :10 ############################\n"
     ]
    },
    {
     "name": "stdout",
     "output_type": "stream",
     "text": [
      "#################### Round :10 ############################\n"
     ]
    },
    {
     "name": "stdout",
     "output_type": "stream",
     "text": [
      "[[[2, [16, 19], [41, 37, 34, 22]], [0, [4, 13, 6], [15, 31, 43, 18, 48, 42]], [1, [15], [35, 49]]], [[1, [38], [79, 61]], [0, [39, 25, 24], [52, 51, 80, 21, 5, 10]]], [[0, [14, 3, 5], [32, 16, 9, 4, 12, 11]], [4, [], []], [1, [21, 2, 12], [7, 45, 33, 30, 23, 25]], [3, [11, 27, 32, 10, 33], [29, 63, 55, 77, 69, 28, 27, 64, 71, 65]], [2, [31, 23, 18, 7], [62, 47, 40, 19, 20, 13, 50, 53]], [5, [9, 34, 0, 8], [3, 26, 24, 68, 67, 66, 2, 14]]], [[0, [30], [60, 58]]], [[2, [35, 37, 36], [74, 75, 73, 76, 17, 8]], [1, [22, 17, 26, 20], [54, 46, 44, 36, 39, 70, 78, 72]], [0, [1, 29, 28], [56, 57, 38, 1, 6, 59]]]]\n"
     ]
    },
    {
     "name": "stdout",
     "output_type": "stream",
     "text": [
      "----------------Instance name: pdp_instances/GOO/goo10.csv-----------------------------------\n processing time --- 0.46855974197387695 seconds ---\n#################### Round :1 ############################\n"
     ]
    },
    {
     "name": "stdout",
     "output_type": "stream",
     "text": [
      "#################### Round :1 ############################\n"
     ]
    },
    {
     "name": "stdout",
     "output_type": "stream",
     "text": [
      "#################### Round :1 ############################\n"
     ]
    },
    {
     "name": "stdout",
     "output_type": "stream",
     "text": [
      "#################### Round :1 ############################\n"
     ]
    },
    {
     "name": "stdout",
     "output_type": "stream",
     "text": [
      "[[[5, [33, 39, 32, 22, 38], [80, 66, 26, 79, 53, 76, 65, 45, 46, 30]], [3, [17, 16, 11], [47, 29, 40, 35, 19, 31]], [4, [29, 28], [62, 61, 38, 44]], [1, [36, 34, 35], [71, 74, 73, 41, 43, 42]]], [[0, [21], [52, 27]]], [[3, [2, 15, 12, 10], [8, 28, 39, 33, 32, 15, 11, 5]], [2, [9, 8, 1], [4, 7, 25, 24, 23, 22]], [0, [25, 30, 6, 18, 0, 31, 3], [48, 20, 6, 1, 3, 63, 56, 70, 2, 9, 64, 13, 16, 12]], [1, [], []]], [], [[3, [23, 20], [54, 51, 60, 68]], [2, [14, 37, 19, 13, 24], [37, 77, 75, 36, 34, 49, 55, 69, 72, 67]], [0, [27, 26, 4, 5, 7], [58, 59, 10, 17, 14, 18, 21, 50, 78, 57]]]]\n#################### Round :2 ############################\n"
     ]
    },
    {
     "name": "stdout",
     "output_type": "stream",
     "text": [
      "#################### Round :2 ############################\n"
     ]
    },
    {
     "name": "stdout",
     "output_type": "stream",
     "text": [
      "#################### Round :2 ############################\n"
     ]
    },
    {
     "name": "stdout",
     "output_type": "stream",
     "text": [
      "#################### Round :2 ############################\n"
     ]
    },
    {
     "name": "stdout",
     "output_type": "stream",
     "text": [
      "[[[2, [16, 11], [29, 40, 35, 31]], [1, [33, 39, 28, 32, 17, 38, 35], [80, 47, 66, 19, 26, 79, 61, 73, 76, 65, 44, 42, 46, 30]], [0, [22, 34, 36], [71, 74, 53, 41, 45, 43]], [3, [29], [62, 38]]], [[0, [21], [52, 27]]], [[3, [30, 25], [63, 56, 70, 2]], [2, [31, 0, 18, 3, 6, 1], [4, 48, 20, 6, 1, 7, 3, 13, 9, 64, 16, 12]], [1, [9, 8], [25, 24, 23, 22]], [0, [15, 12, 2, 10], [8, 28, 39, 33, 32, 15, 11, 5]]], [], [[0, [26, 27, 7, 5, 4], [58, 59, 10, 17, 14, 18, 21, 50, 78, 57]], [1, [20, 23], [54, 51, 60, 68]], [2, [14, 37, 13, 19, 24], [37, 77, 75, 36, 34, 49, 55, 69, 72, 67]], [3, [], []]]]\n#################### Round :3 ############################\n"
     ]
    },
    {
     "name": "stdout",
     "output_type": "stream",
     "text": [
      "#################### Round :3 ############################\n"
     ]
    },
    {
     "name": "stdout",
     "output_type": "stream",
     "text": [
      "#################### Round :3 ############################\n"
     ]
    },
    {
     "name": "stdout",
     "output_type": "stream",
     "text": [
      "#################### Round :3 ############################\n"
     ]
    },
    {
     "name": "stdout",
     "output_type": "stream",
     "text": [
      "[[[4, [39, 33, 22, 32, 38], [80, 66, 26, 79, 53, 76, 65, 45, 46, 30]], [3, [29, 28], [62, 61, 38, 44]], [2, [17, 16, 11], [47, 29, 40, 35, 19, 31]], [1, [34, 36, 35], [71, 74, 73, 41, 43, 42]]], [[0, [21], [52, 27]]], [[1, [2, 12, 15, 10], [8, 28, 39, 33, 32, 15, 11, 5]], [2, [9, 8], [25, 24, 23, 22]], [0, [31, 0, 6, 3, 18, 1], [4, 48, 20, 6, 1, 7, 3, 13, 9, 64, 16, 12]], [3, [25, 30], [63, 56, 70, 2]]], [], [[3, [37, 19, 14, 13, 24], [37, 77, 75, 36, 34, 49, 55, 69, 72, 67]], [2, [4, 7, 26, 27, 5], [58, 59, 10, 17, 14, 18, 21, 50, 78, 57]], [1, [20, 23], [54, 51, 60, 68]]]]\n#################### Round :4 ############################\n"
     ]
    },
    {
     "name": "stdout",
     "output_type": "stream",
     "text": [
      "#################### Round :4 ############################\n"
     ]
    },
    {
     "name": "stdout",
     "output_type": "stream",
     "text": [
      "#################### Round :4 ############################\n"
     ]
    },
    {
     "name": "stdout",
     "output_type": "stream",
     "text": [
      "#################### Round :4 ############################\n"
     ]
    },
    {
     "name": "stdout",
     "output_type": "stream",
     "text": [
      "[[[4, [39, 33, 32, 22, 38], [80, 66, 26, 79, 53, 76, 65, 45, 46, 30]], [2, [11, 16, 17], [47, 29, 40, 35, 19, 31]], [3, [29, 28], [62, 61, 38, 44]], [0, [], []], [1, [34, 36, 35], [71, 74, 73, 41, 43, 42]]], [[0, [21], [52, 27]]], [[2, [25, 30], [63, 56, 70, 2]], [0, [], []], [3, [3, 31, 1, 0, 6, 18, 10, 8], [4, 48, 20, 6, 1, 7, 3, 28, 24, 13, 5, 9, 64, 16, 22, 12]], [1, [9, 2, 12, 15], [8, 25, 39, 33, 32, 23, 15, 11]]], [], [[3, [23, 20], [54, 51, 60, 68]], [2, [37, 19, 14, 13, 24], [37, 77, 75, 36, 34, 49, 55, 69, 72, 67]], [0, [26, 4, 7, 27, 5], [58, 59, 10, 17, 14, 18, 21, 50, 78, 57]], [1, [], []]]]\n#################### Round :5 ############################\n"
     ]
    },
    {
     "name": "stdout",
     "output_type": "stream",
     "text": [
      "#################### Round :5 ############################\n"
     ]
    },
    {
     "name": "stdout",
     "output_type": "stream",
     "text": [
      "#################### Round :5 ############################\n"
     ]
    },
    {
     "name": "stdout",
     "output_type": "stream",
     "text": [
      "#################### Round :5 ############################\n"
     ]
    },
    {
     "name": "stdout",
     "output_type": "stream",
     "text": [
      "[[[4, [33, 38, 39, 22, 32], [80, 66, 26, 79, 53, 76, 65, 45, 46, 30]], [3, [28, 29], [62, 61, 38, 44]], [1, [35, 34, 36], [71, 74, 73, 41, 43, 42]], [0, [16, 11, 17], [47, 29, 40, 35, 19, 31]], [2, [], []]], [[0, [21], [52, 27]]], [[2, [2, 12, 15, 10], [8, 28, 39, 33, 32, 15, 11, 5]], [3, [30, 25], [63, 56, 70, 2]], [1, [18, 6, 3, 1, 0, 31], [4, 48, 20, 6, 7, 1, 3, 13, 9, 64, 16, 12]], [0, [8, 9], [25, 24, 23, 22]]], [], [[3, [37, 19, 5, 13, 7], [75, 18, 36, 34, 49, 21, 69, 78, 57, 72]], [1, [], []], [2, [14, 27, 26, 23, 4, 20, 24], [58, 59, 37, 10, 14, 17, 77, 54, 51, 50, 55, 60, 67, 68]]]]\n#################### Round :6 ############################\n"
     ]
    },
    {
     "name": "stdout",
     "output_type": "stream",
     "text": [
      "#################### Round :6 ############################\n"
     ]
    },
    {
     "name": "stdout",
     "output_type": "stream",
     "text": [
      "#################### Round :6 ############################\n"
     ]
    },
    {
     "name": "stdout",
     "output_type": "stream",
     "text": [
      "#################### Round :6 ############################\n"
     ]
    },
    {
     "name": "stdout",
     "output_type": "stream",
     "text": [
      "[[[4, [29, 28], [62, 61, 38, 44]], [3, [33, 39, 22, 38, 32], [80, 66, 26, 79, 53, 76, 65, 45, 46, 30]], [2, [35, 34, 36], [71, 74, 73, 41, 43, 42]], [1, [17, 11, 16], [47, 29, 40, 35, 19, 31]], [0, [], []]], [[0, [21], [52, 27]]], [[3, [18, 3, 6, 0, 31, 1], [4, 48, 20, 6, 1, 7, 3, 13, 9, 64, 16, 12]], [2, [15, 12, 2, 10], [8, 28, 39, 33, 32, 15, 11, 5]], [1, [30, 25], [63, 56, 70, 2]], [0, [9, 8], [25, 24, 23, 22]]], [], [[0, [37, 19, 14, 13, 24], [37, 77, 75, 36, 34, 49, 55, 69, 72, 67]], [1, [5, 7, 26, 27, 4], [58, 59, 10, 17, 14, 18, 21, 50, 78, 57]], [2, [], []], [3, [20, 23], [54, 51, 60, 68]]]]\n#################### Round :7 ############################\n"
     ]
    },
    {
     "name": "stdout",
     "output_type": "stream",
     "text": [
      "#################### Round :7 ############################\n"
     ]
    },
    {
     "name": "stdout",
     "output_type": "stream",
     "text": [
      "#################### Round :7 ############################\n"
     ]
    },
    {
     "name": "stdout",
     "output_type": "stream",
     "text": [
      "#################### Round :7 ############################\n"
     ]
    },
    {
     "name": "stdout",
     "output_type": "stream",
     "text": [
      "[[[0, [33, 38, 22, 17, 39, 32], [80, 47, 66, 19, 26, 79, 53, 76, 65, 45, 46, 30]], [1, [34, 35, 36], [71, 74, 73, 41, 43, 42]], [2, [29, 28, 16, 11], [29, 40, 62, 61, 35, 31, 38, 44]]], [[0, [21], [52, 27]]], [[3, [31, 10, 3, 18], [48, 28, 6, 5, 9, 64, 16, 12]], [1, [6, 1, 8, 0], [4, 20, 1, 7, 3, 13, 24, 22]], [0, [30, 25], [63, 56, 70, 2]], [2, [15, 9, 12, 2], [8, 25, 39, 33, 32, 23, 15, 11]]], [], [[2, [23, 20], [54, 51, 60, 68]], [1, [26, 27, 4, 7, 5], [58, 59, 10, 17, 14, 18, 21, 50, 78, 57]], [3, [14, 37, 13, 19, 24], [37, 77, 75, 36, 34, 49, 55, 69, 72, 67]]]]\n#################### Round :8 ############################\n"
     ]
    },
    {
     "name": "stdout",
     "output_type": "stream",
     "text": [
      "#################### Round :8 ############################\n"
     ]
    },
    {
     "name": "stdout",
     "output_type": "stream",
     "text": [
      "#################### Round :8 ############################\n"
     ]
    },
    {
     "name": "stdout",
     "output_type": "stream",
     "text": [
      "#################### Round :8 ############################\n"
     ]
    },
    {
     "name": "stdout",
     "output_type": "stream",
     "text": [
      "[[[2, [17, 38, 11, 32, 16], [47, 29, 40, 35, 31, 19, 65, 76, 46, 30]], [3, [39, 34, 36, 33], [80, 71, 66, 74, 79, 26, 41, 43]], [0, [], []], [1, [29, 22, 28, 35], [62, 61, 53, 73, 38, 45, 44, 42]]], [[0, [21], [52, 27]]], [[3, [30, 25], [63, 56, 70, 2]], [2, [9, 8], [25, 24, 23, 22]], [1, [2, 12, 15, 10], [8, 28, 39, 33, 32, 15, 11, 5]], [0, [31, 3, 18, 0, 6, 1], [4, 48, 20, 6, 1, 7, 3, 13, 9, 64, 16, 12]]], [], [[2, [27, 26, 24, 20, 14, 4, 23], [58, 59, 37, 10, 14, 17, 77, 54, 51, 50, 55, 60, 68, 67]], [0, [13, 37, 5, 7, 19], [75, 18, 36, 34, 49, 21, 69, 78, 57, 72]]]]\n#################### Round :9 ############################\n"
     ]
    },
    {
     "name": "stdout",
     "output_type": "stream",
     "text": [
      "#################### Round :9 ############################\n"
     ]
    },
    {
     "name": "stdout",
     "output_type": "stream",
     "text": [
      "#################### Round :9 ############################\n"
     ]
    },
    {
     "name": "stdout",
     "output_type": "stream",
     "text": [
      "#################### Round :9 ############################\n"
     ]
    },
    {
     "name": "stdout",
     "output_type": "stream",
     "text": [
      "[[[4, [29, 28], [62, 61, 38, 44]], [1, [36, 34, 35], [71, 74, 73, 41, 43, 42]], [2, [17, 33, 39, 22, 38, 32], [80, 47, 66, 19, 26, 79, 53, 76, 65, 45, 46, 30]], [3, [11, 16], [29, 40, 35, 31]]], [[0, [21], [52, 27]]], [[0, [], []], [2, [30, 25], [63, 56, 70, 2]], [1, [1, 15, 9, 12, 2], [4, 8, 7, 25, 39, 33, 32, 23, 15, 11]], [3, [0, 3, 31, 10, 6, 18, 8], [48, 20, 6, 1, 3, 28, 24, 13, 5, 9, 64, 16, 22, 12]]], [], [[3, [37, 19, 5, 13, 7], [75, 18, 36, 34, 49, 21, 69, 78, 57, 72]], [2, [], []], [0, [], []], [1, [27, 24, 20, 14, 26, 4, 23], [58, 59, 37, 10, 14, 17, 77, 54, 51, 50, 55, 60, 68, 67]]]]\n#################### Round :10 ############################\n"
     ]
    },
    {
     "name": "stdout",
     "output_type": "stream",
     "text": [
      "#################### Round :10 ############################\n"
     ]
    },
    {
     "name": "stdout",
     "output_type": "stream",
     "text": [
      "#################### Round :10 ############################\n"
     ]
    },
    {
     "name": "stdout",
     "output_type": "stream",
     "text": [
      "#################### Round :10 ############################\n"
     ]
    },
    {
     "name": "stdout",
     "output_type": "stream",
     "text": [
      "[[[4, [29, 28], [62, 61, 38, 44]], [3, [17, 16, 11], [47, 29, 40, 35, 19, 31]], [1, [33, 38, 22, 39, 32], [80, 66, 26, 79, 53, 76, 65, 45, 46, 30]], [0, [34, 35, 36], [71, 74, 73, 41, 43, 42]]], [[0, [21], [52, 27]]], [[3, [30, 25], [63, 56, 70, 2]], [2, [10, 12, 15, 2], [8, 28, 39, 33, 32, 15, 11, 5]], [0, [9, 8], [25, 24, 23, 22]], [1, [3, 1, 0, 31, 6, 18], [4, 48, 20, 6, 1, 7, 3, 13, 9, 64, 16, 12]]], [], [[2, [37, 19, 14, 13, 24], [37, 77, 75, 36, 34, 49, 55, 69, 72, 67]], [3, [7, 5, 26, 27, 4], [58, 59, 10, 17, 14, 18, 21, 50, 78, 57]], [1, [20, 23], [54, 51, 60, 68]]]]\n"
     ]
    },
    {
     "name": "stdout",
     "output_type": "stream",
     "text": [
      "----------------Instance name: pdp_instances/GOO/goo2.csv-----------------------------------\n processing time --- 0.3810136318206787 seconds ---\n#################### Round :1 ############################\n"
     ]
    },
    {
     "name": "stdout",
     "output_type": "stream",
     "text": [
      "#################### Round :1 ############################\n"
     ]
    },
    {
     "name": "stdout",
     "output_type": "stream",
     "text": [
      "#################### Round :1 ############################\n"
     ]
    },
    {
     "name": "stdout",
     "output_type": "stream",
     "text": [
      "#################### Round :1 ############################\n"
     ]
    },
    {
     "name": "stdout",
     "output_type": "stream",
     "text": [
      "[[[3, [23, 20, 21, 19], [42, 44, 43, 40, 62, 61, 47, 30]], [0, [14, 13, 15, 18, 11], [23, 25, 31, 38, 45, 39, 27, 26, 29, 32]], [2, [], []], [1, [17, 16], [36, 34, 35, 52]]], [[2, [], []], [1, [39, 25, 7, 38], [80, 65, 50, 79, 16, 15, 53, 60]], [0, [24, 22], [48, 46, 11, 1]]], [[3, [32, 27, 26, 35, 33, 28], [55, 75, 71, 59, 37, 10, 8, 7, 58, 69, 68, 63]], [2, [31, 29, 0], [67, 64, 3, 49, 33, 17]], [1, [], []], [0, [30, 9, 12, 2], [5, 66, 2, 19, 24, 22, 20, 6]]], [], [[3, [37, 36, 3, 34], [72, 78, 77, 74, 28, 41, 9, 51]], [2, [1, 8, 4, 5, 6], [13, 12, 18, 14, 4, 73, 56, 57, 76, 70]], [1, [10], [21, 54]]]]\n#################### Round :2 ############################\n"
     ]
    },
    {
     "name": "stdout",
     "output_type": "stream",
     "text": [
      "#################### Round :2 ############################\n"
     ]
    },
    {
     "name": "stdout",
     "output_type": "stream",
     "text": [
      "#################### Round :2 ############################\n"
     ]
    },
    {
     "name": "stdout",
     "output_type": "stream",
     "text": [
      "#################### Round :2 ############################\n"
     ]
    },
    {
     "name": "stdout",
     "output_type": "stream",
     "text": [
      "[[[3, [23, 21, 20, 19], [42, 44, 43, 40, 62, 61, 47, 30]], [1, [17, 16], [36, 34, 35, 52]], [2, [], []], [0, [11, 14, 15, 18, 13], [23, 25, 31, 38, 45, 39, 27, 26, 29, 32]]], [[2, [39, 25, 38, 7], [80, 65, 50, 79, 16, 15, 53, 60]], [1, [22, 24], [48, 46, 11, 1]], [0, [], []]], [[4, [35, 26, 33, 27, 32, 28], [55, 75, 71, 59, 37, 10, 8, 7, 58, 69, 68, 63]], [0, [], []], [1, [31, 0, 29], [67, 64, 3, 49, 33, 17]], [3, [12, 2, 30, 9], [5, 66, 2, 19, 24, 22, 20, 6]]], [], [[2, [37, 36, 34, 3], [72, 78, 77, 74, 28, 41, 9, 51]], [1, [10], [21, 54]], [0, [8, 5, 6, 1, 4], [13, 12, 18, 14, 4, 73, 56, 57, 76, 70]]]]\n#################### Round :3 ############################\n"
     ]
    },
    {
     "name": "stdout",
     "output_type": "stream",
     "text": [
      "#################### Round :3 ############################\n"
     ]
    },
    {
     "name": "stdout",
     "output_type": "stream",
     "text": [
      "#################### Round :3 ############################\n"
     ]
    },
    {
     "name": "stdout",
     "output_type": "stream",
     "text": [
      "#################### Round :3 ############################\n"
     ]
    },
    {
     "name": "stdout",
     "output_type": "stream",
     "text": [
      "[[[3, [23, 21, 20, 19], [42, 44, 43, 40, 62, 61, 47, 30]], [0, [17, 16], [36, 34, 35, 52]], [1, [14, 11, 15, 18, 13], [23, 25, 31, 38, 45, 39, 27, 26, 29, 32]], [2, [], []]], [[2, [22, 24], [48, 46, 11, 1]], [1, [], []], [0, [39, 25, 7, 38], [80, 65, 50, 79, 16, 15, 53, 60]]], [[4, [30, 2, 9, 12], [5, 66, 2, 19, 24, 22, 20, 6]], [1, [27, 32, 26, 35, 28, 33], [55, 75, 71, 59, 37, 10, 8, 7, 58, 69, 68, 63]], [0, [29, 0, 31], [67, 64, 3, 49, 33, 17]]], [], [[3, [34, 36, 37, 3], [72, 78, 77, 74, 28, 41, 9, 51]], [2, [10], [21, 54]], [0, [], []], [1, [5, 8, 1, 4, 6], [13, 12, 18, 14, 4, 73, 56, 57, 76, 70]]]]\n#################### Round :4 ############################\n"
     ]
    },
    {
     "name": "stdout",
     "output_type": "stream",
     "text": [
      "#################### Round :4 ############################\n"
     ]
    },
    {
     "name": "stdout",
     "output_type": "stream",
     "text": [
      "#################### Round :4 ############################\n"
     ]
    },
    {
     "name": "stdout",
     "output_type": "stream",
     "text": [
      "#################### Round :4 ############################\n"
     ]
    },
    {
     "name": "stdout",
     "output_type": "stream",
     "text": [
      "[[[3, [23, 21, 20, 19], [42, 44, 43, 40, 62, 61, 47, 30]], [2, [17, 16], [36, 34, 35, 52]], [1, [14, 11, 15, 18, 13], [23, 25, 31, 38, 45, 39, 27, 26, 29, 32]]], [[2, [22, 24], [48, 46, 11, 1]], [1, [39, 25, 7, 38], [80, 65, 50, 79, 16, 15, 53, 60]]], [[3, [35, 28, 27, 26, 33, 32], [55, 75, 71, 59, 37, 10, 8, 7, 58, 69, 68, 63]], [2, [30, 9, 2, 12], [5, 66, 2, 19, 24, 22, 20, 6]], [0, [], []], [1, [31, 29, 0], [67, 64, 3, 49, 33, 17]]], [], [[3, [34, 36, 3, 37], [72, 78, 77, 74, 28, 41, 9, 51]], [2, [8, 1, 5, 4, 6], [13, 12, 18, 14, 4, 73, 56, 57, 76, 70]], [1, [10], [21, 54]]]]\n#################### Round :5 ############################\n"
     ]
    },
    {
     "name": "stdout",
     "output_type": "stream",
     "text": [
      "#################### Round :5 ############################\n"
     ]
    },
    {
     "name": "stdout",
     "output_type": "stream",
     "text": [
      "#################### Round :5 ############################\n"
     ]
    },
    {
     "name": "stdout",
     "output_type": "stream",
     "text": [
      "#################### Round :5 ############################\n"
     ]
    },
    {
     "name": "stdout",
     "output_type": "stream",
     "text": [
      "[[[3, [23, 21, 20, 19], [42, 44, 43, 40, 62, 61, 47, 30]], [2, [17, 16], [36, 34, 35, 52]], [1, [15, 14, 13, 18, 11], [23, 25, 31, 38, 45, 39, 27, 26, 29, 32]]], [[2, [39, 25, 7, 38], [80, 65, 50, 79, 16, 15, 53, 60]], [0, [22, 24], [48, 46, 11, 1]]], [[4, [], []], [3, [2, 30, 12, 9], [5, 66, 2, 19, 24, 22, 20, 6]], [2, [], []], [0, [0, 31, 29], [67, 64, 3, 49, 33, 17]], [1, [28, 35, 33, 27, 26, 32], [55, 75, 71, 59, 37, 10, 8, 7, 58, 69, 68, 63]]], [], [[3, [34, 36, 37, 3], [72, 78, 77, 74, 28, 41, 9, 51]], [1, [1, 5, 4, 8, 6], [13, 12, 18, 14, 4, 73, 56, 57, 76, 70]], [0, [10], [21, 54]]]]\n#################### Round :6 ############################\n"
     ]
    },
    {
     "name": "stdout",
     "output_type": "stream",
     "text": [
      "#################### Round :6 ############################\n"
     ]
    },
    {
     "name": "stdout",
     "output_type": "stream",
     "text": [
      "#################### Round :6 ############################\n"
     ]
    },
    {
     "name": "stdout",
     "output_type": "stream",
     "text": [
      "#################### Round :6 ############################\n"
     ]
    },
    {
     "name": "stdout",
     "output_type": "stream",
     "text": [
      "[[[3, [23, 21, 20, 19], [42, 44, 43, 40, 62, 61, 47, 30]], [2, [17, 16], [36, 34, 35, 52]], [0, [15, 11, 13, 18, 14], [23, 25, 31, 38, 45, 39, 27, 26, 29, 32]]], [[2, [39, 25, 38, 7], [80, 65, 50, 79, 16, 15, 53, 60]], [1, [22, 24], [48, 46, 11, 1]], [0, [], []]], [[3, [35, 28, 33, 26, 27, 32], [55, 75, 71, 59, 37, 10, 8, 7, 58, 69, 68, 63]], [2, [29, 0, 31], [67, 64, 3, 49, 33, 17]], [0, [30, 9, 12, 2], [5, 66, 2, 19, 24, 22, 20, 6]], [1, [], []]], [], [[3, [10], [21, 54]], [2, [1, 4, 8, 5, 6], [13, 12, 18, 14, 4, 73, 56, 57, 76, 70]], [1, [3, 36, 37, 34], [72, 78, 77, 74, 28, 41, 9, 51]], [0, [], []]]]\n#################### Round :7 ############################\n"
     ]
    },
    {
     "name": "stdout",
     "output_type": "stream",
     "text": [
      "#################### Round :7 ############################\n"
     ]
    },
    {
     "name": "stdout",
     "output_type": "stream",
     "text": [
      "#################### Round :7 ############################\n"
     ]
    },
    {
     "name": "stdout",
     "output_type": "stream",
     "text": [
      "#################### Round :7 ############################\n"
     ]
    },
    {
     "name": "stdout",
     "output_type": "stream",
     "text": [
      "[[[3, [23, 21, 20, 19], [42, 44, 43, 40, 62, 61, 47, 30]], [2, [17, 16], [36, 34, 35, 52]], [1, [15, 13, 11, 18, 14], [23, 25, 31, 38, 45, 39, 27, 26, 29, 32]]], [[2, [39, 25, 38, 7], [80, 65, 50, 79, 16, 15, 53, 60]], [1, [], []], [0, [22, 24], [48, 46, 11, 1]]], [[4, [35, 33, 27, 28, 26, 32], [55, 75, 71, 59, 37, 10, 8, 7, 58, 69, 68, 63]], [0, [29, 31, 0], [67, 64, 3, 49, 33, 17]], [2, [], []], [3, [2, 12, 30, 9], [5, 66, 2, 19, 24, 22, 20, 6]]], [], [[3, [34, 36, 37, 3], [72, 78, 77, 74, 28, 41, 9, 51]], [1, [10], [21, 54]], [2, [], []], [0, [1, 5, 4, 8, 6], [13, 12, 18, 14, 4, 73, 56, 57, 76, 70]]]]\n#################### Round :8 ############################\n"
     ]
    },
    {
     "name": "stdout",
     "output_type": "stream",
     "text": [
      "#################### Round :8 ############################\n"
     ]
    },
    {
     "name": "stdout",
     "output_type": "stream",
     "text": [
      "#################### Round :8 ############################\n"
     ]
    },
    {
     "name": "stdout",
     "output_type": "stream",
     "text": [
      "#################### Round :8 ############################\n"
     ]
    },
    {
     "name": "stdout",
     "output_type": "stream",
     "text": [
      "[[[3, [23, 21, 20, 19], [42, 44, 43, 40, 62, 61, 47, 30]], [2, [17, 16], [36, 34, 35, 52]], [0, [14, 13, 15, 18, 11], [23, 25, 31, 38, 45, 39, 27, 26, 29, 32]]], [[2, [22, 24], [48, 46, 11, 1]], [0, [39, 25, 7, 38], [80, 65, 50, 79, 16, 15, 53, 60]], [1, [], []]], [[3, [35, 33, 27, 26, 32, 28], [55, 75, 71, 59, 37, 10, 8, 7, 58, 69, 68, 63]], [1, [31, 29, 0], [67, 64, 3, 49, 33, 17]], [2, [12, 30, 9, 2], [5, 66, 2, 19, 24, 22, 20, 6]]], [], [[2, [36, 34, 37, 3], [72, 78, 77, 74, 28, 41, 9, 51]], [1, [10], [21, 54]], [0, [8, 5, 4, 1, 6], [13, 12, 18, 14, 4, 73, 56, 57, 76, 70]]]]\n#################### Round :9 ############################\n"
     ]
    },
    {
     "name": "stdout",
     "output_type": "stream",
     "text": [
      "#################### Round :9 ############################\n"
     ]
    },
    {
     "name": "stdout",
     "output_type": "stream",
     "text": [
      "#################### Round :9 ############################\n"
     ]
    },
    {
     "name": "stdout",
     "output_type": "stream",
     "text": [
      "#################### Round :9 ############################\n"
     ]
    },
    {
     "name": "stdout",
     "output_type": "stream",
     "text": [
      "[[[3, [23, 21, 20, 19], [42, 44, 43, 40, 62, 61, 47, 30]], [1, [17, 16], [36, 34, 35, 52]], [0, [15, 18, 13, 14, 11], [23, 25, 31, 38, 45, 39, 27, 26, 29, 32]]], [[2, [39, 25, 38, 7], [80, 65, 50, 79, 16, 15, 53, 60]], [1, [22, 24], [48, 46, 11, 1]]], [[3, [35, 28, 33, 26, 27, 32], [55, 75, 71, 59, 37, 10, 8, 7, 58, 69, 68, 63]], [0, [12, 30, 9, 2], [5, 66, 2, 19, 24, 22, 20, 6]], [1, [], []], [2, [31, 0, 29], [67, 64, 3, 49, 33, 17]]], [], [[3, [34, 36, 37, 3], [72, 78, 77, 74, 28, 41, 9, 51]], [0, [1, 5, 8, 4, 6], [13, 12, 18, 14, 4, 73, 56, 57, 76, 70]], [2, [10], [21, 54]]]]\n#################### Round :10 ############################\n"
     ]
    },
    {
     "name": "stdout",
     "output_type": "stream",
     "text": [
      "#################### Round :10 ############################\n"
     ]
    },
    {
     "name": "stdout",
     "output_type": "stream",
     "text": [
      "#################### Round :10 ############################\n"
     ]
    },
    {
     "name": "stdout",
     "output_type": "stream",
     "text": [
      "#################### Round :10 ############################\n"
     ]
    },
    {
     "name": "stdout",
     "output_type": "stream",
     "text": [
      "[[[3, [23, 21, 20, 19], [42, 44, 43, 40, 62, 61, 47, 30]], [0, [], []], [2, [17, 16], [36, 34, 35, 52]], [1, [15, 11, 18, 13, 14], [23, 25, 31, 38, 45, 39, 27, 26, 29, 32]]], [[2, [39, 25, 38, 7], [80, 65, 50, 79, 16, 15, 53, 60]], [0, [22, 24], [48, 46, 11, 1]]], [[3, [35, 28, 27, 26, 32, 33], [55, 75, 71, 59, 37, 10, 8, 7, 58, 69, 68, 63]], [1, [2, 30, 12, 9], [5, 66, 2, 19, 24, 22, 20, 6]], [2, [31, 0, 29], [67, 64, 3, 49, 33, 17]]], [], [[3, [4, 1, 8, 5, 6], [13, 12, 18, 14, 4, 73, 56, 57, 76, 70]], [1, [10], [21, 54]], [2, [36, 34, 37, 3], [72, 78, 77, 74, 28, 41, 9, 51]], [0, [], []]]]\n"
     ]
    },
    {
     "name": "stdout",
     "output_type": "stream",
     "text": [
      "----------------Instance name: pdp_instances/GOO/goo3.csv-----------------------------------\n processing time --- 0.33705735206604004 seconds ---\n#################### Round :1 ############################\n"
     ]
    },
    {
     "name": "stdout",
     "output_type": "stream",
     "text": [
      "#################### Round :1 ############################\n"
     ]
    },
    {
     "name": "stdout",
     "output_type": "stream",
     "text": [
      "#################### Round :1 ############################\n"
     ]
    },
    {
     "name": "stdout",
     "output_type": "stream",
     "text": [
      "#################### Round :1 ############################\n"
     ]
    },
    {
     "name": "stdout",
     "output_type": "stream",
     "text": [
      "#################### Round :1 ############################\n"
     ]
    },
    {
     "name": "stdout",
     "output_type": "stream",
     "text": [
      "[[[2, [11, 12, 1, 10, 19, 18, 14, 21], [33, 22, 41, 36, 35, 18, 5, 40, 44, 43, 27, 24, 47, 37, 34, 29]], [1, [29, 34, 23], [45, 39, 55, 67, 61, 62]], [0, [], []]], [[0, [27, 26], [52, 51, 49, 13]]], [[4, [39, 3, 0, 32, 15], [7, 4, 64, 1, 79, 25, 28, 30, 63, 12]], [3, [13, 28, 33, 35], [66, 54, 53, 70, 26, 20, 21, 2]], [0, [25, 22, 17, 16, 20, 24, 4], [42, 32, 23, 31, 38, 46, 48, 73, 69, 68, 65, 8, 80, 19]], [2, [2, 5, 6], [11, 9, 16, 6, 10, 3]]], [[1, [38, 37], [78, 71, 75, 50]], [0, [36, 31, 30], [56, 74, 60, 59, 57, 77]]], [[1, [8], [15, 58]], [0, [9, 7], [17, 14, 76, 72]]]]\n#################### Round :2 ############################\n"
     ]
    },
    {
     "name": "stdout",
     "output_type": "stream",
     "text": [
      "#################### Round :2 ############################\n"
     ]
    },
    {
     "name": "stdout",
     "output_type": "stream",
     "text": [
      "#################### Round :2 ############################\n"
     ]
    },
    {
     "name": "stdout",
     "output_type": "stream",
     "text": [
      "#################### Round :2 ############################\n"
     ]
    },
    {
     "name": "stdout",
     "output_type": "stream",
     "text": [
      "#################### Round :2 ############################\n"
     ]
    },
    {
     "name": "stdout",
     "output_type": "stream",
     "text": [
      "[[[2, [29, 34], [55, 67, 61, 62]], [1, [12, 14, 23, 21], [45, 40, 39, 27, 24, 37, 34, 29]], [0, [1, 19, 11, 18, 10], [33, 22, 41, 36, 35, 18, 5, 44, 43, 47]]], [[0, [27, 26], [52, 51, 49, 13]]], [[0, [16, 24, 17, 20, 22, 25, 4], [42, 32, 23, 46, 31, 38, 48, 73, 69, 68, 65, 8, 80, 19]], [1, [2, 5, 6], [11, 9, 16, 6, 10, 3]], [4, [13, 28, 33, 35], [66, 54, 53, 70, 26, 20, 21, 2]], [3, [], []], [2, [32, 0, 39, 15, 3], [7, 4, 64, 1, 79, 25, 28, 30, 63, 12]]], [[1, [38, 37], [78, 71, 75, 50]], [0, [36, 31, 30], [56, 74, 60, 59, 57, 77]]], [[1, [9, 7], [17, 14, 76, 72]], [0, [8], [15, 58]]]]\n#################### Round :3 ############################\n"
     ]
    },
    {
     "name": "stdout",
     "output_type": "stream",
     "text": [
      "#################### Round :3 ############################\n"
     ]
    },
    {
     "name": "stdout",
     "output_type": "stream",
     "text": [
      "#################### Round :3 ############################\n"
     ]
    },
    {
     "name": "stdout",
     "output_type": "stream",
     "text": [
      "#################### Round :3 ############################\n"
     ]
    },
    {
     "name": "stdout",
     "output_type": "stream",
     "text": [
      "#################### Round :3 ############################\n"
     ]
    },
    {
     "name": "stdout",
     "output_type": "stream",
     "text": [
      "[[[1, [1, 11, 18, 10, 19], [33, 22, 41, 36, 35, 18, 5, 44, 43, 47]], [0, [21, 23, 12, 14], [45, 40, 39, 27, 24, 37, 34, 29]], [2, [29, 34], [55, 67, 61, 62]]], [[0, [27, 26], [52, 51, 49, 13]]], [[4, [35, 6, 3, 5, 2], [11, 7, 16, 9, 70, 1, 6, 10, 2, 3]], [1, [33, 28, 15, 13, 0, 32, 39], [4, 66, 54, 53, 64, 20, 25, 26, 79, 21, 28, 30, 63, 12]], [3, [22, 24, 16, 25, 20, 17, 4], [42, 32, 23, 31, 38, 46, 48, 73, 69, 68, 65, 8, 80, 19]]], [[1, [38, 37], [78, 71, 75, 50]], [0, [36, 31, 30], [56, 74, 60, 59, 57, 77]]], [[1, [8], [15, 58]], [0, [9, 7], [17, 14, 76, 72]]]]\n#################### Round :4 ############################\n"
     ]
    },
    {
     "name": "stdout",
     "output_type": "stream",
     "text": [
      "#################### Round :4 ############################\n"
     ]
    },
    {
     "name": "stdout",
     "output_type": "stream",
     "text": [
      "#################### Round :4 ############################\n"
     ]
    },
    {
     "name": "stdout",
     "output_type": "stream",
     "text": [
      "#################### Round :4 ############################\n"
     ]
    },
    {
     "name": "stdout",
     "output_type": "stream",
     "text": [
      "#################### Round :4 ############################\n"
     ]
    },
    {
     "name": "stdout",
     "output_type": "stream",
     "text": [
      "[[[1, [29, 34], [55, 67, 61, 62]], [0, [11, 14, 12, 18, 1, 10, 19, 23, 21], [33, 22, 41, 36, 35, 45, 18, 5, 39, 40, 44, 43, 27, 24, 47, 37, 34, 29]]], [[0, [27, 26], [52, 51, 49, 13]]], [[0, [0, 28, 13, 15, 32, 39], [4, 54, 64, 20, 25, 26, 79, 21, 28, 30, 63, 12]], [2, [6, 2, 3, 5], [11, 7, 16, 9, 1, 6, 10, 3]], [3, [22, 25, 24, 16, 20, 17, 4], [42, 32, 23, 31, 38, 46, 48, 73, 69, 68, 65, 8, 80, 19]], [1, [35, 33], [66, 70, 53, 2]]], [[1, [38, 37], [78, 71, 75, 50]], [0, [31, 36, 30], [56, 74, 60, 59, 57, 77]]], [[1, [9, 7], [17, 14, 76, 72]], [0, [8], [15, 58]]]]\n#################### Round :5 ############################\n"
     ]
    },
    {
     "name": "stdout",
     "output_type": "stream",
     "text": [
      "#################### Round :5 ############################\n"
     ]
    },
    {
     "name": "stdout",
     "output_type": "stream",
     "text": [
      "#################### Round :5 ############################\n"
     ]
    },
    {
     "name": "stdout",
     "output_type": "stream",
     "text": [
      "#################### Round :5 ############################\n"
     ]
    },
    {
     "name": "stdout",
     "output_type": "stream",
     "text": [
      "#################### Round :5 ############################\n"
     ]
    },
    {
     "name": "stdout",
     "output_type": "stream",
     "text": [
      "[[[2, [34, 29], [55, 67, 61, 62]], [0, [1, 10, 11, 18, 19], [33, 22, 41, 36, 35, 18, 5, 44, 43, 47]], [1, [23, 21, 12, 14], [45, 40, 39, 27, 24, 37, 34, 29]]], [[0, [27, 26], [52, 51, 49, 13]]], [[4, [3, 35, 6, 2, 5], [11, 7, 16, 9, 70, 1, 6, 10, 2, 3]], [1, [22, 25, 24, 17, 4, 16, 20], [42, 32, 23, 31, 38, 46, 48, 73, 69, 68, 65, 8, 80, 19]], [2, [], []], [0, [13, 0, 39, 15, 28, 33, 32], [4, 66, 54, 53, 64, 20, 25, 26, 79, 21, 28, 30, 63, 12]]], [[1, [38, 37], [78, 71, 75, 50]], [0, [36, 31, 30], [56, 74, 60, 59, 57, 77]]], [[1, [9, 7], [17, 14, 76, 72]], [0, [8], [15, 58]]]]\n#################### Round :6 ############################\n"
     ]
    },
    {
     "name": "stdout",
     "output_type": "stream",
     "text": [
      "#################### Round :6 ############################\n"
     ]
    },
    {
     "name": "stdout",
     "output_type": "stream",
     "text": [
      "#################### Round :6 ############################\n"
     ]
    },
    {
     "name": "stdout",
     "output_type": "stream",
     "text": [
      "#################### Round :6 ############################\n"
     ]
    },
    {
     "name": "stdout",
     "output_type": "stream",
     "text": [
      "#################### Round :6 ############################\n"
     ]
    },
    {
     "name": "stdout",
     "output_type": "stream",
     "text": [
      "[[[2, [34, 29], [55, 67, 61, 62]], [1, [14, 12, 23, 21], [45, 40, 39, 27, 24, 37, 34, 29]], [0, [19, 11, 1, 10, 18], [33, 22, 41, 36, 35, 18, 5, 44, 43, 47]]], [[0, [27, 26], [52, 51, 49, 13]]], [[4, [35, 6, 3, 2, 5], [11, 7, 16, 9, 70, 1, 6, 10, 2, 3]], [0, [], []], [2, [24, 4, 16, 22, 20, 17, 25], [42, 32, 23, 31, 38, 46, 48, 73, 69, 68, 65, 8, 80, 19]], [1, [13, 33, 15, 28, 0, 32, 39], [4, 66, 54, 53, 64, 20, 25, 26, 79, 21, 28, 30, 63, 12]], [3, [], []]], [[1, [38, 37], [78, 71, 75, 50]], [0, [36, 31, 30], [56, 74, 60, 59, 57, 77]]], [[1, [8], [15, 58]], [0, [9, 7], [17, 14, 76, 72]]]]\n#################### Round :7 ############################\n"
     ]
    },
    {
     "name": "stdout",
     "output_type": "stream",
     "text": [
      "#################### Round :7 ############################\n"
     ]
    },
    {
     "name": "stdout",
     "output_type": "stream",
     "text": [
      "#################### Round :7 ############################\n"
     ]
    },
    {
     "name": "stdout",
     "output_type": "stream",
     "text": [
      "#################### Round :7 ############################\n"
     ]
    },
    {
     "name": "stdout",
     "output_type": "stream",
     "text": [
      "#################### Round :7 ############################\n"
     ]
    },
    {
     "name": "stdout",
     "output_type": "stream",
     "text": [
      "[[[0, [23, 14, 12, 21], [45, 40, 39, 27, 24, 37, 34, 29]], [1, [11, 1, 19, 18, 10], [33, 22, 41, 36, 35, 18, 5, 44, 43, 47]], [2, [29, 34], [55, 67, 61, 62]]], [[0, [27, 26], [52, 51, 49, 13]]], [[4, [32, 39, 0, 15, 3], [7, 4, 64, 1, 79, 25, 28, 30, 63, 12]], [2, [5, 2, 6], [11, 9, 16, 6, 10, 3]], [3, [28, 13, 33, 35], [66, 54, 53, 70, 26, 20, 21, 2]], [1, [22, 16, 17, 24, 25, 20, 4], [42, 32, 23, 31, 38, 46, 48, 73, 69, 68, 65, 8, 80, 19]]], [[1, [38, 37], [78, 71, 75, 50]], [0, [36, 31, 30], [56, 74, 60, 59, 57, 77]]], [[1, [9, 7], [17, 14, 76, 72]], [0, [8], [15, 58]]]]\n#################### Round :8 ############################\n"
     ]
    },
    {
     "name": "stdout",
     "output_type": "stream",
     "text": [
      "#################### Round :8 ############################\n"
     ]
    },
    {
     "name": "stdout",
     "output_type": "stream",
     "text": [
      "#################### Round :8 ############################\n"
     ]
    },
    {
     "name": "stdout",
     "output_type": "stream",
     "text": [
      "#################### Round :8 ############################\n"
     ]
    },
    {
     "name": "stdout",
     "output_type": "stream",
     "text": [
      "#################### Round :8 ############################\n"
     ]
    },
    {
     "name": "stdout",
     "output_type": "stream",
     "text": [
      "[[[1, [34, 29], [55, 67, 61, 62]], [2, [1, 10, 19, 11, 18], [33, 22, 41, 36, 35, 18, 5, 44, 43, 47]], [0, [12, 21, 23, 14], [45, 40, 39, 27, 24, 37, 34, 29]]], [[0, [27, 26], [52, 51, 49, 13]]], [[3, [22, 24, 4, 17, 25, 20, 16], [42, 32, 23, 46, 31, 38, 48, 73, 69, 68, 65, 8, 80, 19]], [1, [6, 5, 2], [11, 9, 16, 6, 10, 3]], [4, [28, 33, 13, 0, 35], [4, 66, 54, 53, 70, 25, 26, 20, 21, 2]], [0, [], []], [2, [32, 39, 15, 3], [7, 64, 1, 79, 28, 30, 63, 12]]], [[1, [38, 37], [78, 71, 75, 50]], [0, [36, 31, 30], [56, 74, 60, 59, 57, 77]]], [[1, [8], [15, 58]], [0, [9, 7], [17, 14, 76, 72]]]]\n#################### Round :9 ############################\n"
     ]
    },
    {
     "name": "stdout",
     "output_type": "stream",
     "text": [
      "#################### Round :9 ############################\n"
     ]
    },
    {
     "name": "stdout",
     "output_type": "stream",
     "text": [
      "#################### Round :9 ############################\n"
     ]
    },
    {
     "name": "stdout",
     "output_type": "stream",
     "text": [
      "#################### Round :9 ############################\n"
     ]
    },
    {
     "name": "stdout",
     "output_type": "stream",
     "text": [
      "#################### Round :9 ############################\n"
     ]
    },
    {
     "name": "stdout",
     "output_type": "stream",
     "text": [
      "[[[2, [34, 29], [55, 67, 61, 62]], [1, [19, 11, 18, 1, 10], [33, 22, 41, 36, 35, 18, 5, 44, 43, 47]], [0, [12, 21, 23, 14], [45, 40, 39, 27, 24, 37, 34, 29]]], [[0, [27, 26], [52, 51, 49, 13]]], [[0, [24, 16, 4, 22, 17, 20, 25], [42, 32, 23, 31, 38, 46, 48, 73, 69, 68, 65, 8, 80, 19]], [2, [33, 35, 28, 13], [66, 54, 53, 70, 26, 20, 21, 2]], [3, [2, 5, 6], [11, 9, 16, 6, 10, 3]], [1, [0, 39, 15, 3, 32], [7, 4, 64, 1, 79, 25, 28, 30, 63, 12]]], [[1, [38, 37], [78, 71, 75, 50]], [0, [36, 31, 30], [56, 74, 60, 59, 57, 77]]], [[1, [9, 7], [17, 14, 76, 72]], [0, [8], [15, 58]]]]\n#################### Round :10 ############################\n"
     ]
    },
    {
     "name": "stdout",
     "output_type": "stream",
     "text": [
      "#################### Round :10 ############################\n"
     ]
    },
    {
     "name": "stdout",
     "output_type": "stream",
     "text": [
      "#################### Round :10 ############################\n"
     ]
    },
    {
     "name": "stdout",
     "output_type": "stream",
     "text": [
      "#################### Round :10 ############################\n"
     ]
    },
    {
     "name": "stdout",
     "output_type": "stream",
     "text": [
      "#################### Round :10 ############################\n"
     ]
    },
    {
     "name": "stdout",
     "output_type": "stream",
     "text": [
      "[[[0, [21, 23, 12, 14], [45, 40, 39, 27, 24, 37, 34, 29]], [1, [19, 10, 1, 11, 18], [33, 22, 41, 36, 35, 18, 5, 44, 43, 47]], [3, [29, 34], [55, 67, 61, 62]]], [[0, [27, 26], [52, 51, 49, 13]]], [[4, [32, 39, 3, 0, 15], [7, 4, 64, 1, 79, 25, 28, 30, 63, 12]], [0, [2, 5, 6], [11, 9, 16, 6, 10, 3]], [3, [22, 16, 20, 24, 17, 25, 4], [42, 32, 23, 31, 38, 46, 48, 73, 69, 68, 65, 8, 80, 19]], [1, [33, 28, 35, 13], [66, 54, 53, 70, 26, 20, 21, 2]]], [[1, [38, 37], [78, 71, 75, 50]], [0, [36, 31, 30], [56, 74, 60, 59, 57, 77]]], [[1, [8], [15, 58]], [0, [9, 7], [17, 14, 76, 72]]]]\n"
     ]
    },
    {
     "name": "stdout",
     "output_type": "stream",
     "text": [
      "----------------Instance name: pdp_instances/GOO/goo4.csv-----------------------------------\n processing time --- 0.5060296058654785 seconds ---\n#################### Round :1 ############################\n"
     ]
    },
    {
     "name": "stdout",
     "output_type": "stream",
     "text": [
      "#################### Round :1 ############################\n"
     ]
    },
    {
     "name": "stdout",
     "output_type": "stream",
     "text": [
      "#################### Round :1 ############################\n"
     ]
    },
    {
     "name": "stdout",
     "output_type": "stream",
     "text": [
      "#################### Round :1 ############################\n"
     ]
    },
    {
     "name": "stdout",
     "output_type": "stream",
     "text": [
      "#################### Round :1 ############################\n"
     ]
    },
    {
     "name": "stdout",
     "output_type": "stream",
     "text": [
      "[[[3, [23, 17, 21, 18], [38, 61, 52, 39, 48, 41, 23, 20]], [1, [], []], [0, [28, 26, 13, 32, 14, 20, 19], [62, 68, 55, 36, 45, 42, 47, 40, 30, 31, 35, 16, 15, 28]]], [[0, [15], [32, 80]]], [[3, [4, 29], [63, 7, 3, 11]], [1, [11, 0, 9, 6, 7, 22, 24], [22, 18, 12, 5, 1, 44, 43, 34, 13, 50, 53, 67, 19, 8]], [0, [34, 37, 1, 31, 8, 12, 25, 30, 10], [64, 54, 73, 70, 65, 66, 9, 25, 27, 21, 17, 14, 2, 79, 26, 24, 49, 51]]], [[0, [36, 35], [72, 71, 77, 57]]], [[2, [39, 38, 27], [56, 78, 76, 37, 29, 46]], [1, [33, 16, 2, 5, 3], [4, 10, 59, 33, 6, 60, 58, 69, 74, 75]], [0, [], []]]]\n#################### Round :2 ############################\n"
     ]
    },
    {
     "name": "stdout",
     "output_type": "stream",
     "text": [
      "#################### Round :2 ############################\n"
     ]
    },
    {
     "name": "stdout",
     "output_type": "stream",
     "text": [
      "#################### Round :2 ############################\n"
     ]
    },
    {
     "name": "stdout",
     "output_type": "stream",
     "text": [
      "#################### Round :2 ############################\n"
     ]
    },
    {
     "name": "stdout",
     "output_type": "stream",
     "text": [
      "#################### Round :2 ############################\n"
     ]
    },
    {
     "name": "stdout",
     "output_type": "stream",
     "text": [
      "[[[2, [23, 21, 17, 18], [38, 61, 52, 39, 48, 41, 23, 20]], [1, [32, 19, 28, 13, 26, 14, 20], [62, 68, 55, 36, 45, 42, 47, 40, 30, 31, 35, 16, 15, 28]]], [[0, [15], [32, 80]]], [[4, [30, 12, 4], [64, 7, 3, 27, 24, 51]], [0, [34, 10, 37, 25, 29, 31, 8, 1], [63, 54, 73, 70, 66, 65, 11, 9, 21, 25, 17, 2, 14, 79, 49, 26]], [2, [], []], [1, [11, 9, 6, 0, 22, 7, 24], [22, 18, 12, 5, 1, 44, 43, 34, 13, 50, 53, 67, 19, 8]]], [[0, [36, 35], [72, 71, 77, 57]]], [[2, [39, 38, 27], [56, 78, 76, 37, 29, 46]], [1, [33, 16, 3, 2, 5], [4, 10, 59, 33, 6, 60, 58, 69, 74, 75]]]]\n#################### Round :3 ############################\n"
     ]
    },
    {
     "name": "stdout",
     "output_type": "stream",
     "text": [
      "#################### Round :3 ############################\n"
     ]
    },
    {
     "name": "stdout",
     "output_type": "stream",
     "text": [
      "#################### Round :3 ############################\n"
     ]
    },
    {
     "name": "stdout",
     "output_type": "stream",
     "text": [
      "#################### Round :3 ############################\n"
     ]
    },
    {
     "name": "stdout",
     "output_type": "stream",
     "text": [
      "#################### Round :3 ############################\n"
     ]
    },
    {
     "name": "stdout",
     "output_type": "stream",
     "text": [
      "[[[3, [], []], [1, [23, 17, 21, 18], [38, 61, 52, 39, 48, 41, 23, 20]], [0, [], []], [2, [13, 28, 32, 19, 26, 14, 20], [62, 68, 55, 36, 45, 42, 47, 40, 30, 31, 35, 16, 15, 28]]], [[0, [15], [32, 80]]], [[3, [30, 12, 4], [64, 7, 3, 27, 24, 51]], [2, [11, 22, 6, 0, 9, 7, 24], [22, 18, 12, 5, 1, 44, 43, 34, 13, 50, 53, 67, 19, 8]], [4, [], []], [1, [], []], [0, [10, 25, 37, 34, 1, 29, 8, 31], [63, 54, 73, 70, 66, 65, 11, 9, 21, 25, 17, 14, 2, 79, 49, 26]]], [[0, [36, 35], [72, 71, 77, 57]]], [[2, [39, 38, 27], [56, 78, 76, 37, 29, 46]], [1, [2, 33, 16, 5, 3], [4, 10, 59, 33, 6, 60, 58, 69, 74, 75]]]]\n#################### Round :4 ############################\n"
     ]
    },
    {
     "name": "stdout",
     "output_type": "stream",
     "text": [
      "#################### Round :4 ############################\n"
     ]
    },
    {
     "name": "stdout",
     "output_type": "stream",
     "text": [
      "#################### Round :4 ############################\n"
     ]
    },
    {
     "name": "stdout",
     "output_type": "stream",
     "text": [
      "#################### Round :4 ############################\n"
     ]
    },
    {
     "name": "stdout",
     "output_type": "stream",
     "text": [
      "#################### Round :4 ############################\n"
     ]
    },
    {
     "name": "stdout",
     "output_type": "stream",
     "text": [
      "[[[3, [28, 26, 32, 20, 13, 14, 19], [62, 68, 55, 36, 45, 42, 47, 40, 30, 31, 35, 16, 15, 28]], [0, [23, 17, 21, 18], [38, 61, 52, 39, 48, 41, 23, 20]]], [[0, [15], [32, 80]]], [[3, [30, 22, 4, 7, 24], [64, 7, 3, 27, 13, 50, 53, 67, 19, 8]], [0, [37, 25, 10, 31, 34, 29, 8, 1], [63, 54, 73, 70, 66, 65, 11, 9, 21, 25, 17, 14, 2, 79, 49, 26]], [2, [11, 6, 9, 0, 12], [22, 18, 12, 5, 1, 44, 43, 34, 24, 51]]], [[0, [36, 35], [72, 71, 77, 57]]], [[3, [38, 39, 27], [56, 78, 76, 37, 29, 46]], [2, [2, 33, 5, 16, 3], [4, 10, 59, 33, 6, 60, 58, 69, 74, 75]], [0, [], []]]]\n#################### Round :5 ############################\n"
     ]
    },
    {
     "name": "stdout",
     "output_type": "stream",
     "text": [
      "#################### Round :5 ############################\n"
     ]
    },
    {
     "name": "stdout",
     "output_type": "stream",
     "text": [
      "#################### Round :5 ############################\n"
     ]
    },
    {
     "name": "stdout",
     "output_type": "stream",
     "text": [
      "#################### Round :5 ############################\n"
     ]
    },
    {
     "name": "stdout",
     "output_type": "stream",
     "text": [
      "#################### Round :5 ############################\n"
     ]
    },
    {
     "name": "stdout",
     "output_type": "stream",
     "text": [
      "[[[2, [28, 26, 20, 14, 13, 32, 19], [62, 68, 55, 36, 45, 42, 47, 40, 30, 31, 35, 16, 15, 28]], [1, [23, 17, 21, 18], [38, 61, 52, 39, 48, 41, 23, 20]], [0, [], []]], [[0, [15], [32, 80]]], [[3, [29, 4], [63, 7, 3, 11]], [2, [9, 22, 11, 7, 0, 12, 6, 24], [22, 18, 12, 5, 1, 44, 43, 34, 13, 50, 53, 67, 24, 19, 8, 51]], [0, [30, 10, 8, 37, 25, 1, 34, 31], [64, 54, 73, 70, 65, 66, 9, 25, 27, 17, 21, 14, 2, 79, 49, 26]]], [[0, [36, 35], [72, 71, 77, 57]]], [[2, [39, 38, 27], [56, 78, 76, 37, 29, 46]], [1, [33, 16, 3, 2, 5], [4, 10, 59, 33, 6, 60, 58, 69, 74, 75]]]]\n#################### Round :6 ############################\n"
     ]
    },
    {
     "name": "stdout",
     "output_type": "stream",
     "text": [
      "#################### Round :6 ############################\n"
     ]
    },
    {
     "name": "stdout",
     "output_type": "stream",
     "text": [
      "#################### Round :6 ############################\n"
     ]
    },
    {
     "name": "stdout",
     "output_type": "stream",
     "text": [
      "#################### Round :6 ############################\n"
     ]
    },
    {
     "name": "stdout",
     "output_type": "stream",
     "text": [
      "#################### Round :6 ############################\n"
     ]
    },
    {
     "name": "stdout",
     "output_type": "stream",
     "text": [
      "[[[2, [28, 19, 13, 26, 20, 32, 14], [62, 68, 55, 36, 45, 42, 47, 40, 30, 31, 35, 16, 15, 28]], [1, [23, 21, 17, 18], [38, 61, 52, 39, 48, 41, 23, 20]]], [[0, [15], [32, 80]]], [[4, [34, 25, 37, 31, 29, 10, 8, 1], [63, 54, 73, 70, 66, 65, 11, 9, 21, 25, 17, 14, 2, 79, 49, 26]], [3, [], []], [2, [11, 9, 6, 0, 12], [22, 18, 12, 5, 1, 44, 43, 34, 24, 51]], [1, [30, 22, 7, 24, 4], [64, 7, 3, 27, 13, 50, 53, 67, 19, 8]]], [[0, [36, 35], [72, 71, 77, 57]]], [[3, [27, 38, 39], [56, 78, 76, 37, 29, 46]], [0, [2, 16, 3, 5, 33], [4, 10, 59, 33, 6, 60, 58, 69, 74, 75]], [1, [], []]]]\n#################### Round :7 ############################\n"
     ]
    },
    {
     "name": "stdout",
     "output_type": "stream",
     "text": [
      "#################### Round :7 ############################\n"
     ]
    },
    {
     "name": "stdout",
     "output_type": "stream",
     "text": [
      "#################### Round :7 ############################\n"
     ]
    },
    {
     "name": "stdout",
     "output_type": "stream",
     "text": [
      "#################### Round :7 ############################\n"
     ]
    },
    {
     "name": "stdout",
     "output_type": "stream",
     "text": [
      "#################### Round :7 ############################\n"
     ]
    },
    {
     "name": "stdout",
     "output_type": "stream",
     "text": [
      "[[[3, [28, 19, 32, 14, 13, 26, 20], [62, 68, 55, 36, 45, 42, 47, 40, 30, 31, 35, 16, 15, 28]], [1, [], []], [2, [17, 21, 18, 23], [38, 61, 52, 39, 48, 41, 23, 20]]], [[0, [15], [32, 80]]], [[3, [], []], [2, [11, 0, 6, 9, 22, 7, 24], [22, 18, 12, 5, 1, 44, 43, 34, 13, 50, 53, 67, 19, 8]], [1, [4, 29], [63, 7, 3, 11]], [0, [34, 37, 25, 31, 8, 1, 30, 10, 12], [64, 54, 73, 70, 65, 66, 9, 25, 27, 21, 17, 14, 2, 79, 26, 24, 49, 51]]], [[0, [36, 35], [72, 71, 77, 57]]], [[2, [39, 38, 27], [56, 78, 76, 37, 29, 46]], [1, [2, 33, 16, 5, 3], [4, 10, 59, 33, 6, 60, 58, 69, 74, 75]], [0, [], []]]]\n#################### Round :8 ############################\n"
     ]
    },
    {
     "name": "stdout",
     "output_type": "stream",
     "text": [
      "#################### Round :8 ############################\n"
     ]
    },
    {
     "name": "stdout",
     "output_type": "stream",
     "text": [
      "#################### Round :8 ############################\n"
     ]
    },
    {
     "name": "stdout",
     "output_type": "stream",
     "text": [
      "#################### Round :8 ############################\n"
     ]
    },
    {
     "name": "stdout",
     "output_type": "stream",
     "text": [
      "#################### Round :8 ############################\n"
     ]
    },
    {
     "name": "stdout",
     "output_type": "stream",
     "text": [
      "[[[3, [23, 21, 17, 18], [38, 61, 52, 39, 48, 41, 23, 20]], [2, [28, 20, 32, 26, 14, 19, 13], [62, 68, 55, 36, 45, 42, 47, 40, 30, 31, 35, 16, 15, 28]]], [[0, [15], [32, 80]]], [[3, [30, 22, 7, 24, 4], [64, 7, 3, 27, 13, 50, 53, 67, 19, 8]], [2, [11, 6, 9, 0, 12], [22, 18, 12, 5, 1, 44, 43, 34, 24, 51]], [1, [], []], [0, [37, 29, 25, 1, 8, 10, 31, 34], [63, 54, 73, 70, 66, 65, 11, 9, 21, 25, 17, 14, 2, 79, 49, 26]]], [[0, [36, 35], [72, 71, 77, 57]]], [[2, [39, 38, 27], [56, 78, 76, 37, 29, 46]], [1, [33, 16, 3, 2, 5], [4, 10, 59, 33, 6, 60, 58, 69, 74, 75]], [0, [], []]]]\n#################### Round :9 ############################\n"
     ]
    },
    {
     "name": "stdout",
     "output_type": "stream",
     "text": [
      "#################### Round :9 ############################\n"
     ]
    },
    {
     "name": "stdout",
     "output_type": "stream",
     "text": [
      "#################### Round :9 ############################\n"
     ]
    },
    {
     "name": "stdout",
     "output_type": "stream",
     "text": [
      "#################### Round :9 ############################\n"
     ]
    },
    {
     "name": "stdout",
     "output_type": "stream",
     "text": [
      "#################### Round :9 ############################\n"
     ]
    },
    {
     "name": "stdout",
     "output_type": "stream",
     "text": [
      "[[[2, [28, 32, 19, 13, 14, 26, 20], [62, 68, 55, 36, 45, 42, 47, 40, 30, 31, 35, 16, 15, 28]], [1, [23, 21, 17, 18], [38, 61, 52, 39, 48, 41, 23, 20]]], [[0, [15], [32, 80]]], [[3, [30, 22, 7, 24, 4], [64, 7, 3, 27, 13, 50, 53, 67, 19, 8]], [0, [37, 25, 31, 29, 34, 10, 8, 1], [63, 54, 73, 70, 66, 65, 11, 9, 21, 25, 17, 14, 2, 79, 49, 26]], [1, [11, 9, 0, 6, 12], [22, 18, 12, 5, 1, 44, 43, 34, 24, 51]]], [[0, [36, 35], [72, 71, 77, 57]]], [[2, [39, 38, 27], [56, 78, 76, 37, 29, 46]], [1, [16, 2, 5, 33, 3], [4, 10, 59, 33, 6, 60, 58, 69, 74, 75]], [0, [], []]]]\n#################### Round :10 ############################\n"
     ]
    },
    {
     "name": "stdout",
     "output_type": "stream",
     "text": [
      "#################### Round :10 ############################\n"
     ]
    },
    {
     "name": "stdout",
     "output_type": "stream",
     "text": [
      "#################### Round :10 ############################\n"
     ]
    },
    {
     "name": "stdout",
     "output_type": "stream",
     "text": [
      "#################### Round :10 ############################\n"
     ]
    },
    {
     "name": "stdout",
     "output_type": "stream",
     "text": [
      "#################### Round :10 ############################\n"
     ]
    },
    {
     "name": "stdout",
     "output_type": "stream",
     "text": [
      "[[[2, [28, 32, 26, 20, 13, 14, 19], [62, 68, 55, 36, 45, 42, 47, 40, 30, 31, 35, 16, 15, 28]], [1, [17, 21, 23, 18], [38, 61, 52, 39, 48, 41, 23, 20]], [0, [], []]], [[0, [15], [32, 80]]], [[2, [4], [7, 3]], [0, [], []], [1, [25, 12, 8, 37, 30, 34, 1, 31], [64, 54, 73, 70, 65, 66, 9, 25, 27, 17, 14, 2, 26, 24, 49, 51]], [3, [9, 22, 11, 29, 6, 0, 10, 24, 7], [63, 22, 18, 11, 12, 5, 1, 44, 43, 34, 21, 13, 50, 79, 53, 67, 19, 8]]], [[0, [36, 35], [72, 71, 77, 57]]], [[2, [39, 38, 27], [56, 78, 76, 37, 29, 46]], [1, [33, 16, 3, 2, 5], [4, 10, 59, 33, 6, 60, 58, 69, 74, 75]], [0, [], []]]]\n"
     ]
    },
    {
     "name": "stdout",
     "output_type": "stream",
     "text": [
      "----------------Instance name: pdp_instances/GOO/goo5.csv-----------------------------------\n processing time --- 0.32502007484436035 seconds ---\n#################### Round :1 ############################\n"
     ]
    },
    {
     "name": "stdout",
     "output_type": "stream",
     "text": [
      "#################### Round :1 ############################\n"
     ]
    },
    {
     "name": "stdout",
     "output_type": "stream",
     "text": [
      "#################### Round :1 ############################\n"
     ]
    },
    {
     "name": "stdout",
     "output_type": "stream",
     "text": [
      "#################### Round :1 ############################\n"
     ]
    },
    {
     "name": "stdout",
     "output_type": "stream",
     "text": [
      "#################### Round :1 ############################\n"
     ]
    },
    {
     "name": "stdout",
     "output_type": "stream",
     "text": [
      "[[[3, [21, 19], [41, 43, 28, 48]], [2, [17, 22, 24, 18], [49, 40, 39, 45, 46, 16, 6, 8]], [0, [14, 9, 20, 15], [37, 35, 30, 23, 80, 42, 29, 27]], [1, [], []]], [[2, [38, 26, 4, 39, 3], [53, 13, 11, 10, 78, 52, 62, 79, 21, 51]], [0, [], []], [1, [28, 25], [55, 50, 17, 15]]], [[0, [36, 32, 37, 34, 27, 1], [75, 64, 5, 54, 2, 72, 69, 65, 3, 36, 34, 33]], [2, [6], [18, 12]], [1, [10, 5, 8, 0, 2, 33, 35], [24, 20, 9, 7, 4, 14, 70, 68, 66, 63, 1, 31, 44, 22]]], [[0, [30], [57, 58]]], [[3, [31, 16, 13, 11], [59, 61, 25, 32, 38, 60, 74, 71]], [2, [29], [56, 67]], [0, [23, 12, 7], [19, 26, 47, 77, 76, 73]], [1, [], []]]]\n#################### Round :2 ############################\n"
     ]
    },
    {
     "name": "stdout",
     "output_type": "stream",
     "text": [
      "#################### Round :2 ############################\n"
     ]
    },
    {
     "name": "stdout",
     "output_type": "stream",
     "text": [
      "#################### Round :2 ############################\n"
     ]
    },
    {
     "name": "stdout",
     "output_type": "stream",
     "text": [
      "#################### Round :2 ############################\n"
     ]
    },
    {
     "name": "stdout",
     "output_type": "stream",
     "text": [
      "#################### Round :2 ############################\n"
     ]
    },
    {
     "name": "stdout",
     "output_type": "stream",
     "text": [
      "[[[3, [24, 21], [49, 43, 46, 28]], [2, [], []], [1, [9, 15, 18, 14], [37, 35, 40, 30, 23, 6, 80, 29]], [0, [17, 19, 20, 22], [41, 39, 45, 48, 42, 16, 8, 27]]], [[2, [26, 3, 38, 4, 39], [53, 13, 11, 10, 78, 52, 62, 79, 21, 51]], [1, [25, 28], [55, 50, 17, 15]], [0, [], []]], [[3, [10, 2, 8, 5, 0, 33, 35], [24, 20, 9, 7, 14, 4, 70, 68, 66, 63, 1, 31, 44, 22]], [1, [36, 27, 34, 1, 37, 32], [75, 64, 5, 54, 2, 72, 69, 65, 3, 36, 34, 33]], [0, [6], [18, 12]]], [[0, [30], [57, 58]]], [[3, [31, 16, 13, 11], [59, 61, 25, 32, 38, 60, 74, 71]], [0, [12, 7, 23], [19, 26, 47, 77, 76, 73]], [2, [], []], [1, [29], [56, 67]]]]\n#################### Round :3 ############################\n"
     ]
    },
    {
     "name": "stdout",
     "output_type": "stream",
     "text": [
      "#################### Round :3 ############################\n"
     ]
    },
    {
     "name": "stdout",
     "output_type": "stream",
     "text": [
      "#################### Round :3 ############################\n"
     ]
    },
    {
     "name": "stdout",
     "output_type": "stream",
     "text": [
      "#################### Round :3 ############################\n"
     ]
    },
    {
     "name": "stdout",
     "output_type": "stream",
     "text": [
      "#################### Round :3 ############################\n"
     ]
    },
    {
     "name": "stdout",
     "output_type": "stream",
     "text": [
      "[[[0, [19, 21, 24], [49, 41, 43, 46, 28, 48]], [1, [17, 18, 22], [45, 40, 39, 16, 6, 8]], [2, [14, 9, 15, 20], [37, 35, 30, 23, 80, 42, 29, 27]]], [[2, [], []], [0, [26, 3, 4, 39, 38], [53, 13, 11, 10, 78, 52, 62, 79, 21, 51]], [1, [28, 25], [55, 50, 17, 15]]], [[2, [6], [18, 12]], [1, [36, 32, 27, 34, 37, 1], [75, 64, 5, 54, 2, 72, 69, 65, 3, 36, 34, 33]], [0, [8, 10, 2, 5, 0, 33, 35], [24, 20, 9, 7, 14, 4, 70, 68, 66, 63, 1, 31, 44, 22]]], [[0, [30], [57, 58]]], [[3, [31, 16, 13, 11], [59, 61, 25, 32, 38, 60, 74, 71]], [2, [29], [56, 67]], [1, [], []], [0, [12, 7, 23], [19, 26, 47, 77, 76, 73]]]]\n#################### Round :4 ############################\n"
     ]
    },
    {
     "name": "stdout",
     "output_type": "stream",
     "text": [
      "#################### Round :4 ############################\n"
     ]
    },
    {
     "name": "stdout",
     "output_type": "stream",
     "text": [
      "#################### Round :4 ############################\n"
     ]
    },
    {
     "name": "stdout",
     "output_type": "stream",
     "text": [
      "#################### Round :4 ############################\n"
     ]
    },
    {
     "name": "stdout",
     "output_type": "stream",
     "text": [
      "#################### Round :4 ############################\n"
     ]
    },
    {
     "name": "stdout",
     "output_type": "stream",
     "text": [
      "[[[3, [21, 19], [41, 43, 28, 48]], [2, [15, 14, 9, 20], [37, 35, 30, 23, 80, 42, 29, 27]], [1, [], []], [0, [17, 22, 24, 18], [49, 40, 39, 45, 46, 16, 6, 8]]], [[2, [25, 28], [55, 50, 17, 15]], [1, [4, 26, 38, 39, 3], [53, 13, 11, 10, 78, 52, 62, 79, 21, 51]], [0, [], []]], [[2, [6], [18, 12]], [1, [10, 8, 0, 5, 33, 2, 35], [24, 20, 9, 7, 14, 4, 70, 68, 66, 63, 1, 31, 44, 22]], [0, [37, 32, 36, 34, 1, 27], [75, 64, 5, 54, 2, 72, 69, 65, 3, 36, 34, 33]]], [[0, [30], [57, 58]]], [[3, [31, 16, 13, 11], [59, 61, 25, 32, 38, 60, 74, 71]], [2, [], []], [0, [29], [56, 67]], [1, [7, 12, 23], [19, 26, 47, 77, 76, 73]]]]\n#################### Round :5 ############################\n"
     ]
    },
    {
     "name": "stdout",
     "output_type": "stream",
     "text": [
      "#################### Round :5 ############################\n"
     ]
    },
    {
     "name": "stdout",
     "output_type": "stream",
     "text": [
      "#################### Round :5 ############################\n"
     ]
    },
    {
     "name": "stdout",
     "output_type": "stream",
     "text": [
      "#################### Round :5 ############################\n"
     ]
    },
    {
     "name": "stdout",
     "output_type": "stream",
     "text": [
      "#################### Round :5 ############################\n"
     ]
    },
    {
     "name": "stdout",
     "output_type": "stream",
     "text": [
      "[[[2, [21, 19], [41, 43, 28, 48]], [1, [14, 9, 15, 20], [37, 35, 30, 23, 80, 42, 29, 27]], [0, [17, 22, 24, 18], [49, 40, 39, 45, 46, 16, 6, 8]]], [[2, [38, 26, 4, 39, 3], [53, 13, 11, 10, 78, 52, 62, 79, 21, 51]], [1, [28, 25], [55, 50, 17, 15]], [0, [], []]], [[3, [6], [18, 12]], [2, [2, 8, 0, 33, 10, 5, 35], [24, 20, 9, 7, 14, 4, 70, 68, 66, 63, 1, 31, 44, 22]], [0, [34, 27, 36, 32, 37, 1], [75, 64, 5, 54, 2, 72, 69, 65, 3, 36, 34, 33]]], [[0, [30], [57, 58]]], [[3, [31, 16, 13, 11], [59, 61, 25, 32, 38, 60, 74, 71]], [2, [29], [56, 67]], [0, [23, 7, 12], [19, 26, 47, 77, 76, 73]], [1, [], []]]]\n#################### Round :6 ############################\n"
     ]
    },
    {
     "name": "stdout",
     "output_type": "stream",
     "text": [
      "#################### Round :6 ############################\n"
     ]
    },
    {
     "name": "stdout",
     "output_type": "stream",
     "text": [
      "#################### Round :6 ############################\n"
     ]
    },
    {
     "name": "stdout",
     "output_type": "stream",
     "text": [
      "#################### Round :6 ############################\n"
     ]
    },
    {
     "name": "stdout",
     "output_type": "stream",
     "text": [
      "#################### Round :6 ############################\n"
     ]
    },
    {
     "name": "stdout",
     "output_type": "stream",
     "text": [
      "[[[3, [21, 19], [41, 43, 28, 48]], [2, [14, 15, 9, 20], [37, 35, 30, 23, 80, 42, 29, 27]], [0, [24, 22, 17, 18], [49, 40, 39, 45, 46, 16, 6, 8]], [1, [], []]], [[2, [28, 25], [55, 50, 17, 15]], [1, [38, 26, 4, 39, 3], [53, 13, 11, 10, 78, 52, 62, 79, 21, 51]]], [[2, [6], [18, 12]], [1, [33, 5, 8, 10, 0, 2, 35], [24, 20, 9, 7, 14, 4, 70, 68, 66, 63, 1, 31, 44, 22]], [0, [36, 32, 37, 27, 1, 34], [75, 64, 5, 54, 2, 72, 69, 65, 3, 36, 34, 33]]], [[0, [30], [57, 58]]], [[3, [31, 16, 13, 11], [59, 61, 25, 32, 38, 60, 74, 71]], [2, [29], [56, 67]], [0, [12, 7, 23], [19, 26, 47, 77, 76, 73]]]]\n#################### Round :7 ############################\n"
     ]
    },
    {
     "name": "stdout",
     "output_type": "stream",
     "text": [
      "#################### Round :7 ############################\n"
     ]
    },
    {
     "name": "stdout",
     "output_type": "stream",
     "text": [
      "#################### Round :7 ############################\n"
     ]
    },
    {
     "name": "stdout",
     "output_type": "stream",
     "text": [
      "#################### Round :7 ############################\n"
     ]
    },
    {
     "name": "stdout",
     "output_type": "stream",
     "text": [
      "#################### Round :7 ############################\n"
     ]
    },
    {
     "name": "stdout",
     "output_type": "stream",
     "text": [
      "[[[0, [], []], [1, [17, 22, 18], [39, 40, 45, 16, 6, 8]], [3, [9, 14, 15, 20], [37, 35, 30, 23, 80, 42, 29, 27]], [2, [19, 21, 24], [49, 41, 43, 46, 28, 48]]], [[2, [38, 26, 4, 39, 3], [53, 13, 11, 10, 78, 52, 62, 79, 21, 51]], [1, [25, 28], [55, 50, 17, 15]], [0, [], []]], [[3, [6], [18, 12]], [2, [1, 34, 36, 27, 37, 32], [75, 64, 5, 54, 2, 72, 69, 65, 3, 36, 34, 33]], [0, [35, 10, 2, 33, 8, 5, 0], [24, 20, 9, 7, 14, 4, 70, 68, 66, 63, 1, 31, 44, 22]]], [[0, [30], [57, 58]]], [[3, [31, 13, 11, 16], [59, 61, 25, 32, 38, 60, 74, 71]], [1, [], []], [0, [23, 7, 12], [19, 26, 47, 77, 76, 73]], [2, [29], [56, 67]]]]\n#################### Round :8 ############################\n"
     ]
    },
    {
     "name": "stdout",
     "output_type": "stream",
     "text": [
      "#################### Round :8 ############################\n"
     ]
    },
    {
     "name": "stdout",
     "output_type": "stream",
     "text": [
      "#################### Round :8 ############################\n"
     ]
    },
    {
     "name": "stdout",
     "output_type": "stream",
     "text": [
      "#################### Round :8 ############################\n"
     ]
    },
    {
     "name": "stdout",
     "output_type": "stream",
     "text": [
      "#################### Round :8 ############################\n"
     ]
    },
    {
     "name": "stdout",
     "output_type": "stream",
     "text": [
      "[[[0, [15, 14, 9, 20], [37, 35, 30, 23, 80, 42, 29, 27]], [1, [17, 18, 22], [45, 40, 39, 16, 6, 8]], [4, [24, 21, 19], [49, 41, 43, 46, 28, 48]]], [[1, [28, 25], [55, 50, 17, 15]], [0, [38, 26, 4, 39, 3], [53, 13, 11, 10, 78, 52, 62, 79, 21, 51]]], [[2, [36, 32, 37, 27, 1, 34], [75, 64, 5, 54, 2, 72, 69, 65, 3, 36, 34, 33]], [1, [6], [18, 12]], [0, [2, 8, 10, 0, 33, 5, 35], [24, 20, 9, 7, 14, 4, 70, 68, 66, 63, 1, 31, 44, 22]]], [[0, [30], [57, 58]]], [[3, [31, 16, 13, 11], [59, 61, 25, 32, 38, 60, 74, 71]], [2, [29], [56, 67]], [0, [12, 7, 23], [19, 26, 47, 77, 76, 73]]]]\n#################### Round :9 ############################\n"
     ]
    },
    {
     "name": "stdout",
     "output_type": "stream",
     "text": [
      "#################### Round :9 ############################\n"
     ]
    },
    {
     "name": "stdout",
     "output_type": "stream",
     "text": [
      "#################### Round :9 ############################\n"
     ]
    },
    {
     "name": "stdout",
     "output_type": "stream",
     "text": [
      "#################### Round :9 ############################\n"
     ]
    },
    {
     "name": "stdout",
     "output_type": "stream",
     "text": [
      "#################### Round :9 ############################\n"
     ]
    },
    {
     "name": "stdout",
     "output_type": "stream",
     "text": [
      "[[[0, [17, 18, 22], [45, 40, 39, 16, 6, 8]], [1, [14, 15, 9, 20], [37, 35, 30, 23, 80, 42, 29, 27]], [2, [19, 21, 24], [49, 41, 43, 46, 28, 48]]], [[2, [38, 26, 4, 39, 3], [53, 13, 11, 10, 78, 52, 62, 79, 21, 51]], [1, [], []], [0, [28, 25], [55, 50, 17, 15]]], [[3, [6], [18, 12]], [2, [], []], [1, [36, 32, 37, 27, 34, 1], [75, 64, 5, 54, 2, 72, 69, 65, 3, 36, 34, 33]], [0, [35, 2, 33, 8, 10, 5, 0], [24, 20, 9, 7, 14, 4, 70, 68, 66, 63, 1, 31, 44, 22]]], [[0, [30], [57, 58]]], [[3, [31, 16, 13, 11], [59, 61, 25, 32, 38, 60, 74, 71]], [1, [], []], [2, [29], [56, 67]], [0, [23, 7, 12], [19, 26, 47, 77, 76, 73]]]]\n#################### Round :10 ############################\n"
     ]
    },
    {
     "name": "stdout",
     "output_type": "stream",
     "text": [
      "#################### Round :10 ############################\n"
     ]
    },
    {
     "name": "stdout",
     "output_type": "stream",
     "text": [
      "#################### Round :10 ############################\n"
     ]
    },
    {
     "name": "stdout",
     "output_type": "stream",
     "text": [
      "#################### Round :10 ############################\n"
     ]
    },
    {
     "name": "stdout",
     "output_type": "stream",
     "text": [
      "#################### Round :10 ############################\n"
     ]
    },
    {
     "name": "stdout",
     "output_type": "stream",
     "text": [
      "[[[0, [15, 14, 9, 20], [37, 35, 30, 23, 80, 42, 29, 27]], [1, [19, 21], [41, 43, 28, 48]], [2, [24], [49, 46]], [3, [17, 18, 22], [45, 40, 39, 16, 6, 8]]], [[2, [38, 26, 4, 39, 3], [53, 13, 11, 10, 78, 52, 62, 79, 21, 51]], [0, [28, 25], [55, 50, 17, 15]], [1, [], []]], [[3, [6], [18, 12]], [1, [], []], [0, [32, 36, 27, 37, 34, 1], [75, 64, 5, 54, 2, 72, 69, 65, 3, 36, 34, 33]], [2, [8, 2, 10, 5, 35, 0, 33], [24, 20, 9, 7, 14, 4, 70, 68, 66, 63, 1, 31, 44, 22]]], [[0, [30], [57, 58]]], [[3, [31, 16, 11, 13], [59, 61, 25, 32, 38, 60, 74, 71]], [2, [29], [56, 67]], [0, [12, 7, 23], [19, 26, 47, 77, 76, 73]], [1, [], []]]]\n"
     ]
    },
    {
     "name": "stdout",
     "output_type": "stream",
     "text": [
      "----------------Instance name: pdp_instances/GOO/goo6.csv-----------------------------------\n processing time --- 0.32102155685424805 seconds ---\n#################### Round :1 ############################\n"
     ]
    },
    {
     "name": "stdout",
     "output_type": "stream",
     "text": [
      "#################### Round :1 ############################\n"
     ]
    },
    {
     "name": "stdout",
     "output_type": "stream",
     "text": [
      "#################### Round :1 ############################\n"
     ]
    },
    {
     "name": "stdout",
     "output_type": "stream",
     "text": [
      "[[[2, [25, 20, 24, 23, 19], [49, 44, 15, 21, 43, 36, 37, 16, 59, 61]], [0, [15, 18, 9, 8, 21], [35, 28, 19, 17, 13, 50, 58, 62, 39, 33]]], [], [[4, [39, 22, 35, 29], [42, 79, 66, 64, 54, 67, 1, 12]], [1, [4, 3, 5, 10, 7, 0, 14], [8, 7, 11, 6, 25, 27, 41, 38, 32, 20, 10, 2, 48, 40]], [0, [26, 27, 36], [68, 51, 52, 80, 18, 14]], [2, [34, 6], [9, 63, 3, 31]]], [], [[0, [30], [55, 77]], [1, [31, 12, 33, 28], [56, 60, 53, 46, 34, 24, 22, 73]], [2, [1, 16, 17, 13], [29, 30, 26, 4, 71, 69, 65, 72]], [3, [11, 2, 37, 38, 32], [5, 23, 78, 76, 70, 57, 74, 75, 47, 45]], [4, [], []]]]\n#################### Round :2 ############################\n"
     ]
    },
    {
     "name": "stdout",
     "output_type": "stream",
     "text": [
      "#################### Round :2 ############################\n"
     ]
    },
    {
     "name": "stdout",
     "output_type": "stream",
     "text": [
      "#################### Round :2 ############################\n"
     ]
    },
    {
     "name": "stdout",
     "output_type": "stream",
     "text": [
      "[[[0, [23, 25, 24, 19, 20], [49, 44, 15, 21, 43, 36, 37, 16, 59, 61]], [1, [18, 15, 8, 9], [35, 28, 19, 17, 13, 50, 58, 62]], [2, [21], [39, 33]]], [], [[4, [39, 35, 29, 22], [42, 79, 66, 64, 54, 67, 1, 12]], [3, [6, 34], [9, 63, 3, 31]], [2, [27, 26, 36], [68, 51, 52, 80, 18, 14]], [1, [4, 5, 3, 7, 0, 10, 14], [8, 7, 11, 6, 25, 27, 41, 38, 32, 20, 10, 2, 48, 40]]], [], [[4, [2, 11, 37, 38, 32], [5, 23, 78, 76, 70, 57, 74, 75, 47, 45]], [3, [30], [55, 77]], [2, [16, 13, 17, 1], [29, 30, 26, 4, 71, 69, 65, 72]], [0, [28, 31, 12, 33], [56, 60, 53, 46, 34, 24, 22, 73]]]]\n#################### Round :3 ############################\n"
     ]
    },
    {
     "name": "stdout",
     "output_type": "stream",
     "text": [
      "#################### Round :3 ############################\n"
     ]
    },
    {
     "name": "stdout",
     "output_type": "stream",
     "text": [
      "#################### Round :3 ############################\n"
     ]
    },
    {
     "name": "stdout",
     "output_type": "stream",
     "text": [
      "[[[3, [], []], [2, [], []], [1, [15, 8, 9, 18, 21], [35, 28, 19, 17, 13, 50, 58, 62, 39, 33]], [0, [25, 20, 19, 24, 23], [49, 44, 15, 21, 43, 36, 37, 16, 59, 61]]], [], [[4, [39, 35, 29, 22], [42, 79, 66, 64, 54, 67, 1, 12]], [2, [], []], [0, [36, 27, 26], [68, 51, 52, 80, 18, 14]], [3, [6, 34], [9, 63, 3, 31]], [1, [4, 3, 10, 5, 14, 0, 7], [8, 7, 11, 6, 25, 27, 41, 38, 32, 20, 10, 2, 48, 40]]], [], [[3, [2, 11, 37, 38, 32], [5, 23, 78, 76, 70, 57, 74, 75, 47, 45]], [0, [33, 12, 31, 28], [56, 60, 53, 46, 34, 24, 22, 73]], [2, [30, 16, 1, 17, 13], [29, 30, 26, 4, 71, 55, 69, 65, 72, 77]]]]\n#################### Round :4 ############################\n"
     ]
    },
    {
     "name": "stdout",
     "output_type": "stream",
     "text": [
      "#################### Round :4 ############################\n"
     ]
    },
    {
     "name": "stdout",
     "output_type": "stream",
     "text": [
      "#################### Round :4 ############################\n"
     ]
    },
    {
     "name": "stdout",
     "output_type": "stream",
     "text": [
      "[[[1, [23, 25, 24, 20, 19], [49, 44, 15, 21, 43, 36, 37, 16, 59, 61]], [0, [18, 9, 15, 8, 21], [35, 28, 19, 17, 13, 50, 58, 62, 39, 33]], [2, [], []]], [], [[4, [39, 29, 22, 35], [42, 79, 66, 64, 54, 67, 1, 12]], [1, [], []], [2, [4, 10, 5, 3, 0, 7, 14], [8, 7, 11, 6, 25, 27, 41, 38, 32, 20, 10, 2, 48, 40]], [0, [6, 34], [9, 63, 3, 31]], [3, [27, 26, 36], [68, 51, 52, 80, 18, 14]]], [], [[3, [31, 28, 33, 12], [56, 60, 53, 46, 34, 24, 22, 73]], [1, [1, 16, 13, 17], [29, 30, 26, 4, 71, 69, 65, 72]], [2, [11, 2, 32, 38, 37], [5, 23, 78, 76, 74, 70, 57, 75, 47, 45]], [0, [30], [55, 77]]]]\n#################### Round :5 ############################\n"
     ]
    },
    {
     "name": "stdout",
     "output_type": "stream",
     "text": [
      "#################### Round :5 ############################\n"
     ]
    },
    {
     "name": "stdout",
     "output_type": "stream",
     "text": [
      "#################### Round :5 ############################\n"
     ]
    },
    {
     "name": "stdout",
     "output_type": "stream",
     "text": [
      "[[[2, [25, 24, 19, 23, 20], [49, 44, 15, 21, 43, 36, 37, 16, 59, 61]], [0, [], []], [1, [8, 9, 15, 18, 21], [35, 28, 19, 17, 13, 50, 58, 62, 39, 33]]], [], [[4, [39, 22, 29, 35], [42, 79, 66, 64, 54, 67, 1, 12]], [1, [36, 27, 26], [68, 51, 52, 80, 18, 14]], [2, [4, 3, 7, 14, 5, 0, 10], [8, 7, 11, 6, 25, 27, 41, 38, 32, 20, 10, 2, 48, 40]], [3, [34, 6], [9, 63, 3, 31]]], [], [[2, [], []], [1, [31, 17, 33, 12, 30], [56, 60, 46, 34, 30, 24, 55, 77, 72, 73]], [3, [38, 28, 13, 1], [78, 70, 26, 4, 53, 69, 65, 22]], [0, [11, 37, 2, 16, 32], [5, 29, 23, 76, 71, 57, 74, 75, 47, 45]]]]\n#################### Round :6 ############################\n"
     ]
    },
    {
     "name": "stdout",
     "output_type": "stream",
     "text": [
      "#################### Round :6 ############################\n"
     ]
    },
    {
     "name": "stdout",
     "output_type": "stream",
     "text": [
      "#################### Round :6 ############################\n"
     ]
    },
    {
     "name": "stdout",
     "output_type": "stream",
     "text": [
      "[[[2, [25, 19, 24, 20, 23], [49, 44, 15, 21, 43, 36, 37, 16, 59, 61]], [1, [18, 15, 8, 9, 21], [35, 28, 19, 17, 13, 50, 58, 62, 39, 33]], [0, [], []]], [], [[4, [39, 35, 22, 29], [42, 79, 66, 64, 54, 67, 1, 12]], [3, [6, 34], [9, 63, 3, 31]], [1, [36, 27, 26], [68, 51, 52, 80, 18, 14]], [2, [4, 3, 14, 5, 10, 7, 0], [8, 7, 11, 6, 25, 27, 41, 38, 32, 20, 10, 2, 48, 40]]], [], [[1, [16, 13, 17, 33, 31], [56, 60, 29, 30, 26, 34, 46, 71, 65, 72]], [0, [1, 11, 2], [5, 23, 4, 76, 74, 69]], [3, [32, 38, 37], [78, 57, 70, 75, 47, 45]], [2, [30], [55, 77]], [4, [12, 28], [53, 24, 22, 73]]]]\n#################### Round :7 ############################\n"
     ]
    },
    {
     "name": "stdout",
     "output_type": "stream",
     "text": [
      "#################### Round :7 ############################\n"
     ]
    },
    {
     "name": "stdout",
     "output_type": "stream",
     "text": [
      "#################### Round :7 ############################\n"
     ]
    },
    {
     "name": "stdout",
     "output_type": "stream",
     "text": [
      "[[[2, [25, 23, 24, 20, 19], [49, 44, 15, 21, 43, 36, 37, 16, 59, 61]], [0, [15, 9, 18, 8, 21], [35, 28, 19, 17, 13, 50, 58, 62, 39, 33]]], [], [[4, [39, 35, 29, 22], [42, 79, 66, 64, 54, 67, 1, 12]], [0, [34, 6], [9, 63, 3, 31]], [3, [26, 27, 36], [68, 51, 52, 80, 18, 14]], [1, [4, 5, 3, 0, 10, 14, 7], [8, 7, 11, 6, 25, 27, 41, 38, 32, 20, 10, 2, 48, 40]]], [], [[1, [28, 38, 12], [78, 53, 70, 24, 22, 73]], [2, [32, 37], [57, 75, 47, 45]], [3, [2, 1, 11], [5, 23, 4, 76, 74, 69]], [4, [30], [55, 77]], [0, [16, 13, 33, 17, 31], [56, 60, 29, 30, 26, 34, 46, 71, 65, 72]]]]\n#################### Round :8 ############################\n"
     ]
    },
    {
     "name": "stdout",
     "output_type": "stream",
     "text": [
      "#################### Round :8 ############################\n"
     ]
    },
    {
     "name": "stdout",
     "output_type": "stream",
     "text": [
      "#################### Round :8 ############################\n"
     ]
    },
    {
     "name": "stdout",
     "output_type": "stream",
     "text": [
      "[[[2, [25, 23, 20, 24, 19], [49, 44, 15, 21, 43, 36, 37, 16, 59, 61]], [0, [15, 9, 18, 8, 21], [35, 28, 19, 17, 13, 50, 58, 62, 39, 33]], [1, [], []]], [], [[5, [26, 27, 36], [68, 51, 52, 80, 18, 14]], [3, [], []], [2, [5, 3, 0, 4, 10, 14, 7], [8, 7, 11, 6, 25, 27, 41, 38, 32, 20, 10, 2, 48, 40]], [0, [6, 34], [9, 63, 3, 31]], [1, [39, 22, 35, 29], [42, 79, 66, 64, 54, 67, 1, 12]]], [], [[1, [30, 1, 16, 17, 13], [29, 30, 26, 4, 71, 55, 69, 65, 72, 77]], [2, [28, 31, 33, 12], [56, 60, 53, 46, 34, 24, 22, 73]], [3, [11, 2, 38, 32, 37], [5, 23, 78, 76, 74, 70, 57, 75, 47, 45]], [4, [], []], [0, [], []]]]\n#################### Round :9 ############################\n"
     ]
    },
    {
     "name": "stdout",
     "output_type": "stream",
     "text": [
      "#################### Round :9 ############################\n"
     ]
    },
    {
     "name": "stdout",
     "output_type": "stream",
     "text": [
      "#################### Round :9 ############################\n"
     ]
    },
    {
     "name": "stdout",
     "output_type": "stream",
     "text": [
      "[[[2, [25, 23, 20, 24, 19], [49, 44, 15, 21, 43, 36, 37, 16, 59, 61]], [1, [15, 8, 21, 9, 18], [35, 28, 19, 17, 13, 50, 58, 62, 39, 33]]], [], [[4, [39, 35, 22, 29], [42, 79, 66, 64, 54, 67, 1, 12]], [3, [4, 3, 10, 5, 7, 14, 0], [8, 7, 11, 6, 25, 27, 41, 38, 32, 20, 10, 2, 48, 40]], [1, [34, 6], [9, 63, 3, 31]], [0, [36, 27, 26], [68, 51, 52, 80, 18, 14]]], [], [[4, [31, 28, 12, 33], [56, 60, 53, 46, 34, 24, 22, 73]], [3, [30], [55, 77]], [2, [17, 1, 16, 13], [29, 30, 26, 4, 71, 69, 65, 72]], [0, [11, 37, 38, 2, 32], [5, 23, 78, 76, 70, 57, 74, 75, 47, 45]]]]\n#################### Round :10 ############################\n"
     ]
    },
    {
     "name": "stdout",
     "output_type": "stream",
     "text": [
      "#################### Round :10 ############################\n"
     ]
    },
    {
     "name": "stdout",
     "output_type": "stream",
     "text": [
      "#################### Round :10 ############################\n"
     ]
    },
    {
     "name": "stdout",
     "output_type": "stream",
     "text": [
      "[[[2, [21, 18, 15, 8, 9], [35, 28, 19, 17, 13, 50, 58, 62, 39, 33]], [0, [24, 19, 25, 20, 23], [49, 44, 15, 21, 43, 36, 37, 16, 59, 61]]], [], [[1, [36, 26, 27], [68, 51, 52, 80, 18, 14]], [0, [39, 35, 29, 22], [42, 79, 66, 64, 54, 67, 1, 12]], [3, [], []], [4, [6, 34], [9, 63, 3, 31]], [2, [0, 4, 3, 10, 5, 14, 7], [8, 7, 11, 6, 25, 27, 41, 38, 32, 20, 10, 2, 48, 40]]], [], [[4, [31, 33, 30, 17, 12], [56, 60, 46, 34, 30, 24, 55, 77, 72, 73]], [2, [38, 28, 1, 13], [78, 70, 26, 4, 53, 69, 65, 22]], [3, [11, 16, 2, 37, 32], [5, 29, 23, 76, 71, 57, 74, 75, 47, 45]], [0, [], []]]]\n"
     ]
    },
    {
     "name": "stdout",
     "output_type": "stream",
     "text": [
      "----------------Instance name: pdp_instances/GOO/goo7.csv-----------------------------------\n processing time --- 0.5762104988098145 seconds ---\n#################### Round :1 ############################\n"
     ]
    },
    {
     "name": "stdout",
     "output_type": "stream",
     "text": [
      "#################### Round :1 ############################\n"
     ]
    },
    {
     "name": "stdout",
     "output_type": "stream",
     "text": [
      "#################### Round :1 ############################\n"
     ]
    },
    {
     "name": "stdout",
     "output_type": "stream",
     "text": [
      "#################### Round :1 ############################\n"
     ]
    },
    {
     "name": "stdout",
     "output_type": "stream",
     "text": [
      "[[[1, [24, 0, 12, 11], [48, 61, 2, 25, 23, 41, 35, 39]], [0, [15, 18, 16, 21, 19], [38, 29, 30, 40, 45, 46, 32, 36, 43, 49]]], [[1, [22, 8, 39, 20, 17], [44, 18, 20, 42, 80, 79, 37, 4, 63, 10]], [0, [], []]], [[2, [38, 33, 9, 4, 1, 3], [19, 66, 77, 68, 1, 8, 3, 11, 5, 7, 16, 15]], [0, [], []], [1, [34, 14, 7, 6, 13, 10, 32], [17, 28, 22, 13, 51, 52, 50, 67, 64, 14, 26, 24, 21, 9]]], [], [[3, [37, 26, 23], [76, 54, 47, 62, 78, 55]], [2, [29, 31], [60, 58, 65, 72]], [0, [28, 25, 36, 30, 35, 2, 27, 5], [53, 57, 56, 75, 73, 69, 71, 59, 31, 34, 33, 27, 6, 12, 70, 74]], [1, [], []]]]\n#################### Round :2 ############################\n"
     ]
    },
    {
     "name": "stdout",
     "output_type": "stream",
     "text": [
      "#################### Round :2 ############################\n"
     ]
    },
    {
     "name": "stdout",
     "output_type": "stream",
     "text": [
      "#################### Round :2 ############################\n"
     ]
    },
    {
     "name": "stdout",
     "output_type": "stream",
     "text": [
      "#################### Round :2 ############################\n"
     ]
    },
    {
     "name": "stdout",
     "output_type": "stream",
     "text": [
      "[[[1, [], []], [0, [24, 0, 11, 19, 12], [48, 61, 2, 25, 23, 41, 40, 35, 32, 39]], [2, [16, 15, 18, 21], [38, 29, 30, 45, 46, 36, 43, 49]]], [[1, [], []], [0, [22, 8, 20, 39, 17], [44, 18, 20, 42, 80, 79, 37, 4, 63, 10]]], [[2, [38, 1, 33, 9, 4, 3], [19, 66, 77, 68, 1, 8, 3, 11, 5, 7, 16, 15]], [1, [14, 32, 13, 7, 6, 34, 10], [17, 28, 22, 13, 51, 52, 50, 67, 64, 14, 26, 24, 21, 9]]], [], [[3, [37, 26, 23], [76, 54, 47, 62, 78, 55]], [2, [31, 29], [60, 58, 65, 72]], [1, [], []], [0, [2, 27, 5, 36, 25, 28, 30, 35], [53, 57, 56, 75, 73, 69, 71, 59, 31, 34, 33, 27, 6, 12, 70, 74]]]]\n#################### Round :3 ############################\n"
     ]
    },
    {
     "name": "stdout",
     "output_type": "stream",
     "text": [
      "#################### Round :3 ############################\n"
     ]
    },
    {
     "name": "stdout",
     "output_type": "stream",
     "text": [
      "#################### Round :3 ############################\n"
     ]
    },
    {
     "name": "stdout",
     "output_type": "stream",
     "text": [
      "#################### Round :3 ############################\n"
     ]
    },
    {
     "name": "stdout",
     "output_type": "stream",
     "text": [
      "[[[1, [24, 0, 12, 11], [48, 61, 2, 25, 23, 41, 35, 39]], [0, [19, 21, 15, 18, 16], [38, 29, 30, 40, 45, 46, 32, 36, 43, 49]]], [[1, [], []], [0, [22, 8, 39, 20, 17], [44, 18, 20, 42, 80, 79, 37, 4, 63, 10]]], [[3, [38, 33, 9, 4, 1, 3], [19, 66, 77, 68, 1, 8, 3, 11, 5, 7, 16, 15]], [0, [13, 10, 14, 34, 7, 32, 6], [17, 28, 22, 13, 51, 52, 50, 67, 64, 14, 26, 24, 21, 9]]], [], [[3, [37, 26, 23], [76, 54, 47, 62, 78, 55]], [1, [31, 29], [60, 58, 65, 72]], [2, [28, 25, 36, 30, 2, 35, 27, 5], [53, 57, 56, 75, 73, 69, 71, 59, 31, 34, 33, 27, 6, 12, 70, 74]]]]\n#################### Round :4 ############################\n"
     ]
    },
    {
     "name": "stdout",
     "output_type": "stream",
     "text": [
      "#################### Round :4 ############################\n"
     ]
    },
    {
     "name": "stdout",
     "output_type": "stream",
     "text": [
      "#################### Round :4 ############################\n"
     ]
    },
    {
     "name": "stdout",
     "output_type": "stream",
     "text": [
      "#################### Round :4 ############################\n"
     ]
    },
    {
     "name": "stdout",
     "output_type": "stream",
     "text": [
      "[[[0, [15, 19, 18, 16, 21], [38, 29, 30, 40, 45, 46, 36, 32, 43, 49]], [1, [24, 0, 12, 11], [48, 61, 2, 25, 23, 41, 35, 39]]], [[1, [22, 8, 20, 17, 39], [44, 18, 20, 42, 80, 79, 37, 4, 63, 10]], [0, [], []]], [[2, [38, 1, 33, 4, 9, 3], [19, 66, 77, 68, 1, 8, 3, 11, 5, 7, 16, 15]], [0, [14, 32, 13, 34, 7, 6, 10], [17, 28, 22, 13, 51, 52, 50, 67, 64, 14, 26, 24, 21, 9]], [1, [], []]], [], [[3, [37, 26, 23], [76, 54, 47, 62, 78, 55]], [2, [31, 29], [60, 58, 65, 72]], [0, [5, 36, 28, 25, 27, 30, 35, 2], [53, 57, 56, 75, 73, 69, 71, 59, 31, 34, 33, 27, 6, 12, 70, 74]]]]\n#################### Round :5 ############################\n"
     ]
    },
    {
     "name": "stdout",
     "output_type": "stream",
     "text": [
      "#################### Round :5 ############################\n"
     ]
    },
    {
     "name": "stdout",
     "output_type": "stream",
     "text": [
      "#################### Round :5 ############################\n"
     ]
    },
    {
     "name": "stdout",
     "output_type": "stream",
     "text": [
      "#################### Round :5 ############################\n"
     ]
    },
    {
     "name": "stdout",
     "output_type": "stream",
     "text": [
      "[[[2, [24, 0, 12, 11], [48, 61, 2, 25, 23, 41, 35, 39]], [1, [], []], [0, [16, 15, 21, 18, 19], [38, 29, 30, 40, 45, 46, 32, 36, 43, 49]]], [[1, [39, 22, 8, 20, 17], [44, 18, 20, 42, 80, 79, 37, 4, 63, 10]], [0, [], []]], [[2, [38, 1, 4, 33, 3, 9], [19, 66, 77, 68, 1, 8, 3, 11, 5, 7, 16, 15]], [1, [14, 32, 13, 7, 6, 34, 10], [17, 28, 22, 13, 51, 52, 50, 67, 64, 14, 26, 24, 21, 9]]], [], [[3, [31, 29], [60, 58, 65, 72]], [2, [23, 26, 37], [76, 54, 47, 62, 78, 55]], [1, [28, 36, 25, 30, 35, 5, 2, 27], [53, 57, 56, 75, 73, 69, 71, 59, 31, 34, 33, 27, 6, 12, 70, 74]]]]\n#################### Round :6 ############################\n"
     ]
    },
    {
     "name": "stdout",
     "output_type": "stream",
     "text": [
      "#################### Round :6 ############################\n"
     ]
    },
    {
     "name": "stdout",
     "output_type": "stream",
     "text": [
      "#################### Round :6 ############################\n"
     ]
    },
    {
     "name": "stdout",
     "output_type": "stream",
     "text": [
      "#################### Round :6 ############################\n"
     ]
    },
    {
     "name": "stdout",
     "output_type": "stream",
     "text": [
      "[[[2, [24, 0, 12, 11], [48, 61, 2, 25, 23, 41, 35, 39]], [1, [16, 15, 21, 18, 19], [38, 29, 30, 40, 45, 46, 32, 36, 43, 49]]], [[1, [22, 8, 20, 39, 17], [44, 18, 20, 42, 80, 79, 37, 4, 63, 10]], [0, [], []]], [[2, [4, 38, 33, 9, 1, 3], [19, 66, 77, 68, 1, 8, 3, 11, 5, 7, 16, 15]], [0, [32, 7, 6, 10, 14, 13, 34], [17, 28, 22, 13, 51, 52, 50, 67, 64, 14, 26, 24, 21, 9]]], [], [[3, [37, 26, 23], [76, 54, 47, 62, 78, 55]], [2, [31, 29], [60, 58, 65, 72]], [0, [36, 5, 28, 25, 30, 27, 35, 2], [53, 57, 56, 75, 73, 69, 71, 59, 31, 34, 33, 27, 6, 12, 70, 74]]]]\n#################### Round :7 ############################\n"
     ]
    },
    {
     "name": "stdout",
     "output_type": "stream",
     "text": [
      "#################### Round :7 ############################\n"
     ]
    },
    {
     "name": "stdout",
     "output_type": "stream",
     "text": [
      "#################### Round :7 ############################\n"
     ]
    },
    {
     "name": "stdout",
     "output_type": "stream",
     "text": [
      "#################### Round :7 ############################\n"
     ]
    },
    {
     "name": "stdout",
     "output_type": "stream",
     "text": [
      "[[[0, [16, 15, 18, 21, 19], [38, 29, 30, 40, 45, 46, 32, 36, 43, 49]], [1, [24, 0, 12, 11], [48, 61, 2, 25, 23, 41, 35, 39]]], [[1, [22, 17, 8, 20, 39], [44, 18, 20, 42, 80, 79, 37, 4, 63, 10]], [0, [], []]], [[2, [14, 32, 7, 13, 6, 34, 10], [17, 28, 22, 13, 51, 52, 50, 67, 64, 14, 26, 24, 21, 9]], [1, [38, 9, 4, 1, 33, 3], [19, 66, 77, 68, 1, 8, 3, 11, 5, 7, 16, 15]]], [], [[3, [37, 26, 23], [76, 54, 47, 62, 78, 55]], [1, [35, 25, 2, 30, 5, 28, 36, 27], [53, 57, 56, 75, 73, 69, 71, 59, 31, 34, 33, 27, 6, 12, 70, 74]], [2, [], []], [0, [31, 29], [60, 58, 65, 72]]]]\n#################### Round :8 ############################\n"
     ]
    },
    {
     "name": "stdout",
     "output_type": "stream",
     "text": [
      "#################### Round :8 ############################\n"
     ]
    },
    {
     "name": "stdout",
     "output_type": "stream",
     "text": [
      "#################### Round :8 ############################\n"
     ]
    },
    {
     "name": "stdout",
     "output_type": "stream",
     "text": [
      "#################### Round :8 ############################\n"
     ]
    },
    {
     "name": "stdout",
     "output_type": "stream",
     "text": [
      "[[[0, [18, 15, 16, 19, 21], [38, 29, 30, 40, 45, 46, 36, 32, 43, 49]], [1, [24, 0, 11, 12], [48, 61, 2, 25, 23, 41, 35, 39]]], [[1, [], []], [0, [22, 8, 20, 39, 17], [44, 18, 20, 42, 80, 79, 37, 4, 63, 10]]], [[2, [38, 1, 4, 9, 33, 3], [19, 66, 77, 68, 1, 8, 3, 11, 5, 7, 16, 15]], [1, [6, 32, 7, 10, 14, 34, 13], [17, 28, 22, 13, 51, 52, 50, 67, 64, 14, 26, 24, 21, 9]], [0, [], []]], [], [[4, [29, 31], [60, 58, 65, 72]], [3, [37, 26, 23], [76, 54, 47, 62, 78, 55]], [0, [36, 35, 25, 30, 28, 27, 2, 5], [53, 57, 56, 75, 73, 69, 71, 59, 31, 34, 33, 27, 6, 12, 70, 74]]]]\n#################### Round :9 ############################\n"
     ]
    },
    {
     "name": "stdout",
     "output_type": "stream",
     "text": [
      "#################### Round :9 ############################\n"
     ]
    },
    {
     "name": "stdout",
     "output_type": "stream",
     "text": [
      "#################### Round :9 ############################\n"
     ]
    },
    {
     "name": "stdout",
     "output_type": "stream",
     "text": [
      "#################### Round :9 ############################\n"
     ]
    },
    {
     "name": "stdout",
     "output_type": "stream",
     "text": [
      "[[[0, [15, 16, 18, 21], [38, 29, 30, 45, 46, 36, 43, 49]], [1, [0, 12, 24, 19, 11], [48, 61, 2, 25, 23, 41, 40, 35, 32, 39]]], [[1, [8, 22, 20, 17, 39], [44, 18, 20, 42, 80, 79, 37, 4, 63, 10]], [0, [], []]], [[2, [33, 4, 38, 9, 1, 3], [19, 66, 77, 68, 1, 8, 3, 11, 5, 7, 16, 15]], [1, [14, 13, 7, 32, 34, 10, 6], [17, 28, 22, 13, 51, 52, 50, 67, 64, 14, 26, 24, 21, 9]]], [], [[3, [37, 26, 23], [76, 54, 47, 62, 78, 55]], [2, [29, 31], [60, 58, 65, 72]], [0, [25, 28, 5, 36, 30, 35, 2, 27], [53, 57, 56, 75, 73, 69, 71, 59, 31, 34, 33, 27, 6, 12, 70, 74]]]]\n#################### Round :10 ############################\n"
     ]
    },
    {
     "name": "stdout",
     "output_type": "stream",
     "text": [
      "#################### Round :10 ############################\n"
     ]
    },
    {
     "name": "stdout",
     "output_type": "stream",
     "text": [
      "#################### Round :10 ############################\n"
     ]
    },
    {
     "name": "stdout",
     "output_type": "stream",
     "text": [
      "#################### Round :10 ############################\n"
     ]
    },
    {
     "name": "stdout",
     "output_type": "stream",
     "text": [
      "[[[1, [16, 15, 21, 18, 19], [38, 29, 30, 40, 45, 46, 32, 36, 43, 49]], [0, [24, 11, 0, 12], [48, 61, 2, 25, 23, 41, 35, 39]]], [[1, [8, 39, 22, 20, 17], [44, 18, 20, 42, 80, 79, 37, 4, 63, 10]], [0, [], []]], [[1, [38, 33, 4, 9, 1, 3], [19, 66, 77, 68, 1, 8, 3, 11, 5, 7, 16, 15]], [0, [34, 6, 7, 14, 10, 13, 32], [17, 28, 22, 13, 51, 52, 50, 67, 64, 14, 26, 24, 21, 9]]], [], [[3, [37, 26, 23], [76, 54, 47, 62, 78, 55]], [2, [31, 29], [60, 58, 65, 72]], [1, [2, 27, 28, 36, 25, 5, 30, 35], [53, 57, 56, 75, 73, 69, 71, 59, 31, 34, 33, 27, 6, 12, 70, 74]]]]\n"
     ]
    },
    {
     "name": "stdout",
     "output_type": "stream",
     "text": [
      "----------------Instance name: pdp_instances/GOO/goo8.csv-----------------------------------\n processing time --- 0.3625624179840088 seconds ---\n#################### Round :1 ############################\n"
     ]
    },
    {
     "name": "stdout",
     "output_type": "stream",
     "text": [
      "#################### Round :1 ############################\n"
     ]
    },
    {
     "name": "stdout",
     "output_type": "stream",
     "text": [
      "#################### Round :1 ############################\n"
     ]
    },
    {
     "name": "stdout",
     "output_type": "stream",
     "text": [
      "[[[2, [32, 39, 33, 20], [80, 60, 61, 39, 36, 37, 40, 31]], [1, [], []], [0, [17, 16, 23, 31, 13, 18, 9], [30, 43, 21, 25, 26, 47, 44, 42, 79, 14, 59, 45, 29, 62]]], [], [[0, [15, 19, 12, 21, 27, 35, 1, 4], [20, 32, 17, 4, 50, 66, 63, 38, 35, 34, 24, 7, 69, 68, 19, 8]], [1, [5, 7, 6, 2], [10, 9, 67, 3, 12, 5, 1, 11]], [2, [11, 8, 10, 14], [18, 16, 13, 23, 22, 33, 27, 28]]], [], [[2, [38, 36, 25, 34, 26, 28, 37], [64, 70, 71, 72, 77, 78, 53, 51, 52, 49, 48, 65, 73, 56]], [1, [22, 29, 24, 3, 0, 30], [41, 58, 54, 46, 6, 2, 15, 55, 74, 75, 76, 57]]]]\n#################### Round :2 ############################\n"
     ]
    },
    {
     "name": "stdout",
     "output_type": "stream",
     "text": [
      "#################### Round :2 ############################\n"
     ]
    },
    {
     "name": "stdout",
     "output_type": "stream",
     "text": [
      "#################### Round :2 ############################\n"
     ]
    },
    {
     "name": "stdout",
     "output_type": "stream",
     "text": [
      "[[[3, [32, 20, 33, 39], [80, 60, 61, 39, 36, 37, 40, 31]], [0, [], []], [1, [], []], [2, [17, 18, 9, 13, 16, 23, 31], [30, 43, 21, 25, 26, 47, 44, 42, 79, 14, 59, 45, 29, 62]]], [], [[2, [11, 10, 14, 8], [18, 16, 13, 23, 22, 33, 27, 28]], [0, [], []], [1, [6, 5, 7, 2], [10, 9, 67, 3, 12, 5, 1, 11]], [3, [19, 35, 21, 27, 1, 12, 4, 15], [20, 32, 17, 4, 50, 66, 63, 38, 35, 34, 24, 7, 69, 68, 19, 8]]], [], [[3, [22, 24, 3, 0, 30, 29], [41, 58, 54, 46, 6, 2, 15, 55, 74, 75, 76, 57]], [1, [], []], [2, [28, 34, 26, 38, 36, 37, 25], [64, 70, 71, 72, 77, 78, 53, 51, 52, 49, 48, 65, 73, 56]], [0, [], []]]]\n#################### Round :3 ############################\n"
     ]
    },
    {
     "name": "stdout",
     "output_type": "stream",
     "text": [
      "#################### Round :3 ############################\n"
     ]
    },
    {
     "name": "stdout",
     "output_type": "stream",
     "text": [
      "#################### Round :3 ############################\n"
     ]
    },
    {
     "name": "stdout",
     "output_type": "stream",
     "text": [
      "[[[2, [17, 13, 16, 31, 9, 18, 23], [30, 43, 21, 25, 26, 47, 44, 42, 79, 14, 59, 45, 29, 62]], [0, [32, 20, 33, 39], [80, 60, 61, 39, 36, 37, 40, 31]]], [], [[4, [7], [12, 1]], [2, [], []], [1, [19, 11, 14, 8, 4, 12, 2], [20, 18, 32, 23, 22, 17, 13, 63, 5, 7, 27, 28, 19, 11]], [0, [27, 21, 6, 10, 15, 35, 5, 1], [10, 9, 67, 50, 3, 16, 4, 66, 33, 38, 35, 34, 24, 69, 68, 8]]], [], [[3, [38, 26, 37, 28, 36, 34, 25], [64, 70, 71, 72, 77, 78, 53, 51, 52, 49, 48, 65, 73, 56]], [2, [], []], [1, [22, 24, 29, 3, 30, 0], [41, 58, 54, 46, 6, 2, 15, 55, 74, 75, 76, 57]]]]\n#################### Round :4 ############################\n"
     ]
    },
    {
     "name": "stdout",
     "output_type": "stream",
     "text": [
      "#################### Round :4 ############################\n"
     ]
    },
    {
     "name": "stdout",
     "output_type": "stream",
     "text": [
      "#################### Round :4 ############################\n"
     ]
    },
    {
     "name": "stdout",
     "output_type": "stream",
     "text": [
      "[[[3, [], []], [1, [32, 20, 33, 39], [80, 60, 61, 39, 36, 37, 40, 31]], [2, [17, 13, 16, 23, 18, 31, 9], [30, 43, 21, 25, 26, 47, 44, 42, 79, 14, 59, 45, 29, 62]]], [], [[3, [2, 7, 19], [32, 12, 5, 1, 63, 11]], [0, [], []], [2, [10, 35, 6, 5, 27, 21, 15, 1, 4], [10, 9, 67, 50, 3, 16, 4, 66, 33, 38, 35, 34, 24, 7, 69, 68, 19, 8]], [5, [], []], [1, [8, 14, 11, 12], [20, 18, 17, 13, 23, 22, 27, 28]]], [], [[2, [38, 36, 34, 28, 26, 37, 25], [64, 70, 71, 72, 77, 78, 53, 51, 52, 49, 48, 65, 73, 56]], [0, [22, 30, 0, 29, 3, 24], [41, 58, 54, 46, 6, 2, 15, 55, 74, 75, 76, 57]]]]\n#################### Round :5 ############################\n"
     ]
    },
    {
     "name": "stdout",
     "output_type": "stream",
     "text": [
      "#################### Round :5 ############################\n"
     ]
    },
    {
     "name": "stdout",
     "output_type": "stream",
     "text": [
      "#################### Round :5 ############################\n"
     ]
    },
    {
     "name": "stdout",
     "output_type": "stream",
     "text": [
      "[[[2, [31, 17, 16, 23, 13, 18, 9], [30, 43, 21, 25, 26, 47, 44, 42, 79, 14, 59, 45, 29, 62]], [1, [20, 32, 33, 39], [80, 60, 61, 39, 36, 37, 40, 31]]], [], [[3, [35, 21, 6, 15, 1, 27], [10, 67, 50, 66, 4, 38, 35, 34, 24, 69, 68, 8]], [0, [5], [9, 3]], [2, [14, 11, 10, 8], [18, 16, 13, 23, 22, 33, 27, 28]], [1, [12, 2, 7, 19, 4], [20, 32, 17, 12, 5, 1, 7, 63, 19, 11]]], [], [[3, [38, 28, 36, 34, 25, 37, 26], [64, 70, 71, 72, 77, 78, 53, 51, 52, 49, 48, 65, 73, 56]], [2, [29, 30, 0, 3, 22, 24], [41, 58, 54, 46, 6, 2, 15, 55, 74, 75, 76, 57]]]]\n#################### Round :6 ############################\n"
     ]
    },
    {
     "name": "stdout",
     "output_type": "stream",
     "text": [
      "#################### Round :6 ############################\n"
     ]
    },
    {
     "name": "stdout",
     "output_type": "stream",
     "text": [
      "#################### Round :6 ############################\n"
     ]
    },
    {
     "name": "stdout",
     "output_type": "stream",
     "text": [
      "[[[3, [32, 39, 33, 20], [80, 60, 61, 39, 36, 37, 40, 31]], [0, [], []], [2, [], []], [1, [17, 13, 9, 18, 31, 16, 23], [30, 43, 21, 25, 26, 47, 44, 42, 79, 14, 59, 45, 29, 62]]], [], [[4, [19, 35, 21, 1, 15, 27, 4], [32, 4, 50, 66, 63, 38, 35, 34, 24, 7, 69, 68, 19, 8]], [0, [], []], [2, [], []], [3, [14, 8, 11, 12, 10], [20, 16, 18, 17, 13, 23, 22, 33, 27, 28]], [1, [5, 6, 2, 7], [10, 9, 67, 3, 12, 5, 1, 11]]], [], [[3, [38, 37, 34, 28, 25, 36, 26], [64, 70, 71, 72, 77, 78, 53, 51, 52, 49, 48, 65, 73, 56]], [2, [], []], [0, [29, 3, 0, 30, 22, 24], [41, 58, 54, 46, 6, 2, 15, 55, 74, 75, 76, 57]]]]\n#################### Round :7 ############################\n"
     ]
    },
    {
     "name": "stdout",
     "output_type": "stream",
     "text": [
      "#################### Round :7 ############################\n"
     ]
    },
    {
     "name": "stdout",
     "output_type": "stream",
     "text": [
      "#################### Round :7 ############################\n"
     ]
    },
    {
     "name": "stdout",
     "output_type": "stream",
     "text": [
      "[[[3, [], []], [2, [], []], [0, [20, 39, 32, 33], [80, 60, 61, 39, 36, 37, 40, 31]], [1, [17, 16, 31, 13, 9, 18, 23], [30, 43, 21, 25, 26, 47, 44, 42, 79, 14, 59, 45, 29, 62]]], [], [[3, [19, 4, 2, 8, 11, 12, 14], [20, 18, 32, 23, 22, 17, 13, 63, 5, 7, 27, 28, 19, 11]], [2, [7], [12, 1]], [1, [], []], [0, [27, 6, 10, 21, 5, 15, 1, 35], [10, 9, 67, 50, 3, 16, 4, 66, 33, 38, 35, 34, 24, 69, 68, 8]]], [], [[3, [38, 37, 26, 36, 28, 34, 25], [64, 70, 71, 72, 77, 78, 53, 51, 52, 49, 48, 65, 73, 56]], [2, [30, 3, 29, 22, 0, 24], [41, 58, 54, 46, 6, 2, 15, 55, 74, 75, 76, 57]]]]\n#################### Round :8 ############################\n"
     ]
    },
    {
     "name": "stdout",
     "output_type": "stream",
     "text": [
      "#################### Round :8 ############################\n"
     ]
    },
    {
     "name": "stdout",
     "output_type": "stream",
     "text": [
      "#################### Round :8 ############################\n"
     ]
    },
    {
     "name": "stdout",
     "output_type": "stream",
     "text": [
      "[[[2, [32, 39, 33, 20], [80, 60, 61, 39, 36, 37, 40, 31]], [0, [18, 17, 9, 16, 13, 23, 31], [30, 43, 21, 25, 26, 47, 44, 42, 79, 14, 59, 45, 29, 62]]], [], [[3, [7], [12, 1]], [1, [6, 5, 10, 21, 35, 1, 15, 27], [10, 9, 67, 50, 3, 16, 4, 66, 33, 38, 35, 34, 24, 69, 68, 8]], [0, [19, 12, 11, 14, 8, 4, 2], [20, 18, 32, 23, 22, 17, 13, 63, 5, 7, 27, 28, 19, 11]]], [], [[3, [38, 37, 34, 36, 28, 26, 25], [64, 70, 71, 72, 77, 78, 53, 51, 52, 49, 48, 65, 73, 56]], [0, [24, 29, 30, 22, 0, 3], [41, 58, 54, 46, 6, 2, 15, 55, 74, 75, 76, 57]]]]\n#################### Round :9 ############################\n"
     ]
    },
    {
     "name": "stdout",
     "output_type": "stream",
     "text": [
      "#################### Round :9 ############################\n"
     ]
    },
    {
     "name": "stdout",
     "output_type": "stream",
     "text": [
      "#################### Round :9 ############################\n"
     ]
    },
    {
     "name": "stdout",
     "output_type": "stream",
     "text": [
      "[[[2, [32, 39, 33, 20], [80, 60, 61, 39, 36, 37, 40, 31]], [1, [18, 17, 13, 16, 31, 23, 9], [30, 43, 21, 25, 26, 47, 44, 42, 79, 14, 59, 45, 29, 62]], [0, [], []]], [], [[4, [19, 2, 7, 4], [32, 12, 5, 1, 7, 63, 19, 11]], [2, [], []], [1, [5, 10, 21, 35, 6, 15, 1, 27], [10, 9, 67, 50, 3, 16, 4, 66, 33, 38, 35, 34, 24, 69, 68, 8]], [0, [11, 12, 14, 8], [20, 18, 17, 13, 23, 22, 27, 28]]], [], [[2, [38, 37, 28, 36, 34, 25, 26], [64, 70, 71, 72, 77, 78, 53, 51, 52, 49, 48, 65, 73, 56]], [1, [22, 30, 3, 29, 24, 0], [41, 58, 54, 46, 6, 2, 15, 55, 74, 75, 76, 57]]]]\n#################### Round :10 ############################\n"
     ]
    },
    {
     "name": "stdout",
     "output_type": "stream",
     "text": [
      "#################### Round :10 ############################\n"
     ]
    },
    {
     "name": "stdout",
     "output_type": "stream",
     "text": [
      "#################### Round :10 ############################\n"
     ]
    },
    {
     "name": "stdout",
     "output_type": "stream",
     "text": [
      "[[[3, [], []], [0, [39, 32, 33, 20], [80, 60, 61, 39, 36, 37, 40, 31]], [1, [17, 13, 9, 16, 23, 18, 31], [30, 43, 21, 25, 26, 47, 44, 42, 79, 14, 59, 45, 29, 62]]], [], [[4, [19, 12, 7], [20, 32, 17, 12, 63, 1]], [2, [15, 21, 1, 27, 5], [9, 3, 4, 50, 38, 35, 34, 24, 69, 8]], [1, [], []], [0, [6, 4, 2, 35], [10, 67, 66, 68, 5, 7, 19, 11]], [3, [10, 11, 8, 14], [18, 16, 13, 23, 22, 33, 27, 28]]], [], [[3, [38, 37, 36, 34, 25, 28, 26], [64, 70, 71, 72, 77, 78, 53, 51, 52, 49, 48, 65, 73, 56]], [1, [], []], [0, [0, 29, 22, 30, 3, 24], [41, 58, 54, 46, 6, 2, 15, 55, 74, 75, 76, 57]]]]\n"
     ]
    },
    {
     "name": "stdout",
     "output_type": "stream",
     "text": [
      "----------------Instance name: pdp_instances/GOO/goo9.csv-----------------------------------\n processing time --- 0.34752821922302246 seconds ---\n#################### Round :1 ############################\n"
     ]
    },
    {
     "name": "stdout",
     "output_type": "stream",
     "text": [
      "#################### Round :1 ############################\n"
     ]
    },
    {
     "name": "stdout",
     "output_type": "stream",
     "text": [
      "#################### Round :1 ############################\n"
     ]
    },
    {
     "name": "stdout",
     "output_type": "stream",
     "text": [
      "#################### Round :1 ############################\n"
     ]
    },
    {
     "name": "stdout",
     "output_type": "stream",
     "text": [
      "[[[4, [29], [62, 80]], [2, [], []], [3, [15, 21, 13, 16, 19, 20, 9, 14, 12], [44, 33, 32, 30, 43, 45, 38, 37, 34, 39, 31, 36, 11, 23, 18, 14, 9, 41]], [1, [39, 22, 18, 17, 28], [48, 42, 5, 61, 79, 40, 7, 67, 53, 74]]], [[0, [36, 25], [56, 72, 27, 28]]], [[2, [2, 35, 0, 31, 7, 5], [4, 70, 65, 64, 12, 6, 1, 21, 24, 20, 17, 2]], [3, [3, 10, 6, 32, 8, 1], [8, 25, 19, 13, 3, 22, 16, 66, 71, 49, 35, 46]], [0, [26, 38, 24], [57, 78, 55, 47, 26, 15]]], [], [[1, [37, 23], [76, 51, 52, 75]], [0, [11, 4, 33, 30, 27, 34], [29, 10, 63, 59, 54, 68, 69, 50, 60, 58, 73, 77]]]]\n#################### Round :2 ############################\n"
     ]
    },
    {
     "name": "stdout",
     "output_type": "stream",
     "text": [
      "#################### Round :2 ############################\n"
     ]
    },
    {
     "name": "stdout",
     "output_type": "stream",
     "text": [
      "#################### Round :2 ############################\n"
     ]
    },
    {
     "name": "stdout",
     "output_type": "stream",
     "text": [
      "#################### Round :2 ############################\n"
     ]
    },
    {
     "name": "stdout",
     "output_type": "stream",
     "text": [
      "[[[4, [29, 28], [62, 61, 80, 7]], [3, [19, 20, 21, 14, 12, 13, 9], [33, 44, 43, 45, 32, 30, 36, 37, 34, 31, 23, 18, 9, 41]], [0, [16, 22, 15, 18, 17, 39], [38, 48, 42, 5, 11, 79, 40, 39, 67, 74, 53, 14]]], [[0, [36, 25], [56, 72, 27, 28]]], [[3, [38, 26, 24], [57, 78, 55, 47, 26, 15]], [2, [35, 31, 2, 5, 7, 0], [4, 70, 65, 64, 12, 6, 1, 21, 24, 20, 17, 2]], [1, [10, 3, 6, 32, 1, 8], [8, 25, 19, 13, 3, 22, 16, 66, 71, 49, 35, 46]]], [], [[1, [37, 23], [76, 51, 52, 75]], [0, [30, 4, 34, 33, 11, 27], [29, 10, 63, 59, 54, 68, 69, 50, 60, 58, 73, 77]]]]\n#################### Round :3 ############################\n"
     ]
    },
    {
     "name": "stdout",
     "output_type": "stream",
     "text": [
      "#################### Round :3 ############################\n"
     ]
    },
    {
     "name": "stdout",
     "output_type": "stream",
     "text": [
      "#################### Round :3 ############################\n"
     ]
    },
    {
     "name": "stdout",
     "output_type": "stream",
     "text": [
      "#################### Round :3 ############################\n"
     ]
    },
    {
     "name": "stdout",
     "output_type": "stream",
     "text": [
      "[[[3, [21, 15, 20, 12, 9, 14, 13, 19, 16], [33, 44, 43, 45, 32, 30, 38, 37, 34, 31, 36, 39, 11, 23, 18, 14, 9, 41]], [2, [29], [62, 80]], [0, [22, 18, 28, 39, 17], [48, 42, 5, 61, 79, 40, 7, 67, 53, 74]], [1, [], []]], [[0, [36, 25], [56, 72, 27, 28]]], [[3, [38, 26, 24], [57, 78, 55, 47, 26, 15]], [2, [35, 2, 31, 5, 7, 0], [4, 70, 65, 64, 12, 6, 1, 21, 24, 20, 17, 2]], [0, [3, 32, 10, 6, 1, 8], [8, 25, 19, 13, 3, 22, 16, 66, 71, 49, 35, 46]]], [], [[1, [37, 23], [76, 51, 52, 75]], [2, [], []], [0, [30, 34, 4, 27, 33, 11], [29, 10, 63, 59, 54, 68, 69, 50, 60, 58, 73, 77]]]]\n#################### Round :4 ############################\n"
     ]
    },
    {
     "name": "stdout",
     "output_type": "stream",
     "text": [
      "#################### Round :4 ############################\n"
     ]
    },
    {
     "name": "stdout",
     "output_type": "stream",
     "text": [
      "#################### Round :4 ############################\n"
     ]
    },
    {
     "name": "stdout",
     "output_type": "stream",
     "text": [
      "#################### Round :4 ############################\n"
     ]
    },
    {
     "name": "stdout",
     "output_type": "stream",
     "text": [
      "[[[3, [29], [62, 80]], [2, [22, 15, 18, 12, 28], [38, 48, 42, 5, 61, 31, 11, 7, 67, 18]], [0, [21, 20, 17, 13, 39, 19, 14, 9, 16], [33, 44, 43, 45, 32, 30, 36, 37, 34, 39, 40, 79, 23, 14, 9, 53, 74, 41]]], [[0, [36, 25], [56, 72, 27, 28]]], [[3, [38, 6, 32, 8, 26, 24, 1], [57, 78, 55, 47, 26, 19, 15, 3, 22, 66, 71, 49, 35, 46]], [0, [3, 10], [8, 25, 13, 16]], [2, [31, 5, 7, 2, 0, 35], [4, 70, 65, 64, 12, 6, 1, 21, 24, 20, 17, 2]]], [], [[1, [37, 23], [76, 51, 52, 75]], [0, [34, 27, 30, 4, 33, 11], [29, 10, 63, 59, 54, 68, 69, 50, 60, 58, 73, 77]]]]\n#################### Round :5 ############################\n"
     ]
    },
    {
     "name": "stdout",
     "output_type": "stream",
     "text": [
      "#################### Round :5 ############################\n"
     ]
    },
    {
     "name": "stdout",
     "output_type": "stream",
     "text": [
      "#################### Round :5 ############################\n"
     ]
    },
    {
     "name": "stdout",
     "output_type": "stream",
     "text": [
      "#################### Round :5 ############################\n"
     ]
    },
    {
     "name": "stdout",
     "output_type": "stream",
     "text": [
      "[[[2, [29], [62, 80]], [0, [21, 15, 18, 12, 19, 16, 14], [45, 43, 42, 38, 37, 34, 39, 31, 36, 11, 67, 18, 14, 9]], [3, [39, 22, 28, 17, 9, 20, 13], [33, 44, 48, 32, 30, 5, 61, 79, 40, 23, 7, 53, 74, 41]]], [[0, [36, 25], [56, 72, 27, 28]]], [[3, [10, 3, 6, 1, 32, 8], [8, 25, 19, 13, 3, 22, 16, 66, 71, 49, 35, 46]], [1, [38, 26, 24], [57, 78, 55, 47, 26, 15]], [0, [35, 0, 31, 7, 2, 5], [4, 70, 65, 64, 12, 6, 1, 21, 24, 20, 17, 2]]], [], [[1, [37, 23], [76, 51, 52, 75]], [0, [34, 30, 33, 27, 4, 11], [29, 10, 63, 59, 54, 68, 69, 50, 60, 58, 73, 77]]]]\n#################### Round :6 ############################\n"
     ]
    },
    {
     "name": "stdout",
     "output_type": "stream",
     "text": [
      "#################### Round :6 ############################\n"
     ]
    },
    {
     "name": "stdout",
     "output_type": "stream",
     "text": [
      "#################### Round :6 ############################\n"
     ]
    },
    {
     "name": "stdout",
     "output_type": "stream",
     "text": [
      "#################### Round :6 ############################\n"
     ]
    },
    {
     "name": "stdout",
     "output_type": "stream",
     "text": [
      "[[[3, [29], [62, 80]], [1, [12, 15, 9, 21, 20, 14, 13, 19, 16], [33, 44, 43, 45, 32, 30, 38, 37, 34, 31, 36, 39, 11, 23, 18, 14, 9, 41]], [2, [39, 22, 28, 17, 18], [48, 42, 5, 61, 79, 40, 7, 67, 53, 74]]], [[0, [36, 25], [56, 72, 27, 28]]], [[2, [2, 31, 35, 7, 0, 5], [4, 70, 65, 64, 12, 6, 1, 21, 24, 20, 17, 2]], [1, [38, 26, 24], [57, 78, 55, 47, 26, 15]], [0, [10, 3, 6, 1, 32, 8], [8, 25, 19, 13, 3, 22, 16, 66, 71, 49, 35, 46]]], [], [[2, [], []], [1, [23, 37], [76, 51, 52, 75]], [0, [33, 27, 30, 34, 11, 4], [29, 10, 63, 59, 54, 68, 69, 50, 60, 58, 73, 77]]]]\n#################### Round :7 ############################\n"
     ]
    },
    {
     "name": "stdout",
     "output_type": "stream",
     "text": [
      "#################### Round :7 ############################\n"
     ]
    },
    {
     "name": "stdout",
     "output_type": "stream",
     "text": [
      "#################### Round :7 ############################\n"
     ]
    },
    {
     "name": "stdout",
     "output_type": "stream",
     "text": [
      "#################### Round :7 ############################\n"
     ]
    },
    {
     "name": "stdout",
     "output_type": "stream",
     "text": [
      "[[[4, [29, 28], [62, 61, 80, 7]], [2, [22, 39, 17, 18, 15, 16], [38, 48, 42, 5, 11, 79, 40, 39, 67, 74, 53, 14]], [3, [], []], [0, [20, 21, 13, 12, 9, 19, 14], [33, 44, 43, 45, 32, 30, 36, 37, 34, 31, 23, 18, 9, 41]]], [[0, [36, 25], [56, 72, 27, 28]]], [[1, [10, 32, 6, 3, 1, 8], [8, 25, 19, 13, 3, 22, 16, 66, 71, 49, 35, 46]], [2, [2, 35, 31, 0, 7, 5], [4, 70, 65, 64, 12, 6, 1, 21, 24, 20, 17, 2]], [0, [26, 24, 38], [57, 78, 55, 47, 26, 15]]], [], [[2, [], []], [1, [23, 37], [76, 51, 52, 75]], [0, [27, 11, 30, 4, 34, 33], [29, 10, 63, 59, 54, 68, 69, 50, 60, 58, 73, 77]]]]\n#################### Round :8 ############################\n"
     ]
    },
    {
     "name": "stdout",
     "output_type": "stream",
     "text": [
      "#################### Round :8 ############################\n"
     ]
    },
    {
     "name": "stdout",
     "output_type": "stream",
     "text": [
      "#################### Round :8 ############################\n"
     ]
    },
    {
     "name": "stdout",
     "output_type": "stream",
     "text": [
      "#################### Round :8 ############################\n"
     ]
    },
    {
     "name": "stdout",
     "output_type": "stream",
     "text": [
      "[[[0, [39, 22, 28, 17, 18], [48, 42, 5, 61, 79, 40, 7, 67, 53, 74]], [1, [12, 15, 9, 13, 20, 21, 14, 16, 19], [44, 33, 32, 30, 43, 45, 38, 37, 34, 31, 36, 39, 11, 23, 18, 14, 9, 41]], [3, [29], [62, 80]]], [[0, [36, 25], [56, 72, 27, 28]]], [[3, [38, 26, 24], [57, 78, 55, 47, 26, 15]], [2, [3, 32, 6, 10, 8, 1], [8, 25, 19, 13, 3, 22, 16, 66, 71, 49, 35, 46]], [0, [2, 31, 7, 5, 35, 0], [4, 70, 65, 64, 12, 6, 1, 21, 24, 20, 17, 2]]], [], [[1, [37, 23], [76, 51, 52, 75]], [0, [4, 11, 33, 27, 34, 30], [29, 10, 63, 59, 54, 68, 69, 50, 60, 58, 73, 77]]]]\n#################### Round :9 ############################\n"
     ]
    },
    {
     "name": "stdout",
     "output_type": "stream",
     "text": [
      "#################### Round :9 ############################\n"
     ]
    },
    {
     "name": "stdout",
     "output_type": "stream",
     "text": [
      "#################### Round :9 ############################\n"
     ]
    },
    {
     "name": "stdout",
     "output_type": "stream",
     "text": [
      "#################### Round :9 ############################\n"
     ]
    },
    {
     "name": "stdout",
     "output_type": "stream",
     "text": [
      "[[[1, [13], [33, 30]], [0, [19, 18, 16, 15, 21, 14, 12], [45, 43, 42, 38, 37, 34, 39, 31, 36, 11, 67, 18, 14, 9]], [2, [22, 39, 28, 17, 20, 9], [44, 48, 32, 5, 61, 79, 40, 23, 7, 53, 74, 41]], [3, [29], [62, 80]]], [[0, [36, 25], [56, 72, 27, 28]]], [[3, [31, 7, 35, 2, 5, 0], [4, 70, 65, 64, 12, 6, 1, 21, 24, 20, 17, 2]], [2, [10, 3, 6, 1, 8, 32], [8, 25, 19, 13, 3, 22, 16, 66, 71, 49, 35, 46]], [1, [26, 38, 24], [57, 78, 55, 47, 26, 15]]], [], [[1, [34, 4, 11, 30, 27, 33], [29, 10, 63, 59, 54, 68, 69, 50, 60, 58, 73, 77]], [0, [23, 37], [76, 51, 52, 75]]]]\n#################### Round :10 ############################\n"
     ]
    },
    {
     "name": "stdout",
     "output_type": "stream",
     "text": [
      "#################### Round :10 ############################\n"
     ]
    },
    {
     "name": "stdout",
     "output_type": "stream",
     "text": [
      "#################### Round :10 ############################\n"
     ]
    },
    {
     "name": "stdout",
     "output_type": "stream",
     "text": [
      "#################### Round :10 ############################\n"
     ]
    },
    {
     "name": "stdout",
     "output_type": "stream",
     "text": [
      "[[[3, [29], [62, 80]], [0, [21, 15, 12, 20, 19, 9, 13, 14, 16], [33, 44, 43, 45, 32, 30, 38, 37, 34, 31, 36, 39, 11, 23, 18, 14, 9, 41]], [1, [39, 22, 28, 17, 18], [48, 42, 5, 61, 79, 40, 7, 67, 53, 74]]], [[0, [36, 25], [56, 72, 27, 28]]], [[3, [10, 3, 6, 1, 8, 32], [8, 25, 19, 13, 3, 22, 16, 66, 71, 49, 35, 46]], [2, [38, 26, 24], [57, 78, 55, 47, 26, 15]], [1, [31, 35, 2, 7, 5, 0], [4, 70, 65, 64, 12, 6, 1, 21, 24, 20, 17, 2]]], [], [[1, [37, 23], [76, 51, 52, 75]], [0, [34, 30, 33, 11, 27, 4], [29, 10, 63, 59, 54, 68, 69, 50, 60, 58, 73, 77]]]]\n"
     ]
    }
   ],
   "source": [
    "path = 'pdp_instances/GOO/'\n",
    "FILENAMES = next(os.walk(path))[2]\n",
    "\n",
    "all_results = []\n",
    "\n",
    "for name in FILENAMES:\n",
    "    filepath = path + name\n",
    "    results = solve_and_print(filepath)\n",
    "    solutions,distances,cal_times = mean_results(results)\n",
    "    all_results.append((solutions,distances,cal_times))"
   ]
  },
  {
   "cell_type": "markdown",
   "metadata": {},
   "source": [
    "# The GOO Instances"
   ]
  },
  {
   "cell_type": "markdown",
   "metadata": {},
   "source": [
    "# Average list by columns"
   ]
  },
  {
   "cell_type": "code",
   "execution_count": 5,
   "metadata": {},
   "outputs": [],
   "source": [
    "# filename = 'pdp_instances/GOO/goo1.csv'"
   ]
  },
  {
   "cell_type": "code",
   "execution_count": 6,
   "metadata": {},
   "outputs": [
    {
     "name": "stdout",
     "output_type": "stream",
     "text": [
      "Instance name : goo1\n"
     ]
    }
   ],
   "source": [
    "# filepath = filename \n",
    "# filename = filename.rsplit('/', 1)[1]\n",
    "# filename = filename.split('.')[0]\n",
    "# print( 'Instance name : '+str(filename))\n"
   ]
  },
  {
   "cell_type": "code",
   "execution_count": 7,
   "metadata": {},
   "outputs": [
    {
     "name": "stdout",
     "output_type": "stream",
     "text": [
      "----------------Instance name: pdp_instances/GOO/goo1.csv-----------------------------------\n processing time --- 1.0620617866516113 seconds ---\n#################### Round :1 ############################\n"
     ]
    },
    {
     "name": "stdout",
     "output_type": "stream",
     "text": [
      "#################### Round :1 ############################\n"
     ]
    },
    {
     "name": "stdout",
     "output_type": "stream",
     "text": [
      "#################### Round :1 ############################\n"
     ]
    },
    {
     "name": "stdout",
     "output_type": "stream",
     "text": [
      "#################### Round :1 ############################\n"
     ]
    },
    {
     "name": "stdout",
     "output_type": "stream",
     "text": [
      "#################### Round :1 ############################\n"
     ]
    }
   ],
   "source": [
    "# results = solve_and_print(filepath)"
   ]
  },
  {
   "cell_type": "code",
   "execution_count": 8,
   "metadata": {},
   "outputs": [
    {
     "data": {
      "text/plain": [
       "[([[[2, [15], [35, 49]],\n    [1, [19, 16], [41, 37, 34, 22]],\n    [0, [13, 4, 6], [15, 31, 43, 18, 48, 42]]],\n   [[1, [38], [79, 61]], [0, [39, 25, 24], [52, 51, 80, 21, 5, 10]]],\n   [[6, [5, 3, 8], [9, 24, 16, 12, 11, 2]],\n    [1, [21, 2, 12], [7, 45, 33, 30, 23, 25]],\n    [5, [], []],\n    [2, [32, 27, 11, 10, 33], [29, 63, 55, 77, 69, 28, 27, 64, 71, 65]],\n    [4, [], []],\n    [0, [31, 23, 7, 18], [62, 47, 40, 19, 20, 13, 50, 53]],\n    [3, [9, 14, 0, 34], [32, 26, 3, 4, 67, 68, 66, 14]]],\n   [[0, [30], [60, 58]]],\n   [[3, [], []],\n    [0, [17, 26, 22, 20], [54, 46, 44, 36, 39, 70, 78, 72]],\n    [1, [29, 1, 28], [56, 57, 38, 1, 6, 59]],\n    [2, [37, 35, 36], [74, 75, 73, 76, 17, 8]]]],\n  [62342.0, 32954.0, 156140.0, 11241.0, 114938.0],\n  [5.082298040390015,\n   3.2432212829589844,\n   23.598564386367798,\n   1.1332643032073975,\n   6.455474376678467])]"
      ]
     },
     "execution_count": 8,
     "metadata": {},
     "output_type": "execute_result"
    }
   ],
   "source": [
    "# results"
   ]
  },
  {
   "cell_type": "code",
   "execution_count": 9,
   "metadata": {},
   "outputs": [],
   "source": [
    "# res =results[0]\n",
    "# SOL,DIST,CT = res[0],res[1],res[2]\n"
   ]
  },
  {
   "cell_type": "code",
   "execution_count": 6,
   "metadata": {},
   "outputs": [],
   "source": [
    "def count_num_vehicle(solutions):\n",
    "    nums = []\n",
    "    for sol in solutions:\n",
    "        sol = [x for x in sol if len(x[1])>0]\n",
    "        nums.append(len(sol))\n",
    "    return nums"
   ]
  },
  {
   "cell_type": "code",
   "execution_count": 47,
   "metadata": {},
   "outputs": [
    {
     "data": {
      "text/plain": [
       "727309.0"
      ]
     },
     "execution_count": 47,
     "metadata": {},
     "output_type": "execute_result"
    }
   ],
   "source": [
    "worst_sol,distance_worst = create_worst_case('pdp_instances/GOO/goo10.csv')\n",
    "distance_worst"
   ]
  },
  {
   "cell_type": "code",
   "execution_count": 24,
   "metadata": {},
   "outputs": [
    {
     "data": {
      "text/plain": [
       "[3, 2, 5, 1, 3]"
      ]
     },
     "execution_count": 24,
     "metadata": {},
     "output_type": "execute_result"
    }
   ],
   "source": [
    "# SOL[2]\n",
    "count_num_vehicle(SOL)"
   ]
  },
  {
   "cell_type": "code",
   "execution_count": 45,
   "metadata": {},
   "outputs": [
    {
     "data": {
      "text/plain": [
       "array([ 2.,  4.,  2.,  2.,  0.,  2.,  0.,  2.,  2.,  2.,  2.,  2.,  2.,\n        0.,  2.,  0.,  0.,  4.,  2.,  0.,  4.,  2.,  4.,  2.,  1.,  1.,\n        4.,  2.,  4.,  4.,  3.,  2.,  2.,  2.,  2.,  4.,  4.,  4.,  1.,  1.])"
      ]
     },
     "execution_count": 45,
     "metadata": {},
     "output_type": "execute_result"
    }
   ],
   "source": [
    "# DEPOT_NUMBERS"
   ]
  },
  {
   "cell_type": "code",
   "execution_count": 10,
   "metadata": {},
   "outputs": [],
   "source": [
    "# results = [([[[2,[16,19],[41,37,34,22]],[1,[13,4,6],[15,31,43,18,48,42]],[0,[15],[35,49]]],[[1,[39,25,24],[52,51,80,21,5,10]],[0,[38],[79,61]]],[[2,[23,7,21],[19,47,45,50,53,25]],[5,[12,31,18],[62,40,30,23,20,13]],[3,[2,32,14,11,27,10,33],[32,7,4,29,33,63,55,77,69,28,27,64,71,65]],[1,[],[]],[0,[34,9,8,0],[3,26,24,68,67,66,2,14]],[4,[3,5],[9,16,12,11]]],[[0,[30],[60,58]]],[[3,[37,35,36],[74,75,73,76,17,8]],[2,[],[]],[1,[29,28,1],[56,57,38,1,6,59]],\n",
    "                                                                                                                                                                                                                                                                                                                                                                                       [0,[26,22,20,17],[54,46,44,36,39,70,78,72]]]])]"
   ]
  },
  {
   "cell_type": "code",
   "execution_count": 16,
   "metadata": {},
   "outputs": [],
   "source": [
    "# res = results[0]"
   ]
  },
  {
   "cell_type": "code",
   "execution_count": 18,
   "metadata": {},
   "outputs": [
    {
     "data": {
      "text/plain": [
       "[[2, [16, 19], [41, 37, 34, 22]],\n [1, [13, 4, 6], [15, 31, 43, 18, 48, 42]],\n [0, [15], [35, 49]]]"
      ]
     },
     "execution_count": 18,
     "metadata": {},
     "output_type": "execute_result"
    }
   ],
   "source": [
    "# res[0]"
   ]
  },
  {
   "cell_type": "markdown",
   "metadata": {},
   "source": [
    "# Writing to CSV"
   ]
  },
  {
   "cell_type": "code",
   "execution_count": 16,
   "metadata": {},
   "outputs": [],
   "source": [
    "solutions,distances,cal_times = mean_results(all_results)\n",
    "dist = [dist for _,dist,_ in all_results]\n",
    "dist = np.array(dist)\n",
    "df = pd.DataFrame(dist)\n",
    "df.to_csv('distances_goo.csv')\n",
    "CT = [ct for _,_,ct in all_results]\n",
    "CT = np.array(CT)\n",
    "df_CT = pd.DataFrame(CT)\n",
    "df_CT.to_csv('CT_goo.csv')"
   ]
  },
  {
   "cell_type": "markdown",
   "metadata": {},
   "source": [
    "# Average list by columns"
   ]
  },
  {
   "cell_type": "code",
   "execution_count": 18,
   "metadata": {},
   "outputs": [],
   "source": [
    "def avg_table(table):\n",
    "    transposed = zip(*table)\n",
    "    avg = lambda items: float(sum(items)) / len(items)\n",
    "    averages = map(avg, transposed)\n",
    "    averages = list(averages)\n",
    "    return  averages"
   ]
  },
  {
   "cell_type": "code",
   "execution_count": 19,
   "metadata": {},
   "outputs": [
    {
     "name": "stdout",
     "output_type": "stream",
     "text": [
      "[3.0, 2.0, 4.4, 1.0, 3.0]\n[3.8, 1.0, 3.7, 0.0, 2.7]\n[3.0, 2.0, 3.0, 0.0, 3.0]\n[2.8, 1.0, 3.7, 2.0, 2.0]\n[2.0, 1.0, 3.0, 1.0, 2.0]\n[3.1, 2.0, 3.0, 1.0, 3.0]\n[2.1, 0.0, 4.0, 0.0, 3.8]\n[2.0, 1.0, 2.0, 0.0, 3.0]\n[2.0, 0.0, 3.2, 0.0, 2.0]\n[3.1, 1.0, 3.0, 0.0, 2.0]\n"
     ]
    }
   ],
   "source": [
    "# for sol in solutions:\n",
    "num_vehicles  = []\n",
    "i = 0\n",
    "for res in all_results:\n",
    "    solutions = res[0]\n",
    "    arr_temp = []\n",
    "    for sol in solutions:\n",
    "        num_temp = count_num_vehicle(sol)\n",
    "        arr_temp.append(num_temp)\n",
    "    avg_temp = avg_table(arr_temp)\n",
    "    print(avg_temp)\n",
    "    num_vehicles.append(avg_temp)"
   ]
  },
  {
   "cell_type": "code",
   "execution_count": 20,
   "metadata": {},
   "outputs": [],
   "source": [
    "\n",
    "num_vehicles = np.array(num_vehicles)\n",
    "df_num_vehicles = pd.DataFrame(num_vehicles)\n",
    "df_num_vehicles.to_csv('num_veh_goo.csv')"
   ]
  },
  {
   "cell_type": "code",
   "execution_count": null,
   "metadata": {},
   "outputs": [],
   "source": []
  }
 ],
 "metadata": {
  "kernelspec": {
   "display_name": "Python 2",
   "language": "python",
   "name": "python2"
  },
  "language_info": {
   "codemirror_mode": {
    "name": "ipython",
    "version": 2
   },
   "file_extension": ".py",
   "mimetype": "text/x-python",
   "name": "python",
   "nbconvert_exporter": "python",
   "pygments_lexer": "ipython2",
   "version": "2.7.6"
  }
 },
 "nbformat": 4,
 "nbformat_minor": 0
}
