{
 "cells": [
  {
   "cell_type": "code",
   "execution_count": 1,
   "metadata": {
    "collapsed": true
   },
   "outputs": [],
   "source": [
    "import time\n",
    "import random\n",
    "import os\n",
    "import pandas as pd\n",
    "import csv\n",
    "import numpy as np\n",
    "from itertools import chain\n",
    "from pdp_lib import processing_google_map as proc\n",
    "from pdp_lib import util\n",
    "from GA_lib import GA_multi_depot as GA\n",
    "from GA_lib import operation_multi_depot as operation\n",
    "from GA_lib import evaluate_multi_depot as evaluate\n",
    "from statistics import mode"
   ]
  },
  {
   "cell_type": "code",
   "execution_count": 53,
   "metadata": {},
   "outputs": [],
   "source": [
    "def solve_and_print(filepath, rounds = 2, population_size = 100, generations=2000, crossoverRate=1.0, mutationRate=0.5):\n",
    "    process_time = time.time()\n",
    "    numVehicles, LoadCapacities, speed, data = proc.load_file(filepath)\n",
    "    LOCATIONS = data[0]\n",
    "    DEMANDS = data[1]\n",
    "    timeWindows = data[2]\n",
    "    serviceTimes = data[3]\n",
    "    pickupSiblings = data[4]\n",
    "    deliverySiblings = data[5]\n",
    "    requestType = data[6]\n",
    "    REQUESTS = proc.generate_request(pickupSiblings, deliverySiblings, requestType)\n",
    "    DISTANCES = proc.createDistanceTable('real_map/DISTANCES.csv')\n",
    "    DURATIONS = proc.createDurationTable('real_map/DURATIONS.csv')\n",
    "    DEPOTS = proc.create_depots('real_map/depots.csv')\n",
    "    DISTANCES_FROM_DEPOTS = proc.distances_from_depots('real_map/DISTANCES_FROM_DEPOTS.csv')\n",
    "    DISTANCES_TO_DEPOTS = proc.distances_to_depots('real_map/DISTANCES_TO_DEPOTS.csv')\n",
    "    # DEPOT_NUMBERS = proc.simple_assign_depots(REQUESTS, LOCATIONS, DEPOTS, DISTANCES_FROM_DEPOTS, DISTANCES_TO_DEPOTS)\n",
    "    # DEPOT_NUMBERS = proc.worse2worst_assign_depots(REQUESTS, timeWindows,DISTANCES,DURATIONS,DEPOTS,DISTANCES_FROM_DEPOTS, DISTANCES_TO_DEPOTS)\n",
    "    # DEPOT_NUMBERS = proc.vote_assign_depots(REQUESTS, timeWindows, DISTANCES, DURATIONS, DEPOTS, DISTANCES_FROM_DEPOTS, DISTANCES_TO_DEPOTS,k=3)\n",
    "    DEPOT_NUMBERS = proc.final_assign_depots(REQUESTS, timeWindows, DISTANCES, DURATIONS, DEPOTS, DISTANCES_FROM_DEPOTS,DISTANCES_TO_DEPOTS,k=3)\n",
    "    REQ_BY_DEPOTS = proc.requests_by_depots(DEPOTS, REQUESTS, DEPOT_NUMBERS)\n",
    "    print(REQ_BY_DEPOTS)\n",
    "    print('----------------Instance name: ' + str(filepath) + '-----------------------------------')\n",
    "    print(\" processing time --- %s seconds ---\" % (time.time() - process_time))\n",
    "\n",
    "    total_results = []\n",
    "    for round in range(rounds):\n",
    "        results_all_depots = []\n",
    "        distance_all_depots = []\n",
    "        time_all_depots = []\n",
    "        for id_depot in range(len(DEPOTS)):\n",
    "            THIS_DEP_REQS = REQ_BY_DEPOTS[id_depot]\n",
    "            NODES_OF_THIS_DEPOT = proc.locations_of_this_depot(id_depot, REQ_BY_DEPOTS, LOCATIONS)\n",
    "            if(len(NODES_OF_THIS_DEPOT)==0):\n",
    "                results_all_depots.append([])\n",
    "                distance_all_depots.append(0)\n",
    "                time_all_depots.append(0)\n",
    "                continue\n",
    "            # ############### SOLVING THE PROBLEMS !!!!!!!! ######################################\n",
    "            pops_create_time = time.time()\n",
    "            calculation_time = time.time()\n",
    "            print('#################### Round :' +str(round+1)+' ############################')\n",
    "            ## Initialize the populations\n",
    "            populations = []\n",
    "            for _ in range(population_size):\n",
    "                chromosome = GA.initialize_Feasible_chromosome(DISTANCES, DISTANCES_FROM_DEPOTS, DISTANCES_TO_DEPOTS, id_depot, DURATIONS, timeWindows, THIS_DEP_REQS, DEMANDS, LoadCapacities)\n",
    "                populations.append(chromosome)\n",
    "            # print(\"Populations creation time --- %s seconds ---\" % (time.time() - pops_create_time))\n",
    "            ## Crossovers and mutate ##\n",
    "            GA_time = time.time()\n",
    "\n",
    "            ## Evaluate fitnesses of all populations ##\n",
    "            best_fitness_so_far = -99999999\n",
    "            for gen in range(generations):\n",
    "                fitness_table = []\n",
    "                for chromosome in populations:\n",
    "                    fitness_table.append(\n",
    "                        evaluate.chromosomeFitness(chromosome, DISTANCES, DISTANCES_FROM_DEPOTS, DISTANCES_TO_DEPOTS,\n",
    "                                                   id_depot))\n",
    "                populations = [x for _, x in sorted(zip(fitness_table, populations), reverse=True)]\n",
    "                populations.pop()\n",
    "                populations.pop()\n",
    "                elite1 = populations.pop(0)\n",
    "                elite2 = populations.pop(0)\n",
    "\n",
    "\n",
    "                ## Tournament Selection ##\n",
    "                # id1, id2 = random.randrange(0, len(populations)), random.randrange(0, len(populations))\n",
    "                id1,id2,id3,id4 = random.sample(range(0, len(populations)), 4)\n",
    "                fitness1,fitness2,fitness3,fitness4 = fitness_table[id1],fitness_table[id2],fitness_table[id3],fitness_table[id4]\n",
    "                candidate1,candidate2,candidate3,candidate4 = populations[id1], populations[id2],populations[id3],populations[id4]\n",
    "                parent1 = operation.tournament_selection(candidate1,candidate2,fitness1,fitness2)\n",
    "                parent2 = operation.tournament_selection(candidate3,candidate4,fitness3,fitness4)\n",
    "\n",
    "                ## Crossing over !! ####\n",
    "                child1, child2 = operation.crossover(DISTANCES, DURATIONS, timeWindows, THIS_DEP_REQS, parent1, parent2,\n",
    "                                                     DEMANDS, LoadCapacities, DISTANCES_FROM_DEPOTS,\n",
    "                                                     DISTANCES_TO_DEPOTS, id_depot, crossoverRate)\n",
    "                # if(not evaluate.haveEqualNodes(child1,child2,LOCATIONS)):\n",
    "                #         print('note have Equal nodes, Crossover Bug!!!!!'+ str(gen))\n",
    "                #         break\n",
    "                #\n",
    "                ## Mutation ##\n",
    "                child1 = operation.mutate(child1, DISTANCES, DURATIONS, timeWindows, THIS_DEP_REQS, DEMANDS,\n",
    "                                          LoadCapacities, DISTANCES_FROM_DEPOTS, DISTANCES_TO_DEPOTS, id_depot, mutationRate)\n",
    "                child2 = operation.mutate(child2, DISTANCES, DURATIONS, timeWindows, THIS_DEP_REQS, DEMANDS,\n",
    "                                          LoadCapacities, DISTANCES_FROM_DEPOTS, DISTANCES_TO_DEPOTS, id_depot, mutationRate)\n",
    "                if (not evaluate.haveEqualNodes(child1, child2, NODES_OF_THIS_DEPOT)):\n",
    "                    print('note have Equal nodes, Mutation Bug!!!!!' + str(gen))\n",
    "                    break\n",
    "\n",
    "\n",
    "                ## Evaluate Fitness of the best ones ###\n",
    "                current_fitness = evaluate.chromosomeFitness(child1, DISTANCES, DISTANCES_FROM_DEPOTS,\n",
    "                                                             DISTANCES_TO_DEPOTS, id_depot)\n",
    "                current_fitness = max(current_fitness,\n",
    "                                      evaluate.chromosomeFitness(child2, DISTANCES, DISTANCES_FROM_DEPOTS,\n",
    "                                                                 DISTANCES_TO_DEPOTS, id_depot))\n",
    "                current_fitness = max(current_fitness,\n",
    "                                      evaluate.chromosomeFitness(elite1, DISTANCES, DISTANCES_FROM_DEPOTS,\n",
    "                                                                 DISTANCES_TO_DEPOTS, id_depot))\n",
    "                current_fitness = max(current_fitness,\n",
    "                                      evaluate.chromosomeFitness(elite2, DISTANCES, DISTANCES_FROM_DEPOTS,\n",
    "                                                                 DISTANCES_TO_DEPOTS, id_depot))\n",
    "\n",
    "                ## Add them back into populations ###\n",
    "                populations.append(child1)\n",
    "                populations.append(child2)\n",
    "                populations.append(elite1)\n",
    "                populations.append(elite2)\n",
    "\n",
    "                ### Check break conditions ####\n",
    "                if (current_fitness > best_fitness_so_far):\n",
    "                    best_fitness_so_far = current_fitness\n",
    "                    bestFitGen = gen\n",
    "                    # print('#### New Best Fitness !! , Best so far is :' + str(10000.0 / best_fitness_so_far) + '#####')\n",
    "                    # print('#### This Generation: ' + str(gen) + '#######')\n",
    "                if (gen - bestFitGen >= 1000):\n",
    "                    # print('#### Break Generation: ' + str(gen) + '#######')\n",
    "                    break\n",
    "                # print('############# Round-'+str(round+1) +',DEPOT-'+str(id_depot)+','+ 'Generation:' + str(gen + 1) + ' #########################')\n",
    "                # print('This Gen Distance :' + str(10000.0 / current_fitness))\n",
    "\n",
    "            ### Evaluate results of current DEPOT ####\n",
    "            fitness_table = []\n",
    "            for chromosome in populations:\n",
    "                fitness_table.append(\n",
    "                    evaluate.chromosomeFitness(chromosome, DISTANCES, DISTANCES_FROM_DEPOTS, DISTANCES_TO_DEPOTS, id_depot))\n",
    "            populations = [x for _, x in sorted(zip(fitness_table, populations), reverse=True)]\n",
    "            # print(\"GA time --- %s seconds ---\" % (time.time() - GA_time))\n",
    "            best_chromosome = populations[0]\n",
    "            computational_time = time.time() - calculation_time\n",
    "            # print(\"Total Calculation time --- %s seconds ---\" % (computational_time))\n",
    "            distance = evaluate.chromosomeRoutesDistance(best_chromosome,DISTANCES,DISTANCES_FROM_DEPOTS,DISTANCES_TO_DEPOTS,id_depot)\n",
    "            # print('Distances of the best chromosome: ' + str(distance))\n",
    "            # print(best_chromosome)\n",
    "\n",
    "            ## Memo the results ##\n",
    "            results_all_depots.append(best_chromosome)\n",
    "            distance_all_depots.append(distance)\n",
    "            time_all_depots.append(computational_time)\n",
    "        total_results.append((results_all_depots,distance_all_depots,time_all_depots))\n",
    "        print(results_all_depots)\n",
    "    return total_results"
   ]
  },
  {
   "cell_type": "code",
   "execution_count": 54,
   "metadata": {},
   "outputs": [],
   "source": [
    "def mean_results(results):\n",
    "    solutions = []\n",
    "    cal_times = []\n",
    "    distances = []\n",
    "    for round, round_result in enumerate(results):\n",
    "        sol = results[round][0]\n",
    "        dist = results[round][1]\n",
    "        ct = results[round][2]\n",
    "\n",
    "        solutions.append(sol)\n",
    "        distances.append(dist)\n",
    "        cal_times.append(ct)\n",
    "    distances = np.array(distances)\n",
    "    distances = pd.DataFrame(distances)\n",
    "    distances = np.mean(distances, axis=0)\n",
    "    cal_times = np.array(cal_times)\n",
    "    cal_times = pd.DataFrame(cal_times)\n",
    "    cal_times = np.mean(cal_times, axis=0)\n",
    "    return solutions,distances, cal_times\n"
   ]
  },
  {
   "cell_type": "code",
   "execution_count": 55,
   "metadata": {},
   "outputs": [],
   "source": [
    "def create_worst_case(filepath, rounds = 1, population_size = 100, generations=3000, crossoverRate=1.0, mutationRate=0.5):\n",
    "    process_time = time.time()\n",
    "    numVehicles, LoadCapacities, speed, data = proc.load_file(filepath)\n",
    "    LOCATIONS = data[0]\n",
    "    DEMANDS = data[1]\n",
    "    timeWindows = data[2]\n",
    "    serviceTimes = data[3]\n",
    "    pickupSiblings = data[4]\n",
    "    deliverySiblings = data[5]\n",
    "    requestType = data[6]\n",
    "    REQUESTS = proc.generate_request(pickupSiblings, deliverySiblings, requestType)\n",
    "    DISTANCES = proc.createDistanceTable('real_map/DISTANCES.csv')\n",
    "    DURATIONS = proc.createDurationTable('real_map/DURATIONS.csv')\n",
    "    DEPOTS = proc.create_depots('real_map/depots.csv')\n",
    "    DISTANCES_FROM_DEPOTS = proc.distances_from_depots('real_map/DISTANCES_FROM_DEPOTS.csv')\n",
    "    DISTANCES_TO_DEPOTS = proc.distances_to_depots('real_map/DISTANCES_TO_DEPOTS.csv')\n",
    "    DEPOT_NUMBERS = proc.simple_assign_depots(REQUESTS, LOCATIONS, DEPOTS, DISTANCES_FROM_DEPOTS, DISTANCES_TO_DEPOTS)\n",
    "    REQ_BY_DEPOTS = proc.requests_by_depots(DEPOTS, REQUESTS, DEPOT_NUMBERS)\n",
    "    \n",
    "    res = GA.initialize_WorstCase_Chromosome(REQUESTS)\n",
    "    \n",
    "    \n",
    "    dist_worst = 0\n",
    "    for [idx,_,[p,d]] in res:\n",
    "        depot = int(DEPOT_NUMBERS[idx]) \n",
    "        dist_worst += (DISTANCES_FROM_DEPOTS[depot][p]+DISTANCES[p][d]+DISTANCES_TO_DEPOTS[d][depot])\n",
    "\n",
    "    return res,dist_worst"
   ]
  },
  {
   "cell_type": "markdown",
   "metadata": {},
   "source": [
    "# Automated run"
   ]
  },
  {
   "cell_type": "code",
   "execution_count": 56,
   "metadata": {},
   "outputs": [
    {
     "name": "stdout",
     "output_type": "stream",
     "text": [
      "[{13: (31, 48), 15: (35, 49), 19: (41, 34)}, {38: (79, 61)}, {0: (3, 66), 1: (6, 59), 2: (7, 33), 3: (9, 12), 4: (15, 43), 5: (16, 11), 6: (18, 42), 7: (19, 53), 8: (24, 2), 9: (26, 68), 10: (28, 71), 11: (29, 69), 12: (30, 23), 14: (32, 4), 16: (37, 22), 17: (39, 72), 18: (40, 13), 20: (44, 78), 21: (45, 25), 22: (46, 70), 23: (47, 50), 24: (51, 5), 25: (52, 21), 26: (54, 36), 27: (55, 27), 28: (56, 38), 29: (57, 1), 31: (62, 20), 32: (63, 77), 33: (64, 65), 34: (67, 14), 36: (75, 17), 37: (76, 8), 39: (80, 10)}, {30: (60, 58)}, {35: (74, 73)}]\n----------------Instance name: pdp_instances/GOO/doing/goo01.csv-----------------------------------\n processing time --- 0.3970222473144531 seconds ---\n#################### Round :1 ############################\n"
     ]
    },
    {
     "name": "stdout",
     "output_type": "stream",
     "text": [
      "#################### Round :1 ############################\n"
     ]
    },
    {
     "name": "stdout",
     "output_type": "stream",
     "text": [
      "#################### Round :1 ############################\n"
     ]
    },
    {
     "name": "stdout",
     "output_type": "stream",
     "text": [
      "#################### Round :1 ############################\n"
     ]
    },
    {
     "name": "stdout",
     "output_type": "stream",
     "text": [
      "#################### Round :1 ############################\n"
     ]
    },
    {
     "name": "stdout",
     "output_type": "stream",
     "text": [
      "[[[1, [13, 15, 19], [35, 49, 31, 41, 48, 34]], [0, [], []]], [[0, [38], [79, 61]]], [[3, [32, 36, 0], [3, 63, 66, 75, 77, 17]], [2, [25, 24, 7, 29, 37], [57, 52, 51, 1, 5, 21, 19, 76, 53, 8]], [4, [28, 16, 21, 12], [56, 38, 37, 30, 45, 23, 22, 25]], [1, [4, 18, 27, 31, 23, 26], [15, 54, 55, 62, 43, 47, 40, 36, 27, 20, 13, 50]], [9, [5, 3], [9, 16, 12, 11]], [8, [1, 39], [6, 80, 10, 59]], [6, [14, 9, 8, 34], [32, 26, 24, 4, 68, 67, 2, 14]], [0, [10, 17, 6], [18, 28, 39, 42, 71, 72]], [5, [2, 33, 20, 11, 22], [7, 29, 33, 46, 44, 70, 78, 69, 64, 65]]], [[0, [30], [60, 58]]], [[0, [35], [74, 73]]]]\n#################### Round :2 ############################\n"
     ]
    },
    {
     "name": "stdout",
     "output_type": "stream",
     "text": [
      "#################### Round :2 ############################\n"
     ]
    },
    {
     "name": "stdout",
     "output_type": "stream",
     "text": [
      "#################### Round :2 ############################\n"
     ]
    },
    {
     "name": "stdout",
     "output_type": "stream",
     "text": [
      "#################### Round :2 ############################\n"
     ]
    },
    {
     "name": "stdout",
     "output_type": "stream",
     "text": [
      "#################### Round :2 ############################\n"
     ]
    },
    {
     "name": "stdout",
     "output_type": "stream",
     "text": [
      "[[[1, [], []], [0, [13, 19, 15], [35, 49, 31, 41, 48, 34]]], [[0, [38], [79, 61]]], [[0, [32, 37, 0], [3, 63, 66, 76, 77, 8]], [5, [7, 1, 23], [6, 19, 47, 50, 59, 53]], [3, [36, 27, 31, 18], [55, 75, 62, 40, 27, 20, 17, 13]], [7, [9, 14, 34, 39, 24], [32, 26, 4, 68, 67, 51, 80, 14, 5, 10]], [6, [11, 20, 33, 22], [29, 46, 44, 70, 78, 69, 64, 65]], [1, [3, 8, 5], [9, 24, 16, 12, 11, 2]], [8, [25, 29, 26, 6, 28, 17, 10], [56, 57, 52, 38, 54, 1, 21, 18, 36, 28, 39, 42, 71, 72]], [2, [2, 16, 21, 4, 12], [7, 15, 33, 30, 43, 45, 37, 23, 22, 25]]], [[0, [30], [60, 58]]], [[0, [35], [74, 73]]]]\n"
     ]
    },
    {
     "name": "stdout",
     "output_type": "stream",
     "text": [
      "[{14: (29, 32), 15: (31, 27), 17: (36, 35), 20: (42, 62), 21: (44, 43), 23: (47, 30)}, {1: (4, 70), 3: (9, 51), 4: (12, 56), 5: (13, 73), 6: (14, 76), 7: (15, 60), 8: (18, 57), 10: (21, 54), 11: (23, 39), 13: (25, 45), 16: (34, 52), 18: (38, 26), 19: (40, 61), 22: (46, 1), 24: (48, 11), 25: (50, 16), 26: (55, 37), 28: (59, 10), 29: (64, 33), 31: (67, 49), 33: (71, 7), 34: (72, 28), 35: (75, 8), 36: (77, 41), 37: (78, 74), 38: (79, 53), 39: (80, 65)}, {0: (3, 17), 2: (5, 2), 9: (19, 20), 12: (24, 6), 30: (66, 22), 32: (69, 63)}, {}, {27: (58, 68)}]\n----------------Instance name: pdp_instances/GOO/doing/goo02.csv-----------------------------------\n processing time --- 0.476024866104126 seconds ---\n#################### Round :1 ############################\n"
     ]
    },
    {
     "name": "stdout",
     "output_type": "stream",
     "text": [
      "#################### Round :1 ############################\n"
     ]
    },
    {
     "name": "stdout",
     "output_type": "stream",
     "text": [
      "#################### Round :1 ############################\n"
     ]
    },
    {
     "name": "stdout",
     "output_type": "stream",
     "text": [
      "#################### Round :1 ############################\n"
     ]
    },
    {
     "name": "stdout",
     "output_type": "stream",
     "text": [
      "[[[2, [23, 21], [44, 43, 47, 30]], [1, [17], [36, 35]], [0, [15, 20, 14], [42, 62, 31, 27, 29, 32]]], [[0, [10, 38], [21, 54, 79, 53]], [5, [39, 1, 5, 8, 35, 4, 37, 36, 6], [80, 78, 75, 65, 13, 12, 18, 14, 8, 4, 73, 74, 56, 57, 77, 76, 70, 41]], [2, [], []], [1, [7, 34, 16, 26, 29, 33, 3], [72, 71, 55, 64, 7, 28, 37, 34, 33, 15, 9, 52, 60, 51]], [3, [19, 13, 18, 11], [23, 25, 40, 38, 45, 39, 26, 61]], [4, [31, 24, 28, 22, 25], [50, 59, 67, 16, 10, 49, 48, 46, 11, 1]]], [[1, [32], [69, 63]], [0, [30, 12, 9, 2, 0], [5, 66, 2, 19, 24, 22, 20, 3, 6, 17]]], [], [[0, [27], [58, 68]]]]\n#################### Round :2 ############################\n"
     ]
    },
    {
     "name": "stdout",
     "output_type": "stream",
     "text": [
      "#################### Round :2 ############################\n"
     ]
    },
    {
     "name": "stdout",
     "output_type": "stream",
     "text": [
      "#################### Round :2 ############################\n"
     ]
    },
    {
     "name": "stdout",
     "output_type": "stream",
     "text": [
      "#################### Round :2 ############################\n"
     ]
    },
    {
     "name": "stdout",
     "output_type": "stream",
     "text": [
      "[[[2, [23, 21], [44, 43, 47, 30]], [1, [17], [36, 35]], [0, [20, 14, 15], [42, 62, 31, 27, 29, 32]]], [[1, [33, 29, 16, 34, 35, 37, 7, 3], [78, 75, 72, 71, 74, 64, 8, 7, 28, 34, 33, 15, 9, 52, 60, 51]], [0, [6, 36, 8, 1, 5, 4], [13, 12, 18, 14, 4, 73, 56, 57, 77, 76, 70, 41]], [4, [19, 11, 13], [23, 25, 40, 45, 39, 61]], [2, [], []], [6, [38, 28, 25], [79, 59, 50, 10, 16, 53]], [3, [39, 10, 31, 22, 26, 24, 18], [80, 21, 65, 54, 55, 67, 38, 37, 26, 49, 48, 46, 11, 1]]], [[1, [32], [69, 63]], [0, [30, 12, 9, 2, 0], [5, 66, 2, 19, 24, 22, 20, 3, 6, 17]]], [], [[0, [27], [58, 68]]]]\n"
     ]
    },
    {
     "name": "stdout",
     "output_type": "stream",
     "text": [
      "[{18: (33, 41), 19: (35, 44), 21: (40, 37), 23: (45, 39)}, {}, {0: (4, 25), 1: (5, 47), 2: (6, 3), 3: (7, 1), 4: (8, 19), 5: (9, 10), 6: (11, 16), 7: (14, 72), 8: (15, 58), 9: (17, 76), 10: (18, 43), 11: (22, 36), 12: (24, 34), 13: (26, 21), 14: (27, 29), 15: (30, 63), 16: (31, 65), 17: (32, 73), 20: (38, 68), 22: (42, 23), 24: (46, 69), 25: (48, 80), 26: (51, 13), 27: (52, 49), 28: (54, 20), 29: (55, 61), 30: (56, 57), 32: (64, 28), 33: (66, 53), 34: (67, 62), 35: (70, 2), 36: (74, 59), 37: (75, 50), 38: (78, 71), 39: (79, 12)}, {31: (60, 77)}, {}]\n----------------Instance name: pdp_instances/GOO/doing/goo03.csv-----------------------------------\n processing time --- 0.35702085494995117 seconds ---\n#################### Round :1 ############################\n"
     ]
    },
    {
     "name": "stdout",
     "output_type": "stream",
     "text": [
      "#################### Round :1 ############################\n"
     ]
    },
    {
     "name": "stdout",
     "output_type": "stream",
     "text": [
      "#################### Round :1 ############################\n"
     ]
    },
    {
     "name": "stdout",
     "output_type": "stream",
     "text": [
      "[[[1, [19], [35, 44]], [0, [23, 21, 18], [33, 41, 45, 40, 39, 37]]], [], [[7, [8, 39, 25, 7, 10], [18, 15, 14, 72, 58, 48, 43, 79, 80, 12]], [6, [6, 3, 5, 2], [11, 7, 16, 9, 1, 6, 10, 3]], [4, [26, 27, 13, 28, 4], [52, 54, 51, 49, 26, 20, 21, 13, 8, 19]], [5, [0, 12, 14, 35, 32, 1, 15], [4, 70, 64, 5, 2, 25, 28, 27, 24, 47, 30, 34, 29, 63]], [1, [], []], [2, [24, 17, 22, 11, 16, 20, 9], [22, 42, 32, 23, 46, 31, 36, 38, 17, 73, 76, 69, 68, 65]], [0, [38, 36, 33, 29, 34, 37, 30], [66, 78, 56, 74, 71, 53, 57, 59, 55, 75, 67, 50, 61, 62]]], [[0, [31], [60, 77]]], []]\n#################### Round :2 ############################\n"
     ]
    },
    {
     "name": "stdout",
     "output_type": "stream",
     "text": [
      "#################### Round :2 ############################\n"
     ]
    },
    {
     "name": "stdout",
     "output_type": "stream",
     "text": [
      "#################### Round :2 ############################\n"
     ]
    },
    {
     "name": "stdout",
     "output_type": "stream",
     "text": [
      "[[[1, [19], [35, 44]], [0, [23, 21, 18], [33, 41, 45, 40, 39, 37]]], [], [[7, [], []], [6, [27, 26, 28, 13], [52, 54, 51, 49, 26, 20, 13, 21]], [3, [39, 38, 33, 30, 36, 8, 15, 1], [66, 78, 56, 74, 71, 53, 15, 5, 57, 58, 59, 79, 47, 30, 63, 12]], [5, [10, 16, 11, 20, 24, 25, 4], [22, 18, 31, 36, 38, 46, 43, 48, 69, 68, 65, 8, 80, 19]], [0, [7, 17, 22, 9, 29, 37, 34], [42, 32, 23, 17, 14, 72, 73, 76, 75, 55, 67, 50, 61, 62]], [4, [6, 5, 2, 3], [11, 7, 16, 9, 1, 6, 10, 3]], [2, [0, 12, 14, 32, 35], [4, 70, 64, 2, 25, 28, 27, 24, 34, 29]]], [[0, [31], [60, 77]]], []]\n"
     ]
    },
    {
     "name": "stdout",
     "output_type": "stream",
     "text": [
      "[{14: (31, 28), 20: (47, 35), 28: (62, 36)}, {0: (1, 34), 1: (2, 49), 2: (4, 59), 3: (6, 74), 5: (10, 60), 6: (12, 44), 7: (13, 67), 9: (18, 43), 10: (21, 79), 12: (24, 51), 13: (30, 15), 15: (32, 80), 16: (33, 58), 17: (38, 61), 18: (39, 20), 19: (40, 16), 21: (48, 23), 22: (50, 19), 23: (52, 41), 24: (53, 8), 25: (54, 25), 26: (55, 42), 27: (56, 37), 30: (64, 27), 32: (68, 45), 33: (69, 75), 34: (70, 9), 35: (71, 77), 36: (72, 57), 37: (73, 65), 38: (76, 46), 39: (78, 29)}, {4: (7, 3), 8: (14, 26), 11: (22, 5), 29: (63, 11), 31: (66, 17)}, {}, {}]\n----------------Instance name: pdp_instances/GOO/doing/goo04.csv-----------------------------------\n processing time --- 0.3550400733947754 seconds ---\n#################### Round :1 ############################\n"
     ]
    },
    {
     "name": "stdout",
     "output_type": "stream",
     "text": [
      "#################### Round :1 ############################\n"
     ]
    },
    {
     "name": "stdout",
     "output_type": "stream",
     "text": [
      "#################### Round :1 ############################\n"
     ]
    },
    {
     "name": "stdout",
     "output_type": "stream",
     "text": [
      "[[[0, [28, 20, 14], [62, 36, 47, 31, 35, 28]]], [[7, [16, 0, 30, 32, 9, 13, 33, 7, 3, 24], [68, 64, 1, 18, 45, 43, 27, 34, 33, 30, 6, 15, 13, 58, 53, 69, 67, 74, 75, 8]], [4, [17, 15, 6], [38, 32, 12, 44, 61, 80]], [1, [25, 34, 10, 36, 19, 26, 37, 39], [54, 72, 73, 55, 70, 65, 78, 57, 9, 21, 25, 40, 42, 29, 16, 79]], [2, [38, 35, 27, 18, 21, 12], [71, 56, 77, 76, 37, 39, 48, 46, 24, 23, 20, 51]], [0, [2, 22, 5, 1, 23], [4, 10, 59, 60, 52, 50, 2, 19, 41, 49]]], [[1, [4], [7, 3]], [0, [31, 29, 11, 8], [22, 63, 66, 11, 5, 17, 14, 26]]], [], []]\n#################### Round :2 ############################\n"
     ]
    },
    {
     "name": "stdout",
     "output_type": "stream",
     "text": [
      "#################### Round :2 ############################\n"
     ]
    },
    {
     "name": "stdout",
     "output_type": "stream",
     "text": [
      "#################### Round :2 ############################\n"
     ]
    },
    {
     "name": "stdout",
     "output_type": "stream",
     "text": [
      "[[[0, [28, 20, 14], [62, 36, 47, 31, 35, 28]]], [[4, [], []], [2, [0, 25, 7, 13, 16, 33, 24, 26, 3], [54, 55, 1, 6, 25, 42, 34, 33, 30, 15, 13, 58, 53, 69, 67, 74, 75, 8]], [3, [35, 38, 36, 39, 37, 27, 21, 12, 18], [73, 72, 71, 65, 57, 56, 78, 77, 76, 37, 39, 29, 48, 46, 24, 23, 20, 51]], [5, [6, 32, 10, 19, 9, 34], [68, 70, 12, 18, 45, 44, 40, 43, 9, 21, 16, 79]], [6, [15, 30, 17], [64, 38, 32, 27, 61, 80]], [0, [], []], [1, [2, 5, 22, 1, 23], [4, 10, 59, 60, 52, 50, 2, 19, 41, 49]]], [[1, [11, 31, 29, 8], [22, 63, 66, 11, 5, 17, 14, 26]], [0, [4], [7, 3]]], [], []]\n"
     ]
    },
    {
     "name": "stdout",
     "output_type": "stream",
     "text": [
      "[{15: (37, 30), 19: (41, 48), 20: (42, 27), 21: (43, 28), 24: (49, 46)}, {39: (79, 51)}, {0: (1, 22), 1: (2, 36), 2: (9, 66), 3: (10, 52), 4: (13, 62), 5: (14, 63), 6: (18, 12), 7: (19, 77), 8: (20, 4), 9: (23, 29), 10: (24, 7), 11: (25, 60), 12: (26, 73), 13: (32, 74), 14: (35, 80), 16: (38, 71), 17: (39, 16), 18: (40, 6), 22: (45, 8), 23: (47, 76), 25: (50, 15), 26: (53, 11), 27: (54, 34), 28: (55, 17), 30: (57, 58), 31: (59, 61), 32: (64, 65), 33: (68, 44), 34: (69, 33), 35: (70, 31), 36: (72, 3), 37: (75, 5), 38: (78, 21)}, {}, {29: (56, 67)}]\n----------------Instance name: pdp_instances/GOO/doing/goo05.csv-----------------------------------\n processing time --- 0.32899022102355957 seconds ---\n#################### Round :1 ############################\n"
     ]
    },
    {
     "name": "stdout",
     "output_type": "stream",
     "text": [
      "#################### Round :1 ############################\n"
     ]
    },
    {
     "name": "stdout",
     "output_type": "stream",
     "text": [
      "#################### Round :1 ############################\n"
     ]
    },
    {
     "name": "stdout",
     "output_type": "stream",
     "text": [
      "#################### Round :1 ############################\n"
     ]
    },
    {
     "name": "stdout",
     "output_type": "stream",
     "text": [
      "[[[2, [24], [49, 46]], [1, [15, 21, 20, 19], [37, 43, 41, 30, 28, 42, 48, 27]]], [[0, [39], [79, 51]]], [[3, [22, 14, 4, 1], [13, 2, 35, 45, 36, 62, 80, 8]], [7, [], []], [6, [26, 37, 31, 17, 6, 18], [75, 59, 53, 5, 61, 40, 39, 11, 6, 18, 16, 12]], [1, [], []], [4, [13, 35, 33, 9, 23, 16, 38], [23, 47, 32, 29, 38, 76, 74, 78, 70, 71, 68, 21, 44, 31]], [2, [2, 3, 8, 25, 0, 5], [20, 10, 9, 14, 4, 52, 50, 66, 63, 1, 22, 15]], [0, [32, 10, 30, 11, 12], [26, 24, 25, 7, 64, 65, 73, 57, 60, 58]], [5, [7, 34, 28, 36, 27], [19, 54, 77, 72, 55, 69, 34, 33, 17, 3]]], [], [[0, [29], [56, 67]]]]\n#################### Round :2 ############################\n"
     ]
    },
    {
     "name": "stdout",
     "output_type": "stream",
     "text": [
      "#################### Round :2 ############################\n"
     ]
    },
    {
     "name": "stdout",
     "output_type": "stream",
     "text": [
      "#################### Round :2 ############################\n"
     ]
    },
    {
     "name": "stdout",
     "output_type": "stream",
     "text": [
      "#################### Round :2 ############################\n"
     ]
    },
    {
     "name": "stdout",
     "output_type": "stream",
     "text": [
      "[[[2, [24], [49, 46]], [1, [15, 21, 20, 19], [37, 43, 41, 30, 28, 42, 48, 27]], [0, [], []]], [[0, [39], [79, 51]]], [[6, [7, 34, 12, 28, 36, 6], [19, 26, 77, 72, 55, 73, 69, 3, 18, 33, 17, 12]], [2, [10], [24, 7]], [0, [2, 26, 32, 0, 37, 25, 3], [75, 53, 64, 5, 10, 11, 9, 65, 50, 52, 66, 1, 22, 15]], [1, [18, 11, 8, 30, 13], [20, 25, 40, 32, 4, 6, 74, 57, 60, 58]], [7, [27, 31, 22, 17, 14, 5], [59, 54, 61, 45, 39, 35, 34, 80, 16, 14, 8, 63]], [4, [9, 16, 1, 4, 23, 38, 33, 35], [13, 2, 23, 47, 29, 36, 38, 62, 78, 76, 70, 71, 68, 31, 44, 21]]], [], [[0, [29], [56, 67]]]]\n"
     ]
    },
    {
     "name": "stdout",
     "output_type": "stream",
     "text": [
      "[{0: (2, 40), 1: (4, 69), 2: (5, 76), 3: (6, 32), 5: (8, 41), 7: (11, 38), 8: (17, 62), 9: (19, 50), 10: (20, 48), 11: (23, 74), 12: (24, 73), 15: (28, 58), 16: (29, 71), 17: (30, 72), 18: (35, 13), 19: (36, 59), 20: (37, 61), 21: (39, 33), 22: (42, 66), 23: (43, 16), 24: (44, 15), 25: (49, 21), 26: (51, 14), 27: (52, 18), 28: (53, 22), 29: (54, 1), 30: (55, 77), 31: (56, 34), 32: (57, 47), 33: (60, 46), 34: (63, 31), 36: (68, 80), 37: (75, 45), 38: (78, 70), 39: (79, 64)}, {}, {4: (7, 25), 6: (9, 3), 13: (26, 65), 14: (27, 10), 35: (67, 12)}, {}, {}]\n----------------Instance name: pdp_instances/GOO/doing/goo06.csv-----------------------------------\n processing time --- 0.4920485019683838 seconds ---\n#################### Round :1 ############################\n"
     ]
    },
    {
     "name": "stdout",
     "output_type": "stream",
     "text": [
      "#################### Round :1 ############################\n"
     ]
    },
    {
     "name": "stdout",
     "output_type": "stream",
     "text": [
      "[[[0, [24, 23, 29, 10], [44, 43, 15, 20, 16, 54, 1, 48]], [2, [], []], [7, [], []], [6, [25, 8, 9, 18], [49, 35, 19, 17, 21, 13, 50, 62]], [1, [34, 20, 19, 39, 12], [79, 63, 64, 24, 31, 36, 37, 73, 59, 61]], [8, [36, 32, 38, 22], [42, 78, 68, 66, 70, 57, 80, 47]], [3, [15, 26, 27, 16, 2, 28, 0], [29, 28, 5, 76, 71, 53, 58, 52, 51, 22, 18, 2, 14, 40]], [4, [21, 33, 3, 7, 5, 31], [56, 60, 11, 8, 6, 41, 46, 38, 34, 32, 39, 33]], [5, [11, 1, 30, 17, 37], [30, 23, 4, 74, 55, 69, 72, 75, 77, 45]]], [], [[1, [35], [67, 12]], [0, [14, 13, 6, 4], [7, 25, 27, 26, 9, 10, 65, 3]]], [], []]\n#################### Round :2 ############################\n"
     ]
    },
    {
     "name": "stdout",
     "output_type": "stream",
     "text": [
      "#################### Round :2 ############################\n"
     ]
    },
    {
     "name": "stdout",
     "output_type": "stream",
     "text": [
      "[[[1, [1, 36, 22], [42, 66, 4, 68, 69, 80]], [3, [25, 34, 19, 20, 12], [49, 63, 21, 24, 31, 36, 37, 73, 59, 61]], [7, [27, 26, 39, 0], [79, 51, 52, 64, 2, 18, 14, 40]], [2, [38, 2, 16, 28, 10], [29, 5, 78, 76, 71, 70, 53, 20, 22, 48]], [4, [15, 8, 18, 21, 9], [35, 28, 19, 17, 13, 50, 58, 62, 39, 33]], [6, [3, 23, 17, 29, 7, 5, 33, 31, 37], [56, 60, 8, 11, 6, 41, 46, 38, 34, 43, 32, 30, 16, 54, 75, 72, 1, 45]], [0, [11, 24, 30, 32], [44, 23, 15, 55, 74, 57, 77, 47]]], [], [[1, [35], [67, 12]], [0, [14, 13, 6, 4], [7, 25, 27, 26, 9, 10, 65, 3]]], [], []]\n"
     ]
    },
    {
     "name": "stdout",
     "output_type": "stream",
     "text": [
      "[{15: (29, 45), 16: (30, 46), 18: (38, 36), 19: (40, 32), 21: (43, 49)}, {}, {0: (2, 41), 1: (5, 15), 2: (6, 70), 3: (7, 16), 4: (8, 3), 5: (12, 74), 6: (13, 50), 7: (17, 51), 8: (18, 80), 9: (19, 68), 10: (22, 14), 11: (23, 39), 12: (25, 35), 13: (26, 9), 14: (28, 52), 17: (37, 10), 20: (42, 4), 22: (44, 20), 23: (47, 78), 24: (48, 61), 26: (54, 62), 27: (56, 31), 30: (59, 33), 31: (60, 65), 32: (64, 24), 33: (66, 1), 34: (67, 21), 35: (71, 34), 36: (75, 27), 38: (77, 11), 39: (79, 63)}, {}, {25: (53, 73), 28: (57, 69), 29: (58, 72), 37: (76, 55)}]\n----------------Instance name: pdp_instances/GOO/doing/goo07.csv-----------------------------------\n processing time --- 0.34923696517944336 seconds ---\n#################### Round :1 ############################\n"
     ]
    },
    {
     "name": "stdout",
     "output_type": "stream",
     "text": [
      "#################### Round :1 ############################\n"
     ]
    },
    {
     "name": "stdout",
     "output_type": "stream",
     "text": [
      "#################### Round :1 ############################\n"
     ]
    },
    {
     "name": "stdout",
     "output_type": "stream",
     "text": [
      "[[[0, [21, 19, 15, 18, 16], [38, 29, 30, 40, 45, 46, 32, 36, 43, 49]]], [], [[3, [14, 24, 34, 23, 7], [17, 28, 48, 47, 61, 52, 51, 78, 67, 21]], [2, [30, 31, 38, 27, 26], [54, 77, 56, 60, 59, 62, 31, 33, 11, 65]], [0, [22, 20, 6, 10, 4], [44, 42, 22, 20, 13, 8, 4, 3, 14, 50]], [1, [8, 12, 39, 11, 2, 5, 32, 13], [18, 25, 80, 79, 35, 23, 6, 12, 63, 64, 70, 74, 39, 26, 24, 9]], [5, [], []], [4, [1, 35, 33, 0, 17, 9, 3, 36], [19, 66, 71, 75, 68, 1, 2, 41, 37, 34, 27, 10, 5, 7, 16, 15]]], [], [[1, [37, 28, 25], [53, 57, 76, 69, 73, 55]], [0, [29], [58, 72]]]]\n#################### Round :2 ############################\n"
     ]
    },
    {
     "name": "stdout",
     "output_type": "stream",
     "text": [
      "#################### Round :2 ############################\n"
     ]
    },
    {
     "name": "stdout",
     "output_type": "stream",
     "text": [
      "#################### Round :2 ############################\n"
     ]
    },
    {
     "name": "stdout",
     "output_type": "stream",
     "text": [
      "[[[0, [21, 19, 15, 18, 16], [38, 29, 30, 40, 45, 46, 32, 36, 43, 49]]], [], [[2, [8, 24, 23, 27, 34, 11, 12], [18, 48, 47, 61, 80, 25, 56, 78, 67, 23, 31, 35, 39, 21]], [5, [35, 33, 38, 36, 0, 17], [66, 71, 77, 75, 1, 2, 41, 37, 34, 27, 11, 10]], [3, [], []], [4, [26, 30, 7, 14, 31, 39, 1, 2, 32, 5, 13], [17, 28, 54, 60, 59, 52, 51, 79, 62, 33, 6, 5, 65, 63, 64, 12, 15, 70, 74, 26, 24, 9]], [0, [22, 6, 9, 20, 10, 3], [19, 44, 42, 22, 20, 13, 4, 68, 50, 7, 14, 16]], [1, [4], [8, 3]]], [], [[2, [37, 28, 25], [53, 57, 76, 69, 73, 55]], [1, [], []], [0, [29], [58, 72]]]]\n"
     ]
    },
    {
     "name": "stdout",
     "output_type": "stream",
     "text": [
      "[{18: (30, 43), 20: (36, 31), 23: (42, 45)}, {}, {0: (2, 74), 1: (4, 35), 2: (5, 11), 3: (6, 57), 4: (7, 19), 5: (9, 3), 6: (10, 67), 7: (12, 1), 8: (13, 28), 9: (14, 62), 10: (16, 33), 11: (18, 23), 12: (20, 17), 13: (21, 44), 14: (22, 27), 15: (24, 8), 16: (25, 47), 17: (26, 79), 19: (32, 63), 21: (38, 69), 22: (41, 58), 24: (46, 75), 25: (48, 56), 26: (49, 73), 27: (50, 34), 28: (53, 51), 29: (54, 15), 30: (55, 76), 31: (59, 29), 32: (60, 37), 33: (61, 40), 34: (64, 78), 35: (66, 68), 37: (72, 65), 38: (77, 52), 39: (80, 39)}, {}, {36: (70, 71)}]\n----------------Instance name: pdp_instances/GOO/doing/goo08.csv-----------------------------------\n processing time --- 0.334033727645874 seconds ---\n#################### Round :1 ############################\n"
     ]
    },
    {
     "name": "stdout",
     "output_type": "stream",
     "text": [
      "#################### Round :1 ############################\n"
     ]
    },
    {
     "name": "stdout",
     "output_type": "stream",
     "text": [
      "#################### Round :1 ############################\n"
     ]
    },
    {
     "name": "stdout",
     "output_type": "stream",
     "text": [
      "[[[1, [23, 18], [30, 43, 42, 45]], [0, [20], [36, 31]]], [], [[1, [], []], [6, [3, 5, 9, 0, 30], [9, 3, 6, 2, 14, 55, 74, 76, 57, 62]], [4, [34, 37, 28, 38, 31, 35, 4, 6, 2, 29], [10, 64, 54, 67, 72, 77, 78, 53, 66, 15, 5, 51, 52, 59, 68, 65, 7, 29, 19, 11]], [0, [7, 19], [32, 12, 63, 1]], [5, [1, 12, 27, 21, 15, 32, 22, 39, 33, 16, 13, 17, 24], [21, 41, 80, 60, 58, 61, 39, 26, 20, 25, 40, 47, 44, 17, 4, 50, 79, 46, 37, 38, 35, 34, 24, 75, 69, 8]], [3, [10, 11, 8, 14, 25, 26], [18, 16, 13, 23, 22, 33, 27, 49, 48, 28, 56, 73]]], [], [[0, [36], [70, 71]]]]\n#################### Round :2 ############################\n"
     ]
    },
    {
     "name": "stdout",
     "output_type": "stream",
     "text": [
      "#################### Round :2 ############################\n"
     ]
    },
    {
     "name": "stdout",
     "output_type": "stream",
     "text": [
      "#################### Round :2 ############################\n"
     ]
    },
    {
     "name": "stdout",
     "output_type": "stream",
     "text": [
      "[[[1, [23, 18], [30, 43, 42, 45]], [0, [20], [36, 31]]], [], [[5, [14, 11, 10, 2, 17], [26, 18, 16, 79, 23, 22, 33, 27, 5, 11]], [3, [27, 1, 15, 21], [4, 50, 38, 35, 34, 24, 69, 8]], [1, [32, 22, 25, 33, 13, 39, 26], [21, 41, 80, 60, 58, 61, 39, 40, 37, 44, 48, 49, 56, 73]], [0, [5, 7], [9, 3, 12, 1]], [2, [0, 3, 16, 19, 12, 24, 30], [20, 25, 32, 47, 46, 17, 2, 6, 63, 55, 57, 74, 75, 76]], [7, [31, 35, 6, 29, 8, 9, 34, 38, 37, 28, 4], [10, 64, 54, 67, 72, 77, 78, 53, 66, 15, 14, 13, 51, 52, 59, 68, 65, 7, 19, 28, 29, 62]]], [], [[0, [36], [70, 71]]]]\n"
     ]
    },
    {
     "name": "stdout",
     "output_type": "stream",
     "text": [
      "[{13: (33, 30), 19: (43, 37), 20: (44, 32), 21: (45, 34)}, {}, {0: (1, 2), 1: (3, 35), 2: (4, 64), 3: (8, 13), 4: (10, 54), 5: (12, 24), 6: (19, 71), 7: (20, 17), 8: (22, 49), 9: (23, 41), 10: (25, 16), 11: (29, 59), 12: (31, 18), 14: (36, 9), 15: (38, 11), 16: (39, 14), 17: (40, 74), 18: (42, 67), 22: (48, 5), 23: (51, 75), 24: (55, 26), 25: (56, 27), 26: (57, 47), 28: (61, 7), 29: (62, 80), 30: (63, 50), 31: (65, 21), 32: (66, 46), 33: (68, 73), 34: (69, 58), 35: (70, 6), 36: (72, 28), 37: (76, 52), 38: (78, 15), 39: (79, 53)}, {27: (60, 77)}, {}]\n----------------Instance name: pdp_instances/GOO/doing/goo09.csv-----------------------------------\n processing time --- 0.3590545654296875 seconds ---\n#################### Round :1 ############################\n"
     ]
    },
    {
     "name": "stdout",
     "output_type": "stream",
     "text": [
      "#################### Round :1 ############################\n"
     ]
    },
    {
     "name": "stdout",
     "output_type": "stream",
     "text": [
      "#################### Round :1 ############################\n"
     ]
    },
    {
     "name": "stdout",
     "output_type": "stream",
     "text": [
      "[[[0, [21, 19, 13, 20], [44, 33, 32, 30, 43, 45, 37, 34]]], [], [[7, [4, 25, 26, 1, 7, 24, 38, 9, 8], [10, 56, 78, 57, 54, 55, 47, 27, 26, 15, 3, 23, 22, 20, 49, 41, 35, 17]], [2, [36, 35, 31, 14, 16, 12, 5], [72, 70, 65, 6, 12, 21, 28, 31, 36, 39, 24, 18, 14, 9]], [5, [15, 10, 3, 29, 0, 28], [8, 13, 25, 38, 62, 61, 16, 11, 1, 80, 7, 2]], [4, [], []], [0, [22, 17, 33, 18, 6, 32, 11, 23], [29, 48, 42, 5, 51, 59, 68, 19, 40, 67, 66, 71, 74, 75, 73, 46]], [1, [], []], [6, [34, 30, 2, 39, 37], [4, 63, 64, 76, 69, 50, 79, 52, 58, 53]]], [[0, [27], [60, 77]]], []]\n#################### Round :2 ############################\n"
     ]
    },
    {
     "name": "stdout",
     "output_type": "stream",
     "text": [
      "#################### Round :2 ############################\n"
     ]
    },
    {
     "name": "stdout",
     "output_type": "stream",
     "text": [
      "#################### Round :2 ############################\n"
     ]
    },
    {
     "name": "stdout",
     "output_type": "stream",
     "text": [
      "[[[0, [21, 19, 13, 20], [44, 33, 32, 30, 43, 45, 37, 34]]], [], [[7, [3, 29, 10, 28], [8, 13, 25, 62, 61, 80, 16, 7]], [6, [], []], [2, [36, 14, 16, 24, 12, 5], [55, 72, 12, 28, 31, 36, 39, 26, 24, 18, 14, 9]], [0, [35, 39, 30, 0, 17, 33, 6], [63, 70, 68, 19, 6, 1, 50, 79, 40, 71, 74, 73, 53, 2]], [4, [26, 4, 38, 15, 25], [10, 56, 78, 57, 54, 38, 47, 27, 15, 11]], [1, [22, 23, 32, 37, 18, 34, 11], [29, 48, 42, 5, 51, 59, 76, 75, 69, 67, 66, 52, 58, 46]], [5, [2, 8, 31, 9, 1, 7], [4, 65, 64, 3, 21, 23, 22, 20, 49, 41, 35, 17]], [3, [], []]], [[0, [27], [60, 77]]], []]\n"
     ]
    },
    {
     "name": "stdout",
     "output_type": "stream",
     "text": [
      "[{2: (8, 32), 4: (17, 50), 5: (18, 78), 7: (21, 57), 10: (28, 5), 11: (29, 35), 12: (33, 15), 13: (36, 69), 14: (37, 77), 15: (39, 11), 16: (40, 31), 17: (47, 19), 18: (48, 6), 19: (49, 72), 20: (51, 68), 21: (52, 27), 22: (53, 45), 23: (54, 60), 25: (56, 2), 26: (58, 10), 27: (59, 14), 28: (61, 44), 29: (62, 38), 30: (63, 70), 32: (65, 46), 33: (66, 79), 34: (71, 41), 35: (73, 42), 36: (74, 43), 37: (75, 34), 38: (76, 30), 39: (80, 26)}, {}, {0: (3, 13), 1: (4, 7), 3: (9, 16), 6: (20, 1), 8: (24, 22), 9: (25, 23), 31: (64, 12)}, {}, {24: (55, 67)}]\n----------------Instance name: pdp_instances/GOO/doing/goo10.csv-----------------------------------\n processing time --- 0.35702013969421387 seconds ---\n#################### Round :1 ############################\n"
     ]
    },
    {
     "name": "stdout",
     "output_type": "stream",
     "text": [
      "#################### Round :1 ############################\n"
     ]
    },
    {
     "name": "stdout",
     "output_type": "stream",
     "text": [
      "#################### Round :1 ############################\n"
     ]
    },
    {
     "name": "stdout",
     "output_type": "stream",
     "text": [
      "[[[5, [16, 11, 15, 12, 17, 5, 7, 19, 38], [47, 29, 40, 39, 35, 33, 19, 18, 21, 31, 49, 15, 11, 76, 78, 57, 72, 30]], [1, [39, 27, 20, 21, 2, 26, 10, 13], [58, 59, 52, 80, 10, 14, 8, 32, 28, 27, 26, 36, 51, 69, 68, 5]], [2, [], []], [6, [30, 23, 35, 4, 18], [48, 17, 6, 63, 70, 73, 54, 50, 60, 42]], [0, [29], [62, 38]], [4, [36, 25, 32, 22], [56, 74, 53, 2, 65, 43, 45, 46]], [3, [33, 14, 28, 37, 34], [37, 66, 71, 77, 75, 61, 79, 41, 34, 44]]], [], [[1, [31, 6, 1, 3, 0], [4, 20, 7, 1, 3, 13, 9, 64, 16, 12]], [0, [8, 9], [25, 24, 23, 22]]], [], [[0, [24], [55, 67]]]]\n#################### Round :2 ############################\n"
     ]
    },
    {
     "name": "stdout",
     "output_type": "stream",
     "text": [
      "#################### Round :2 ############################\n"
     ]
    },
    {
     "name": "stdout",
     "output_type": "stream",
     "text": [
      "#################### Round :2 ############################\n"
     ]
    },
    {
     "name": "stdout",
     "output_type": "stream",
     "text": [
      "[[[5, [2, 26, 27, 21, 16, 10, 15, 12, 7, 19], [58, 59, 52, 10, 8, 14, 27, 39, 40, 32, 28, 31, 33, 49, 21, 15, 11, 5, 57, 72]], [3, [14, 33, 34, 28, 37], [37, 66, 71, 77, 75, 61, 79, 41, 34, 44]], [0, [13, 5, 17, 32, 11, 39, 20, 38], [80, 47, 29, 36, 35, 26, 19, 18, 51, 65, 69, 68, 78, 76, 46, 30]], [6, [4, 30, 23, 18, 35], [48, 17, 6, 63, 70, 73, 54, 50, 60, 42]], [4, [25, 36, 22], [56, 74, 53, 2, 45, 43]], [1, [29], [62, 38]]], [], [[1, [31, 6, 3, 1, 0], [4, 20, 7, 1, 3, 13, 9, 64, 16, 12]], [0, [8, 9], [25, 24, 23, 22]]], [], [[0, [24], [55, 67]]]]\n"
     ]
    },
    {
     "name": "stdout",
     "output_type": "stream",
     "text": [
      "[{11: (29, 35), 16: (40, 31), 29: (62, 38)}, {}, {0: (3, 13), 1: (4, 7), 3: (9, 16), 6: (20, 1), 8: (24, 22), 9: (25, 23), 31: (64, 12)}, {}, {2: (8, 32), 4: (17, 50), 5: (18, 78), 7: (21, 57), 10: (28, 5), 12: (33, 15), 13: (36, 69), 14: (37, 77), 15: (39, 11), 17: (47, 19), 18: (48, 6), 19: (49, 72), 20: (51, 68), 21: (52, 27), 22: (53, 45), 23: (54, 60), 24: (55, 67), 25: (56, 2), 26: (58, 10), 27: (59, 14), 28: (61, 44), 30: (63, 70), 32: (65, 46), 33: (66, 79), 34: (71, 41), 35: (73, 42), 36: (74, 43), 37: (75, 34), 38: (76, 30), 39: (80, 26)}]\n----------------Instance name: pdp_instances/GOO/doing/goo11.csv-----------------------------------\n processing time --- 0.3279886245727539 seconds ---\n#################### Round :1 ############################\n"
     ]
    },
    {
     "name": "stdout",
     "output_type": "stream",
     "text": [
      "#################### Round :1 ############################\n"
     ]
    },
    {
     "name": "stdout",
     "output_type": "stream",
     "text": [
      "#################### Round :1 ############################\n"
     ]
    },
    {
     "name": "stdout",
     "output_type": "stream",
     "text": [
      "[[[0, [29, 16, 11], [62, 40, 29, 38, 35, 31]]], [], [[1, [31, 3, 6, 1], [64, 20, 9, 4, 1, 16, 12, 7]], [0, [9, 8, 0], [3, 13, 25, 23, 24, 22]]], [], [[3, [30, 18], [48, 63, 6, 70]], [5, [26, 7, 28, 19, 33, 22], [58, 53, 66, 10, 61, 79, 49, 45, 44, 21, 72, 57]], [0, [], []], [2, [36, 32, 17, 39, 5, 24, 13, 25, 4], [74, 65, 80, 46, 43, 47, 36, 26, 19, 18, 17, 55, 69, 56, 78, 67, 2, 50]], [1, [35, 14, 10, 15, 34, 37, 38], [39, 37, 28, 11, 5, 76, 77, 75, 73, 71, 34, 30, 42, 41]], [4, [27, 23, 21, 2, 20, 12], [54, 51, 60, 59, 52, 68, 8, 33, 32, 27, 14, 15]]]]\n#################### Round :2 ############################\n"
     ]
    },
    {
     "name": "stdout",
     "output_type": "stream",
     "text": [
      "#################### Round :2 ############################\n"
     ]
    },
    {
     "name": "stdout",
     "output_type": "stream",
     "text": [
      "#################### Round :2 ############################\n"
     ]
    },
    {
     "name": "stdout",
     "output_type": "stream",
     "text": [
      "[[[1, [11, 29, 16], [62, 40, 29, 38, 35, 31]], [0, [], []]], [], [[2, [], []], [0, [0, 8, 9], [3, 13, 25, 23, 24, 22]], [1, [1, 3, 6, 31], [64, 20, 9, 4, 1, 16, 12, 7]]], [], [[0, [], []], [5, [14, 10, 15, 20, 30], [39, 37, 28, 11, 63, 5, 51, 77, 70, 68]], [4, [17, 13, 33, 24, 32, 36], [74, 66, 65, 79, 47, 46, 43, 36, 19, 55, 69, 67]], [7, [28, 22, 39, 19, 5], [53, 80, 61, 26, 18, 49, 45, 44, 72, 78]], [2, [27, 23, 37, 38, 12, 7, 4], [54, 76, 75, 60, 59, 34, 33, 30, 14, 21, 17, 15, 50, 57]], [3, [18, 26, 21, 34, 35, 2, 25], [58, 48, 10, 6, 8, 52, 73, 56, 71, 42, 32, 27, 2, 41]]]]\n"
     ]
    },
    {
     "name": "stdout",
     "output_type": "stream",
     "text": [
      "[{19: (32, 46), 20: (33, 45), 23: (38, 40), 27: (49, 28), 33: (62, 39)}, {}, {0: (1, 59), 1: (2, 5), 2: (3, 63), 3: (4, 79), 4: (6, 41), 5: (7, 9), 6: (10, 69), 7: (11, 25), 8: (12, 74), 9: (14, 50), 10: (17, 60), 11: (18, 34), 12: (22, 21), 13: (23, 13), 14: (24, 77), 15: (26, 36), 16: (27, 42), 17: (29, 19), 18: (30, 64), 21: (35, 72), 22: (37, 55), 24: (43, 75), 25: (47, 58), 26: (48, 73), 28: (53, 65), 29: (54, 78), 31: (57, 8), 32: (61, 31), 34: (66, 16), 35: (68, 44), 36: (70, 15), 37: (71, 51), 38: (76, 52), 39: (80, 20)}, {}, {30: (56, 67)}]\n----------------Instance name: pdp_instances/GOO/doing/goo12.csv-----------------------------------\n processing time --- 0.3479888439178467 seconds ---\n#################### Round :1 ############################\n"
     ]
    },
    {
     "name": "stdout",
     "output_type": "stream",
     "text": [
      "#################### Round :1 ############################\n"
     ]
    },
    {
     "name": "stdout",
     "output_type": "stream",
     "text": [
      "#################### Round :1 ############################\n"
     ]
    },
    {
     "name": "stdout",
     "output_type": "stream",
     "text": [
      "[[[1, [33, 27, 19], [62, 49, 39, 32, 28, 46]], [0, [23, 20], [38, 33, 45, 40]]], [], [[7, [6, 7, 31, 1, 37, 29, 35, 39], [10, 54, 71, 69, 68, 57, 78, 51, 80, 44, 8, 2, 20, 11, 5, 25]], [1, [2, 5], [3, 7, 63, 9]], [0, [14, 9, 8, 38], [24, 14, 12, 50, 77, 76, 74, 52]], [6, [], []], [5, [25, 13, 24, 26, 0, 10], [23, 47, 43, 13, 75, 58, 48, 17, 1, 59, 60, 73]], [2, [11, 22, 21, 34, 36, 28], [18, 34, 37, 35, 55, 53, 70, 72, 66, 65, 16, 15]], [4, [32, 4, 3], [4, 6, 61, 79, 41, 31]], [3, [16, 15, 18, 17, 12], [27, 22, 26, 42, 29, 36, 30, 21, 19, 64]], [8, [], []]], [], [[0, [30], [56, 67]]]]\n#################### Round :2 ############################\n"
     ]
    },
    {
     "name": "stdout",
     "output_type": "stream",
     "text": [
      "#################### Round :2 ############################\n"
     ]
    },
    {
     "name": "stdout",
     "output_type": "stream",
     "text": [
      "#################### Round :2 ############################\n"
     ]
    },
    {
     "name": "stdout",
     "output_type": "stream",
     "text": [
      "[[[1, [33, 27, 19], [62, 49, 39, 32, 28, 46]], [0, [23, 20], [38, 33, 45, 40]]], [], [[2, [], []], [7, [2, 3, 32, 4], [3, 4, 63, 6, 61, 79, 41, 31]], [8, [8, 14, 38, 13, 9], [24, 23, 14, 13, 12, 50, 77, 76, 74, 52]], [3, [21, 39, 36, 35, 10, 0], [68, 80, 35, 44, 20, 17, 1, 70, 72, 60, 59, 15]], [0, [25, 22, 28, 34], [47, 37, 58, 55, 53, 66, 65, 16]], [1, [6, 29, 31, 1, 37, 5], [10, 54, 71, 69, 57, 78, 51, 7, 2, 8, 9, 5]], [9, [15, 12, 17, 18, 7], [26, 22, 29, 36, 30, 19, 11, 21, 25, 64]], [6, [11, 24, 16, 26], [18, 27, 34, 43, 42, 48, 75, 73]]], [], [[0, [30], [56, 67]]]]\n"
     ]
    }
   ],
   "source": [
    "path = 'pdp_instances/GOO/doing/'\n",
    "FILENAMES = next(os.walk(path))[2]\n",
    "\n",
    "all_results = []\n",
    "\n",
    "for name in FILENAMES:\n",
    "    filepath = path + name\n",
    "    results = solve_and_print(filepath)\n",
    "    solutions,distances,cal_times = mean_results(results)\n",
    "    all_results.append((solutions,distances,cal_times))"
   ]
  },
  {
   "cell_type": "markdown",
   "metadata": {},
   "source": [
    "# The GOO Instances"
   ]
  },
  {
   "cell_type": "markdown",
   "metadata": {},
   "source": [
    "# Average list by columns"
   ]
  },
  {
   "cell_type": "code",
   "execution_count": 57,
   "metadata": {},
   "outputs": [],
   "source": [
    "def count_num_vehicle(solutions):\n",
    "    nums = []\n",
    "    for sol in solutions:\n",
    "        sol = [x for x in sol if len(x[1])>0]\n",
    "        nums.append(len(sol))\n",
    "    return nums"
   ]
  },
  {
   "cell_type": "code",
   "execution_count": 58,
   "metadata": {},
   "outputs": [],
   "source": [
    ""
   ]
  },
  {
   "cell_type": "code",
   "execution_count": 58,
   "metadata": {},
   "outputs": [],
   "source": [
    ""
   ]
  },
  {
   "cell_type": "code",
   "execution_count": 58,
   "metadata": {},
   "outputs": [],
   "source": [
    "# res =results[0]\n",
    "# SOL,DIST,CT = res[0],res[1],res[2]\n"
   ]
  },
  {
   "cell_type": "code",
   "execution_count": 59,
   "metadata": {},
   "outputs": [],
   "source": [
    ""
   ]
  },
  {
   "cell_type": "code",
   "execution_count": 59,
   "metadata": {},
   "outputs": [],
   "source": [
    "# worst_sol,distance_worst = create_worst_case('pdp_instances/GOO/goo12.csv')\n",
    "# distance_worst"
   ]
  },
  {
   "cell_type": "code",
   "execution_count": 60,
   "metadata": {},
   "outputs": [],
   "source": [
    "# SOL[2]\n",
    "# count_num_vehicle([worst_sol])"
   ]
  },
  {
   "cell_type": "markdown",
   "metadata": {},
   "source": [
    "# Writing to CSV"
   ]
  },
  {
   "cell_type": "code",
   "execution_count": 61,
   "metadata": {},
   "outputs": [],
   "source": [
    "solutions,distances,cal_times = mean_results(all_results)\n",
    "dist = [dist for _,dist,_ in all_results]\n",
    "dist = np.array(dist)\n",
    "df = pd.DataFrame(dist)\n",
    "df.to_csv('distances_goo-vote.csv')\n",
    "CT = [ct for _,_,ct in all_results]\n",
    "CT = np.array(CT)\n",
    "df_CT = pd.DataFrame(CT)\n",
    "df_CT.to_csv('CT_goo-vote.csv')"
   ]
  },
  {
   "cell_type": "markdown",
   "metadata": {},
   "source": [
    "# Average list by columns"
   ]
  },
  {
   "cell_type": "code",
   "execution_count": 62,
   "metadata": {},
   "outputs": [],
   "source": [
    "def count_num_vehicle(solutions):\n",
    "    nums = []\n",
    "    for sol in solutions:\n",
    "        sol = [x for x in sol if len(x[1])>0]\n",
    "        nums.append(len(sol))\n",
    "    return nums"
   ]
  },
  {
   "cell_type": "code",
   "execution_count": 63,
   "metadata": {},
   "outputs": [],
   "source": [
    "\n",
    "# worst_sol"
   ]
  },
  {
   "cell_type": "code",
   "execution_count": 64,
   "metadata": {},
   "outputs": [],
   "source": [
    "def avg_table(table):\n",
    "    transposed = zip(*table)\n",
    "    avg = lambda items: float(sum(items)) / len(items)\n",
    "    averages = map(avg, transposed)\n",
    "    averages = list(averages)\n",
    "    return  averages"
   ]
  },
  {
   "cell_type": "code",
   "execution_count": 65,
   "metadata": {},
   "outputs": [
    {
     "name": "stdout",
     "output_type": "stream",
     "text": [
      "[1.0, 1.0, 8.5, 1.0, 1.0]\n[3.0, 5.0, 2.0, 0.0, 1.0]\n[2.0, 0.0, 6.0, 1.0, 0.0]\n[1.0, 5.0, 2.0, 0.0, 0.0]\n[2.0, 1.0, 6.0, 0.0, 1.0]\n[7.0, 0.0, 2.0, 0.0, 0.0]\n[1.0, 0.0, 5.0, 0.0, 2.0]\n[2.0, 0.0, 5.5, 0.0, 1.0]\n[1.0, 0.0, 5.5, 1.0, 0.0]\n[6.0, 0.0, 2.0, 0.0, 1.0]\n[1.0, 0.0, 2.0, 0.0, 5.0]\n[2.0, 0.0, 7.0, 0.0, 1.0]\n"
     ]
    }
   ],
   "source": [
    "# for sol in solutions:\n",
    "num_vehicles  = []\n",
    "i = 0\n",
    "for res in all_results:\n",
    "    solutions = res[0]\n",
    "    arr_temp = []\n",
    "    for sol in solutions:\n",
    "        num_temp = count_num_vehicle(sol)\n",
    "        arr_temp.append(num_temp)\n",
    "    avg_temp = avg_table(arr_temp)\n",
    "    print(avg_temp)\n",
    "    num_vehicles.append(avg_temp)\n",
    "\n",
    "num_vehicles = np.array(num_vehicles)\n",
    "df_num_vehicles = pd.DataFrame(num_vehicles)\n",
    "df_num_vehicles.to_csv('num_veh_goo.csv')"
   ]
  },
  {
   "cell_type": "code",
   "execution_count": 66,
   "metadata": {},
   "outputs": [
    {
     "ename": "IndentationError",
     "evalue": "unexpected indent (<ipython-input-66-06f82f746798>, line 2)",
     "traceback": [
      "\u001b[0;36m  File \u001b[0;32m\"<ipython-input-66-06f82f746798>\"\u001b[0;36m, line \u001b[0;32m2\u001b[0m\n\u001b[0;31m    [0,[26,22,20,17],[54,46,44,36,39,70,78,72]]]])]\u001b[0m\n\u001b[0m    ^\u001b[0m\n\u001b[0;31mIndentationError\u001b[0m\u001b[0;31m:\u001b[0m unexpected indent\n"
     ],
     "output_type": "error"
    }
   ],
   "source": [
    "# results = [([[[2,[16,19],[41,37,34,22]],[1,[13,4,6],[15,31,43,18,48,42]],[0,[15],[35,49]]],[[1,[39,25,24],[52,51,80,21,5,10]],[0,[38],[79,61]]],[[2,[23,7,21],[19,47,45,50,53,25]],[5,[12,31,18],[62,40,30,23,20,13]],[3,[2,32,14,11,27,10,33],[32,7,4,29,33,63,55,77,69,28,27,64,71,65]],[1,[],[]],[0,[34,9,8,0],[3,26,24,68,67,66,2,14]],[4,[3,5],[9,16,12,11]]],[[0,[30],[60,58]]],[[3,[37,35,36],[74,75,73,76,17,8]],[2,[],[]],[1,[29,28,1],[56,57,38,1,6,59]],\n",
    "                                                                                                                                                                                                                                                                                                                                                                                       [0,[26,22,20,17],[54,46,44,36,39,70,78,72]]]])]"
   ]
  },
  {
   "cell_type": "code",
   "execution_count": 45,
   "metadata": {},
   "outputs": [],
   "source": [
    "# res = results[0]"
   ]
  },
  {
   "cell_type": "code",
   "execution_count": 19,
   "metadata": {},
   "outputs": [],
   "source": [
    "# all_results"
   ]
  },
  {
   "cell_type": "code",
   "execution_count": 20,
   "metadata": {},
   "outputs": [],
   "source": [
    "# \n",
    "# num_vehicles = np.array(num_vehicles)\n",
    "# df_num_vehicles = pd.DataFrame(num_vehicles)\n",
    "# df_num_vehicles.to_csv('num_veh_goo.csv')"
   ]
  },
  {
   "cell_type": "code",
   "execution_count": 21,
   "metadata": {},
   "outputs": [],
   "source": [
    ""
   ]
  },
  {
   "cell_type": "code",
   "execution_count": 21,
   "metadata": {},
   "outputs": [],
   "source": [
    ""
   ]
  },
  {
   "cell_type": "code",
   "execution_count": 26,
   "metadata": {},
   "outputs": [],
   "source": [
    ""
   ]
  },
  {
   "cell_type": "code",
   "execution_count": 27,
   "metadata": {},
   "outputs": [],
   "source": [
    ""
   ]
  },
  {
   "cell_type": "code",
   "execution_count": 28,
   "metadata": {},
   "outputs": [],
   "source": [
    ""
   ]
  },
  {
   "cell_type": "code",
   "execution_count": 78,
   "metadata": {},
   "outputs": [],
   "source": [
    ""
   ]
  },
  {
   "cell_type": "code",
   "execution_count": null,
   "metadata": {},
   "outputs": [
    {
     "name": "stdout",
     "output_type": "stream",
     "text": [
      "[{4: (15, 43), 6: (18, 42), 12: (30, 23), 13: (31, 48), 14: (32, 4), 15: (35, 49), 16: (37, 22), 18: (40, 13), 19: (41, 34), 21: (45, 25), 23: (47, 50), 31: (62, 20)}, {24: (51, 5), 25: (52, 21), 38: (79, 61), 39: (80, 10)}, {0: (3, 66), 1: (6, 59), 2: (7, 33), 3: (9, 12), 5: (16, 11), 7: (19, 53), 8: (24, 2), 9: (26, 68), 10: (28, 71), 11: (29, 69), 27: (55, 27), 32: (63, 77), 33: (64, 65), 34: (67, 14)}, {}, {17: (39, 72), 20: (44, 78), 22: (46, 70), 26: (54, 36), 28: (56, 38), 29: (57, 1), 30: (60, 58), 35: (74, 73), 36: (75, 17), 37: (76, 8)}]\n----------------Instance name: pdp_instances/GOO/doing/goo1.csv-----------------------------------\n processing time --- 0.3400437831878662 seconds ---\n#################### Round :1 ############################\n"
     ]
    },
    {
     "name": "stdout",
     "output_type": "stream",
     "text": [
      "#################### Round :1 ############################\n"
     ]
    },
    {
     "name": "stdout",
     "output_type": "stream",
     "text": [
      "#################### Round :1 ############################\n"
     ]
    },
    {
     "name": "stdout",
     "output_type": "stream",
     "text": [
      "#################### Round :1 ############################\n"
     ]
    },
    {
     "name": "stdout",
     "output_type": "stream",
     "text": [
      "[[[3, [31, 6, 12, 23, 18], [62, 47, 40, 30, 23, 20, 18, 13, 50, 42]], [1, [15], [35, 49]], [0, [], []], [2, [16, 19, 14, 4, 13, 21], [32, 15, 4, 31, 41, 43, 48, 45, 37, 34, 22, 25]]], [[1, [38], [79, 61]], [0, [39, 25, 24], [52, 51, 80, 21, 5, 10]]], [[4, [34, 9, 8, 0], [3, 26, 24, 68, 67, 66, 2, 14]], [3, [1, 7], [6, 19, 59, 53]], [0, [32, 11, 10, 2, 27, 33], [7, 29, 33, 63, 55, 77, 69, 28, 27, 64, 71, 65]], [1, [5, 3], [9, 16, 12, 11]]], [], [[3, [37, 35, 36], [74, 75, 73, 76, 17, 8]], [2, [29, 28], [56, 57, 38, 1]], [1, [30], [60, 58]], [0, [20, 22, 17, 26], [54, 46, 44, 36, 39, 70, 78, 72]]]]\n#################### Round :2 ############################\n"
     ]
    },
    {
     "name": "stdout",
     "output_type": "stream",
     "text": [
      "#################### Round :2 ############################\n"
     ]
    },
    {
     "name": "stdout",
     "output_type": "stream",
     "text": [
      "#################### Round :2 ############################\n"
     ]
    },
    {
     "name": "stdout",
     "output_type": "stream",
     "text": [
      "#################### Round :2 ############################\n"
     ]
    },
    {
     "name": "stdout",
     "output_type": "stream",
     "text": [
      "[[[2, [31, 23, 18, 12, 6], [62, 47, 40, 30, 23, 20, 18, 13, 50, 42]], [1, [19, 21, 16, 4, 13, 14], [32, 15, 4, 31, 41, 43, 48, 45, 37, 34, 22, 25]], [0, [15], [35, 49]]], [[1, [39, 25, 24], [52, 51, 80, 21, 5, 10]], [0, [38], [79, 61]]], [[4, [32, 27, 10, 2, 11, 33], [7, 29, 33, 63, 55, 77, 69, 28, 27, 64, 71, 65]], [1, [5, 3], [9, 16, 12, 11]], [3, [1, 7], [6, 19, 59, 53]], [0, [8, 9, 0, 34], [3, 26, 24, 68, 67, 66, 2, 14]]], [], [[3, [37, 35, 36], [74, 75, 73, 76, 17, 8]], [2, [30], [60, 58]], [1, [29, 28], [56, 57, 38, 1]], [0, [26, 20, 17, 22], [54, 46, 44, 36, 39, 70, 78, 72]]]]\n#################### Round :3 ############################\n"
     ]
    },
    {
     "name": "stdout",
     "output_type": "stream",
     "text": [
      "#################### Round :3 ############################\n"
     ]
    },
    {
     "name": "stdout",
     "output_type": "stream",
     "text": [
      "#################### Round :3 ############################\n"
     ]
    },
    {
     "name": "stdout",
     "output_type": "stream",
     "text": [
      "#################### Round :3 ############################\n"
     ]
    },
    {
     "name": "stdout",
     "output_type": "stream",
     "text": [
      "[[[2, [31, 12, 23, 6, 18], [62, 47, 40, 30, 23, 20, 18, 13, 50, 42]], [1, [15], [35, 49]], [0, [19, 21, 4, 16, 14, 13], [32, 15, 4, 31, 41, 43, 48, 45, 37, 34, 22, 25]]], [[1, [38], [79, 61]], [0, [39, 25, 24], [52, 51, 80, 21, 5, 10]]], [[5, [9, 34, 0, 8], [3, 26, 24, 68, 67, 66, 2, 14]], [1, [1, 7], [6, 19, 59, 53]], [3, [5, 3], [9, 16, 12, 11]], [2, [32, 2, 27, 11, 10, 33], [7, 29, 33, 63, 55, 77, 69, 28, 27, 64, 71, 65]], [0, [], []]], [], [[0, [22, 28, 17, 20], [56, 38, 44, 46, 39, 70, 78, 72]], [1, [37, 26, 35, 29, 36], [57, 74, 1, 54, 75, 73, 76, 36, 17, 8]], [2, [30], [60, 58]]]]\n#################### Round :4 ############################\n"
     ]
    },
    {
     "name": "stdout",
     "output_type": "stream",
     "text": [
      "#################### Round :4 ############################\n"
     ]
    },
    {
     "name": "stdout",
     "output_type": "stream",
     "text": [
      "#################### Round :4 ############################\n"
     ]
    },
    {
     "name": "stdout",
     "output_type": "stream",
     "text": [
      "#################### Round :4 ############################\n"
     ]
    },
    {
     "name": "stdout",
     "output_type": "stream",
     "text": [
      "[[[2, [31, 23, 18, 12, 6], [62, 47, 40, 30, 23, 20, 18, 13, 50, 42]], [1, [15], [35, 49]], [0, [14, 4, 13, 19, 16, 21], [32, 15, 4, 31, 41, 43, 48, 45, 37, 34, 22, 25]]], [[1, [39, 24, 25], [52, 51, 80, 21, 5, 10]], [0, [38], [79, 61]]], [[2, [5, 3], [9, 16, 12, 11]], [1, [11, 32, 2, 10, 27, 33], [7, 29, 33, 63, 55, 77, 69, 28, 27, 64, 71, 65]], [3, [1, 7], [6, 19, 59, 53]], [0, [34, 9, 8, 0], [3, 26, 24, 68, 67, 66, 2, 14]]], [], [[3, [37, 35, 36], [74, 75, 73, 76, 17, 8]], [2, [30], [60, 58]], [1, [29, 28], [56, 57, 38, 1]], [0, [26, 22, 20, 17], [54, 46, 44, 36, 39, 70, 78, 72]]]]\n#################### Round :5 ############################\n"
     ]
    },
    {
     "name": "stdout",
     "output_type": "stream",
     "text": [
      "#################### Round :5 ############################\n"
     ]
    },
    {
     "name": "stdout",
     "output_type": "stream",
     "text": [
      "#################### Round :5 ############################\n"
     ]
    },
    {
     "name": "stdout",
     "output_type": "stream",
     "text": [
      "#################### Round :5 ############################\n"
     ]
    }
   ],
   "source": [
    "## Run\n",
    "path = 'pdp_instances/GOO/doing/'\n",
    "FILENAMES = next(os.walk(path))[2]\n",
    "\n",
    "all_results = []\n",
    "\n",
    "for name in FILENAMES:\n",
    "    filepath = path + name\n",
    "    results = solve_and_print(filepath)\n",
    "    solutions,distances,cal_times = mean_results(results)\n",
    "    all_results.append((solutions,distances,cal_times))\n",
    "    \n",
    "# count veh\n",
    "def count_num_vehicle(solutions):\n",
    "    nums = []\n",
    "    for sol in solutions:\n",
    "        sol = [x for x in sol if len(x[1])>0]\n",
    "        nums.append(len(sol))\n",
    "    return nums\n",
    "\n",
    "solutions,distances,cal_times = mean_results(all_results)\n",
    "dist = [dist for _,dist,_ in all_results]\n",
    "dist = np.array(dist)\n",
    "df = pd.DataFrame(dist)\n",
    "df.to_csv('distances_goo-3-vote.csv')\n",
    "CT = [ct for _,_,ct in all_results]\n",
    "CT = np.array(CT)\n",
    "df_CT = pd.DataFrame(CT)\n",
    "df_CT.to_csv('CT_goo-2-vote.csv')\n",
    "\n",
    "def avg_table(table):\n",
    "    transposed = zip(*table)\n",
    "    avg = lambda items: float(sum(items)) / len(items)\n",
    "    averages = map(avg, transposed)\n",
    "    averages = list(averages)\n",
    "    return  averages\n",
    "\n",
    "# for sol in solutions:\n",
    "num_vehicles  = []\n",
    "i = 0\n",
    "for res in all_results:\n",
    "    solutions = res[0]\n",
    "    arr_temp = []\n",
    "    for sol in solutions:\n",
    "        num_temp = count_num_vehicle(sol)\n",
    "        arr_temp.append(num_temp)\n",
    "    avg_temp = avg_table(arr_temp)\n",
    "    print(avg_temp)\n",
    "    num_vehicles.append(avg_temp)\n",
    "\n",
    "num_vehicles = np.array(num_vehicles)\n",
    "df_num_vehicles = pd.DataFrame(num_vehicles)\n",
    "df_num_vehicles.to_csv('num_veh_3-vote.csv')"
   ]
  },
  {
   "cell_type": "code",
   "execution_count": 80,
   "metadata": {},
   "outputs": [],
   "source": [
    ""
   ]
  },
  {
   "cell_type": "code",
   "execution_count": 81,
   "metadata": {},
   "outputs": [
    {
     "data": {
      "text/plain": [
       "{(1, 2),\n (3, 35),\n (4, 64),\n (8, 13),\n (12, 24),\n (20, 17),\n (23, 41),\n (25, 16),\n (63, 50),\n (65, 21),\n (66, 46),\n (70, 6),\n (72, 28)}"
      ]
     },
     "execution_count": 81,
     "metadata": {},
     "output_type": "execute_result"
    }
   ],
   "source": [
    ""
   ]
  },
  {
   "cell_type": "code",
   "execution_count": 82,
   "metadata": {},
   "outputs": [],
   "source": [
    "worst_sol2 = [ x for x in worst_sol if tuple(x[2]) in s]"
   ]
  },
  {
   "cell_type": "code",
   "execution_count": 83,
   "metadata": {},
   "outputs": [
    {
     "data": {
      "text/plain": [
       "[]"
      ]
     },
     "execution_count": 83,
     "metadata": {},
     "output_type": "execute_result"
    }
   ],
   "source": [
    "worst_sol2"
   ]
  },
  {
   "cell_type": "code",
   "execution_count": 84,
   "metadata": {},
   "outputs": [],
   "source": []
  },
  {
   "cell_type": "code",
   "execution_count": 84,
   "metadata": {},
   "outputs": [],
   "source": []
  },
  {
   "cell_type": "code",
   "execution_count": 84,
   "metadata": {},
   "outputs": [],
   "source": []
  },
  {
   "cell_type": "code",
   "execution_count": 84,
   "metadata": {},
   "outputs": [],
   "source": []
  },
  {
   "cell_type": "code",
   "execution_count": 4,
   "metadata": {},
   "outputs": [],
   "source": [
    "filepath = 'pdp_instances/GOO/goo01.csv'\n",
    "\n",
    "process_time = time.time()\n",
    "numVehicles, LoadCapacities, speed, data = proc.load_file(filepath)\n",
    "LOCATIONS = data[0]\n",
    "DEMANDS = data[1]\n",
    "timeWindows = data[2]\n",
    "serviceTimes = data[3]\n",
    "pickupSiblings = data[4]\n",
    "deliverySiblings = data[5]\n",
    "requestType = data[6]\n",
    "REQUESTS = proc.generate_request(pickupSiblings, deliverySiblings, requestType)\n",
    "DISTANCES = proc.createDistanceTable('real_map/DISTANCES.csv')\n",
    "DURATIONS = proc.createDurationTable('real_map/DURATIONS.csv')\n",
    "DEPOTS = proc.create_depots('real_map/depots.csv')\n",
    "DISTANCES_FROM_DEPOTS = proc.distances_from_depots('real_map/DISTANCES_FROM_DEPOTS.csv')\n",
    "DISTANCES_TO_DEPOTS = proc.distances_to_depots('real_map/DISTANCES_TO_DEPOTS.csv')\n",
    "# DEPOT_NUMBERS = proc.simple_assign_depots(REQUESTS, LOCATIONS, DEPOTS, DISTANCES_FROM_DEPOTS, DISTANCES_TO_DEPOTS)\n",
    "# DEPOT_NUMBERS = proc.worse2worst_assign_depots(REQUESTS, timeWindows,DISTANCES,DURATIONS,DEPOTS,DISTANCES_FROM_DEPOTS, DISTANCES_TO_DEPOTS)\n",
    "# DEPOT_NUMBERS = proc.vote_assign_depots(REQUESTS, timeWindows, DISTANCES, DURATIONS, DEPOTS, DISTANCES_FROM_DEPOTS, DISTANCES_TO_DEPOTS,k=3)\n",
    "DEPOT_NUMBERS = proc.final_assign_depots(REQUESTS, timeWindows, DISTANCES, DURATIONS, DEPOTS, DISTANCES_FROM_DEPOTS,DISTANCES_TO_DEPOTS,k=3)\n",
    "REQ_BY_DEPOTS = proc.requests_by_depots(DEPOTS, REQUESTS, DEPOT_NUMBERS)"
   ]
  },
  {
   "cell_type": "code",
   "execution_count": 43,
   "metadata": {},
   "outputs": [],
   "source": [
    "def analyze_Goo(filepath):\n",
    "    process_time = time.time()\n",
    "    numVehicles, LoadCapacities, speed, data = proc.load_file(filepath)\n",
    "    LOCATIONS = data[0]\n",
    "    DEMANDS = data[1]\n",
    "    timeWindows = data[2]\n",
    "    serviceTimes = data[3]\n",
    "    pickupSiblings = data[4]\n",
    "    deliverySiblings = data[5]\n",
    "    requestType = data[6]\n",
    "    REQUESTS = proc.generate_request(pickupSiblings, deliverySiblings, requestType)\n",
    "    DISTANCES = proc.createDistanceTable('real_map/DISTANCES.csv')\n",
    "    DURATIONS = proc.createDurationTable('real_map/DURATIONS.csv')\n",
    "    DEPOTS = proc.create_depots('real_map/depots.csv')\n",
    "    DISTANCES_FROM_DEPOTS = proc.distances_from_depots('real_map/DISTANCES_FROM_DEPOTS.csv')\n",
    "    DISTANCES_TO_DEPOTS = proc.distances_to_depots('real_map/DISTANCES_TO_DEPOTS.csv')\n",
    "    DEPOT_NUMBERS = proc.final_assign_depots(REQUESTS, timeWindows, DISTANCES, DURATIONS, DEPOTS, DISTANCES_FROM_DEPOTS,DISTANCES_TO_DEPOTS,k=3)\n",
    "    REQ_BY_DEPOTS = proc.requests_by_depots(DEPOTS, REQUESTS, DEPOT_NUMBERS)\n",
    "    columns = ['pickup','delivery', 'distance_between_nodes','distance_from_depot_to_pickup','distance_from_delivery_to_depot']\n",
    "    df = pd.DataFrame(columns=columns)\n",
    "    lst = []\n",
    "    for i in range(len(REQUESTS)):\n",
    "        dep = int(DEPOT_NUMBERS[i])\n",
    "        req= REQUESTS[i]\n",
    "        pickup = int(req[0])\n",
    "        delivery = int(req[1])\n",
    "        distance = DISTANCES[pickup][delivery]\n",
    "        dist_from_dep = DISTANCES_FROM_DEPOTS[dep][pickup]\n",
    "        dist_to_dep = DISTANCES_TO_DEPOTS[delivery][dep] \n",
    "        lst.append([pickup,delivery,distance,dist_from_dep,dist_to_dep])\n",
    "        df = pd.DataFrame(lst, columns=columns)\n",
    "    num_file = filepath.split('o')[-1].split('.')[0]\n",
    "    df.to_csv('ana/analyzed'+str(num_file)+'.csv')\n",
    "    print('wrtote file:' + num_file)\n",
    "    return df"
   ]
  },
  {
   "cell_type": "code",
   "execution_count": 44,
   "metadata": {},
   "outputs": [
    {
     "name": "stdout",
     "output_type": "stream",
     "text": [
      "wrtote file:01\n"
     ]
    }
   ],
   "source": [
    "df = analyze_Goo('pdp_instances/GOO/goo01.csv')"
   ]
  },
  {
   "cell_type": "code",
   "execution_count": 45,
   "metadata": {},
   "outputs": [
    {
     "name": "stdout",
     "output_type": "stream",
     "text": [
      "wrtote file:01\n"
     ]
    },
    {
     "name": "stdout",
     "output_type": "stream",
     "text": [
      "wrtote file:02\n"
     ]
    },
    {
     "name": "stdout",
     "output_type": "stream",
     "text": [
      "wrtote file:03\n"
     ]
    },
    {
     "name": "stdout",
     "output_type": "stream",
     "text": [
      "wrtote file:04\n"
     ]
    },
    {
     "name": "stdout",
     "output_type": "stream",
     "text": [
      "wrtote file:05\n"
     ]
    },
    {
     "name": "stdout",
     "output_type": "stream",
     "text": [
      "wrtote file:06\n"
     ]
    },
    {
     "name": "stdout",
     "output_type": "stream",
     "text": [
      "wrtote file:07\n"
     ]
    },
    {
     "name": "stdout",
     "output_type": "stream",
     "text": [
      "wrtote file:08\n"
     ]
    },
    {
     "name": "stdout",
     "output_type": "stream",
     "text": [
      "wrtote file:09\n"
     ]
    },
    {
     "name": "stdout",
     "output_type": "stream",
     "text": [
      "wrtote file:10\n"
     ]
    },
    {
     "name": "stdout",
     "output_type": "stream",
     "text": [
      "wrtote file:11\n"
     ]
    },
    {
     "name": "stdout",
     "output_type": "stream",
     "text": [
      "wrtote file:12\n"
     ]
    }
   ],
   "source": [
    "path = 'pdp_instances/GOO/doing/'\n",
    "FILENAMES = next(os.walk(path))[2]\n",
    "\n",
    "all_results = []\n",
    "\n",
    "for name in FILENAMES:\n",
    "    filepath = path + name\n",
    "    analyze_Goo(filepath)\n"
   ]
  },
  {
   "cell_type": "code",
   "execution_count": 84,
   "metadata": {},
   "outputs": [],
   "source": []
  },
  {
   "cell_type": "code",
   "execution_count": null,
   "metadata": {},
   "outputs": [],
   "source": []
  }
 ],
 "metadata": {
  "kernelspec": {
   "display_name": "Python 2",
   "language": "python",
   "name": "python2"
  },
  "language_info": {
   "codemirror_mode": {
    "name": "ipython",
    "version": 2
   },
   "file_extension": ".py",
   "mimetype": "text/x-python",
   "name": "python",
   "nbconvert_exporter": "python",
   "pygments_lexer": "ipython2",
   "version": "2.7.6"
  }
 },
 "nbformat": 4,
 "nbformat_minor": 0
}
