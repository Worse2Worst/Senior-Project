{
 "cells": [
  {
   "cell_type": "code",
   "execution_count": 5,
   "metadata": {
    "collapsed": true
   },
   "outputs": [],
   "source": [
    "import time\n",
    "import random\n",
    "import os\n",
    "import pandas as pd\n",
    "import csv\n",
    "import numpy as np\n",
    "from itertools import chain\n",
    "from pdp_lib import processing_google_map as proc\n",
    "from pdp_lib import util\n",
    "from GA_lib import GA_multi_depot as GA\n",
    "from GA_lib import operation_multi_depot as operation\n",
    "from GA_lib import evaluate_multi_depot as evaluate\n",
    "from statistics import mode"
   ]
  },
  {
   "cell_type": "code",
   "execution_count": 9,
   "metadata": {},
   "outputs": [],
   "source": [
    "def solve_and_print(filepath, rounds = 10, population_size = 100, generations=2000, crossoverRate=1.0, mutationRate=0.5):\n",
    "    process_time = time.time()\n",
    "    numVehicles, LoadCapacities, speed, data = proc.load_file(filepath)\n",
    "    LOCATIONS = data[0]\n",
    "    DEMANDS = data[1]\n",
    "    timeWindows = data[2]\n",
    "    serviceTimes = data[3]\n",
    "    pickupSiblings = data[4]\n",
    "    deliverySiblings = data[5]\n",
    "    requestType = data[6]\n",
    "    REQUESTS = proc.generate_request(pickupSiblings, deliverySiblings, requestType)\n",
    "    DISTANCES = proc.createDistanceTable('real_map/DISTANCES.csv')\n",
    "    DURATIONS = proc.createDurationTable('real_map/DURATIONS.csv')\n",
    "    DEPOTS = proc.create_depots('real_map/depots.csv')\n",
    "    DISTANCES_FROM_DEPOTS = proc.distances_from_depots('real_map/DISTANCES_FROM_DEPOTS.csv')\n",
    "    DISTANCES_TO_DEPOTS = proc.distances_to_depots('real_map/DISTANCES_TO_DEPOTS.csv')\n",
    "    # DEPOT_NUMBERS = proc.simple_assign_depots(REQUESTS, LOCATIONS, DEPOTS, DISTANCES_FROM_DEPOTS, DISTANCES_TO_DEPOTS)\n",
    "    # DEPOT_NUMBERS = proc.worse2worst_assign_depots(REQUESTS, timeWindows,DISTANCES,DURATIONS,DEPOTS,DISTANCES_FROM_DEPOTS, DISTANCES_TO_DEPOTS)\n",
    "    # DEPOT_NUMBERS = proc.vote_assign_depots(REQUESTS, timeWindows, DISTANCES, DURATIONS, DEPOTS, DISTANCES_FROM_DEPOTS, DISTANCES_TO_DEPOTS,k=3)\n",
    "    DEPOT_NUMBERS = proc.final_assign_depots(REQUESTS, timeWindows, DISTANCES, DURATIONS, DEPOTS, DISTANCES_FROM_DEPOTS,DISTANCES_TO_DEPOTS,k=3)\n",
    "    REQ_BY_DEPOTS = proc.requests_by_depots(DEPOTS, REQUESTS, DEPOT_NUMBERS)\n",
    "    print(REQ_BY_DEPOTS)\n",
    "    print('----------------Instance name: ' + str(filepath) + '-----------------------------------')\n",
    "    print(\" processing time --- %s seconds ---\" % (time.time() - process_time))\n",
    "\n",
    "    total_results = []\n",
    "    for round in range(rounds):\n",
    "        results_all_depots = []\n",
    "        distance_all_depots = []\n",
    "        time_all_depots = []\n",
    "        for id_depot in range(len(DEPOTS)):\n",
    "            THIS_DEP_REQS = REQ_BY_DEPOTS[id_depot]\n",
    "            NODES_OF_THIS_DEPOT = proc.locations_of_this_depot(id_depot, REQ_BY_DEPOTS, LOCATIONS)\n",
    "            if(len(NODES_OF_THIS_DEPOT)==0):\n",
    "                results_all_depots.append([])\n",
    "                distance_all_depots.append(0)\n",
    "                time_all_depots.append(0)\n",
    "                continue\n",
    "            # ############### SOLVING THE PROBLEMS !!!!!!!! ######################################\n",
    "            pops_create_time = time.time()\n",
    "            calculation_time = time.time()\n",
    "            print('#################### Round :' +str(round+1)+' ############################')\n",
    "            ## Initialize the populations\n",
    "            populations = []\n",
    "            for _ in range(population_size):\n",
    "                chromosome = GA.initialize_Feasible_chromosome(DISTANCES, DISTANCES_FROM_DEPOTS, DISTANCES_TO_DEPOTS, id_depot, DURATIONS, timeWindows, THIS_DEP_REQS, DEMANDS, LoadCapacities)\n",
    "                populations.append(chromosome)\n",
    "            # print(\"Populations creation time --- %s seconds ---\" % (time.time() - pops_create_time))\n",
    "            ## Crossovers and mutate ##\n",
    "            GA_time = time.time()\n",
    "\n",
    "            ## Evaluate fitnesses of all populations ##\n",
    "            best_fitness_so_far = -99999999\n",
    "            for gen in range(generations):\n",
    "                fitness_table = []\n",
    "                for chromosome in populations:\n",
    "                    fitness_table.append(\n",
    "                        evaluate.chromosomeFitness(chromosome, DISTANCES, DISTANCES_FROM_DEPOTS, DISTANCES_TO_DEPOTS,\n",
    "                                                   id_depot))\n",
    "                populations = [x for _, x in sorted(zip(fitness_table, populations), reverse=True)]\n",
    "                populations.pop()\n",
    "                populations.pop()\n",
    "                elite1 = populations.pop(0)\n",
    "                elite2 = populations.pop(0)\n",
    "\n",
    "\n",
    "                ## Tournament Selection ##\n",
    "                # id1, id2 = random.randrange(0, len(populations)), random.randrange(0, len(populations))\n",
    "                id1,id2,id3,id4 = random.sample(range(0, len(populations)), 4)\n",
    "                fitness1,fitness2,fitness3,fitness4 = fitness_table[id1],fitness_table[id2],fitness_table[id3],fitness_table[id4]\n",
    "                candidate1,candidate2,candidate3,candidate4 = populations[id1], populations[id2],populations[id3],populations[id4]\n",
    "                parent1 = operation.tournament_selection(candidate1,candidate2,fitness1,fitness2)\n",
    "                parent2 = operation.tournament_selection(candidate3,candidate4,fitness3,fitness4)\n",
    "\n",
    "                ## Crossing over !! ####\n",
    "                child1, child2 = operation.crossover(DISTANCES, DURATIONS, timeWindows, THIS_DEP_REQS, parent1, parent2,\n",
    "                                                     DEMANDS, LoadCapacities, DISTANCES_FROM_DEPOTS,\n",
    "                                                     DISTANCES_TO_DEPOTS, id_depot, crossoverRate)\n",
    "                # if(not evaluate.haveEqualNodes(child1,child2,LOCATIONS)):\n",
    "                #         print('note have Equal nodes, Crossover Bug!!!!!'+ str(gen))\n",
    "                #         break\n",
    "                #\n",
    "                ## Mutation ##\n",
    "                child1 = operation.mutate(child1, DISTANCES, DURATIONS, timeWindows, THIS_DEP_REQS, DEMANDS,\n",
    "                                          LoadCapacities, DISTANCES_FROM_DEPOTS, DISTANCES_TO_DEPOTS, id_depot, mutationRate)\n",
    "                child2 = operation.mutate(child2, DISTANCES, DURATIONS, timeWindows, THIS_DEP_REQS, DEMANDS,\n",
    "                                          LoadCapacities, DISTANCES_FROM_DEPOTS, DISTANCES_TO_DEPOTS, id_depot, mutationRate)\n",
    "                if (not evaluate.haveEqualNodes(child1, child2, NODES_OF_THIS_DEPOT)):\n",
    "                    print('note have Equal nodes, Mutation Bug!!!!!' + str(gen))\n",
    "                    break\n",
    "\n",
    "\n",
    "                ## Evaluate Fitness of the best ones ###\n",
    "                current_fitness = evaluate.chromosomeFitness(child1, DISTANCES, DISTANCES_FROM_DEPOTS,\n",
    "                                                             DISTANCES_TO_DEPOTS, id_depot)\n",
    "                current_fitness = max(current_fitness,\n",
    "                                      evaluate.chromosomeFitness(child2, DISTANCES, DISTANCES_FROM_DEPOTS,\n",
    "                                                                 DISTANCES_TO_DEPOTS, id_depot))\n",
    "                current_fitness = max(current_fitness,\n",
    "                                      evaluate.chromosomeFitness(elite1, DISTANCES, DISTANCES_FROM_DEPOTS,\n",
    "                                                                 DISTANCES_TO_DEPOTS, id_depot))\n",
    "                current_fitness = max(current_fitness,\n",
    "                                      evaluate.chromosomeFitness(elite2, DISTANCES, DISTANCES_FROM_DEPOTS,\n",
    "                                                                 DISTANCES_TO_DEPOTS, id_depot))\n",
    "\n",
    "                ## Add them back into populations ###\n",
    "                populations.append(child1)\n",
    "                populations.append(child2)\n",
    "                populations.append(elite1)\n",
    "                populations.append(elite2)\n",
    "\n",
    "                ### Check break conditions ####\n",
    "                if (current_fitness > best_fitness_so_far):\n",
    "                    best_fitness_so_far = current_fitness\n",
    "                    bestFitGen = gen\n",
    "                    # print('#### New Best Fitness !! , Best so far is :' + str(10000.0 / best_fitness_so_far) + '#####')\n",
    "                    # print('#### This Generation: ' + str(gen) + '#######')\n",
    "                if (gen - bestFitGen >= 1000):\n",
    "                    # print('#### Break Generation: ' + str(gen) + '#######')\n",
    "                    break\n",
    "                # print('############# Round-'+str(round+1) +',DEPOT-'+str(id_depot)+','+ 'Generation:' + str(gen + 1) + ' #########################')\n",
    "                # print('This Gen Distance :' + str(10000.0 / current_fitness))\n",
    "\n",
    "            ### Evaluate results of current DEPOT ####\n",
    "            fitness_table = []\n",
    "            for chromosome in populations:\n",
    "                fitness_table.append(\n",
    "                    evaluate.chromosomeFitness(chromosome, DISTANCES, DISTANCES_FROM_DEPOTS, DISTANCES_TO_DEPOTS, id_depot))\n",
    "            populations = [x for _, x in sorted(zip(fitness_table, populations), reverse=True)]\n",
    "            # print(\"GA time --- %s seconds ---\" % (time.time() - GA_time))\n",
    "            best_chromosome = populations[0]\n",
    "            computational_time = time.time() - calculation_time\n",
    "            # print(\"Total Calculation time --- %s seconds ---\" % (computational_time))\n",
    "            distance = evaluate.chromosomeRoutesDistance(best_chromosome,DISTANCES,DISTANCES_FROM_DEPOTS,DISTANCES_TO_DEPOTS,id_depot)\n",
    "            # print('Distances of the best chromosome: ' + str(distance))\n",
    "            # print(best_chromosome)\n",
    "\n",
    "            ## Memo the results ##\n",
    "            results_all_depots.append(best_chromosome)\n",
    "            distance_all_depots.append(distance)\n",
    "            time_all_depots.append(computational_time)\n",
    "        total_results.append((results_all_depots,distance_all_depots,time_all_depots))\n",
    "        print(results_all_depots)\n",
    "    return total_results"
   ]
  },
  {
   "cell_type": "code",
   "execution_count": 11,
   "metadata": {},
   "outputs": [],
   "source": [
    "def mean_results(results):\n",
    "    solutions = []\n",
    "    cal_times = []\n",
    "    distances = []\n",
    "    for round, round_result in enumerate(results):\n",
    "        sol = results[round][0]\n",
    "        dist = results[round][1]\n",
    "        ct = results[round][2]\n",
    "\n",
    "        solutions.append(sol)\n",
    "        distances.append(dist)\n",
    "        cal_times.append(ct)\n",
    "    distances = np.array(distances)\n",
    "    distances = pd.DataFrame(distances)\n",
    "    distances = np.mean(distances, axis=0)\n",
    "    cal_times = np.array(cal_times)\n",
    "    cal_times = pd.DataFrame(cal_times)\n",
    "    cal_times = np.mean(cal_times, axis=0)\n",
    "    return solutions,distances, cal_times\n"
   ]
  },
  {
   "cell_type": "code",
   "execution_count": 12,
   "metadata": {},
   "outputs": [],
   "source": [
    "def create_worst_case(filepath, rounds = 1, population_size = 100, generations=3000, crossoverRate=1.0, mutationRate=0.5):\n",
    "    process_time = time.time()\n",
    "    numVehicles, LoadCapacities, speed, data = proc.load_file(filepath)\n",
    "    LOCATIONS = data[0]\n",
    "    DEMANDS = data[1]\n",
    "    timeWindows = data[2]\n",
    "    serviceTimes = data[3]\n",
    "    pickupSiblings = data[4]\n",
    "    deliverySiblings = data[5]\n",
    "    requestType = data[6]\n",
    "    REQUESTS = proc.generate_request(pickupSiblings, deliverySiblings, requestType)\n",
    "    DISTANCES = proc.createDistanceTable('real_map/DISTANCES.csv')\n",
    "    DURATIONS = proc.createDurationTable('real_map/DURATIONS.csv')\n",
    "    DEPOTS = proc.create_depots('real_map/depots.csv')\n",
    "    DISTANCES_FROM_DEPOTS = proc.distances_from_depots('real_map/DISTANCES_FROM_DEPOTS.csv')\n",
    "    DISTANCES_TO_DEPOTS = proc.distances_to_depots('real_map/DISTANCES_TO_DEPOTS.csv')\n",
    "    DEPOT_NUMBERS = proc.simple_assign_depots(REQUESTS, LOCATIONS, DEPOTS, DISTANCES_FROM_DEPOTS, DISTANCES_TO_DEPOTS)\n",
    "    REQ_BY_DEPOTS = proc.requests_by_depots(DEPOTS, REQUESTS, DEPOT_NUMBERS)\n",
    "    \n",
    "    res = GA.initialize_WorstCase_Chromosome(REQUESTS)\n",
    "    \n",
    "    \n",
    "    dist_worst = 0\n",
    "    for [idx,_,[p,d]] in res:\n",
    "        depot = int(DEPOT_NUMBERS[idx]) \n",
    "        dist_worst += (DISTANCES_FROM_DEPOTS[depot][p]+DISTANCES[p][d]+DISTANCES_TO_DEPOTS[d][depot])\n",
    "\n",
    "    return res,dist_worst"
   ]
  },
  {
   "cell_type": "markdown",
   "metadata": {},
   "source": [
    "# Automated run"
   ]
  },
  {
   "cell_type": "code",
   "execution_count": 25,
   "metadata": {},
   "outputs": [
    {
     "name": "stdout",
     "output_type": "stream",
     "text": [
      "[{13: (31, 48), 15: (35, 49), 19: (41, 34)}, {38: (79, 61)}, {0: (3, 66), 1: (6, 59), 2: (7, 33), 3: (9, 12), 4: (15, 43), 5: (16, 11), 6: (18, 42), 7: (19, 53), 8: (24, 2), 9: (26, 68), 10: (28, 71), 11: (29, 69), 12: (30, 23), 14: (32, 4), 16: (37, 22), 17: (39, 72), 18: (40, 13), 20: (44, 78), 21: (45, 25), 22: (46, 70), 23: (47, 50), 24: (51, 5), 25: (52, 21), 26: (54, 36), 27: (55, 27), 28: (56, 38), 29: (57, 1), 31: (62, 20), 32: (63, 77), 33: (64, 65), 34: (67, 14), 36: (75, 17), 37: (76, 8), 39: (80, 10)}, {30: (60, 58)}, {35: (74, 73)}]\n----------------Instance name: pdp_instances/GOO/doing/goo1.csv-----------------------------------\n processing time --- 0.43802452087402344 seconds ---\n#################### Round :1 ############################\n"
     ]
    },
    {
     "name": "stdout",
     "output_type": "stream",
     "text": [
      "#################### Round :1 ############################\n"
     ]
    },
    {
     "name": "stdout",
     "output_type": "stream",
     "text": [
      "#################### Round :1 ############################\n"
     ]
    },
    {
     "name": "stdout",
     "output_type": "stream",
     "text": [
      "#################### Round :1 ############################\n"
     ]
    },
    {
     "name": "stdout",
     "output_type": "stream",
     "text": [
      "#################### Round :1 ############################\n"
     ]
    },
    {
     "name": "stdout",
     "output_type": "stream",
     "text": [
      "[[[0, [19, 13, 15], [35, 49, 31, 41, 48, 34]]], [[0, [38], [79, 61]]], [[6, [3, 20, 1, 23], [9, 12, 6, 47, 44, 78, 59, 50]], [3, [], []], [4, [39, 9, 24, 0, 34], [26, 3, 66, 67, 68, 51, 80, 14, 5, 10]], [5, [], []], [1, [11, 4, 36, 31, 22, 33], [15, 29, 43, 46, 62, 75, 70, 69, 64, 20, 17, 65]], [8, [27, 32, 17, 26, 10, 6], [63, 54, 55, 77, 18, 36, 39, 27, 28, 42, 71, 72]], [9, [28, 25, 21, 29], [56, 57, 52, 38, 45, 1, 21, 25]], [7, [14, 8, 5, 37, 7], [32, 24, 16, 4, 2, 19, 11, 76, 53, 8]], [0, [18, 16, 2, 12], [7, 33, 30, 40, 37, 23, 22, 13]]], [[0, [30], [60, 58]]], [[0, [35], [74, 73]]]]\n#################### Round :2 ############################\n"
     ]
    },
    {
     "name": "stdout",
     "output_type": "stream",
     "text": [
      "#################### Round :2 ############################\n"
     ]
    },
    {
     "name": "stdout",
     "output_type": "stream",
     "text": [
      "#################### Round :2 ############################\n"
     ]
    },
    {
     "name": "stdout",
     "output_type": "stream",
     "text": [
      "#################### Round :2 ############################\n"
     ]
    },
    {
     "name": "stdout",
     "output_type": "stream",
     "text": [
      "#################### Round :2 ############################\n"
     ]
    },
    {
     "name": "stdout",
     "output_type": "stream",
     "text": [
      "[[[1, [], []], [0, [19, 13, 15], [35, 49, 31, 41, 48, 34]]], [[0, [38], [79, 61]]], [[9, [32, 27, 6, 36], [63, 55, 75, 77, 18, 27, 42, 17]], [6, [29, 25, 7, 24], [57, 52, 51, 1, 5, 21, 19, 53]], [0, [16, 21, 28, 18], [56, 38, 37, 40, 45, 25, 22, 13]], [8, [1, 0, 37], [3, 6, 66, 76, 59, 8]], [7, [8, 5, 3], [9, 24, 16, 12, 11, 2]], [2, [4, 11, 20, 22], [15, 29, 43, 46, 44, 78, 69, 70]], [3, [9, 2, 34, 26, 10, 33, 14, 17], [32, 26, 7, 4, 54, 68, 67, 33, 36, 39, 28, 14, 64, 71, 72, 65]], [4, [12, 39, 31, 23], [80, 62, 47, 30, 23, 20, 10, 50]], [1, [], []]], [[0, [30], [60, 58]]], [[0, [35], [74, 73]]]]\n#################### Round :3 ############################\n"
     ]
    },
    {
     "name": "stdout",
     "output_type": "stream",
     "text": [
      "#################### Round :3 ############################\n"
     ]
    },
    {
     "name": "stdout",
     "output_type": "stream",
     "text": [
      "#################### Round :3 ############################\n"
     ]
    },
    {
     "name": "stdout",
     "output_type": "stream",
     "text": [
      "#################### Round :3 ############################\n"
     ]
    },
    {
     "name": "stdout",
     "output_type": "stream",
     "text": [
      "#################### Round :3 ############################\n"
     ]
    },
    {
     "name": "stdout",
     "output_type": "stream",
     "text": [
      "[[[1, [], []], [0, [15, 13, 19], [35, 49, 31, 41, 48, 34]]], [[0, [38], [79, 61]]], [[8, [32, 36, 6, 27], [63, 55, 75, 77, 18, 27, 42, 17]], [2, [25, 3, 24, 7, 37], [9, 52, 51, 21, 19, 12, 5, 76, 53, 8]], [5, [11, 20, 33, 22], [29, 46, 44, 70, 78, 69, 64, 65]], [7, [2, 16, 28, 4, 21, 12], [56, 15, 7, 38, 33, 30, 43, 45, 37, 23, 22, 25]], [3, [34, 9, 18, 29, 26, 0, 17, 10], [3, 26, 57, 54, 68, 67, 66, 1, 14, 40, 36, 39, 28, 13, 71, 72]], [1, [39, 1, 23, 31], [6, 80, 62, 47, 20, 10, 50, 59]], [6, [5, 14, 8], [32, 24, 16, 4, 2, 11]]], [[0, [30], [60, 58]]], [[0, [35], [74, 73]]]]\n#################### Round :4 ############################\n"
     ]
    },
    {
     "name": "stdout",
     "output_type": "stream",
     "text": [
      "#################### Round :4 ############################\n"
     ]
    },
    {
     "name": "stdout",
     "output_type": "stream",
     "text": [
      "#################### Round :4 ############################\n"
     ]
    },
    {
     "name": "stdout",
     "output_type": "stream",
     "text": [
      "#################### Round :4 ############################\n"
     ]
    },
    {
     "name": "stdout",
     "output_type": "stream",
     "text": [
      "#################### Round :4 ############################\n"
     ]
    },
    {
     "name": "stdout",
     "output_type": "stream",
     "text": [
      "[[[1, [], []], [0, [19, 13, 15], [35, 49, 31, 41, 48, 34]]], [[0, [38], [79, 61]]], [[9, [4, 2, 11, 12, 33, 22], [7, 15, 29, 33, 43, 46, 30, 23, 64, 70, 69, 65]], [5, [8, 1, 7, 14], [32, 24, 4, 6, 2, 19, 59, 53]], [7, [32, 27, 36], [63, 55, 75, 77, 27, 17]], [8, [5, 3, 37, 20, 23], [9, 16, 12, 11, 44, 47, 76, 78, 50, 8]], [2, [34, 39, 24], [67, 51, 80, 14, 5, 10]], [1, [21, 16, 25, 18, 31, 28], [56, 52, 38, 37, 45, 21, 40, 62, 22, 20, 25, 13]], [4, [], []], [6, [29, 26, 0, 9, 6, 17, 10], [3, 26, 57, 54, 68, 66, 1, 18, 36, 28, 39, 42, 71, 72]]], [[0, [30], [60, 58]]], [[0, [35], [74, 73]]]]\n#################### Round :5 ############################\n"
     ]
    },
    {
     "name": "stdout",
     "output_type": "stream",
     "text": [
      "#################### Round :5 ############################\n"
     ]
    },
    {
     "name": "stdout",
     "output_type": "stream",
     "text": [
      "#################### Round :5 ############################\n"
     ]
    },
    {
     "name": "stdout",
     "output_type": "stream",
     "text": [
      "#################### Round :5 ############################\n"
     ]
    },
    {
     "name": "stdout",
     "output_type": "stream",
     "text": [
      "#################### Round :5 ############################\n"
     ]
    },
    {
     "name": "stdout",
     "output_type": "stream",
     "text": [
      "[[[1, [13, 19, 15], [35, 49, 31, 41, 48, 34]], [0, [], []]], [[0, [38], [79, 61]]], [[9, [25, 29, 24, 7, 37], [57, 52, 51, 1, 5, 21, 19, 76, 53, 8]], [8, [12, 28, 21, 16], [56, 38, 45, 37, 30, 23, 22, 25]], [6, [32, 36, 27, 6], [63, 55, 75, 77, 18, 27, 42, 17]], [5, [5, 8], [24, 16, 11, 2]], [4, [9, 34, 14, 26, 18, 3, 0, 10, 17], [32, 26, 3, 9, 4, 54, 68, 67, 66, 12, 14, 40, 36, 39, 28, 13, 71, 72]], [7, [4, 2, 11, 33, 20, 22], [7, 15, 29, 33, 43, 46, 44, 70, 78, 69, 64, 65]], [1, [39, 23, 1, 31], [6, 80, 62, 47, 20, 10, 50, 59]]], [[0, [30], [60, 58]]], [[0, [35], [74, 73]]]]\n#################### Round :6 ############################\n"
     ]
    },
    {
     "name": "stdout",
     "output_type": "stream",
     "text": [
      "#################### Round :6 ############################\n"
     ]
    },
    {
     "name": "stdout",
     "output_type": "stream",
     "text": [
      "#################### Round :6 ############################\n"
     ]
    },
    {
     "name": "stdout",
     "output_type": "stream",
     "text": [
      "#################### Round :6 ############################\n"
     ]
    },
    {
     "name": "stdout",
     "output_type": "stream",
     "text": [
      "#################### Round :6 ############################\n"
     ]
    },
    {
     "name": "stdout",
     "output_type": "stream",
     "text": [
      "[[[1, [], []], [0, [19, 13, 15], [35, 49, 31, 41, 48, 34]]], [[0, [38], [79, 61]]], [[5, [32, 37, 0], [3, 63, 66, 76, 77, 8]], [3, [], []], [1, [26, 36, 27, 18, 31], [54, 55, 75, 62, 36, 40, 27, 20, 17, 13]], [7, [20, 33, 11, 22], [29, 46, 44, 70, 78, 69, 64, 65]], [8, [24, 39, 9, 14, 34], [32, 26, 4, 67, 68, 51, 80, 14, 5, 10]], [4, [8, 3, 5], [9, 24, 16, 12, 11, 2]], [0, [6, 17, 10], [18, 28, 39, 42, 71, 72]], [6, [4, 2, 21, 12, 16, 23], [7, 15, 33, 45, 43, 47, 37, 30, 23, 22, 25, 50]], [2, [25, 28, 7, 29, 1], [56, 57, 52, 38, 1, 6, 21, 19, 59, 53]]], [[0, [30], [60, 58]]], [[0, [35], [74, 73]]]]\n#################### Round :7 ############################\n"
     ]
    },
    {
     "name": "stdout",
     "output_type": "stream",
     "text": [
      "#################### Round :7 ############################\n"
     ]
    },
    {
     "name": "stdout",
     "output_type": "stream",
     "text": [
      "#################### Round :7 ############################\n"
     ]
    },
    {
     "name": "stdout",
     "output_type": "stream",
     "text": [
      "#################### Round :7 ############################\n"
     ]
    },
    {
     "name": "stdout",
     "output_type": "stream",
     "text": [
      "#################### Round :7 ############################\n"
     ]
    },
    {
     "name": "stdout",
     "output_type": "stream",
     "text": [
      "[[[0, [19, 13, 15], [35, 49, 31, 41, 48, 34]]], [[0, [38], [79, 61]]], [[8, [25, 28, 29, 7, 1], [56, 57, 52, 38, 1, 6, 21, 19, 59, 53]], [7, [12, 39, 24], [51, 80, 30, 23, 5, 10]], [4, [], []], [5, [0, 36, 37], [3, 66, 76, 75, 17, 8]], [3, [26, 32, 6, 27, 10, 17], [63, 54, 55, 77, 18, 36, 39, 27, 28, 42, 71, 72]], [1, [23, 4, 31, 21, 18, 16], [15, 62, 47, 45, 43, 40, 37, 25, 22, 20, 13, 50]], [0, [9, 8, 14, 34], [32, 26, 24, 4, 68, 67, 2, 14]], [6, [2, 20, 11, 33, 22], [7, 29, 33, 46, 44, 70, 78, 69, 64, 65]], [9, [5, 3], [9, 16, 12, 11]]], [[0, [30], [60, 58]]], [[0, [35], [74, 73]]]]\n#################### Round :8 ############################\n"
     ]
    },
    {
     "name": "stdout",
     "output_type": "stream",
     "text": [
      "#################### Round :8 ############################\n"
     ]
    },
    {
     "name": "stdout",
     "output_type": "stream",
     "text": [
      "#################### Round :8 ############################\n"
     ]
    },
    {
     "name": "stdout",
     "output_type": "stream",
     "text": [
      "#################### Round :8 ############################\n"
     ]
    },
    {
     "name": "stdout",
     "output_type": "stream",
     "text": [
      "#################### Round :8 ############################\n"
     ]
    },
    {
     "name": "stdout",
     "output_type": "stream",
     "text": [
      "[[[1, [], []], [0, [15, 13, 19], [35, 49, 31, 41, 48, 34]]], [[0, [38], [79, 61]]], [[5, [25, 27, 21, 16, 0, 18], [3, 52, 55, 66, 21, 40, 45, 37, 27, 22, 25, 13]], [3, [39, 9, 14, 34, 24], [32, 26, 4, 67, 68, 51, 80, 14, 5, 10]], [7, [11, 28, 37, 29], [57, 56, 38, 29, 1, 76, 69, 8]], [8, [32, 26, 6, 36], [63, 54, 75, 77, 18, 36, 42, 17]], [6, [1, 7], [6, 19, 59, 53]], [2, [8, 5, 3], [9, 24, 16, 12, 11, 2]], [1, [22, 23, 4, 20, 31], [15, 62, 47, 46, 43, 44, 20, 70, 78, 50]], [4, [12, 2, 33, 10, 17], [7, 33, 30, 39, 28, 23, 64, 71, 72, 65]]], [[0, [30], [60, 58]]], [[0, [35], [74, 73]]]]\n#################### Round :9 ############################\n"
     ]
    },
    {
     "name": "stdout",
     "output_type": "stream",
     "text": [
      "#################### Round :9 ############################\n"
     ]
    },
    {
     "name": "stdout",
     "output_type": "stream",
     "text": [
      "#################### Round :9 ############################\n"
     ]
    },
    {
     "name": "stdout",
     "output_type": "stream",
     "text": [
      "#################### Round :9 ############################\n"
     ]
    },
    {
     "name": "stdout",
     "output_type": "stream",
     "text": [
      "#################### Round :9 ############################\n"
     ]
    },
    {
     "name": "stdout",
     "output_type": "stream",
     "text": [
      "[[[1, [19, 13, 15], [35, 49, 31, 41, 48, 34]], [0, [], []]], [[0, [38], [79, 61]]], [[5, [11, 20, 33], [29, 44, 78, 69, 64, 65]], [8, [5, 8], [24, 16, 11, 2]], [7, [2, 4, 12, 16, 21, 6], [7, 15, 33, 30, 43, 45, 37, 23, 18, 22, 42, 25]], [3, [9, 14, 32, 37, 0], [32, 26, 3, 4, 63, 68, 66, 76, 77, 8]], [1, [39, 34, 24], [67, 51, 80, 14, 5, 10]], [0, [10, 26, 17, 31, 29, 22], [57, 54, 1, 62, 46, 36, 39, 28, 20, 70, 71, 72]], [4, [1, 3, 36, 27], [9, 12, 6, 55, 75, 59, 27, 17]], [2, [25, 28, 7, 18, 23], [56, 52, 38, 40, 47, 21, 19, 13, 50, 53]]], [[0, [30], [60, 58]]], [[0, [35], [74, 73]]]]\n#################### Round :10 ############################\n"
     ]
    },
    {
     "name": "stdout",
     "output_type": "stream",
     "text": [
      "#################### Round :10 ############################\n"
     ]
    },
    {
     "name": "stdout",
     "output_type": "stream",
     "text": [
      "#################### Round :10 ############################\n"
     ]
    },
    {
     "name": "stdout",
     "output_type": "stream",
     "text": [
      "#################### Round :10 ############################\n"
     ]
    },
    {
     "name": "stdout",
     "output_type": "stream",
     "text": [
      "#################### Round :10 ############################\n"
     ]
    },
    {
     "name": "stdout",
     "output_type": "stream",
     "text": [
      "[[[1, [13, 15, 19], [35, 49, 31, 41, 48, 34]], [0, [], []]], [[0, [38], [79, 61]]], [[3, [37, 24, 36], [51, 76, 75, 5, 17, 8]], [4, [39, 4, 31, 23, 12], [15, 80, 62, 43, 47, 30, 23, 20, 10, 50]], [1, [22, 2, 33, 11, 20], [7, 29, 33, 46, 44, 70, 78, 69, 64, 65]], [0, [8, 16, 18, 3, 21], [9, 24, 12, 2, 40, 45, 37, 25, 22, 13]], [6, [32, 27, 6, 26, 17, 10], [63, 54, 55, 77, 18, 36, 39, 27, 28, 42, 71, 72]], [5, [1, 29, 25, 28, 7], [56, 57, 52, 38, 1, 6, 21, 19, 59, 53]], [7, [34, 9, 0, 14, 5], [32, 26, 3, 16, 4, 68, 67, 66, 14, 11]]], [[0, [30], [60, 58]]], [[0, [35], [74, 73]]]]\n"
     ]
    }
   ],
   "source": [
    "path = 'pdp_instances/GOO/doing/'\n",
    "FILENAMES = next(os.walk(path))[2]\n",
    "\n",
    "all_results = []\n",
    "\n",
    "for name in FILENAMES:\n",
    "    filepath = path + name\n",
    "    results = solve_and_print(filepath)\n",
    "    solutions,distances,cal_times = mean_results(results)\n",
    "    all_results.append((solutions,distances,cal_times))"
   ]
  },
  {
   "cell_type": "markdown",
   "metadata": {},
   "source": [
    "# The GOO Instances"
   ]
  },
  {
   "cell_type": "markdown",
   "metadata": {},
   "source": [
    "# Average list by columns"
   ]
  },
  {
   "cell_type": "code",
   "execution_count": 27,
   "metadata": {},
   "outputs": [],
   "source": [
    "def count_num_vehicle(solutions):\n",
    "    nums = []\n",
    "    for sol in solutions:\n",
    "        sol = [x for x in sol if len(x[1])>0]\n",
    "        nums.append(len(sol))\n",
    "    return nums"
   ]
  },
  {
   "cell_type": "code",
   "execution_count": 28,
   "metadata": {},
   "outputs": [],
   "source": [
    ""
   ]
  },
  {
   "cell_type": "code",
   "execution_count": 28,
   "metadata": {},
   "outputs": [],
   "source": [
    ""
   ]
  },
  {
   "cell_type": "code",
   "execution_count": 28,
   "metadata": {},
   "outputs": [],
   "source": [
    "# res =results[0]\n",
    "# SOL,DIST,CT = res[0],res[1],res[2]\n"
   ]
  },
  {
   "cell_type": "code",
   "execution_count": 29,
   "metadata": {},
   "outputs": [],
   "source": [
    "def count_num_vehicle(solutions):\n",
    "    nums = []\n",
    "    for sol in solutions:\n",
    "        sol = [x for x in sol if len(x[1])>0]\n",
    "        nums.append(len(sol))\n",
    "    return nums"
   ]
  },
  {
   "cell_type": "code",
   "execution_count": 30,
   "metadata": {},
   "outputs": [],
   "source": [
    ""
   ]
  },
  {
   "cell_type": "code",
   "execution_count": 30,
   "metadata": {},
   "outputs": [],
   "source": [
    "# worst_sol,distance_worst = create_worst_case('pdp_instances/GOO/goo12.csv')\n",
    "# distance_worst"
   ]
  },
  {
   "cell_type": "code",
   "execution_count": 32,
   "metadata": {},
   "outputs": [],
   "source": [
    "# SOL[2]\n",
    "# count_num_vehicle([worst_sol])"
   ]
  },
  {
   "cell_type": "markdown",
   "metadata": {},
   "source": [
    "# Writing to CSV"
   ]
  },
  {
   "cell_type": "code",
   "execution_count": 34,
   "metadata": {},
   "outputs": [],
   "source": [
    "solutions,distances,cal_times = mean_results(all_results)\n",
    "dist = [dist for _,dist,_ in all_results]\n",
    "dist = np.array(dist)\n",
    "df = pd.DataFrame(dist)\n",
    "df.to_csv('distances_goo12.csv')\n",
    "CT = [ct for _,_,ct in all_results]\n",
    "CT = np.array(CT)\n",
    "df_CT = pd.DataFrame(CT)\n",
    "df_CT.to_csv('CT_goo12.csv')"
   ]
  },
  {
   "cell_type": "markdown",
   "metadata": {},
   "source": [
    "# Average list by columns"
   ]
  },
  {
   "cell_type": "code",
   "execution_count": 35,
   "metadata": {},
   "outputs": [],
   "source": [
    "\n",
    "# worst_sol"
   ]
  },
  {
   "cell_type": "code",
   "execution_count": 36,
   "metadata": {},
   "outputs": [],
   "source": [
    "def avg_table(table):\n",
    "    transposed = zip(*table)\n",
    "    avg = lambda items: float(sum(items)) / len(items)\n",
    "    averages = map(avg, transposed)\n",
    "    averages = list(averages)\n",
    "    return  averages"
   ]
  },
  {
   "cell_type": "code",
   "execution_count": 37,
   "metadata": {},
   "outputs": [
    {
     "name": "stdout",
     "output_type": "stream",
     "text": [
      "[1.0, 1.0, 7.5, 1.0, 1.0]\n"
     ]
    }
   ],
   "source": [
    "# for sol in solutions:\n",
    "num_vehicles  = []\n",
    "i = 0\n",
    "for res in all_results:\n",
    "    solutions = res[0]\n",
    "    arr_temp = []\n",
    "    for sol in solutions:\n",
    "        num_temp = count_num_vehicle(sol)\n",
    "        arr_temp.append(num_temp)\n",
    "    avg_temp = avg_table(arr_temp)\n",
    "    print(avg_temp)\n",
    "    num_vehicles.append(avg_temp)\n",
    "\n",
    "num_vehicles = np.array(num_vehicles)\n",
    "df_num_vehicles = pd.DataFrame(num_vehicles)\n",
    "df_num_vehicles.to_csv('num_veh_goo.csv')"
   ]
  },
  {
   "cell_type": "code",
   "execution_count": 38,
   "metadata": {},
   "outputs": [
    {
     "ename": "IndentationError",
     "evalue": "unexpected indent (<ipython-input-38-06f82f746798>, line 2)",
     "traceback": [
      "\u001b[0;36m  File \u001b[0;32m\"<ipython-input-38-06f82f746798>\"\u001b[0;36m, line \u001b[0;32m2\u001b[0m\n\u001b[0;31m    [0,[26,22,20,17],[54,46,44,36,39,70,78,72]]]])]\u001b[0m\n\u001b[0m    ^\u001b[0m\n\u001b[0;31mIndentationError\u001b[0m\u001b[0;31m:\u001b[0m unexpected indent\n"
     ],
     "output_type": "error"
    }
   ],
   "source": [
    "# results = [([[[2,[16,19],[41,37,34,22]],[1,[13,4,6],[15,31,43,18,48,42]],[0,[15],[35,49]]],[[1,[39,25,24],[52,51,80,21,5,10]],[0,[38],[79,61]]],[[2,[23,7,21],[19,47,45,50,53,25]],[5,[12,31,18],[62,40,30,23,20,13]],[3,[2,32,14,11,27,10,33],[32,7,4,29,33,63,55,77,69,28,27,64,71,65]],[1,[],[]],[0,[34,9,8,0],[3,26,24,68,67,66,2,14]],[4,[3,5],[9,16,12,11]]],[[0,[30],[60,58]]],[[3,[37,35,36],[74,75,73,76,17,8]],[2,[],[]],[1,[29,28,1],[56,57,38,1,6,59]],\n",
    "                                                                                                                                                                                                                                                                                                                                                                                       [0,[26,22,20,17],[54,46,44,36,39,70,78,72]]]])]"
   ]
  },
  {
   "cell_type": "code",
   "execution_count": 19,
   "metadata": {},
   "outputs": [],
   "source": [
    "# res = results[0]"
   ]
  },
  {
   "cell_type": "code",
   "execution_count": 20,
   "metadata": {},
   "outputs": [],
   "source": [
    "# all_results"
   ]
  },
  {
   "cell_type": "code",
   "execution_count": 24,
   "metadata": {},
   "outputs": [],
   "source": [
    "# \n",
    "# num_vehicles = np.array(num_vehicles)\n",
    "# df_num_vehicles = pd.DataFrame(num_vehicles)\n",
    "# df_num_vehicles.to_csv('num_veh_goo.csv')"
   ]
  },
  {
   "cell_type": "code",
   "execution_count": 25,
   "metadata": {},
   "outputs": [],
   "source": [
    ""
   ]
  },
  {
   "cell_type": "code",
   "execution_count": 25,
   "metadata": {},
   "outputs": [],
   "source": [
    ""
   ]
  },
  {
   "cell_type": "code",
   "execution_count": 26,
   "metadata": {},
   "outputs": [],
   "source": [
    ""
   ]
  },
  {
   "cell_type": "code",
   "execution_count": 27,
   "metadata": {},
   "outputs": [],
   "source": [
    ""
   ]
  },
  {
   "cell_type": "code",
   "execution_count": 28,
   "metadata": {},
   "outputs": [],
   "source": [
    ""
   ]
  },
  {
   "cell_type": "code",
   "execution_count": 78,
   "metadata": {},
   "outputs": [],
   "source": [
    ""
   ]
  },
  {
   "cell_type": "code",
   "execution_count": 79,
   "metadata": {},
   "outputs": [],
   "source": [
    "c =set(c)"
   ]
  },
  {
   "cell_type": "code",
   "execution_count": 80,
   "metadata": {},
   "outputs": [],
   "source": [
    "temp = [{8: (22, 49), 11: (29, 59), 12: (31, 18), 13: (33, 30), 14: (36, 9), 15: (38, 11), 16: (39, 14), 19: (43, 37), 20: (44, 32), 21: (45, 34), 26: (57, 47), 29: (62, 80)}, {22: (48, 5), 24: (55, 26), 28: (61, 7), 39: (79, 53)}, {0: (1, 2), 1: (3, 35), 2: (4, 64), 3: (8, 13), 5: (12, 24), 7: (20, 17), 9: (23, 41), 10: (25, 16), 30: (63, 50), 31: (65, 21), 32: (66, 46), 35: (70, 6), 36: (72, 28)}, {27: (60, 77), 34: (69, 58)}, {4: (10, 54), 6: (19, 71), 17: (40, 74), 18: (42, 67), 23: (51, 75), 25: (56, 27), 33: (68, 73), 37: (76, 52), 38: (78, 15)}]"
   ]
  },
  {
   "cell_type": "code",
   "execution_count": 81,
   "metadata": {},
   "outputs": [
    {
     "data": {
      "text/plain": [
       "{(1, 2),\n (3, 35),\n (4, 64),\n (8, 13),\n (12, 24),\n (20, 17),\n (23, 41),\n (25, 16),\n (63, 50),\n (65, 21),\n (66, 46),\n (70, 6),\n (72, 28)}"
      ]
     },
     "execution_count": 81,
     "metadata": {},
     "output_type": "execute_result"
    }
   ],
   "source": [
    "temp[2]\n",
    "s = set([x for x in temp[2].values()])\n",
    "s"
   ]
  },
  {
   "cell_type": "code",
   "execution_count": 82,
   "metadata": {},
   "outputs": [],
   "source": [
    "worst_sol2 = [ x for x in worst_sol if tuple(x[2]) in s]"
   ]
  },
  {
   "cell_type": "code",
   "execution_count": 83,
   "metadata": {},
   "outputs": [
    {
     "data": {
      "text/plain": [
       "[]"
      ]
     },
     "execution_count": 83,
     "metadata": {},
     "output_type": "execute_result"
    }
   ],
   "source": [
    "worst_sol2"
   ]
  },
  {
   "cell_type": "code",
   "execution_count": 84,
   "metadata": {},
   "outputs": [],
   "source": []
  },
  {
   "cell_type": "code",
   "execution_count": 84,
   "metadata": {},
   "outputs": [],
   "source": []
  },
  {
   "cell_type": "code",
   "execution_count": 84,
   "metadata": {},
   "outputs": [],
   "source": []
  },
  {
   "cell_type": "code",
   "execution_count": 84,
   "metadata": {},
   "outputs": [],
   "source": []
  },
  {
   "cell_type": "code",
   "execution_count": 84,
   "metadata": {},
   "outputs": [],
   "source": []
  },
  {
   "cell_type": "code",
   "execution_count": 84,
   "metadata": {},
   "outputs": [],
   "source": []
  },
  {
   "cell_type": "code",
   "execution_count": 84,
   "metadata": {},
   "outputs": [],
   "source": []
  },
  {
   "cell_type": "code",
   "execution_count": 84,
   "metadata": {},
   "outputs": [],
   "source": []
  },
  {
   "cell_type": "code",
   "execution_count": 84,
   "metadata": {},
   "outputs": [],
   "source": []
  },
  {
   "cell_type": "code",
   "execution_count": null,
   "metadata": {},
   "outputs": [],
   "source": []
  }
 ],
 "metadata": {
  "kernelspec": {
   "display_name": "Python 2",
   "language": "python",
   "name": "python2"
  },
  "language_info": {
   "codemirror_mode": {
    "name": "ipython",
    "version": 2
   },
   "file_extension": ".py",
   "mimetype": "text/x-python",
   "name": "python",
   "nbconvert_exporter": "python",
   "pygments_lexer": "ipython2",
   "version": "2.7.6"
  }
 },
 "nbformat": 4,
 "nbformat_minor": 0
}
