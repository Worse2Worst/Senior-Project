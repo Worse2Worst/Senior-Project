{
 "cells": [
  {
   "cell_type": "code",
   "execution_count": 3,
   "metadata": {
    "collapsed": true
   },
   "outputs": [],
   "source": [
    "import time\n",
    "import random\n",
    "import os\n",
    "import pandas as pd\n",
    "import csv\n",
    "import numpy as np\n",
    "from itertools import chain\n",
    "from pdp_lib import processing_google_map as proc\n",
    "from pdp_lib import util\n",
    "from GA_lib import GA_multi_depot as GA\n",
    "from GA_lib import operation_multi_depot as operation\n",
    "from GA_lib import evaluate_multi_depot as evaluate"
   ]
  },
  {
   "cell_type": "code",
   "execution_count": 5,
   "metadata": {},
   "outputs": [],
   "source": [
    "def solve_and_print(filepath, rounds = 1, population_size = 100, generations=2000, crossoverRate=1.0, mutationRate=0.5):\n",
    "    process_time = time.time()\n",
    "    numVehicles, LoadCapacities, speed, data = proc.load_file(filepath)\n",
    "    LOCATIONS = data[0]\n",
    "    DEMANDS = data[1]\n",
    "    timeWindows = data[2]\n",
    "    serviceTimes = data[3]\n",
    "    pickupSiblings = data[4]\n",
    "    deliverySiblings = data[5]\n",
    "    requestType = data[6]\n",
    "    REQUESTS = proc.generate_request(pickupSiblings, deliverySiblings, requestType)\n",
    "    DISTANCES = proc.createDistanceTable('real_map/DISTANCES.csv')\n",
    "    DURATIONS = proc.createDurationTable('real_map/DURATIONS.csv')\n",
    "    DEPOTS = proc.create_depots('real_map/depots.csv')\n",
    "    DISTANCES_FROM_DEPOTS = proc.distances_from_depots('real_map/DISTANCES_FROM_DEPOTS.csv')\n",
    "    DISTANCES_TO_DEPOTS = proc.distances_to_depots('real_map/DISTANCES_TO_DEPOTS.csv')\n",
    "    # DEPOT_NUMBERS = proc.simple_assign_depots(REQUESTS, LOCATIONS, DEPOTS, DISTANCES_FROM_DEPOTS, DISTANCES_TO_DEPOTS)\n",
    "    DEPOT_NUMBERS = proc.worse2worst_assign_depots(REQUESTS, timeWindows,DISTANCES,DURATIONS,DEPOTS,DISTANCES_FROM_DEPOTS, DISTANCES_TO_DEPOTS)\n",
    "    REQ_BY_DEPOTS = proc.requests_by_depots(DEPOTS, REQUESTS, DEPOT_NUMBERS)\n",
    "\n",
    "    print('----------------Instance name: ' + str(filepath) + '-----------------------------------')\n",
    "    print(\" processing time --- %s seconds ---\" % (time.time() - process_time))\n",
    "\n",
    "    total_results = []\n",
    "    for round in range(rounds):\n",
    "        results_all_depots = []\n",
    "        distance_all_depots = []\n",
    "        time_all_depots = []\n",
    "        for id_depot in range(len(DEPOTS)):\n",
    "            THIS_DEP_REQS = REQ_BY_DEPOTS[id_depot]\n",
    "            NODES_OF_THIS_DEPOT = proc.locations_of_this_depot(id_depot, REQ_BY_DEPOTS, LOCATIONS)\n",
    "            if(len(NODES_OF_THIS_DEPOT)==0):\n",
    "                results_all_depots.append([])\n",
    "                distance_all_depots.append(0)\n",
    "                time_all_depots.append(0)\n",
    "                continue\n",
    "            # ############### SOLVING THE PROBLEMS !!!!!!!! ######################################\n",
    "            pops_create_time = time.time()\n",
    "            calculation_time = time.time()\n",
    "            print('#################### Round :' +str(round+1)+' ############################')\n",
    "            ## Initialize the populations\n",
    "            populations = []\n",
    "            for _ in range(population_size):\n",
    "                chromosome = GA.initialize_Feasible_chromosome(DISTANCES, DISTANCES_FROM_DEPOTS, DISTANCES_TO_DEPOTS, id_depot, DURATIONS, timeWindows, THIS_DEP_REQS, DEMANDS, LoadCapacities)\n",
    "                populations.append(chromosome)\n",
    "            # print(\"Populations creation time --- %s seconds ---\" % (time.time() - pops_create_time))\n",
    "            ## Crossovers and mutate ##\n",
    "            GA_time = time.time()\n",
    "\n",
    "            ## Evaluate fitnesses of all populations ##\n",
    "            best_fitness_so_far = -99999999\n",
    "            for gen in range(generations):\n",
    "                fitness_table = []\n",
    "                for chromosome in populations:\n",
    "                    fitness_table.append(\n",
    "                        evaluate.chromosomeFitness(chromosome, DISTANCES, DISTANCES_FROM_DEPOTS, DISTANCES_TO_DEPOTS,\n",
    "                                                   id_depot))\n",
    "                populations = [x for _, x in sorted(zip(fitness_table, populations), reverse=True)]\n",
    "                populations.pop()\n",
    "                populations.pop()\n",
    "                elite1 = populations.pop(0)\n",
    "                elite2 = populations.pop(0)\n",
    "\n",
    "\n",
    "                ## Tournament Selection ##\n",
    "                # id1, id2 = random.randrange(0, len(populations)), random.randrange(0, len(populations))\n",
    "                id1,id2,id3,id4 = random.sample(range(0, len(populations)), 4)\n",
    "                fitness1,fitness2,fitness3,fitness4 = fitness_table[id1],fitness_table[id2],fitness_table[id3],fitness_table[id4]\n",
    "                candidate1,candidate2,candidate3,candidate4 = populations[id1], populations[id2],populations[id3],populations[id4]\n",
    "                parent1 = operation.tournament_selection(candidate1,candidate2,fitness1,fitness2)\n",
    "                parent2 = operation.tournament_selection(candidate3,candidate4,fitness3,fitness4)\n",
    "\n",
    "                ## Crossing over !! ####\n",
    "                child1, child2 = operation.crossover(DISTANCES, DURATIONS, timeWindows, THIS_DEP_REQS, parent1, parent2,\n",
    "                                                     DEMANDS, LoadCapacities, DISTANCES_FROM_DEPOTS,\n",
    "                                                     DISTANCES_TO_DEPOTS, id_depot, crossoverRate)\n",
    "                # if(not evaluate.haveEqualNodes(child1,child2,LOCATIONS)):\n",
    "                #         print('note have Equal nodes, Crossover Bug!!!!!'+ str(gen))\n",
    "                #         break\n",
    "                #\n",
    "                ## Mutation ##\n",
    "                child1 = operation.mutate(child1, DISTANCES, DURATIONS, timeWindows, THIS_DEP_REQS, DEMANDS,\n",
    "                                          LoadCapacities, DISTANCES_FROM_DEPOTS, DISTANCES_TO_DEPOTS, id_depot, mutationRate)\n",
    "                child2 = operation.mutate(child2, DISTANCES, DURATIONS, timeWindows, THIS_DEP_REQS, DEMANDS,\n",
    "                                          LoadCapacities, DISTANCES_FROM_DEPOTS, DISTANCES_TO_DEPOTS, id_depot, mutationRate)\n",
    "                if (not evaluate.haveEqualNodes(child1, child2, NODES_OF_THIS_DEPOT)):\n",
    "                    print('note have Equal nodes, Mutation Bug!!!!!' + str(gen))\n",
    "                    break\n",
    "\n",
    "\n",
    "                ## Evaluate Fitness of the best ones ###\n",
    "                current_fitness = evaluate.chromosomeFitness(child1, DISTANCES, DISTANCES_FROM_DEPOTS,\n",
    "                                                             DISTANCES_TO_DEPOTS, id_depot)\n",
    "                current_fitness = max(current_fitness,\n",
    "                                      evaluate.chromosomeFitness(child2, DISTANCES, DISTANCES_FROM_DEPOTS,\n",
    "                                                                 DISTANCES_TO_DEPOTS, id_depot))\n",
    "                current_fitness = max(current_fitness,\n",
    "                                      evaluate.chromosomeFitness(elite1, DISTANCES, DISTANCES_FROM_DEPOTS,\n",
    "                                                                 DISTANCES_TO_DEPOTS, id_depot))\n",
    "                current_fitness = max(current_fitness,\n",
    "                                      evaluate.chromosomeFitness(elite2, DISTANCES, DISTANCES_FROM_DEPOTS,\n",
    "                                                                 DISTANCES_TO_DEPOTS, id_depot))\n",
    "\n",
    "                ## Add them back into populations ###\n",
    "                populations.append(child1)\n",
    "                populations.append(child2)\n",
    "                populations.append(elite1)\n",
    "                populations.append(elite2)\n",
    "\n",
    "                ### Check break conditions ####\n",
    "                if (current_fitness > best_fitness_so_far):\n",
    "                    best_fitness_so_far = current_fitness\n",
    "                    bestFitGen = gen\n",
    "                    # print('#### New Best Fitness !! , Best so far is :' + str(10000.0 / best_fitness_so_far) + '#####')\n",
    "                    # print('#### This Generation: ' + str(gen) + '#######')\n",
    "                if (gen - bestFitGen >= 1000):\n",
    "                    # print('#### Break Generation: ' + str(gen) + '#######')\n",
    "                    break\n",
    "                # print('############# Round-'+str(round+1) +',DEPOT-'+str(id_depot)+','+ 'Generation:' + str(gen + 1) + ' #########################')\n",
    "                # print('This Gen Distance :' + str(10000.0 / current_fitness))\n",
    "\n",
    "            ### Evaluate results of current DEPOT ####\n",
    "            fitness_table = []\n",
    "            for chromosome in populations:\n",
    "                fitness_table.append(\n",
    "                    evaluate.chromosomeFitness(chromosome, DISTANCES, DISTANCES_FROM_DEPOTS, DISTANCES_TO_DEPOTS, id_depot))\n",
    "            populations = [x for _, x in sorted(zip(fitness_table, populations), reverse=True)]\n",
    "            # print(\"GA time --- %s seconds ---\" % (time.time() - GA_time))\n",
    "            best_chromosome = populations[0]\n",
    "            computational_time = time.time() - calculation_time\n",
    "            # print(\"Total Calculation time --- %s seconds ---\" % (computational_time))\n",
    "            distance = evaluate.chromosomeRoutesDistance(best_chromosome,DISTANCES,DISTANCES_FROM_DEPOTS,DISTANCES_TO_DEPOTS,id_depot)\n",
    "            # print('Distances of the best chromosome: ' + str(distance))\n",
    "            # print(best_chromosome)\n",
    "\n",
    "            ## Memo the results ##\n",
    "            results_all_depots.append(best_chromosome)\n",
    "            distance_all_depots.append(distance)\n",
    "            time_all_depots.append(computational_time)\n",
    "        total_results.append((results_all_depots,distance_all_depots,time_all_depots))\n",
    "    return total_results"
   ]
  },
  {
   "cell_type": "code",
   "execution_count": 6,
   "metadata": {},
   "outputs": [],
   "source": [
    "def mean_results(results):\n",
    "    solutions = []\n",
    "    cal_times = []\n",
    "    distances = []\n",
    "    for round, round_result in enumerate(results):\n",
    "        sol = results[round][0]\n",
    "        dist = results[round][1]\n",
    "        ct = results[round][2]\n",
    "\n",
    "        solutions.append(sol)\n",
    "        distances.append(dist)\n",
    "        cal_times.append(ct)\n",
    "    distances = np.array(distances)\n",
    "    distances = pd.DataFrame(distances)\n",
    "    distances = np.mean(distances, axis=0)\n",
    "    cal_times = np.array(cal_times)\n",
    "    cal_times = pd.DataFrame(cal_times)\n",
    "    cal_times = np.mean(cal_times, axis=0)\n",
    "    return distances, cal_times\n"
   ]
  },
  {
   "cell_type": "code",
   "execution_count": 7,
   "metadata": {},
   "outputs": [],
   "source": [
    "def create_worst_case(filepath, rounds = 1, population_size = 100, generations=3000, crossoverRate=1.0, mutationRate=0.5):\n",
    "    process_time = time.time()\n",
    "    numVehicles, LoadCapacities, speed, data = proc.load_file(filepath)\n",
    "    LOCATIONS = data[0]\n",
    "    DEMANDS = data[1]\n",
    "    timeWindows = data[2]\n",
    "    serviceTimes = data[3]\n",
    "    pickupSiblings = data[4]\n",
    "    deliverySiblings = data[5]\n",
    "    requestType = data[6]\n",
    "    REQUESTS = proc.generate_request(pickupSiblings, deliverySiblings, requestType)\n",
    "    DISTANCES = proc.createDistanceTable('real_map/DISTANCES.csv')\n",
    "    DURATIONS = proc.createDurationTable('real_map/DURATIONS.csv')\n",
    "    DEPOTS = proc.create_depots('real_map/depots.csv')\n",
    "    DISTANCES_FROM_DEPOTS = proc.distances_from_depots('real_map/DISTANCES_FROM_DEPOTS.csv')\n",
    "    DISTANCES_TO_DEPOTS = proc.distances_to_depots('real_map/DISTANCES_TO_DEPOTS.csv')\n",
    "    # DEPOT_NUMBERS = proc.simple_assign_depots(REQUESTS, LOCATIONS, DEPOTS, DISTANCES_FROM_DEPOTS, DISTANCES_TO_DEPOTS)\n",
    "    DEPOT_NUMBERS = proc.worse2worst_assign_depots(REQUESTS, timeWindows,DISTANCES,DURATIONS,DEPOTS,DISTANCES_FROM_DEPOTS, DISTANCES_TO_DEPOTS)\n",
    "    REQ_BY_DEPOTS = proc.requests_by_depots(DEPOTS, REQUESTS, DEPOT_NUMBERS)\n",
    "    \n",
    "    res = GA.initialize_WorstCase_Chromosome(REQUESTS)\n",
    "    \n",
    "    \n",
    "    dist_worst = 0\n",
    "    for [idx,_,[p,d]] in worst_sol:\n",
    "        depot = int(DEPOT_NUMBERS[idx]) \n",
    "        dist_worst += (DISTANCES_FROM_DEPOTS[depot][p]+DISTANCES[p][d]+DISTANCES_TO_DEPOTS[d][depot])\n",
    "\n",
    "    return res,dist_worst"
   ]
  },
  {
   "cell_type": "markdown",
   "metadata": {},
   "source": [
    "# The GOO Instances"
   ]
  },
  {
   "cell_type": "code",
   "execution_count": 6,
   "metadata": {},
   "outputs": [],
   "source": [
    "filename = 'pdp_instances/GOO/goo1.csv'"
   ]
  },
  {
   "cell_type": "code",
   "execution_count": 7,
   "metadata": {},
   "outputs": [
    {
     "name": "stdout",
     "output_type": "stream",
     "text": [
      "Instance name : goo1\n"
     ]
    }
   ],
   "source": [
    "filepath = filename \n",
    "filename = filename.rsplit('/', 1)[1]\n",
    "filename = filename.split('.')[0]\n",
    "print( 'Instance name : '+str(filename))\n"
   ]
  },
  {
   "cell_type": "code",
   "execution_count": 27,
   "metadata": {},
   "outputs": [
    {
     "name": "stdout",
     "output_type": "stream",
     "text": [
      "----------------Instance name: pdp_instances/GOO/goo1.csv-----------------------------------\n processing time --- 0.3450345993041992 seconds ---\n#################### Round :1 ############################\n"
     ]
    },
    {
     "name": "stdout",
     "output_type": "stream",
     "text": [
      "#################### Round :1 ############################\n"
     ]
    },
    {
     "name": "stdout",
     "output_type": "stream",
     "text": [
      "#################### Round :1 ############################\n"
     ]
    },
    {
     "name": "stdout",
     "output_type": "stream",
     "text": [
      "#################### Round :1 ############################\n"
     ]
    },
    {
     "name": "stdout",
     "output_type": "stream",
     "text": [
      "#################### Round :1 ############################\n"
     ]
    }
   ],
   "source": [
    "results = solve_and_print(filepath)"
   ]
  },
  {
   "cell_type": "code",
   "execution_count": 1,
   "metadata": {},
   "outputs": [
    {
     "ename": "NameError",
     "evalue": "name 'results' is not defined",
     "traceback": [
      "\u001b[0;31m---------------------------------------------------------------------------\u001b[0m",
      "\u001b[0;31mNameError\u001b[0m                                 Traceback (most recent call last)",
      "\u001b[0;32m<ipython-input-1-980bffe1404d>\u001b[0m in \u001b[0;36m<module>\u001b[0;34m()\u001b[0m\n\u001b[0;32m----> 1\u001b[0;31m \u001b[0mresults\u001b[0m\u001b[0;34m\u001b[0m\u001b[0m\n\u001b[0m",
      "\u001b[0;31mNameError\u001b[0m: name 'results' is not defined"
     ],
     "output_type": "error"
    }
   ],
   "source": [
    "results"
   ]
  },
  {
   "cell_type": "code",
   "execution_count": 43,
   "metadata": {},
   "outputs": [],
   "source": [
    "res =results[0]\n",
    "SOL,DIST,CT = res[0],res[1],res[2]\n"
   ]
  },
  {
   "cell_type": "code",
   "execution_count": 32,
   "metadata": {},
   "outputs": [
    {
     "data": {
      "text/plain": [
       "[[3, [37, 35, 36], [74, 75, 73, 76, 17, 8]],\n [2, [], []],\n [1, [29, 28, 1], [56, 57, 38, 1, 6, 59]],\n [0, [26, 22, 20, 17], [54, 46, 44, 36, 39, 70, 78, 72]]]"
      ]
     },
     "execution_count": 32,
     "metadata": {},
     "output_type": "execute_result"
    }
   ],
   "source": [
    ""
   ]
  },
  {
   "cell_type": "code",
   "execution_count": 59,
   "metadata": {},
   "outputs": [],
   "source": [
    "worst_sol,distance_worst = create_worst_case(filepath)"
   ]
  },
  {
   "cell_type": "code",
   "execution_count": 58,
   "metadata": {},
   "outputs": [
    {
     "data": {
      "text/plain": [
       "728529.0"
      ]
     },
     "execution_count": 58,
     "metadata": {},
     "output_type": "execute_result"
    }
   ],
   "source": [
    ""
   ]
  },
  {
   "cell_type": "code",
   "execution_count": 45,
   "metadata": {},
   "outputs": [
    {
     "data": {
      "text/plain": [
       "array([ 2.,  4.,  2.,  2.,  0.,  2.,  0.,  2.,  2.,  2.,  2.,  2.,  2.,\n        0.,  2.,  0.,  0.,  4.,  2.,  0.,  4.,  2.,  4.,  2.,  1.,  1.,\n        4.,  2.,  4.,  4.,  3.,  2.,  2.,  2.,  2.,  4.,  4.,  4.,  1.,  1.])"
      ]
     },
     "execution_count": 45,
     "metadata": {},
     "output_type": "execute_result"
    }
   ],
   "source": [
    "DEPOT_NUMBERS"
   ]
  },
  {
   "cell_type": "code",
   "execution_count": 10,
   "metadata": {},
   "outputs": [],
   "source": [
    "results = [([[[2,[16,19],[41,37,34,22]],[1,[13,4,6],[15,31,43,18,48,42]],[0,[15],[35,49]]],[[1,[39,25,24],[52,51,80,21,5,10]],[0,[38],[79,61]]],[[2,[23,7,21],[19,47,45,50,53,25]],[5,[12,31,18],[62,40,30,23,20,13]],[3,[2,32,14,11,27,10,33],[32,7,4,29,33,63,55,77,69,28,27,64,71,65]],[1,[],[]],[0,[34,9,8,0],[3,26,24,68,67,66,2,14]],[4,[3,5],[9,16,12,11]]],[[0,[30],[60,58]]],[[3,[37,35,36],[74,75,73,76,17,8]],[2,[],[]],[1,[29,28,1],[56,57,38,1,6,59]],\n",
    "                                                                                                                                                                                                                                                                                                                                                                                       [0,[26,22,20,17],[54,46,44,36,39,70,78,72]]]])]"
   ]
  },
  {
   "cell_type": "code",
   "execution_count": 16,
   "metadata": {},
   "outputs": [],
   "source": [
    "res = results[0]"
   ]
  },
  {
   "cell_type": "code",
   "execution_count": 18,
   "metadata": {},
   "outputs": [
    {
     "data": {
      "text/plain": [
       "[[2, [16, 19], [41, 37, 34, 22]],\n [1, [13, 4, 6], [15, 31, 43, 18, 48, 42]],\n [0, [15], [35, 49]]]"
      ]
     },
     "execution_count": 18,
     "metadata": {},
     "output_type": "execute_result"
    }
   ],
   "source": [
    "res[0]"
   ]
  },
  {
   "cell_type": "code",
   "execution_count": null,
   "metadata": {},
   "outputs": [],
   "source": []
  }
 ],
 "metadata": {
  "kernelspec": {
   "display_name": "Python 2",
   "language": "python",
   "name": "python2"
  },
  "language_info": {
   "codemirror_mode": {
    "name": "ipython",
    "version": 2
   },
   "file_extension": ".py",
   "mimetype": "text/x-python",
   "name": "python",
   "nbconvert_exporter": "python",
   "pygments_lexer": "ipython2",
   "version": "2.7.6"
  }
 },
 "nbformat": 4,
 "nbformat_minor": 0
}
